{
 "cells": [
  {
   "cell_type": "markdown",
   "id": "8ba67e81",
   "metadata": {},
   "source": [
    "# <ins>Chapter 4</ins>: _Classification Exercises_\n",
    "\n",
    "This notebook will contain the Exercises and Practice Problems from **Chapter 4** of _Intro to Statistical Learning with Python_.\n",
    "\n",
    "1. [Conceptual](#concept)\n",
    "2. [Applied](#apply)\n"
   ]
  },
  {
   "cell_type": "code",
   "execution_count": 2,
   "id": "a3cd5192",
   "metadata": {},
   "outputs": [],
   "source": [
    "# Import Libraries\n",
    "import numpy as np\n",
    "import pandas as pd\n",
    "import matplotlib.pyplot as plt\n",
    "import seaborn as sns\n",
    "from matplotlib.pyplot import subplots\n",
    "\n",
    "# Model Libraries\n",
    "import statsmodels.api as sm\n",
    "from sklearn.discriminant_analysis import (LinearDiscriminantAnalysis as LDA, \n",
    "                                           QuadraticDiscriminantAnalysis as QDA)\n",
    "from sklearn.naive_bayes import GaussianNB\n",
    "from sklearn.neighbors import KNeighborsClassifier \n",
    "from sklearn.preprocessing import StandardScaler\n",
    "from sklearn.model_selection import train_test_split \n",
    "from sklearn.linear_model import LogisticRegression\n",
    " \n",
    "\n",
    "# Import Data\n",
    "from ISLP import load_data, confusion_table\n",
    "from ISLP.models import (ModelSpec as MS, \n",
    "                         summarize, \n",
    "                         poly, \n",
    "                         contrast)"
   ]
  },
  {
   "cell_type": "markdown",
   "id": "f1d6eb26",
   "metadata": {},
   "source": [
    "## I. Conceptual <a name=\"concept\"></a>\n",
    "\n",
    "**Problem 5:**  \n",
    "Q: We now examine the differences between LDA and QDA\n",
    "\n",
    "**a.)** If the Bayes decision boundary is linear, do we expect LDA or QDA to perform better on the training set? On the test set?\n",
    "\n",
    "<ins>Answer</ins>: TRAINING: QDA, higher variance model has increased flexibility to fit noise in the data.  \n",
    "TEST: LDA, increased bias is without cost if Bayes decision boundary is linear.\n",
    "\n",
    "**b.)** If the Bayes decision boundary is non-linear, do we expect LDA or QDA to perform better on the training set? On the test set?\n",
    "\n",
    "<ins>Answer</ins>: TRAINING: QDA, higher variance model has increased flexibility to fit non-linear relationship in data and noise.  \n",
    "TEST: QDA, higher variance model has increased flexibility to fit non-linear relationship in data\n",
    "\n",
    "**c.)** In general, as the sample size n increases, do we expect the test prediction accuracy of QDA relative to LDA to improve, decline, or be unchanged? Why?\n",
    "\n",
    "<ins>Answer</ins>: Improve. Increased sample size reduces a more flexible models tendency to overfit the training data.\n",
    "\n",
    "**d.)** True or False: Even if the Bayes decision boundary for a given problem is linear, we will probably achieve a superior test error rate using QDA rather than LDA because QDA is flexible enough to model a linear decision boundary. Justify your answer.\n",
    "\n",
    "<ins>Answer</ins>: False. If the bayes decision boundary is linear, then a more flexible model is prone to overfit and take account of noise in the training data that will reduce its accuracy in making predictions during test.\n",
    "\n",
    "---\n",
    "**Problem 6:** \n",
    "Q: Suppose we collect data for a group of students in a statistics class with variables `X1 = hours studied`, `X2 = undergrad GPA`, and `Y = receive an A`. We fit a logistic regression and produce estimated coefficient, `βˆ0 = −6`, `βˆ1 = 0.05`, `βˆ2 = 1`.\n",
    "\n",
    "**a.)** Estimate the probability that a student who studies for 40h and has an undergrad GPA of 3.5 gets an A in the class.\n",
    "\n",
    "<ins>Answer</ins>: Using the following equation for multiple logistic regression a prediction p(X)...\n",
    "$$p(X) = \\frac{exp(\\beta_0 + \\beta_1X_1 + \\beta_2X_2)}{1+exp(\\beta_0 + \\beta_1X_1 + \\beta_2X_2)}$$\n",
    "Plug in all those variabales and get $p(X) = 0.3775$\n",
    "\n",
    "**b.)** How many hours would the student in part (a) need to study to have a 50 % chance of getting an A in the class?\n",
    "\n",
    "<ins>Answer</ins>: Solve for $X_1$ given $p(X)=0.5$ and $X_2=3.5$. Do that and youll get ~$50$ hours. "
   ]
  },
  {
   "cell_type": "markdown",
   "id": "8d9ae714",
   "metadata": {},
   "source": [
    "## II. Applied <a name=\"apply\"></a>\n",
    "\n",
    "**Problem 13:**  \n",
    "Q: This question should be answered using the `Weekly` data set, which is part of the `ISLP` package. This data is similar in nature to the `Smarket` data from this chapter’s lab, except that it contains $1,089$ weekly returns for $21$ years, from the beginning of $1990$ to the end of $2010$.\n",
    "\n",
    "**a.)** Produce some numerical and graphical summaries of the Weekly data. Do there appear to be any patterns?\n",
    "\n",
    "<ins>Answer</ins>: From the heatmap we see two correlated pairs...\n",
    "1. Year – Volume\n",
    "2. Today – Direction_UP\n",
    "\n",
    "From the pairplot:\n",
    "1. Volume increases exponentially with Year\n",
    "2. There is a logistic relationship between Today and Direction_Up\n",
    "\n",
    "\n",
    "**b.)** Use the full data set to perform a logistic regression with Direction as the response and the five lag variables plus Volume as predictors. Use the summary function to print the results. Do any of the predictors appear to be statistically significant? If so, which ones?\n",
    "\n",
    "<ins>Answer</ins>: The most significant predictos are `Lag1` and `Lag2` with p-vals of $0.118$ and $0.030$ respectively.\n",
    "\n",
    "**c.)** Compute the confusion matrix and overall fraction of correct predictions. Explain what the confusion matrix is telling you about the types of mistakes made by logistic regression. \n",
    "\n",
    "<ins>Answer</ins>: We have an accuracy of ~$56$% and errror rate of ~$44$%\n",
    "\n",
    "**d.)** Now fit the logistic regression model using a training data period from 1990 to 2008, with Lag2 as the only predictor. Compute the confusion matrix and the overall fraction of correct predictions for the held out data (that is, the data from 2009 and 2010).\n",
    "\n",
    "**e.)** Repeat $(d)$ using LDA.\n",
    "\n",
    "**f.)** Repeat $(d)$ using QDA\n",
    "\n",
    "**g.)** Repeat $(d)$ using KNN with K = 1.\n",
    "\n",
    "**i.)** Which of these methods appears to provide the best results on this data?\n",
    "\n",
    "<ins>Answer</ins>: Seems basic logRegression (limited to the predictors with the highest corr) and LDA performed the best with the highest accuracy and lowest overall error rate. "
   ]
  },
  {
   "cell_type": "code",
   "execution_count": 15,
   "id": "4507b041",
   "metadata": {},
   "outputs": [
    {
     "name": "stdout",
     "output_type": "stream",
     "text": [
      "Peak into the data...\n",
      "   Year   Lag1   Lag2   Lag3   Lag4   Lag5    Volume  Today Direction\n",
      "0  1990  0.816  1.572 -3.936 -0.229 -3.484  0.154976 -0.270      Down\n",
      "1  1990 -0.270  0.816  1.572 -3.936 -0.229  0.148574 -2.576      Down\n",
      "2  1990 -2.576 -0.270  0.816  1.572 -3.936  0.159837  3.514        Up\n",
      "3  1990  3.514 -2.576 -0.270  0.816  1.572  0.161630  0.712        Up\n",
      "4  1990  0.712  3.514 -2.576 -0.270  0.816  0.153728  1.178        Up\n",
      "5  1990  1.178  0.712  3.514 -2.576 -0.270  0.154444 -1.372      Down\n",
      "6  1990 -1.372  1.178  0.712  3.514 -2.576  0.151722  0.807        Up\n",
      "7  1990  0.807 -1.372  1.178  0.712  3.514  0.132310  0.041        Up\n",
      "8  1990  0.041  0.807 -1.372  1.178  0.712  0.143972  1.253        Up\n",
      "9  1990  1.253  0.041  0.807 -1.372  1.178  0.133635 -2.678      Down\n"
     ]
    },
    {
     "data": {
      "text/plain": [
       "<Axes: >"
      ]
     },
     "execution_count": 15,
     "metadata": {},
     "output_type": "execute_result"
    },
    {
     "data": {
      "image/png": "[encoded data removed]",
      "text/plain": [
       "<Figure size 640x480 with 2 Axes>"
      ]
     },
     "metadata": {},
     "output_type": "display_data"
    }
   ],
   "source": [
    "# part a. \n",
    "# \n",
    "\n",
    "# Load in data \n",
    "weekly_df = load_data('Weekly')\n",
    "\n",
    "\n",
    "# Looking for null values\n",
    "# \n",
    "# weekly_df.info()\n",
    "#     - none detected\n",
    "\n",
    "print(\"Peak into the data...\")\n",
    "print(weekly_df.head(10))\n",
    "\n",
    "# VISUALIZATIONS\n",
    "# \n",
    "# sns.pairplot(pd.get_dummies(weekly_df).drop('Direction_Down', axis=1))\n",
    "# \n",
    "sns.heatmap(pd.get_dummies(weekly_df).drop('Direction_Down', axis=1).corr())"
   ]
  },
  {
   "cell_type": "code",
   "execution_count": 16,
   "id": "46130655",
   "metadata": {
    "scrolled": true
   },
   "outputs": [
    {
     "data": {
      "text/html": [
       "<div>\n",
       "<style scoped>\n",
       "    .dataframe tbody tr th:only-of-type {\n",
       "        vertical-align: middle;\n",
       "    }\n",
       "\n",
       "    .dataframe tbody tr th {\n",
       "        vertical-align: top;\n",
       "    }\n",
       "\n",
       "    .dataframe thead th {\n",
       "        text-align: right;\n",
       "    }\n",
       "</style>\n",
       "<table border=\"1\" class=\"dataframe\">\n",
       "  <thead>\n",
       "    <tr style=\"text-align: right;\">\n",
       "      <th></th>\n",
       "      <th>coef</th>\n",
       "      <th>std err</th>\n",
       "      <th>z</th>\n",
       "      <th>P&gt;|z|</th>\n",
       "    </tr>\n",
       "  </thead>\n",
       "  <tbody>\n",
       "    <tr>\n",
       "      <th>intercept</th>\n",
       "      <td>0.2669</td>\n",
       "      <td>0.086</td>\n",
       "      <td>3.106</td>\n",
       "      <td>0.002</td>\n",
       "    </tr>\n",
       "    <tr>\n",
       "      <th>Lag1</th>\n",
       "      <td>-0.0413</td>\n",
       "      <td>0.026</td>\n",
       "      <td>-1.563</td>\n",
       "      <td>0.118</td>\n",
       "    </tr>\n",
       "    <tr>\n",
       "      <th>Lag2</th>\n",
       "      <td>0.0584</td>\n",
       "      <td>0.027</td>\n",
       "      <td>2.175</td>\n",
       "      <td>0.030</td>\n",
       "    </tr>\n",
       "    <tr>\n",
       "      <th>Lag3</th>\n",
       "      <td>-0.0161</td>\n",
       "      <td>0.027</td>\n",
       "      <td>-0.602</td>\n",
       "      <td>0.547</td>\n",
       "    </tr>\n",
       "    <tr>\n",
       "      <th>Lag4</th>\n",
       "      <td>-0.0278</td>\n",
       "      <td>0.026</td>\n",
       "      <td>-1.050</td>\n",
       "      <td>0.294</td>\n",
       "    </tr>\n",
       "    <tr>\n",
       "      <th>Lag5</th>\n",
       "      <td>-0.0145</td>\n",
       "      <td>0.026</td>\n",
       "      <td>-0.549</td>\n",
       "      <td>0.583</td>\n",
       "    </tr>\n",
       "    <tr>\n",
       "      <th>Volume</th>\n",
       "      <td>-0.0227</td>\n",
       "      <td>0.037</td>\n",
       "      <td>-0.616</td>\n",
       "      <td>0.538</td>\n",
       "    </tr>\n",
       "  </tbody>\n",
       "</table>\n",
       "</div>"
      ],
      "text/plain": [
       "             coef  std err      z  P>|z|\n",
       "intercept  0.2669    0.086  3.106  0.002\n",
       "Lag1      -0.0413    0.026 -1.563  0.118\n",
       "Lag2       0.0584    0.027  2.175  0.030\n",
       "Lag3      -0.0161    0.027 -0.602  0.547\n",
       "Lag4      -0.0278    0.026 -1.050  0.294\n",
       "Lag5      -0.0145    0.026 -0.549  0.583\n",
       "Volume    -0.0227    0.037 -0.616  0.538"
      ]
     },
     "execution_count": 16,
     "metadata": {},
     "output_type": "execute_result"
    }
   ],
   "source": [
    "# part b\n",
    "# \n",
    "\n",
    "# These X and y values will be used throughout this lab\n",
    "design = MS(weekly_df.columns.drop(['Today', 'Direction', 'Year']))\n",
    "X = design.fit_transform(weekly_df)\n",
    "y = weekly_df.Direction == 'Up'\n",
    "\n",
    "# Creating Model\n",
    "glm = sm.GLM(y, X, family=sm.families.Binomial()) \n",
    "results = glm.fit()\n",
    "\n",
    "summarize(results)\n",
    "#    Note the above is the combination of `results.params` & `results.pvalues` "
   ]
  },
  {
   "cell_type": "code",
   "execution_count": 18,
   "id": "37cd91f0",
   "metadata": {},
   "outputs": [
    {
     "data": {
      "text/html": [
       "<div>\n",
       "<style scoped>\n",
       "    .dataframe tbody tr th:only-of-type {\n",
       "        vertical-align: middle;\n",
       "    }\n",
       "\n",
       "    .dataframe tbody tr th {\n",
       "        vertical-align: top;\n",
       "    }\n",
       "\n",
       "    .dataframe thead th {\n",
       "        text-align: right;\n",
       "    }\n",
       "</style>\n",
       "<table border=\"1\" class=\"dataframe\">\n",
       "  <thead>\n",
       "    <tr style=\"text-align: right;\">\n",
       "      <th>Truth</th>\n",
       "      <th>Down</th>\n",
       "      <th>Up</th>\n",
       "    </tr>\n",
       "    <tr>\n",
       "      <th>Predicted</th>\n",
       "      <th></th>\n",
       "      <th></th>\n",
       "    </tr>\n",
       "  </thead>\n",
       "  <tbody>\n",
       "    <tr>\n",
       "      <th>Down</th>\n",
       "      <td>54</td>\n",
       "      <td>48</td>\n",
       "    </tr>\n",
       "    <tr>\n",
       "      <th>Up</th>\n",
       "      <td>430</td>\n",
       "      <td>557</td>\n",
       "    </tr>\n",
       "  </tbody>\n",
       "</table>\n",
       "</div>"
      ],
      "text/plain": [
       "Truth      Down   Up\n",
       "Predicted           \n",
       "Down         54   48\n",
       "Up          430  557"
      ]
     },
     "execution_count": 18,
     "metadata": {},
     "output_type": "execute_result"
    }
   ],
   "source": [
    "# part c\n",
    "# \n",
    "\n",
    "# Extracting the prediction probabilities\n",
    "weekly_pred = results.predict()\n",
    "\n",
    "# Making an array of \"Down\" entries and replacing any prediction>0.5 (=threshold) with \"Up\"\n",
    "labels = np.array(['Down']*len(weekly_pred)) \n",
    "labels[weekly_pred>0.5] = \"Up\"\n",
    " \n",
    "# Confusion Matrix\n",
    "#    - NOTE: there re other methods of creating conf.mat; this is the ISLP way\n",
    "confusion_table(labels, weekly_df.Direction)"
   ]
  },
  {
   "cell_type": "code",
   "execution_count": 28,
   "id": "890f8900",
   "metadata": {},
   "outputs": [
    {
     "name": "stdout",
     "output_type": "stream",
     "text": [
      "Confusion Matrix: \n",
      "Truth      Down  Up\n",
      "Predicted          \n",
      "Down          9   5\n",
      "Up           34  56\n",
      "\n",
      "Test Accuracy: 62%\n",
      "Error Rate: 38%\n"
     ]
    }
   ],
   "source": [
    "# part d\n",
    "#   - Log Regression method with high corr predictors\n",
    "# \n",
    "\n",
    "# Using just the predictors with highest correlation to build smaller model\n",
    "high_corr_df = MS(['Lag2']).fit(weekly_df)\n",
    "\n",
    "X = high_corr_df.transform(weekly_df)\n",
    "\n",
    "\n",
    "# Creating boolean vector of logicals corresponding to the observations pre-2005\n",
    "train = (weekly_df.Year < 2009)\n",
    "\n",
    "# Splitting Data\n",
    "X_train, X_test = X.loc[train], X.loc[~train] \n",
    "y_train, y_test = y.loc[train], y.loc[~train] \n",
    "\n",
    "# # Creating new model with test/train splitting\n",
    "glm_model = sm.GLM(y_train, \n",
    "                   X_train, \n",
    "                   family=sm.families.Binomial()) \n",
    "\n",
    "# # Trianing model\n",
    "results_glm = glm_model.fit()\n",
    "\n",
    "prob_glm = results_glm.predict(exog=X_test)\n",
    "\n",
    "# Transforming Direction column into arrays of variables split the same way. \n",
    "D = weekly_df.Direction\n",
    "dLabel_train, dLabel_test = D.loc[train], D.loc[~train]\n",
    "\n",
    "# Making an array of \"Down\" entries the length of model predictions \n",
    "#    and replacing any prediction>0.5 (=threshold) with \"Up\"\n",
    "dLabels = np.array(['Down']*len(prob_glm))\n",
    "dLabels[prob_glm>0.5] = 'Up' \n",
    "\n",
    "# Confusion Matrix\n",
    "print(\"Confusion Matrix: \")\n",
    "print(confusion_table(dLabels, dLabel_test))\n",
    "print(\"\")\n",
    "\n",
    "# Accuracy and error rate\n",
    "print(f\"Test Accuracy: {round((np.mean(dLabels == dLabel_test))*100)}%\")\n",
    "print(f\"Error Rate: {round((np.mean(dLabels != dLabel_test))*100)}%\")"
   ]
  },
  {
   "cell_type": "code",
   "execution_count": 29,
   "id": "883dc2db",
   "metadata": {},
   "outputs": [
    {
     "name": "stdout",
     "output_type": "stream",
     "text": [
      "Confusion Matrix: \n",
      "Truth      Down  Up\n",
      "Predicted          \n",
      "Down          9   5\n",
      "Up           34  56\n",
      " \n",
      "Test Accuracy: 62%\n",
      "Error Rate: 38%\n"
     ]
    }
   ],
   "source": [
    "# part e\n",
    "#     - w/ LDA\n",
    "# \n",
    "\n",
    "# Creating model object from LDA method\n",
    "lda = LDA(store_covariance=True) # `store_convienience` computes covariance matrix when solver='svd'\n",
    "\n",
    "# NOTE:\n",
    "#    Here we are removing the `intercept` column since the LDA estimator automatically adds its own intercept\n",
    "X_train, X_test = X_train.drop(\"intercept\", axis=1), X_test.drop(\"intercept\", axis=1)\n",
    "\n",
    "# Fitting data onto model\n",
    "lda.fit(X_train, dLabel_train)\n",
    "\n",
    "# making predictions\n",
    "lda_pred = lda.predict(X_test)\n",
    "\n",
    "# Confusion Matrix\n",
    "print(\"Confusion Matrix: \")\n",
    "print(confusion_table(lda_pred, dLabel_test))\n",
    "print(\" \")\n",
    "\n",
    "# Accuracy and error rate\n",
    "print(f\"Test Accuracy: {round((np.mean(lda_pred == dLabel_test))*100)}%\")\n",
    "print(f\"Error Rate: {round((np.mean(lda_pred != dLabel_test))*100)}%\")"
   ]
  },
  {
   "cell_type": "code",
   "execution_count": 31,
   "id": "df81fa26",
   "metadata": {},
   "outputs": [
    {
     "name": "stdout",
     "output_type": "stream",
     "text": [
      "Confusion Matrix: \n",
      "Truth      Down  Up\n",
      "Predicted          \n",
      "Down          0   0\n",
      "Up           43  61\n",
      " \n",
      "Test Accuracy: 59%\n",
      "Error Rate: 41%\n"
     ]
    }
   ],
   "source": [
    "# part f\n",
    "#    - w/ QDA\n",
    "# \n",
    "\n",
    "# Creating model\n",
    "qda = QDA(store_covariance=True) \n",
    "qda.fit(X_train, dLabel_train)\n",
    "\n",
    "# making predictions\n",
    "qda_pred = qda.predict(X_test)\n",
    "\n",
    "# Confusion Matrix\n",
    "print(\"Confusion Matrix: \")\n",
    "print(confusion_table(qda_pred, dLabel_test))\n",
    "print(\" \")\n",
    "\n",
    "# Accuracy and error rate\n",
    "print(f\"Test Accuracy: {round((np.mean(qda_pred == dLabel_test))*100)}%\")\n",
    "print(f\"Error Rate: {round((np.mean(qda_pred != dLabel_test))*100)}%\")"
   ]
  },
  {
   "cell_type": "code",
   "execution_count": 32,
   "id": "8589d5e2",
   "metadata": {},
   "outputs": [
    {
     "name": "stdout",
     "output_type": "stream",
     "text": [
      "Confusion Matrix: \n",
      "Truth      Down  Up\n",
      "Predicted          \n",
      "Down         21  30\n",
      "Up           22  31\n",
      " \n",
      "Test Accuracy: 50%\n",
      "Error Rate: 50%\n"
     ]
    }
   ],
   "source": [
    "# part g\n",
    "#     - w/ KNN k=1\n",
    "# \n",
    "\n",
    "# Creating Model\n",
    "knn1 = KNeighborsClassifier(n_neighbors=1) \n",
    "\n",
    "# Training Model\n",
    "knn1.fit(X_train, dLabel_train)\n",
    "\n",
    "# Making Predictions\n",
    "knn1_pred = knn1.predict(X_test) \n",
    "\n",
    "# Confusion Matrix\n",
    "print(\"Confusion Matrix: \")\n",
    "print(confusion_table(knn1_pred, dLabel_test))\n",
    "print(\" \")\n",
    "\n",
    "# Accuracy and error rate\n",
    "print(f\"Test Accuracy: {round((np.mean(knn1_pred == dLabel_test))*100)}%\")\n",
    "print(f\"Error Rate: {round((np.mean(knn1_pred != dLabel_test))*100)}%\")"
   ]
  },
  {
   "cell_type": "markdown",
   "id": "b3cbfbd1",
   "metadata": {},
   "source": [
    "**Problem 14:**  \n",
    "Q: In this problem, you will develop a model to predict whether a given car gets high or low gas mileage based on the `Auto` data set.\n",
    "\n",
    "**a.)** Create a binary variable, `mpg01`, that contains a $1$ if mpg contains a value above its median, and a $0$ if mpg contains a value below its median. You can compute the median using the `median()` method of the data frame. Note you may find it helpful to add a column `mpg01` to the data frame by assignment. Assuming you have stored the data frame as `Auto`, this can be done as follows: `Auto['mpg01'] = mpg01`\n",
    "\n",
    "<ins>Answer</ins>: Answer\n",
    "\n",
    "**b.)** Explore the data graphically in order to investigate the association between `mpg01` and the other features. Which of the other features seem most likely to be useful in predicting `mpg01`? Scatterplots and boxplots may be useful tools to answer this question. Describe your findings.\n",
    "\n",
    "<ins>Answer</ins>: Answer\n",
    "\n",
    "**c.)** Split the data into a training set and a test set.\n",
    "\n",
    "**d.)** Perform LDA on the training data in order to predict `mpg01` using the variables that seemed most associated with `mpg01` in $(b)$. What is the test error of the model obtained?\n",
    "\n",
    "**e.)** Repeat $(d)$ using QDA.\n",
    "\n",
    "**f.)** Repeat $(d)$ using logRegression.\n",
    "\n",
    "**g.)** Repeat $(d)$ using native Bayes.\n",
    "\n",
    "**h.)** Repeat $(d)$ using KNN. Determine which KNN will be the best for this problem\n",
    "\n",
    "**i.)** Which is the best performing model for this problem?\n",
    "\n",
    "<ins>Answer</ins>: Answer"
   ]
  },
  {
   "cell_type": "code",
   "execution_count": null,
   "id": "436b63b8",
   "metadata": {},
   "outputs": [],
   "source": [
    "# part a\n",
    "# \n"
   ]
  },
  {
   "cell_type": "code",
   "execution_count": null,
   "id": "5428961e",
   "metadata": {},
   "outputs": [],
   "source": [
    "# part b\n",
    "# \n"
   ]
  },
  {
   "cell_type": "code",
   "execution_count": null,
   "id": "aa1a0391",
   "metadata": {},
   "outputs": [],
   "source": [
    "# part c\n",
    "#    - Split the data into a training set and a test set.\n",
    "# \n"
   ]
  },
  {
   "cell_type": "code",
   "execution_count": null,
   "id": "c9cd6584",
   "metadata": {},
   "outputs": [],
   "source": [
    "# part d\n",
    "#    - LDA on the training data in order to predict `mpg01` using the variables that seemed most \n",
    "#         associated with `mpg01` in (b).\n",
    "# \n"
   ]
  },
  {
   "cell_type": "code",
   "execution_count": null,
   "id": "4bc96874",
   "metadata": {},
   "outputs": [],
   "source": [
    "# part e\n",
    "#    - Repeat $(d)$ using QDA.\n",
    "# \n"
   ]
  },
  {
   "cell_type": "code",
   "execution_count": null,
   "id": "3d9d7993",
   "metadata": {},
   "outputs": [],
   "source": [
    "# part f\n",
    "#    - Repeat $(d)$ using logRegression.\n",
    "# \n"
   ]
  },
  {
   "cell_type": "code",
   "execution_count": null,
   "id": "96a35655",
   "metadata": {},
   "outputs": [],
   "source": [
    "# part g\n",
    "#    - Repeat $(d)$ using native Bayes.\n",
    "# \n"
   ]
  },
  {
   "cell_type": "code",
   "execution_count": 33,
   "id": "996ddc60",
   "metadata": {},
   "outputs": [],
   "source": [
    "# part h\n",
    "#    - Repeat $(d)$ using KNN. Determine best K value\n",
    "# \n"
   ]
  }
 ],
 "metadata": {
  "kernelspec": {
   "display_name": "Python 3 (ipykernel)",
   "language": "python",
   "name": "python3"
  },
  "language_info": {
   "codemirror_mode": {
    "name": "ipython",
    "version": 3
   },
   "file_extension": ".py",
   "mimetype": "text/x-python",
   "name": "python",
   "nbconvert_exporter": "python",
   "pygments_lexer": "ipython3",
   "version": "3.11.5"
  }
 },
 "nbformat": 4,
 "nbformat_minor": 5
}
