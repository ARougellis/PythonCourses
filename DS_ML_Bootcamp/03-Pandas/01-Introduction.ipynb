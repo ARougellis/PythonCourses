{
 "cells": [
  {
   "cell_type": "markdown",
   "metadata": {
    "collapsed": true
   },
   "source": [
    "# Introduction to Pandas\n",
    "\n",
    "Pandas is an open source library built on top of Numpy (hence why we learned about it first). It is a power tool that allows for fast data cleaning, prep, analysis, and visualization. In a way, Pandas ia a powerful version of Excel with a lot of features. Pandas also makes Python a competitor for other statistical IDEs such as R.\n",
    "\n",
    "Here is a table of contents for this portion of the bootcamp:\n",
    "\n",
    "* Introduction\n",
    "* Series\n",
    "* DataFrames\n",
    "* Missing Data\n",
    "* GroupBy\n",
    "* Merging,Joining,and Concatenating\n",
    "* Operations\n",
    "* Data Input and Output"
   ]
  },
  {
   "cell_type": "markdown",
   "metadata": {},
   "source": [
    "## Installation\n",
    "\n",
    "Lets install the Pandas library. To do so, go to your terminal and enter the command...\n",
    "\n",
    "* Using the anaconda wrapper...\n",
    "    + `conda install pandas`\n",
    "* Otherwise...\n",
    "    + `pip install pandas`"
   ]
  },
  {
   "cell_type": "markdown",
   "metadata": {},
   "source": [
    "___"
   ]
  }
 ],
 "metadata": {
  "kernelspec": {
   "display_name": "Python 3 (ipykernel)",
   "language": "python",
   "name": "python3"
  },
  "language_info": {
   "codemirror_mode": {
    "name": "ipython",
    "version": 3
   },
   "file_extension": ".py",
   "mimetype": "text/x-python",
   "name": "python",
   "nbconvert_exporter": "python",
   "pygments_lexer": "ipython3",
   "version": "3.11.4"
  }
 },
 "nbformat": 4,
 "nbformat_minor": 1
}
