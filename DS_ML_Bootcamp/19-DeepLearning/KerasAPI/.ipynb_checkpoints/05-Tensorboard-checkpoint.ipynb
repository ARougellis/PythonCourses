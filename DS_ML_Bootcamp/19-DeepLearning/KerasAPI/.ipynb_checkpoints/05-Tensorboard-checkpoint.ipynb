{
 "cells": [
  {
   "cell_type": "markdown",
   "metadata": {},
   "source": [
    "# Tensorboard\n",
    "\n",
    "Let's explore the built in data visualization capabilities that come with Tensorboard. Tesnorboard is a visualization tool designed by Google that works in conjuntion with TF to visualize aspects of models. \n",
    "\n",
    "Full official tutorial available here: https://www.tensorflow.org/tensorboard/get_started\n",
    "\n",
    "## 1. Data"
   ]
  },
  {
   "cell_type": "code",
   "execution_count": 1,
   "metadata": {},
   "outputs": [],
   "source": [
    "import pandas as pd\n",
    "import numpy as np"
   ]
  },
  {
   "cell_type": "code",
   "execution_count": 2,
   "metadata": {},
   "outputs": [
    {
     "data": {
      "text/html": [
       "<div>\n",
       "<style scoped>\n",
       "    .dataframe tbody tr th:only-of-type {\n",
       "        vertical-align: middle;\n",
       "    }\n",
       "\n",
       "    .dataframe tbody tr th {\n",
       "        vertical-align: top;\n",
       "    }\n",
       "\n",
       "    .dataframe thead th {\n",
       "        text-align: right;\n",
       "    }\n",
       "</style>\n",
       "<table border=\"1\" class=\"dataframe\">\n",
       "  <thead>\n",
       "    <tr style=\"text-align: right;\">\n",
       "      <th></th>\n",
       "      <th>mean radius</th>\n",
       "      <th>mean texture</th>\n",
       "      <th>mean perimeter</th>\n",
       "      <th>mean area</th>\n",
       "      <th>mean smoothness</th>\n",
       "      <th>mean compactness</th>\n",
       "      <th>mean concavity</th>\n",
       "      <th>mean concave points</th>\n",
       "      <th>mean symmetry</th>\n",
       "      <th>mean fractal dimension</th>\n",
       "      <th>...</th>\n",
       "      <th>worst texture</th>\n",
       "      <th>worst perimeter</th>\n",
       "      <th>worst area</th>\n",
       "      <th>worst smoothness</th>\n",
       "      <th>worst compactness</th>\n",
       "      <th>worst concavity</th>\n",
       "      <th>worst concave points</th>\n",
       "      <th>worst symmetry</th>\n",
       "      <th>worst fractal dimension</th>\n",
       "      <th>benign_0__mal_1</th>\n",
       "    </tr>\n",
       "  </thead>\n",
       "  <tbody>\n",
       "    <tr>\n",
       "      <th>0</th>\n",
       "      <td>17.99</td>\n",
       "      <td>10.38</td>\n",
       "      <td>122.80</td>\n",
       "      <td>1001.0</td>\n",
       "      <td>0.11840</td>\n",
       "      <td>0.27760</td>\n",
       "      <td>0.3001</td>\n",
       "      <td>0.14710</td>\n",
       "      <td>0.2419</td>\n",
       "      <td>0.07871</td>\n",
       "      <td>...</td>\n",
       "      <td>17.33</td>\n",
       "      <td>184.60</td>\n",
       "      <td>2019.0</td>\n",
       "      <td>0.1622</td>\n",
       "      <td>0.6656</td>\n",
       "      <td>0.7119</td>\n",
       "      <td>0.2654</td>\n",
       "      <td>0.4601</td>\n",
       "      <td>0.11890</td>\n",
       "      <td>0</td>\n",
       "    </tr>\n",
       "    <tr>\n",
       "      <th>1</th>\n",
       "      <td>20.57</td>\n",
       "      <td>17.77</td>\n",
       "      <td>132.90</td>\n",
       "      <td>1326.0</td>\n",
       "      <td>0.08474</td>\n",
       "      <td>0.07864</td>\n",
       "      <td>0.0869</td>\n",
       "      <td>0.07017</td>\n",
       "      <td>0.1812</td>\n",
       "      <td>0.05667</td>\n",
       "      <td>...</td>\n",
       "      <td>23.41</td>\n",
       "      <td>158.80</td>\n",
       "      <td>1956.0</td>\n",
       "      <td>0.1238</td>\n",
       "      <td>0.1866</td>\n",
       "      <td>0.2416</td>\n",
       "      <td>0.1860</td>\n",
       "      <td>0.2750</td>\n",
       "      <td>0.08902</td>\n",
       "      <td>0</td>\n",
       "    </tr>\n",
       "    <tr>\n",
       "      <th>2</th>\n",
       "      <td>19.69</td>\n",
       "      <td>21.25</td>\n",
       "      <td>130.00</td>\n",
       "      <td>1203.0</td>\n",
       "      <td>0.10960</td>\n",
       "      <td>0.15990</td>\n",
       "      <td>0.1974</td>\n",
       "      <td>0.12790</td>\n",
       "      <td>0.2069</td>\n",
       "      <td>0.05999</td>\n",
       "      <td>...</td>\n",
       "      <td>25.53</td>\n",
       "      <td>152.50</td>\n",
       "      <td>1709.0</td>\n",
       "      <td>0.1444</td>\n",
       "      <td>0.4245</td>\n",
       "      <td>0.4504</td>\n",
       "      <td>0.2430</td>\n",
       "      <td>0.3613</td>\n",
       "      <td>0.08758</td>\n",
       "      <td>0</td>\n",
       "    </tr>\n",
       "    <tr>\n",
       "      <th>3</th>\n",
       "      <td>11.42</td>\n",
       "      <td>20.38</td>\n",
       "      <td>77.58</td>\n",
       "      <td>386.1</td>\n",
       "      <td>0.14250</td>\n",
       "      <td>0.28390</td>\n",
       "      <td>0.2414</td>\n",
       "      <td>0.10520</td>\n",
       "      <td>0.2597</td>\n",
       "      <td>0.09744</td>\n",
       "      <td>...</td>\n",
       "      <td>26.50</td>\n",
       "      <td>98.87</td>\n",
       "      <td>567.7</td>\n",
       "      <td>0.2098</td>\n",
       "      <td>0.8663</td>\n",
       "      <td>0.6869</td>\n",
       "      <td>0.2575</td>\n",
       "      <td>0.6638</td>\n",
       "      <td>0.17300</td>\n",
       "      <td>0</td>\n",
       "    </tr>\n",
       "    <tr>\n",
       "      <th>4</th>\n",
       "      <td>20.29</td>\n",
       "      <td>14.34</td>\n",
       "      <td>135.10</td>\n",
       "      <td>1297.0</td>\n",
       "      <td>0.10030</td>\n",
       "      <td>0.13280</td>\n",
       "      <td>0.1980</td>\n",
       "      <td>0.10430</td>\n",
       "      <td>0.1809</td>\n",
       "      <td>0.05883</td>\n",
       "      <td>...</td>\n",
       "      <td>16.67</td>\n",
       "      <td>152.20</td>\n",
       "      <td>1575.0</td>\n",
       "      <td>0.1374</td>\n",
       "      <td>0.2050</td>\n",
       "      <td>0.4000</td>\n",
       "      <td>0.1625</td>\n",
       "      <td>0.2364</td>\n",
       "      <td>0.07678</td>\n",
       "      <td>0</td>\n",
       "    </tr>\n",
       "  </tbody>\n",
       "</table>\n",
       "<p>5 rows × 31 columns</p>\n",
       "</div>"
      ],
      "text/plain": [
       "   mean radius  mean texture  mean perimeter  mean area  mean smoothness  \\\n",
       "0        17.99         10.38          122.80     1001.0          0.11840   \n",
       "1        20.57         17.77          132.90     1326.0          0.08474   \n",
       "2        19.69         21.25          130.00     1203.0          0.10960   \n",
       "3        11.42         20.38           77.58      386.1          0.14250   \n",
       "4        20.29         14.34          135.10     1297.0          0.10030   \n",
       "\n",
       "   mean compactness  mean concavity  mean concave points  mean symmetry  \\\n",
       "0           0.27760          0.3001              0.14710         0.2419   \n",
       "1           0.07864          0.0869              0.07017         0.1812   \n",
       "2           0.15990          0.1974              0.12790         0.2069   \n",
       "3           0.28390          0.2414              0.10520         0.2597   \n",
       "4           0.13280          0.1980              0.10430         0.1809   \n",
       "\n",
       "   mean fractal dimension  ...  worst texture  worst perimeter  worst area  \\\n",
       "0                 0.07871  ...          17.33           184.60      2019.0   \n",
       "1                 0.05667  ...          23.41           158.80      1956.0   \n",
       "2                 0.05999  ...          25.53           152.50      1709.0   \n",
       "3                 0.09744  ...          26.50            98.87       567.7   \n",
       "4                 0.05883  ...          16.67           152.20      1575.0   \n",
       "\n",
       "   worst smoothness  worst compactness  worst concavity  worst concave points  \\\n",
       "0            0.1622             0.6656           0.7119                0.2654   \n",
       "1            0.1238             0.1866           0.2416                0.1860   \n",
       "2            0.1444             0.4245           0.4504                0.2430   \n",
       "3            0.2098             0.8663           0.6869                0.2575   \n",
       "4            0.1374             0.2050           0.4000                0.1625   \n",
       "\n",
       "   worst symmetry  worst fractal dimension  benign_0__mal_1  \n",
       "0          0.4601                  0.11890                0  \n",
       "1          0.2750                  0.08902                0  \n",
       "2          0.3613                  0.08758                0  \n",
       "3          0.6638                  0.17300                0  \n",
       "4          0.2364                  0.07678                0  \n",
       "\n",
       "[5 rows x 31 columns]"
      ]
     },
     "execution_count": 2,
     "metadata": {},
     "output_type": "execute_result"
    }
   ],
   "source": [
    "df = pd.read_csv('Data/cancer_classification.csv')\n",
    "df.head()"
   ]
  },
  {
   "cell_type": "markdown",
   "metadata": {},
   "source": [
    "### i. Train Test Split"
   ]
  },
  {
   "cell_type": "code",
   "execution_count": 3,
   "metadata": {},
   "outputs": [],
   "source": [
    "X = df.drop('benign_0__mal_1',axis=1).values\n",
    "y = df['benign_0__mal_1'].values"
   ]
  },
  {
   "cell_type": "code",
   "execution_count": 4,
   "metadata": {},
   "outputs": [],
   "source": [
    "from sklearn.model_selection import train_test_split"
   ]
  },
  {
   "cell_type": "code",
   "execution_count": 5,
   "metadata": {},
   "outputs": [],
   "source": [
    "X_train, X_test, y_train, y_test = train_test_split(X,y,test_size=0.25,random_state=101)"
   ]
  },
  {
   "cell_type": "markdown",
   "metadata": {},
   "source": [
    "### ii. Scaling Data"
   ]
  },
  {
   "cell_type": "code",
   "execution_count": 6,
   "metadata": {},
   "outputs": [],
   "source": [
    "from sklearn.preprocessing import MinMaxScaler"
   ]
  },
  {
   "cell_type": "code",
   "execution_count": 7,
   "metadata": {},
   "outputs": [],
   "source": [
    "scaler = MinMaxScaler()"
   ]
  },
  {
   "cell_type": "code",
   "execution_count": 8,
   "metadata": {},
   "outputs": [
    {
     "data": {
      "text/html": [
       "<style>#sk-container-id-1 {color: black;}#sk-container-id-1 pre{padding: 0;}#sk-container-id-1 div.sk-toggleable {background-color: white;}#sk-container-id-1 label.sk-toggleable__label {cursor: pointer;display: block;width: 100%;margin-bottom: 0;padding: 0.3em;box-sizing: border-box;text-align: center;}#sk-container-id-1 label.sk-toggleable__label-arrow:before {content: \"▸\";float: left;margin-right: 0.25em;color: #696969;}#sk-container-id-1 label.sk-toggleable__label-arrow:hover:before {color: black;}#sk-container-id-1 div.sk-estimator:hover label.sk-toggleable__label-arrow:before {color: black;}#sk-container-id-1 div.sk-toggleable__content {max-height: 0;max-width: 0;overflow: hidden;text-align: left;background-color: #f0f8ff;}#sk-container-id-1 div.sk-toggleable__content pre {margin: 0.2em;color: black;border-radius: 0.25em;background-color: #f0f8ff;}#sk-container-id-1 input.sk-toggleable__control:checked~div.sk-toggleable__content {max-height: 200px;max-width: 100%;overflow: auto;}#sk-container-id-1 input.sk-toggleable__control:checked~label.sk-toggleable__label-arrow:before {content: \"▾\";}#sk-container-id-1 div.sk-estimator input.sk-toggleable__control:checked~label.sk-toggleable__label {background-color: #d4ebff;}#sk-container-id-1 div.sk-label input.sk-toggleable__control:checked~label.sk-toggleable__label {background-color: #d4ebff;}#sk-container-id-1 input.sk-hidden--visually {border: 0;clip: rect(1px 1px 1px 1px);clip: rect(1px, 1px, 1px, 1px);height: 1px;margin: -1px;overflow: hidden;padding: 0;position: absolute;width: 1px;}#sk-container-id-1 div.sk-estimator {font-family: monospace;background-color: #f0f8ff;border: 1px dotted black;border-radius: 0.25em;box-sizing: border-box;margin-bottom: 0.5em;}#sk-container-id-1 div.sk-estimator:hover {background-color: #d4ebff;}#sk-container-id-1 div.sk-parallel-item::after {content: \"\";width: 100%;border-bottom: 1px solid gray;flex-grow: 1;}#sk-container-id-1 div.sk-label:hover label.sk-toggleable__label {background-color: #d4ebff;}#sk-container-id-1 div.sk-serial::before {content: \"\";position: absolute;border-left: 1px solid gray;box-sizing: border-box;top: 0;bottom: 0;left: 50%;z-index: 0;}#sk-container-id-1 div.sk-serial {display: flex;flex-direction: column;align-items: center;background-color: white;padding-right: 0.2em;padding-left: 0.2em;position: relative;}#sk-container-id-1 div.sk-item {position: relative;z-index: 1;}#sk-container-id-1 div.sk-parallel {display: flex;align-items: stretch;justify-content: center;background-color: white;position: relative;}#sk-container-id-1 div.sk-item::before, #sk-container-id-1 div.sk-parallel-item::before {content: \"\";position: absolute;border-left: 1px solid gray;box-sizing: border-box;top: 0;bottom: 0;left: 50%;z-index: -1;}#sk-container-id-1 div.sk-parallel-item {display: flex;flex-direction: column;z-index: 1;position: relative;background-color: white;}#sk-container-id-1 div.sk-parallel-item:first-child::after {align-self: flex-end;width: 50%;}#sk-container-id-1 div.sk-parallel-item:last-child::after {align-self: flex-start;width: 50%;}#sk-container-id-1 div.sk-parallel-item:only-child::after {width: 0;}#sk-container-id-1 div.sk-dashed-wrapped {border: 1px dashed gray;margin: 0 0.4em 0.5em 0.4em;box-sizing: border-box;padding-bottom: 0.4em;background-color: white;}#sk-container-id-1 div.sk-label label {font-family: monospace;font-weight: bold;display: inline-block;line-height: 1.2em;}#sk-container-id-1 div.sk-label-container {text-align: center;}#sk-container-id-1 div.sk-container {/* jupyter's `normalize.less` sets `[hidden] { display: none; }` but bootstrap.min.css set `[hidden] { display: none !important; }` so we also need the `!important` here to be able to override the default hidden behavior on the sphinx rendered scikit-learn.org. See: https://github.com/scikit-learn/scikit-learn/issues/21755 */display: inline-block !important;position: relative;}#sk-container-id-1 div.sk-text-repr-fallback {display: none;}</style><div id=\"sk-container-id-1\" class=\"sk-top-container\"><div class=\"sk-text-repr-fallback\"><pre>MinMaxScaler()</pre><b>In a Jupyter environment, please rerun this cell to show the HTML representation or trust the notebook. <br />On GitHub, the HTML representation is unable to render, please try loading this page with nbviewer.org.</b></div><div class=\"sk-container\" hidden><div class=\"sk-item\"><div class=\"sk-estimator sk-toggleable\"><input class=\"sk-toggleable__control sk-hidden--visually\" id=\"sk-estimator-id-1\" type=\"checkbox\" checked><label for=\"sk-estimator-id-1\" class=\"sk-toggleable__label sk-toggleable__label-arrow\">MinMaxScaler</label><div class=\"sk-toggleable__content\"><pre>MinMaxScaler()</pre></div></div></div></div></div>"
      ],
      "text/plain": [
       "MinMaxScaler()"
      ]
     },
     "execution_count": 8,
     "metadata": {},
     "output_type": "execute_result"
    }
   ],
   "source": [
    "scaler.fit(X_train)"
   ]
  },
  {
   "cell_type": "code",
   "execution_count": 9,
   "metadata": {},
   "outputs": [],
   "source": [
    "X_train = scaler.transform(X_train)\n",
    "X_test = scaler.transform(X_test)"
   ]
  },
  {
   "cell_type": "markdown",
   "metadata": {},
   "source": [
    "# I. The Model\n",
    "\n",
    "## 1. Creating the Model"
   ]
  },
  {
   "cell_type": "code",
   "execution_count": 10,
   "metadata": {},
   "outputs": [
    {
     "name": "stderr",
     "output_type": "stream",
     "text": [
      "2023-11-27 14:27:51.074410: I tensorflow/core/platform/cpu_feature_guard.cc:182] This TensorFlow binary is optimized to use available CPU instructions in performance-critical operations.\n",
      "To enable the following instructions: AVX2 FMA, in other operations, rebuild TensorFlow with the appropriate compiler flags.\n"
     ]
    }
   ],
   "source": [
    "import tensorflow as tf\n",
    "from tensorflow.keras.models import Sequential\n",
    "from tensorflow.keras.layers import Dense, Activation,Dropout"
   ]
  },
  {
   "cell_type": "code",
   "execution_count": 11,
   "metadata": {},
   "outputs": [],
   "source": [
    "from tensorflow.keras.callbacks import EarlyStopping,TensorBoard"
   ]
  },
  {
   "cell_type": "code",
   "execution_count": 12,
   "metadata": {},
   "outputs": [],
   "source": [
    "early_stop = EarlyStopping(monitor='val_loss', mode='min', verbose=1, patience=25)"
   ]
  },
  {
   "cell_type": "markdown",
   "metadata": {},
   "source": [
    "## 2. Creating the Tensorboard Callback\n",
    "\n",
    "TensorBoard is a visualization tool provided with TensorFlow.\n",
    "\n",
    "This callback logs events for TensorBoard, including:\n",
    "* Metrics summary plots\n",
    "* Training graph visualization\n",
    "* Activation histograms\n",
    "* Sampled profiling\n",
    "\n",
    "If you have installed TensorFlow with pip, you should be able\n",
    "to launch TensorBoard from the command line:\n",
    "\n",
    "```sh\n",
    "tensorboard --logdir=path_to_your_logs\n",
    "```\n",
    "\n",
    "You can find more information about TensorBoard\n",
    "[here](https://www.tensorflow.org/tensorboard/).\n",
    "\n",
    "    Arguments:\n",
    "        log_dir: the path of the directory where to save the log files to be\n",
    "          parsed by TensorBoard.\n",
    "        histogram_freq: frequency (in epochs) at which to compute activation and\n",
    "          weight histograms for the layers of the model. If set to 0, histograms\n",
    "          won't be computed. Validation data (or split) must be specified for\n",
    "          histogram visualizations.\n",
    "        write_graph: whether to visualize the graph in TensorBoard. The log file\n",
    "          can become quite large when write_graph is set to True.\n",
    "        write_images: whether to write model weights to visualize as image in\n",
    "          TensorBoard.\n",
    "        update_freq: `'batch'` or `'epoch'` or integer. When using `'batch'`,\n",
    "          writes the losses and metrics to TensorBoard after each batch. The same\n",
    "          applies for `'epoch'`. If using an integer, let's say `1000`, the\n",
    "          callback will write the metrics and losses to TensorBoard every 1000\n",
    "          samples. Note that writing too frequently to TensorBoard can slow down\n",
    "          your training.\n",
    "        profile_batch: Profile the batch to sample compute characteristics. By\n",
    "          default, it will profile the second batch. Set profile_batch=0 to\n",
    "          disable profiling. Must run in TensorFlow eager mode.\n",
    "        embeddings_freq: frequency (in epochs) at which embedding layers will\n",
    "          be visualized. If set to 0, embeddings won't be visualized.\n",
    "       "
   ]
  },
  {
   "cell_type": "code",
   "execution_count": 14,
   "metadata": {},
   "outputs": [],
   "source": [
    "from datetime import datetime"
   ]
  },
  {
   "cell_type": "code",
   "execution_count": 15,
   "metadata": {},
   "outputs": [
    {
     "data": {
      "text/plain": [
       "'2023-11-27--1448'"
      ]
     },
     "execution_count": 15,
     "metadata": {},
     "output_type": "execute_result"
    }
   ],
   "source": [
    "datetime.now().strftime(\"%Y-%m-%d--%H%M\")"
   ]
  },
  {
   "cell_type": "code",
   "execution_count": 16,
   "metadata": {},
   "outputs": [
    {
     "name": "stderr",
     "output_type": "stream",
     "text": [
      "2023-11-27 14:51:39.580892: I tensorflow/tsl/profiler/lib/profiler_session.cc:104] Profiler session initializing.\n",
      "2023-11-27 14:51:39.581451: I tensorflow/tsl/profiler/lib/profiler_session.cc:119] Profiler session started.\n",
      "2023-11-27 14:51:39.588661: I tensorflow/tsl/profiler/lib/profiler_session.cc:131] Profiler session tear down.\n"
     ]
    }
   ],
   "source": [
    "# WINDOWS: Use \"logs\\\\fit\"\n",
    "# MACOS/LINUX: Use \"logs\\fit\" OR \"logs/fit\"\n",
    "\n",
    "log_directory = 'logs/fit'\n",
    "\n",
    "# OPTIONAL: ADD A TIMESTAMP FOR UNIQUE FOLDER\n",
    "# \n",
    "# timestamp = datetime.now().strftime(\"%Y-%m-%d--%H%M\")\n",
    "# log_directory = log_directory + '/' + timestamp\n",
    "\n",
    "\n",
    "board = TensorBoard(log_dir=log_directory,histogram_freq=1,\n",
    "    write_graph=True,\n",
    "    write_images=True,\n",
    "    update_freq='epoch',\n",
    "    profile_batch=2,\n",
    "    embeddings_freq=1)"
   ]
  },
  {
   "cell_type": "markdown",
   "metadata": {},
   "source": [
    "Now create the model layers:"
   ]
  },
  {
   "cell_type": "code",
   "execution_count": 17,
   "metadata": {},
   "outputs": [],
   "source": [
    "model = Sequential()\n",
    "\n",
    "# INPUT layer\n",
    "model.add(Dense(units=30,activation='relu'))\n",
    "model.add(Dropout(0.5))\n",
    "\n",
    "# HIDDEN layer\n",
    "model.add(Dense(units=15,activation='relu'))\n",
    "model.add(Dropout(0.5))\n",
    "\n",
    "# OUTPUT layer\n",
    "model.add(Dense(units=1,activation='sigmoid'))\n",
    "\n",
    "# Compile\n",
    "model.compile(loss='binary_crossentropy', optimizer='adam')"
   ]
  },
  {
   "cell_type": "markdown",
   "metadata": {},
   "source": [
    "## 3. Train the Model"
   ]
  },
  {
   "cell_type": "code",
   "execution_count": 18,
   "metadata": {
    "scrolled": true
   },
   "outputs": [
    {
     "name": "stdout",
     "output_type": "stream",
     "text": [
      "Epoch 1/600\n",
      " 4/14 [=======>......................] - ETA: 0s - loss: 0.7416 "
     ]
    },
    {
     "name": "stderr",
     "output_type": "stream",
     "text": [
      "2023-11-27 14:55:24.594276: I tensorflow/tsl/profiler/lib/profiler_session.cc:104] Profiler session initializing.\n",
      "2023-11-27 14:55:24.594307: I tensorflow/tsl/profiler/lib/profiler_session.cc:119] Profiler session started.\n",
      "2023-11-27 14:55:24.607900: I tensorflow/tsl/profiler/lib/profiler_session.cc:70] Profiler session collecting data.\n",
      "2023-11-27 14:55:24.623202: I tensorflow/tsl/profiler/lib/profiler_session.cc:131] Profiler session tear down.\n",
      "2023-11-27 14:55:24.632843: I tensorflow/tsl/profiler/rpc/client/save_profile.cc:144] Collecting XSpace to repository: logs/fit/plugins/profile/2023_11_27_14_55_24/Users-Macintosh.local.xplane.pb\n"
     ]
    },
    {
     "name": "stdout",
     "output_type": "stream",
     "text": [
      "14/14 [==============================] - 2s 52ms/step - loss: 0.7165 - val_loss: 0.6794\n",
      "Epoch 2/600\n",
      "14/14 [==============================] - 0s 19ms/step - loss: 0.6832 - val_loss: 0.6598\n",
      "Epoch 3/600\n",
      "14/14 [==============================] - 0s 15ms/step - loss: 0.6788 - val_loss: 0.6430\n",
      "Epoch 4/600\n",
      "14/14 [==============================] - 0s 18ms/step - loss: 0.6424 - val_loss: 0.6249\n",
      "Epoch 5/600\n",
      "14/14 [==============================] - 0s 16ms/step - loss: 0.6264 - val_loss: 0.6025\n",
      "Epoch 6/600\n",
      "14/14 [==============================] - 0s 18ms/step - loss: 0.5820 - val_loss: 0.5632\n",
      "Epoch 7/600\n",
      "14/14 [==============================] - 0s 16ms/step - loss: 0.5820 - val_loss: 0.5183\n",
      "Epoch 8/600\n",
      "14/14 [==============================] - 0s 16ms/step - loss: 0.5477 - val_loss: 0.4801\n",
      "Epoch 9/600\n",
      "14/14 [==============================] - 0s 21ms/step - loss: 0.5273 - val_loss: 0.4474\n",
      "Epoch 10/600\n",
      "14/14 [==============================] - 0s 18ms/step - loss: 0.4845 - val_loss: 0.4150\n",
      "Epoch 11/600\n",
      "14/14 [==============================] - 0s 19ms/step - loss: 0.4778 - val_loss: 0.3830\n",
      "Epoch 12/600\n",
      "14/14 [==============================] - 0s 18ms/step - loss: 0.4449 - val_loss: 0.3545\n",
      "Epoch 13/600\n",
      "14/14 [==============================] - 0s 16ms/step - loss: 0.4330 - val_loss: 0.3308\n",
      "Epoch 14/600\n",
      "14/14 [==============================] - 0s 16ms/step - loss: 0.4074 - val_loss: 0.3049\n",
      "Epoch 15/600\n",
      "14/14 [==============================] - 0s 20ms/step - loss: 0.3929 - val_loss: 0.2936\n",
      "Epoch 16/600\n",
      "14/14 [==============================] - 0s 21ms/step - loss: 0.3708 - val_loss: 0.2644\n",
      "Epoch 17/600\n",
      "14/14 [==============================] - 0s 19ms/step - loss: 0.3854 - val_loss: 0.2453\n",
      "Epoch 18/600\n",
      "14/14 [==============================] - 0s 16ms/step - loss: 0.3404 - val_loss: 0.2359\n",
      "Epoch 19/600\n",
      "14/14 [==============================] - 0s 16ms/step - loss: 0.3262 - val_loss: 0.2212\n",
      "Epoch 20/600\n",
      "14/14 [==============================] - 0s 13ms/step - loss: 0.2969 - val_loss: 0.2197\n",
      "Epoch 21/600\n",
      "14/14 [==============================] - 0s 16ms/step - loss: 0.3088 - val_loss: 0.2012\n",
      "Epoch 22/600\n",
      "14/14 [==============================] - 0s 15ms/step - loss: 0.2656 - val_loss: 0.1964\n",
      "Epoch 23/600\n",
      "14/14 [==============================] - 0s 22ms/step - loss: 0.2818 - val_loss: 0.1936\n",
      "Epoch 24/600\n",
      "14/14 [==============================] - 0s 17ms/step - loss: 0.3009 - val_loss: 0.2035\n",
      "Epoch 25/600\n",
      "14/14 [==============================] - 1s 44ms/step - loss: 0.2720 - val_loss: 0.1753\n",
      "Epoch 26/600\n",
      "14/14 [==============================] - 0s 20ms/step - loss: 0.2711 - val_loss: 0.1694\n",
      "Epoch 27/600\n",
      "14/14 [==============================] - 0s 20ms/step - loss: 0.2467 - val_loss: 0.1669\n",
      "Epoch 28/600\n",
      "14/14 [==============================] - 0s 29ms/step - loss: 0.2277 - val_loss: 0.1578\n",
      "Epoch 29/600\n",
      "14/14 [==============================] - 0s 19ms/step - loss: 0.2447 - val_loss: 0.1576\n",
      "Epoch 30/600\n",
      "14/14 [==============================] - 0s 23ms/step - loss: 0.2381 - val_loss: 0.1552\n",
      "Epoch 31/600\n",
      "14/14 [==============================] - 0s 17ms/step - loss: 0.2170 - val_loss: 0.1491\n",
      "Epoch 32/600\n",
      "14/14 [==============================] - 0s 13ms/step - loss: 0.2461 - val_loss: 0.1506\n",
      "Epoch 33/600\n",
      "14/14 [==============================] - 0s 21ms/step - loss: 0.2087 - val_loss: 0.1528\n",
      "Epoch 34/600\n",
      "14/14 [==============================] - 0s 23ms/step - loss: 0.2026 - val_loss: 0.1423\n",
      "Epoch 35/600\n",
      "14/14 [==============================] - 0s 17ms/step - loss: 0.1991 - val_loss: 0.1379\n",
      "Epoch 36/600\n",
      "14/14 [==============================] - 0s 19ms/step - loss: 0.2273 - val_loss: 0.1440\n",
      "Epoch 37/600\n",
      "14/14 [==============================] - 0s 20ms/step - loss: 0.2024 - val_loss: 0.1373\n",
      "Epoch 38/600\n",
      "14/14 [==============================] - 0s 19ms/step - loss: 0.2054 - val_loss: 0.1337\n",
      "Epoch 39/600\n",
      "14/14 [==============================] - 0s 25ms/step - loss: 0.1871 - val_loss: 0.1443\n",
      "Epoch 40/600\n",
      "14/14 [==============================] - 0s 30ms/step - loss: 0.1935 - val_loss: 0.1318\n",
      "Epoch 41/600\n",
      "14/14 [==============================] - 0s 18ms/step - loss: 0.1857 - val_loss: 0.1276\n",
      "Epoch 42/600\n",
      "14/14 [==============================] - 0s 16ms/step - loss: 0.2119 - val_loss: 0.1405\n",
      "Epoch 43/600\n",
      "14/14 [==============================] - 0s 14ms/step - loss: 0.1613 - val_loss: 0.1281\n",
      "Epoch 44/600\n",
      "14/14 [==============================] - 0s 21ms/step - loss: 0.1628 - val_loss: 0.1299\n",
      "Epoch 45/600\n",
      "14/14 [==============================] - 0s 17ms/step - loss: 0.1911 - val_loss: 0.1273\n",
      "Epoch 46/600\n",
      "14/14 [==============================] - 0s 19ms/step - loss: 0.1551 - val_loss: 0.1239\n",
      "Epoch 47/600\n",
      "14/14 [==============================] - 0s 23ms/step - loss: 0.1588 - val_loss: 0.1227\n",
      "Epoch 48/600\n",
      "14/14 [==============================] - 0s 23ms/step - loss: 0.1485 - val_loss: 0.1208\n",
      "Epoch 49/600\n",
      "14/14 [==============================] - 0s 15ms/step - loss: 0.1624 - val_loss: 0.1204\n",
      "Epoch 50/600\n",
      "14/14 [==============================] - 0s 18ms/step - loss: 0.1679 - val_loss: 0.1279\n",
      "Epoch 51/600\n",
      "14/14 [==============================] - 0s 18ms/step - loss: 0.1532 - val_loss: 0.1158\n",
      "Epoch 52/600\n",
      "14/14 [==============================] - 0s 23ms/step - loss: 0.1519 - val_loss: 0.1175\n",
      "Epoch 53/600\n",
      "14/14 [==============================] - 0s 22ms/step - loss: 0.1512 - val_loss: 0.1151\n",
      "Epoch 54/600\n",
      "14/14 [==============================] - 0s 17ms/step - loss: 0.1517 - val_loss: 0.1141\n",
      "Epoch 55/600\n",
      "14/14 [==============================] - 0s 15ms/step - loss: 0.1405 - val_loss: 0.1204\n",
      "Epoch 56/600\n",
      "14/14 [==============================] - 0s 18ms/step - loss: 0.1295 - val_loss: 0.1245\n",
      "Epoch 57/600\n",
      "14/14 [==============================] - 0s 26ms/step - loss: 0.1376 - val_loss: 0.1116\n",
      "Epoch 58/600\n",
      "14/14 [==============================] - 0s 17ms/step - loss: 0.1490 - val_loss: 0.1088\n",
      "Epoch 59/600\n",
      "14/14 [==============================] - 0s 18ms/step - loss: 0.1356 - val_loss: 0.1098\n",
      "Epoch 60/600\n",
      "14/14 [==============================] - 0s 19ms/step - loss: 0.1420 - val_loss: 0.1169\n",
      "Epoch 61/600\n",
      "14/14 [==============================] - 0s 16ms/step - loss: 0.1236 - val_loss: 0.1125\n",
      "Epoch 62/600\n",
      "14/14 [==============================] - 0s 23ms/step - loss: 0.1348 - val_loss: 0.1121\n",
      "Epoch 63/600\n",
      "14/14 [==============================] - 0s 21ms/step - loss: 0.1259 - val_loss: 0.1252\n",
      "Epoch 64/600\n",
      "14/14 [==============================] - 0s 20ms/step - loss: 0.1358 - val_loss: 0.1128\n",
      "Epoch 65/600\n",
      "14/14 [==============================] - 0s 22ms/step - loss: 0.1360 - val_loss: 0.1255\n",
      "Epoch 66/600\n",
      "14/14 [==============================] - 0s 19ms/step - loss: 0.1333 - val_loss: 0.1223\n",
      "Epoch 67/600\n",
      "14/14 [==============================] - 0s 16ms/step - loss: 0.1333 - val_loss: 0.1055\n",
      "Epoch 68/600\n",
      "14/14 [==============================] - 0s 14ms/step - loss: 0.1126 - val_loss: 0.1071\n",
      "Epoch 69/600\n",
      "14/14 [==============================] - 0s 23ms/step - loss: 0.1251 - val_loss: 0.1085\n",
      "Epoch 70/600\n",
      "14/14 [==============================] - 0s 26ms/step - loss: 0.1351 - val_loss: 0.1164\n",
      "Epoch 71/600\n",
      "14/14 [==============================] - 0s 16ms/step - loss: 0.1286 - val_loss: 0.1087\n",
      "Epoch 72/600\n",
      "14/14 [==============================] - 0s 20ms/step - loss: 0.1250 - val_loss: 0.1073\n",
      "Epoch 73/600\n",
      "14/14 [==============================] - 0s 18ms/step - loss: 0.1308 - val_loss: 0.1087\n",
      "Epoch 74/600\n",
      "14/14 [==============================] - 0s 23ms/step - loss: 0.1195 - val_loss: 0.1022\n",
      "Epoch 75/600\n",
      "14/14 [==============================] - 0s 25ms/step - loss: 0.1039 - val_loss: 0.1062\n",
      "Epoch 76/600\n",
      "14/14 [==============================] - 0s 30ms/step - loss: 0.1033 - val_loss: 0.1076\n",
      "Epoch 77/600\n",
      "14/14 [==============================] - 0s 15ms/step - loss: 0.1120 - val_loss: 0.1044\n",
      "Epoch 78/600\n",
      "14/14 [==============================] - 0s 16ms/step - loss: 0.1100 - val_loss: 0.1192\n",
      "Epoch 79/600\n",
      "14/14 [==============================] - 0s 16ms/step - loss: 0.1005 - val_loss: 0.1082\n",
      "Epoch 80/600\n",
      "14/14 [==============================] - 0s 17ms/step - loss: 0.1260 - val_loss: 0.1133\n",
      "Epoch 81/600\n",
      "14/14 [==============================] - 0s 21ms/step - loss: 0.1224 - val_loss: 0.1133\n",
      "Epoch 82/600\n"
     ]
    },
    {
     "name": "stdout",
     "output_type": "stream",
     "text": [
      "14/14 [==============================] - 0s 23ms/step - loss: 0.1075 - val_loss: 0.1135\n",
      "Epoch 83/600\n",
      "14/14 [==============================] - 0s 23ms/step - loss: 0.1020 - val_loss: 0.1103\n",
      "Epoch 84/600\n",
      "14/14 [==============================] - 0s 18ms/step - loss: 0.1069 - val_loss: 0.1039\n",
      "Epoch 85/600\n",
      "14/14 [==============================] - 0s 19ms/step - loss: 0.1089 - val_loss: 0.1080\n",
      "Epoch 86/600\n",
      "14/14 [==============================] - 0s 20ms/step - loss: 0.1043 - val_loss: 0.1139\n",
      "Epoch 87/600\n",
      "14/14 [==============================] - 0s 24ms/step - loss: 0.1153 - val_loss: 0.1045\n",
      "Epoch 88/600\n",
      "14/14 [==============================] - 0s 21ms/step - loss: 0.1207 - val_loss: 0.1264\n",
      "Epoch 89/600\n",
      "14/14 [==============================] - 0s 15ms/step - loss: 0.1096 - val_loss: 0.1086\n",
      "Epoch 90/600\n",
      "14/14 [==============================] - 0s 12ms/step - loss: 0.1174 - val_loss: 0.1091\n",
      "Epoch 91/600\n",
      "14/14 [==============================] - 0s 17ms/step - loss: 0.1010 - val_loss: 0.1122\n",
      "Epoch 92/600\n",
      "14/14 [==============================] - 0s 16ms/step - loss: 0.1131 - val_loss: 0.1127\n",
      "Epoch 93/600\n",
      "14/14 [==============================] - 0s 20ms/step - loss: 0.1216 - val_loss: 0.1135\n",
      "Epoch 94/600\n",
      "14/14 [==============================] - 0s 13ms/step - loss: 0.1225 - val_loss: 0.1109\n",
      "Epoch 95/600\n",
      "14/14 [==============================] - 0s 22ms/step - loss: 0.1045 - val_loss: 0.1070\n",
      "Epoch 96/600\n",
      "14/14 [==============================] - 0s 21ms/step - loss: 0.0969 - val_loss: 0.1109\n",
      "Epoch 97/600\n",
      "14/14 [==============================] - 0s 18ms/step - loss: 0.1101 - val_loss: 0.1309\n",
      "Epoch 98/600\n",
      "14/14 [==============================] - 0s 17ms/step - loss: 0.1091 - val_loss: 0.1024\n",
      "Epoch 99/600\n",
      "14/14 [==============================] - 0s 24ms/step - loss: 0.1166 - val_loss: 0.1142\n",
      "Epoch 99: early stopping\n"
     ]
    },
    {
     "data": {
      "text/plain": [
       "<keras.src.callbacks.History at 0x141ab4b50>"
      ]
     },
     "execution_count": 18,
     "metadata": {},
     "output_type": "execute_result"
    }
   ],
   "source": [
    "# Warning:\n",
    "#     Do NOT fit more than once under the same callback log_dir\n",
    "\n",
    "model.fit(x=X_train, \n",
    "          y=y_train, \n",
    "          epochs=600,\n",
    "          validation_data=(X_test, y_test), verbose=1,\n",
    "          callbacks=[early_stop,board]\n",
    "          )"
   ]
  },
  {
   "cell_type": "markdown",
   "metadata": {},
   "source": [
    "# II. Running Tensorboard\n",
    "\n",
    "## 1. Running through the Command Line\n",
    "\n",
    "Tensorboard will run locally in your browser at [http://localhost:6006/](http://localhost:6006/)\n"
   ]
  },
  {
   "cell_type": "code",
   "execution_count": 19,
   "metadata": {},
   "outputs": [
    {
     "name": "stdout",
     "output_type": "stream",
     "text": [
      "logs\\fit\n"
     ]
    }
   ],
   "source": [
    "print(log_directory)"
   ]
  },
  {
   "cell_type": "markdown",
   "metadata": {},
   "source": [
    "We are goonna run the Tensorboard in the terminal command line. \n",
    "\n",
    "Use cd at your command line to change directory to the file path reported back by pwd or your current .py file location.\n",
    "\n",
    "Then run the following line of code at your command line or terminal\n",
    "```\n",
    "tensorboard --logdir logs/fit \n",
    "```\n",
    "\n",
    "---\n",
    "\n",
    "This was all just a taste of Tensorboard. We will return when we start convolutional NN."
   ]
  }
 ],
 "metadata": {
  "kernelspec": {
   "display_name": "Python 3 (ipykernel)",
   "language": "python",
   "name": "python3"
  },
  "language_info": {
   "codemirror_mode": {
    "name": "ipython",
    "version": 3
   },
   "file_extension": ".py",
   "mimetype": "text/x-python",
   "name": "python",
   "nbconvert_exporter": "python",
   "pygments_lexer": "ipython3",
   "version": "3.11.5"
  }
 },
 "nbformat": 4,
 "nbformat_minor": 2
}
