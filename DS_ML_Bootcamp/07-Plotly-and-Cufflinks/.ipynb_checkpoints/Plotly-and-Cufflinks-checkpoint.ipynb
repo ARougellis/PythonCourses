{
 "cells": [
  {
   "cell_type": "markdown",
   "metadata": {},
   "source": [
    "# Plotly and Cufflinks\n",
    "\n",
    "**Plotly** is a library that allows you to _create interactive plots_ that you can use in dashboards or websites (you can save them as html files or static images).\n",
    "\n",
    "**Cufflinks** conects _plotly_ with pandas.\n",
    "\n",
    "### Installation\n",
    "\n",
    "In order for this all to work, you'll need to install plotly and cufflinks to call plots directly off of a pandas dataframe. These libraries are not currently available through **conda** but are available through **pip**. Install the libraries at your command line/terminal using:\n",
    "\n",
    "    pip install plotly\n",
    "    pip install cufflinks\n",
    "\n",
    "### Imports and Set-up"
   ]
  },
  {
   "cell_type": "code",
   "execution_count": 15,
   "metadata": {},
   "outputs": [],
   "source": [
    "import pandas as pd\n",
    "import numpy as np\n",
    "import chart_studio.plotly as py\n",
    "import cufflinks as cf\n",
    "%matplotlib inline"
   ]
  },
  {
   "cell_type": "code",
   "execution_count": 2,
   "metadata": {},
   "outputs": [
    {
     "name": "stdout",
     "output_type": "stream",
     "text": [
      "5.9.0\n"
     ]
    }
   ],
   "source": [
    "from plotly import __version__\n",
    "from plotly.offline import download_plotlyjs, init_notebook_mode, plot, iplot\n",
    "\n",
    "print(__version__) # requires version >= 1.9.0"
   ]
  },
  {
   "cell_type": "code",
   "execution_count": 3,
   "metadata": {},
   "outputs": [
    {
     "data": {
      "text/html": [
       "        <script type=\"text/javascript\">\n",
       "        window.PlotlyConfig = {MathJaxConfig: 'local'};\n",
       "        if (window.MathJax && window.MathJax.Hub && window.MathJax.Hub.Config) {window.MathJax.Hub.Config({SVG: {font: \"STIX-Web\"}});}\n",
       "        if (typeof require !== 'undefined') {\n",
       "        require.undef(\"plotly\");\n",
       "        requirejs.config({\n",
       "            paths: {\n",
       "                'plotly': ['https://cdn.plot.ly/plotly-2.12.1.min']\n",
       "            }\n",
       "        });\n",
       "        require(['plotly'], function(Plotly) {\n",
       "            window._Plotly = Plotly;\n",
       "        });\n",
       "        }\n",
       "        </script>\n",
       "        "
      ]
     },
     "metadata": {},
     "output_type": "display_data"
    },
    {
     "data": {
      "text/html": [
       "        <script type=\"text/javascript\">\n",
       "        window.PlotlyConfig = {MathJaxConfig: 'local'};\n",
       "        if (window.MathJax && window.MathJax.Hub && window.MathJax.Hub.Config) {window.MathJax.Hub.Config({SVG: {font: \"STIX-Web\"}});}\n",
       "        if (typeof require !== 'undefined') {\n",
       "        require.undef(\"plotly\");\n",
       "        requirejs.config({\n",
       "            paths: {\n",
       "                'plotly': ['https://cdn.plot.ly/plotly-2.12.1.min']\n",
       "            }\n",
       "        });\n",
       "        require(['plotly'], function(Plotly) {\n",
       "            window._Plotly = Plotly;\n",
       "        });\n",
       "        }\n",
       "        </script>\n",
       "        "
      ]
     },
     "metadata": {},
     "output_type": "display_data"
    }
   ],
   "source": [
    "# To Connect Notebooks\n",
    "init_notebook_mode(connected=True)\n",
    "\n",
    "# For offline use\n",
    "cf.go_offline()"
   ]
  },
  {
   "cell_type": "markdown",
   "metadata": {},
   "source": [
    "### Fake Data"
   ]
  },
  {
   "cell_type": "code",
   "execution_count": 6,
   "metadata": {},
   "outputs": [
    {
     "data": {
      "text/html": [
       "<div>\n",
       "<style scoped>\n",
       "    .dataframe tbody tr th:only-of-type {\n",
       "        vertical-align: middle;\n",
       "    }\n",
       "\n",
       "    .dataframe tbody tr th {\n",
       "        vertical-align: top;\n",
       "    }\n",
       "\n",
       "    .dataframe thead th {\n",
       "        text-align: right;\n",
       "    }\n",
       "</style>\n",
       "<table border=\"1\" class=\"dataframe\">\n",
       "  <thead>\n",
       "    <tr style=\"text-align: right;\">\n",
       "      <th></th>\n",
       "      <th>A</th>\n",
       "      <th>B</th>\n",
       "      <th>C</th>\n",
       "      <th>D</th>\n",
       "    </tr>\n",
       "  </thead>\n",
       "  <tbody>\n",
       "    <tr>\n",
       "      <th>0</th>\n",
       "      <td>-0.162008</td>\n",
       "      <td>-1.921427</td>\n",
       "      <td>0.526721</td>\n",
       "      <td>0.345120</td>\n",
       "    </tr>\n",
       "    <tr>\n",
       "      <th>1</th>\n",
       "      <td>-0.201574</td>\n",
       "      <td>0.334048</td>\n",
       "      <td>-0.668472</td>\n",
       "      <td>2.527091</td>\n",
       "    </tr>\n",
       "    <tr>\n",
       "      <th>2</th>\n",
       "      <td>-0.787882</td>\n",
       "      <td>0.291395</td>\n",
       "      <td>-1.141119</td>\n",
       "      <td>0.929948</td>\n",
       "    </tr>\n",
       "    <tr>\n",
       "      <th>3</th>\n",
       "      <td>-0.809819</td>\n",
       "      <td>-0.641418</td>\n",
       "      <td>1.195294</td>\n",
       "      <td>-0.556299</td>\n",
       "    </tr>\n",
       "    <tr>\n",
       "      <th>4</th>\n",
       "      <td>-1.499626</td>\n",
       "      <td>1.812998</td>\n",
       "      <td>1.732023</td>\n",
       "      <td>1.435572</td>\n",
       "    </tr>\n",
       "  </tbody>\n",
       "</table>\n",
       "</div>"
      ],
      "text/plain": [
       "          A         B         C         D\n",
       "0 -0.162008 -1.921427  0.526721  0.345120\n",
       "1 -0.201574  0.334048 -0.668472  2.527091\n",
       "2 -0.787882  0.291395 -1.141119  0.929948\n",
       "3 -0.809819 -0.641418  1.195294 -0.556299\n",
       "4 -1.499626  1.812998  1.732023  1.435572"
      ]
     },
     "execution_count": 6,
     "metadata": {},
     "output_type": "execute_result"
    }
   ],
   "source": [
    "df1 = pd.DataFrame(np.random.randn(100,4),columns='A B C D'.split())\n",
    "df1.head()"
   ]
  },
  {
   "cell_type": "code",
   "execution_count": 7,
   "metadata": {},
   "outputs": [
    {
     "data": {
      "text/html": [
       "<div>\n",
       "<style scoped>\n",
       "    .dataframe tbody tr th:only-of-type {\n",
       "        vertical-align: middle;\n",
       "    }\n",
       "\n",
       "    .dataframe tbody tr th {\n",
       "        vertical-align: top;\n",
       "    }\n",
       "\n",
       "    .dataframe thead th {\n",
       "        text-align: right;\n",
       "    }\n",
       "</style>\n",
       "<table border=\"1\" class=\"dataframe\">\n",
       "  <thead>\n",
       "    <tr style=\"text-align: right;\">\n",
       "      <th></th>\n",
       "      <th>Category</th>\n",
       "      <th>Values</th>\n",
       "    </tr>\n",
       "  </thead>\n",
       "  <tbody>\n",
       "    <tr>\n",
       "      <th>0</th>\n",
       "      <td>A</td>\n",
       "      <td>32</td>\n",
       "    </tr>\n",
       "    <tr>\n",
       "      <th>1</th>\n",
       "      <td>B</td>\n",
       "      <td>43</td>\n",
       "    </tr>\n",
       "    <tr>\n",
       "      <th>2</th>\n",
       "      <td>C</td>\n",
       "      <td>50</td>\n",
       "    </tr>\n",
       "  </tbody>\n",
       "</table>\n",
       "</div>"
      ],
      "text/plain": [
       "  Category  Values\n",
       "0        A      32\n",
       "1        B      43\n",
       "2        C      50"
      ]
     },
     "execution_count": 7,
     "metadata": {},
     "output_type": "execute_result"
    }
   ],
   "source": [
    "df2 = pd.DataFrame({'Category':['A','B','C'],'Values':[32,43,50]})\n",
    "df2.head()"
   ]
  },
  {
   "cell_type": "markdown",
   "metadata": {},
   "source": [
    "## Using Cufflinks and iplot()\n",
    "\n",
    "* scatter\n",
    "* bar\n",
    "* box\n",
    "* spread\n",
    "* ratio\n",
    "* heatmap\n",
    "* surface\n",
    "* histogram\n",
    "* bubble"
   ]
  },
  {
   "cell_type": "markdown",
   "metadata": {},
   "source": [
    "### i. Scatter"
   ]
  },
  {
   "cell_type": "code",
   "execution_count": 8,
   "metadata": {},
   "outputs": [
    {
     "data": {
      "application/vnd.plotly.v1+json": {
       "config": {
        "linkText": "Export to plot.ly",
        "plotlyServerURL": "https://plot.ly",
        "showLink": true
       },
       "data": [
        {
         "line": {
          "color": "rgba(255, 153, 51, 1.0)",
          "dash": "solid",
          "shape": "linear",
          "width": 1.3
         },
         "marker": {
          "size": 10,
          "symbol": "circle"
         },
         "mode": "markers",
         "name": "B",
         "text": "",
         "type": "scatter",
         "x": [
          -0.16200811326552847,
          -0.20157352604196913,
          -0.7878824139985893,
          -0.8098186826097336,
          -1.499626473245483,
          1.3801493133608,
          1.4464314084880139,
          -1.027585474513354,
          -0.4425867986983349,
          1.0107964592664522,
          -1.8686899556147416,
          -0.4366797049682072,
          0.33283194607288075,
          0.8691983656072146,
          0.34899189602579483,
          -0.758070179841699,
          -2.2823246253628784,
          -1.7959123288281453,
          -1.0702517942537177,
          0.4303128493804597,
          1.3435913199391896,
          -1.3231792291241613,
          -0.055540871869691394,
          0.6047955363165932,
          -0.012223060701152295,
          -1.1977548892056136,
          -0.30401147308524457,
          -0.0014968000861568448,
          0.7614139136605413,
          1.6585102109046828,
          0.7364580328985136,
          -0.7862808461442161,
          0.12410899216476683,
          1.1324233955669805,
          -0.5386544999702856,
          -0.022224946329560458,
          -0.834795832535822,
          0.6400542617381624,
          -0.050410517639447344,
          -0.5070593103526382,
          0.10836598048652045,
          -1.3099723281736693,
          -0.7309978091566318,
          -1.4472446690984737,
          1.214628112420574,
          0.16471557214098853,
          0.5101660846956017,
          0.2543680410886363,
          -1.0907187736222694,
          -1.0206930835823955,
          0.2114028072469376,
          1.103887751499291,
          -0.4328552481437502,
          1.7194264735579212,
          -0.14310994297648086,
          1.889389666404278,
          1.9843080677745246,
          -0.0717101693371949,
          -0.30833082541370677,
          -0.83727669533764,
          0.8295237394428329,
          -1.7304676350653139,
          -0.02263656134543682,
          0.9036188982062072,
          -1.1962297491709328,
          0.6151506627961592,
          -1.0744273790386734,
          1.9546837633904182,
          -1.6721370855644804,
          0.6285809592376622,
          0.06875595298308364,
          0.1735047453153547,
          -1.6484418313570877,
          -0.05196360207271461,
          -1.860942779195856,
          -0.24376406652507243,
          1.3166504197314817,
          1.0993760777773394,
          0.3350603250308234,
          2.166415132213184,
          -1.403635427455722,
          -0.9987539122797616,
          -0.0389318520766291,
          -1.0102888165372037,
          -0.47230340795459325,
          0.8944983501138225,
          -1.0323828454951944,
          -0.37873548762691633,
          1.1014417823921847,
          -1.502163006619164,
          0.4882168187023026,
          -0.08079466347421826,
          -0.7311064155672401,
          -1.3601359769407153,
          1.4419021706579305,
          0.6056008285554461,
          0.5359229544971378,
          0.7345365991801566,
          -1.0367646456343842,
          -1.1218870781265498
         ],
         "y": [
          -1.921426653795267,
          0.334048307502647,
          0.29139511039949373,
          -0.6414184527866889,
          1.8129978660736876,
          0.9340616438700942,
          0.5255701521359472,
          -1.4207847314561757,
          -0.41203169323718924,
          2.1136931234184893,
          -0.2392950511227681,
          -0.5231243382302146,
          0.3623773844099841,
          0.43469180714147115,
          0.2935866855881844,
          0.32138992642777864,
          0.41061037413189344,
          -1.4194998343720762,
          1.393825863114237,
          -0.20378647124285942,
          -1.4991509068453899,
          -0.9160663223473968,
          0.39070360889958233,
          0.6172298347446923,
          -0.020980893536748667,
          0.02720719120393217,
          0.8659489667656535,
          1.4120805940010235,
          -0.6612552163928156,
          0.9766072007021301,
          0.5235910411065691,
          -1.117754300835103,
          -0.9579560538658426,
          0.4833318295107085,
          1.0543709617500725,
          0.009685684378018729,
          0.7288669976657884,
          -0.14689205337746256,
          0.11445795487666606,
          -0.027564293539367023,
          0.9093040405128784,
          -4.077346761391594,
          -0.8483320828075116,
          -0.8627690117139539,
          1.5086069738838883,
          0.5260008509407854,
          -1.7565326317334966,
          -0.3256021478172967,
          -1.2930036573566386,
          2.0288102398037915,
          1.0006261134294256,
          -1.108821308601499,
          0.6152609168980175,
          2.0481960101332133,
          1.3425391747308673,
          -1.293040167109373,
          1.1935177409160567,
          2.032888804673782,
          -1.7204457700362052,
          0.7287309361140403,
          2.2336560605752216,
          0.8822170448893837,
          0.050861719101860235,
          -0.08036018285574575,
          0.955803896868485,
          -0.07512760849515579,
          -1.361603914789393,
          2.640321839534361,
          -0.16940684601982414,
          0.28864765292112526,
          -0.7236842378381518,
          2.1116733153120353,
          0.1707759963321653,
          0.36901845477741674,
          -0.02521850161399106,
          0.2138434590310381,
          0.6885987440922583,
          -0.44279120734842004,
          -1.4347583561859933,
          -0.061585991997536935,
          -0.007528460407516018,
          -0.07182976840387806,
          2.660622975619294,
          -1.9004200235224258,
          -0.2617815618962467,
          1.4001633502788777,
          0.33623084799756425,
          -1.9703525166164124,
          0.5608169864561404,
          -0.5908191652410173,
          -2.3693589710613843,
          -1.0687157067226851,
          -1.3174908751570347,
          -0.21392793423096837,
          -0.5070210409948378,
          0.7068919126208695,
          0.4290939015181902,
          0.20560676502747743,
          -0.5278415000966169,
          1.8805733839542274
         ]
        }
       ],
       "layout": {
        "legend": {
         "bgcolor": "#F5F6F9",
         "font": {
          "color": "#4D5663"
         }
        },
        "paper_bgcolor": "#F5F6F9",
        "plot_bgcolor": "#F5F6F9",
        "template": {
         "data": {
          "bar": [
           {
            "error_x": {
             "color": "#2a3f5f"
            },
            "error_y": {
             "color": "#2a3f5f"
            },
            "marker": {
             "line": {
              "color": "#E5ECF6",
              "width": 0.5
             },
             "pattern": {
              "fillmode": "overlay",
              "size": 10,
              "solidity": 0.2
             }
            },
            "type": "bar"
           }
          ],
          "barpolar": [
           {
            "marker": {
             "line": {
              "color": "#E5ECF6",
              "width": 0.5
             },
             "pattern": {
              "fillmode": "overlay",
              "size": 10,
              "solidity": 0.2
             }
            },
            "type": "barpolar"
           }
          ],
          "carpet": [
           {
            "aaxis": {
             "endlinecolor": "#2a3f5f",
             "gridcolor": "white",
             "linecolor": "white",
             "minorgridcolor": "white",
             "startlinecolor": "#2a3f5f"
            },
            "baxis": {
             "endlinecolor": "#2a3f5f",
             "gridcolor": "white",
             "linecolor": "white",
             "minorgridcolor": "white",
             "startlinecolor": "#2a3f5f"
            },
            "type": "carpet"
           }
          ],
          "choropleth": [
           {
            "colorbar": {
             "outlinewidth": 0,
             "ticks": ""
            },
            "type": "choropleth"
           }
          ],
          "contour": [
           {
            "colorbar": {
             "outlinewidth": 0,
             "ticks": ""
            },
            "colorscale": [
             [
              0,
              "#0d0887"
             ],
             [
              0.1111111111111111,
              "#46039f"
             ],
             [
              0.2222222222222222,
              "#7201a8"
             ],
             [
              0.3333333333333333,
              "#9c179e"
             ],
             [
              0.4444444444444444,
              "#bd3786"
             ],
             [
              0.5555555555555556,
              "#d8576b"
             ],
             [
              0.6666666666666666,
              "#ed7953"
             ],
             [
              0.7777777777777778,
              "#fb9f3a"
             ],
             [
              0.8888888888888888,
              "#fdca26"
             ],
             [
              1,
              "#f0f921"
             ]
            ],
            "type": "contour"
           }
          ],
          "contourcarpet": [
           {
            "colorbar": {
             "outlinewidth": 0,
             "ticks": ""
            },
            "type": "contourcarpet"
           }
          ],
          "heatmap": [
           {
            "colorbar": {
             "outlinewidth": 0,
             "ticks": ""
            },
            "colorscale": [
             [
              0,
              "#0d0887"
             ],
             [
              0.1111111111111111,
              "#46039f"
             ],
             [
              0.2222222222222222,
              "#7201a8"
             ],
             [
              0.3333333333333333,
              "#9c179e"
             ],
             [
              0.4444444444444444,
              "#bd3786"
             ],
             [
              0.5555555555555556,
              "#d8576b"
             ],
             [
              0.6666666666666666,
              "#ed7953"
             ],
             [
              0.7777777777777778,
              "#fb9f3a"
             ],
             [
              0.8888888888888888,
              "#fdca26"
             ],
             [
              1,
              "#f0f921"
             ]
            ],
            "type": "heatmap"
           }
          ],
          "heatmapgl": [
           {
            "colorbar": {
             "outlinewidth": 0,
             "ticks": ""
            },
            "colorscale": [
             [
              0,
              "#0d0887"
             ],
             [
              0.1111111111111111,
              "#46039f"
             ],
             [
              0.2222222222222222,
              "#7201a8"
             ],
             [
              0.3333333333333333,
              "#9c179e"
             ],
             [
              0.4444444444444444,
              "#bd3786"
             ],
             [
              0.5555555555555556,
              "#d8576b"
             ],
             [
              0.6666666666666666,
              "#ed7953"
             ],
             [
              0.7777777777777778,
              "#fb9f3a"
             ],
             [
              0.8888888888888888,
              "#fdca26"
             ],
             [
              1,
              "#f0f921"
             ]
            ],
            "type": "heatmapgl"
           }
          ],
          "histogram": [
           {
            "marker": {
             "pattern": {
              "fillmode": "overlay",
              "size": 10,
              "solidity": 0.2
             }
            },
            "type": "histogram"
           }
          ],
          "histogram2d": [
           {
            "colorbar": {
             "outlinewidth": 0,
             "ticks": ""
            },
            "colorscale": [
             [
              0,
              "#0d0887"
             ],
             [
              0.1111111111111111,
              "#46039f"
             ],
             [
              0.2222222222222222,
              "#7201a8"
             ],
             [
              0.3333333333333333,
              "#9c179e"
             ],
             [
              0.4444444444444444,
              "#bd3786"
             ],
             [
              0.5555555555555556,
              "#d8576b"
             ],
             [
              0.6666666666666666,
              "#ed7953"
             ],
             [
              0.7777777777777778,
              "#fb9f3a"
             ],
             [
              0.8888888888888888,
              "#fdca26"
             ],
             [
              1,
              "#f0f921"
             ]
            ],
            "type": "histogram2d"
           }
          ],
          "histogram2dcontour": [
           {
            "colorbar": {
             "outlinewidth": 0,
             "ticks": ""
            },
            "colorscale": [
             [
              0,
              "#0d0887"
             ],
             [
              0.1111111111111111,
              "#46039f"
             ],
             [
              0.2222222222222222,
              "#7201a8"
             ],
             [
              0.3333333333333333,
              "#9c179e"
             ],
             [
              0.4444444444444444,
              "#bd3786"
             ],
             [
              0.5555555555555556,
              "#d8576b"
             ],
             [
              0.6666666666666666,
              "#ed7953"
             ],
             [
              0.7777777777777778,
              "#fb9f3a"
             ],
             [
              0.8888888888888888,
              "#fdca26"
             ],
             [
              1,
              "#f0f921"
             ]
            ],
            "type": "histogram2dcontour"
           }
          ],
          "mesh3d": [
           {
            "colorbar": {
             "outlinewidth": 0,
             "ticks": ""
            },
            "type": "mesh3d"
           }
          ],
          "parcoords": [
           {
            "line": {
             "colorbar": {
              "outlinewidth": 0,
              "ticks": ""
             }
            },
            "type": "parcoords"
           }
          ],
          "pie": [
           {
            "automargin": true,
            "type": "pie"
           }
          ],
          "scatter": [
           {
            "fillpattern": {
             "fillmode": "overlay",
             "size": 10,
             "solidity": 0.2
            },
            "type": "scatter"
           }
          ],
          "scatter3d": [
           {
            "line": {
             "colorbar": {
              "outlinewidth": 0,
              "ticks": ""
             }
            },
            "marker": {
             "colorbar": {
              "outlinewidth": 0,
              "ticks": ""
             }
            },
            "type": "scatter3d"
           }
          ],
          "scattercarpet": [
           {
            "marker": {
             "colorbar": {
              "outlinewidth": 0,
              "ticks": ""
             }
            },
            "type": "scattercarpet"
           }
          ],
          "scattergeo": [
           {
            "marker": {
             "colorbar": {
              "outlinewidth": 0,
              "ticks": ""
             }
            },
            "type": "scattergeo"
           }
          ],
          "scattergl": [
           {
            "marker": {
             "colorbar": {
              "outlinewidth": 0,
              "ticks": ""
             }
            },
            "type": "scattergl"
           }
          ],
          "scattermapbox": [
           {
            "marker": {
             "colorbar": {
              "outlinewidth": 0,
              "ticks": ""
             }
            },
            "type": "scattermapbox"
           }
          ],
          "scatterpolar": [
           {
            "marker": {
             "colorbar": {
              "outlinewidth": 0,
              "ticks": ""
             }
            },
            "type": "scatterpolar"
           }
          ],
          "scatterpolargl": [
           {
            "marker": {
             "colorbar": {
              "outlinewidth": 0,
              "ticks": ""
             }
            },
            "type": "scatterpolargl"
           }
          ],
          "scatterternary": [
           {
            "marker": {
             "colorbar": {
              "outlinewidth": 0,
              "ticks": ""
             }
            },
            "type": "scatterternary"
           }
          ],
          "surface": [
           {
            "colorbar": {
             "outlinewidth": 0,
             "ticks": ""
            },
            "colorscale": [
             [
              0,
              "#0d0887"
             ],
             [
              0.1111111111111111,
              "#46039f"
             ],
             [
              0.2222222222222222,
              "#7201a8"
             ],
             [
              0.3333333333333333,
              "#9c179e"
             ],
             [
              0.4444444444444444,
              "#bd3786"
             ],
             [
              0.5555555555555556,
              "#d8576b"
             ],
             [
              0.6666666666666666,
              "#ed7953"
             ],
             [
              0.7777777777777778,
              "#fb9f3a"
             ],
             [
              0.8888888888888888,
              "#fdca26"
             ],
             [
              1,
              "#f0f921"
             ]
            ],
            "type": "surface"
           }
          ],
          "table": [
           {
            "cells": {
             "fill": {
              "color": "#EBF0F8"
             },
             "line": {
              "color": "white"
             }
            },
            "header": {
             "fill": {
              "color": "#C8D4E3"
             },
             "line": {
              "color": "white"
             }
            },
            "type": "table"
           }
          ]
         },
         "layout": {
          "annotationdefaults": {
           "arrowcolor": "#2a3f5f",
           "arrowhead": 0,
           "arrowwidth": 1
          },
          "autotypenumbers": "strict",
          "coloraxis": {
           "colorbar": {
            "outlinewidth": 0,
            "ticks": ""
           }
          },
          "colorscale": {
           "diverging": [
            [
             0,
             "#8e0152"
            ],
            [
             0.1,
             "#c51b7d"
            ],
            [
             0.2,
             "#de77ae"
            ],
            [
             0.3,
             "#f1b6da"
            ],
            [
             0.4,
             "#fde0ef"
            ],
            [
             0.5,
             "#f7f7f7"
            ],
            [
             0.6,
             "#e6f5d0"
            ],
            [
             0.7,
             "#b8e186"
            ],
            [
             0.8,
             "#7fbc41"
            ],
            [
             0.9,
             "#4d9221"
            ],
            [
             1,
             "#276419"
            ]
           ],
           "sequential": [
            [
             0,
             "#0d0887"
            ],
            [
             0.1111111111111111,
             "#46039f"
            ],
            [
             0.2222222222222222,
             "#7201a8"
            ],
            [
             0.3333333333333333,
             "#9c179e"
            ],
            [
             0.4444444444444444,
             "#bd3786"
            ],
            [
             0.5555555555555556,
             "#d8576b"
            ],
            [
             0.6666666666666666,
             "#ed7953"
            ],
            [
             0.7777777777777778,
             "#fb9f3a"
            ],
            [
             0.8888888888888888,
             "#fdca26"
            ],
            [
             1,
             "#f0f921"
            ]
           ],
           "sequentialminus": [
            [
             0,
             "#0d0887"
            ],
            [
             0.1111111111111111,
             "#46039f"
            ],
            [
             0.2222222222222222,
             "#7201a8"
            ],
            [
             0.3333333333333333,
             "#9c179e"
            ],
            [
             0.4444444444444444,
             "#bd3786"
            ],
            [
             0.5555555555555556,
             "#d8576b"
            ],
            [
             0.6666666666666666,
             "#ed7953"
            ],
            [
             0.7777777777777778,
             "#fb9f3a"
            ],
            [
             0.8888888888888888,
             "#fdca26"
            ],
            [
             1,
             "#f0f921"
            ]
           ]
          },
          "colorway": [
           "#636efa",
           "#EF553B",
           "#00cc96",
           "#ab63fa",
           "#FFA15A",
           "#19d3f3",
           "#FF6692",
           "#B6E880",
           "#FF97FF",
           "#FECB52"
          ],
          "font": {
           "color": "#2a3f5f"
          },
          "geo": {
           "bgcolor": "white",
           "lakecolor": "white",
           "landcolor": "#E5ECF6",
           "showlakes": true,
           "showland": true,
           "subunitcolor": "white"
          },
          "hoverlabel": {
           "align": "left"
          },
          "hovermode": "closest",
          "mapbox": {
           "style": "light"
          },
          "paper_bgcolor": "white",
          "plot_bgcolor": "#E5ECF6",
          "polar": {
           "angularaxis": {
            "gridcolor": "white",
            "linecolor": "white",
            "ticks": ""
           },
           "bgcolor": "#E5ECF6",
           "radialaxis": {
            "gridcolor": "white",
            "linecolor": "white",
            "ticks": ""
           }
          },
          "scene": {
           "xaxis": {
            "backgroundcolor": "#E5ECF6",
            "gridcolor": "white",
            "gridwidth": 2,
            "linecolor": "white",
            "showbackground": true,
            "ticks": "",
            "zerolinecolor": "white"
           },
           "yaxis": {
            "backgroundcolor": "#E5ECF6",
            "gridcolor": "white",
            "gridwidth": 2,
            "linecolor": "white",
            "showbackground": true,
            "ticks": "",
            "zerolinecolor": "white"
           },
           "zaxis": {
            "backgroundcolor": "#E5ECF6",
            "gridcolor": "white",
            "gridwidth": 2,
            "linecolor": "white",
            "showbackground": true,
            "ticks": "",
            "zerolinecolor": "white"
           }
          },
          "shapedefaults": {
           "line": {
            "color": "#2a3f5f"
           }
          },
          "ternary": {
           "aaxis": {
            "gridcolor": "white",
            "linecolor": "white",
            "ticks": ""
           },
           "baxis": {
            "gridcolor": "white",
            "linecolor": "white",
            "ticks": ""
           },
           "bgcolor": "#E5ECF6",
           "caxis": {
            "gridcolor": "white",
            "linecolor": "white",
            "ticks": ""
           }
          },
          "title": {
           "x": 0.05
          },
          "xaxis": {
           "automargin": true,
           "gridcolor": "white",
           "linecolor": "white",
           "ticks": "",
           "title": {
            "standoff": 15
           },
           "zerolinecolor": "white",
           "zerolinewidth": 2
          },
          "yaxis": {
           "automargin": true,
           "gridcolor": "white",
           "linecolor": "white",
           "ticks": "",
           "title": {
            "standoff": 15
           },
           "zerolinecolor": "white",
           "zerolinewidth": 2
          }
         }
        },
        "title": {
         "font": {
          "color": "#4D5663"
         }
        },
        "xaxis": {
         "gridcolor": "#E1E5ED",
         "showgrid": true,
         "tickfont": {
          "color": "#4D5663"
         },
         "title": {
          "font": {
           "color": "#4D5663"
          },
          "text": ""
         },
         "zerolinecolor": "#E1E5ED"
        },
        "yaxis": {
         "gridcolor": "#E1E5ED",
         "showgrid": true,
         "tickfont": {
          "color": "#4D5663"
         },
         "title": {
          "font": {
           "color": "#4D5663"
          },
          "text": ""
         },
         "zerolinecolor": "#E1E5ED"
        }
       }
      },
      "text/html": [
       "<div>                            <div id=\"cdee5d2c-1aec-4683-bb9c-1d1735adf0eb\" class=\"plotly-graph-div\" style=\"height:525px; width:100%;\"></div>            <script type=\"text/javascript\">                require([\"plotly\"], function(Plotly) {                    window.PLOTLYENV=window.PLOTLYENV || {};\n",
       "                    window.PLOTLYENV.BASE_URL='https://plot.ly';                                    if (document.getElementById(\"cdee5d2c-1aec-4683-bb9c-1d1735adf0eb\")) {                    Plotly.newPlot(                        \"cdee5d2c-1aec-4683-bb9c-1d1735adf0eb\",                        [{\"line\":{\"color\":\"rgba(255, 153, 51, 1.0)\",\"dash\":\"solid\",\"shape\":\"linear\",\"width\":1.3},\"marker\":{\"size\":10,\"symbol\":\"circle\"},\"mode\":\"markers\",\"name\":\"B\",\"text\":\"\",\"x\":[-0.16200811326552847,-0.20157352604196913,-0.7878824139985893,-0.8098186826097336,-1.499626473245483,1.3801493133608,1.4464314084880139,-1.027585474513354,-0.4425867986983349,1.0107964592664522,-1.8686899556147416,-0.4366797049682072,0.33283194607288075,0.8691983656072146,0.34899189602579483,-0.758070179841699,-2.2823246253628784,-1.7959123288281453,-1.0702517942537177,0.4303128493804597,1.3435913199391896,-1.3231792291241613,-0.055540871869691394,0.6047955363165932,-0.012223060701152295,-1.1977548892056136,-0.30401147308524457,-0.0014968000861568448,0.7614139136605413,1.6585102109046828,0.7364580328985136,-0.7862808461442161,0.12410899216476683,1.1324233955669805,-0.5386544999702856,-0.022224946329560458,-0.834795832535822,0.6400542617381624,-0.050410517639447344,-0.5070593103526382,0.10836598048652045,-1.3099723281736693,-0.7309978091566318,-1.4472446690984737,1.214628112420574,0.16471557214098853,0.5101660846956017,0.2543680410886363,-1.0907187736222694,-1.0206930835823955,0.2114028072469376,1.103887751499291,-0.4328552481437502,1.7194264735579212,-0.14310994297648086,1.889389666404278,1.9843080677745246,-0.0717101693371949,-0.30833082541370677,-0.83727669533764,0.8295237394428329,-1.7304676350653139,-0.02263656134543682,0.9036188982062072,-1.1962297491709328,0.6151506627961592,-1.0744273790386734,1.9546837633904182,-1.6721370855644804,0.6285809592376622,0.06875595298308364,0.1735047453153547,-1.6484418313570877,-0.05196360207271461,-1.860942779195856,-0.24376406652507243,1.3166504197314817,1.0993760777773394,0.3350603250308234,2.166415132213184,-1.403635427455722,-0.9987539122797616,-0.0389318520766291,-1.0102888165372037,-0.47230340795459325,0.8944983501138225,-1.0323828454951944,-0.37873548762691633,1.1014417823921847,-1.502163006619164,0.4882168187023026,-0.08079466347421826,-0.7311064155672401,-1.3601359769407153,1.4419021706579305,0.6056008285554461,0.5359229544971378,0.7345365991801566,-1.0367646456343842,-1.1218870781265498],\"y\":[-1.921426653795267,0.334048307502647,0.29139511039949373,-0.6414184527866889,1.8129978660736876,0.9340616438700942,0.5255701521359472,-1.4207847314561757,-0.41203169323718924,2.1136931234184893,-0.2392950511227681,-0.5231243382302146,0.3623773844099841,0.43469180714147115,0.2935866855881844,0.32138992642777864,0.41061037413189344,-1.4194998343720762,1.393825863114237,-0.20378647124285942,-1.4991509068453899,-0.9160663223473968,0.39070360889958233,0.6172298347446923,-0.020980893536748667,0.02720719120393217,0.8659489667656535,1.4120805940010235,-0.6612552163928156,0.9766072007021301,0.5235910411065691,-1.117754300835103,-0.9579560538658426,0.4833318295107085,1.0543709617500725,0.009685684378018729,0.7288669976657884,-0.14689205337746256,0.11445795487666606,-0.027564293539367023,0.9093040405128784,-4.077346761391594,-0.8483320828075116,-0.8627690117139539,1.5086069738838883,0.5260008509407854,-1.7565326317334966,-0.3256021478172967,-1.2930036573566386,2.0288102398037915,1.0006261134294256,-1.108821308601499,0.6152609168980175,2.0481960101332133,1.3425391747308673,-1.293040167109373,1.1935177409160567,2.032888804673782,-1.7204457700362052,0.7287309361140403,2.2336560605752216,0.8822170448893837,0.050861719101860235,-0.08036018285574575,0.955803896868485,-0.07512760849515579,-1.361603914789393,2.640321839534361,-0.16940684601982414,0.28864765292112526,-0.7236842378381518,2.1116733153120353,0.1707759963321653,0.36901845477741674,-0.02521850161399106,0.2138434590310381,0.6885987440922583,-0.44279120734842004,-1.4347583561859933,-0.061585991997536935,-0.007528460407516018,-0.07182976840387806,2.660622975619294,-1.9004200235224258,-0.2617815618962467,1.4001633502788777,0.33623084799756425,-1.9703525166164124,0.5608169864561404,-0.5908191652410173,-2.3693589710613843,-1.0687157067226851,-1.3174908751570347,-0.21392793423096837,-0.5070210409948378,0.7068919126208695,0.4290939015181902,0.20560676502747743,-0.5278415000966169,1.8805733839542274],\"type\":\"scatter\"}],                        {\"legend\":{\"bgcolor\":\"#F5F6F9\",\"font\":{\"color\":\"#4D5663\"}},\"paper_bgcolor\":\"#F5F6F9\",\"plot_bgcolor\":\"#F5F6F9\",\"template\":{\"data\":{\"barpolar\":[{\"marker\":{\"line\":{\"color\":\"#E5ECF6\",\"width\":0.5},\"pattern\":{\"fillmode\":\"overlay\",\"size\":10,\"solidity\":0.2}},\"type\":\"barpolar\"}],\"bar\":[{\"error_x\":{\"color\":\"#2a3f5f\"},\"error_y\":{\"color\":\"#2a3f5f\"},\"marker\":{\"line\":{\"color\":\"#E5ECF6\",\"width\":0.5},\"pattern\":{\"fillmode\":\"overlay\",\"size\":10,\"solidity\":0.2}},\"type\":\"bar\"}],\"carpet\":[{\"aaxis\":{\"endlinecolor\":\"#2a3f5f\",\"gridcolor\":\"white\",\"linecolor\":\"white\",\"minorgridcolor\":\"white\",\"startlinecolor\":\"#2a3f5f\"},\"baxis\":{\"endlinecolor\":\"#2a3f5f\",\"gridcolor\":\"white\",\"linecolor\":\"white\",\"minorgridcolor\":\"white\",\"startlinecolor\":\"#2a3f5f\"},\"type\":\"carpet\"}],\"choropleth\":[{\"colorbar\":{\"outlinewidth\":0,\"ticks\":\"\"},\"type\":\"choropleth\"}],\"contourcarpet\":[{\"colorbar\":{\"outlinewidth\":0,\"ticks\":\"\"},\"type\":\"contourcarpet\"}],\"contour\":[{\"colorbar\":{\"outlinewidth\":0,\"ticks\":\"\"},\"colorscale\":[[0.0,\"#0d0887\"],[0.1111111111111111,\"#46039f\"],[0.2222222222222222,\"#7201a8\"],[0.3333333333333333,\"#9c179e\"],[0.4444444444444444,\"#bd3786\"],[0.5555555555555556,\"#d8576b\"],[0.6666666666666666,\"#ed7953\"],[0.7777777777777778,\"#fb9f3a\"],[0.8888888888888888,\"#fdca26\"],[1.0,\"#f0f921\"]],\"type\":\"contour\"}],\"heatmapgl\":[{\"colorbar\":{\"outlinewidth\":0,\"ticks\":\"\"},\"colorscale\":[[0.0,\"#0d0887\"],[0.1111111111111111,\"#46039f\"],[0.2222222222222222,\"#7201a8\"],[0.3333333333333333,\"#9c179e\"],[0.4444444444444444,\"#bd3786\"],[0.5555555555555556,\"#d8576b\"],[0.6666666666666666,\"#ed7953\"],[0.7777777777777778,\"#fb9f3a\"],[0.8888888888888888,\"#fdca26\"],[1.0,\"#f0f921\"]],\"type\":\"heatmapgl\"}],\"heatmap\":[{\"colorbar\":{\"outlinewidth\":0,\"ticks\":\"\"},\"colorscale\":[[0.0,\"#0d0887\"],[0.1111111111111111,\"#46039f\"],[0.2222222222222222,\"#7201a8\"],[0.3333333333333333,\"#9c179e\"],[0.4444444444444444,\"#bd3786\"],[0.5555555555555556,\"#d8576b\"],[0.6666666666666666,\"#ed7953\"],[0.7777777777777778,\"#fb9f3a\"],[0.8888888888888888,\"#fdca26\"],[1.0,\"#f0f921\"]],\"type\":\"heatmap\"}],\"histogram2dcontour\":[{\"colorbar\":{\"outlinewidth\":0,\"ticks\":\"\"},\"colorscale\":[[0.0,\"#0d0887\"],[0.1111111111111111,\"#46039f\"],[0.2222222222222222,\"#7201a8\"],[0.3333333333333333,\"#9c179e\"],[0.4444444444444444,\"#bd3786\"],[0.5555555555555556,\"#d8576b\"],[0.6666666666666666,\"#ed7953\"],[0.7777777777777778,\"#fb9f3a\"],[0.8888888888888888,\"#fdca26\"],[1.0,\"#f0f921\"]],\"type\":\"histogram2dcontour\"}],\"histogram2d\":[{\"colorbar\":{\"outlinewidth\":0,\"ticks\":\"\"},\"colorscale\":[[0.0,\"#0d0887\"],[0.1111111111111111,\"#46039f\"],[0.2222222222222222,\"#7201a8\"],[0.3333333333333333,\"#9c179e\"],[0.4444444444444444,\"#bd3786\"],[0.5555555555555556,\"#d8576b\"],[0.6666666666666666,\"#ed7953\"],[0.7777777777777778,\"#fb9f3a\"],[0.8888888888888888,\"#fdca26\"],[1.0,\"#f0f921\"]],\"type\":\"histogram2d\"}],\"histogram\":[{\"marker\":{\"pattern\":{\"fillmode\":\"overlay\",\"size\":10,\"solidity\":0.2}},\"type\":\"histogram\"}],\"mesh3d\":[{\"colorbar\":{\"outlinewidth\":0,\"ticks\":\"\"},\"type\":\"mesh3d\"}],\"parcoords\":[{\"line\":{\"colorbar\":{\"outlinewidth\":0,\"ticks\":\"\"}},\"type\":\"parcoords\"}],\"pie\":[{\"automargin\":true,\"type\":\"pie\"}],\"scatter3d\":[{\"line\":{\"colorbar\":{\"outlinewidth\":0,\"ticks\":\"\"}},\"marker\":{\"colorbar\":{\"outlinewidth\":0,\"ticks\":\"\"}},\"type\":\"scatter3d\"}],\"scattercarpet\":[{\"marker\":{\"colorbar\":{\"outlinewidth\":0,\"ticks\":\"\"}},\"type\":\"scattercarpet\"}],\"scattergeo\":[{\"marker\":{\"colorbar\":{\"outlinewidth\":0,\"ticks\":\"\"}},\"type\":\"scattergeo\"}],\"scattergl\":[{\"marker\":{\"colorbar\":{\"outlinewidth\":0,\"ticks\":\"\"}},\"type\":\"scattergl\"}],\"scattermapbox\":[{\"marker\":{\"colorbar\":{\"outlinewidth\":0,\"ticks\":\"\"}},\"type\":\"scattermapbox\"}],\"scatterpolargl\":[{\"marker\":{\"colorbar\":{\"outlinewidth\":0,\"ticks\":\"\"}},\"type\":\"scatterpolargl\"}],\"scatterpolar\":[{\"marker\":{\"colorbar\":{\"outlinewidth\":0,\"ticks\":\"\"}},\"type\":\"scatterpolar\"}],\"scatter\":[{\"fillpattern\":{\"fillmode\":\"overlay\",\"size\":10,\"solidity\":0.2},\"type\":\"scatter\"}],\"scatterternary\":[{\"marker\":{\"colorbar\":{\"outlinewidth\":0,\"ticks\":\"\"}},\"type\":\"scatterternary\"}],\"surface\":[{\"colorbar\":{\"outlinewidth\":0,\"ticks\":\"\"},\"colorscale\":[[0.0,\"#0d0887\"],[0.1111111111111111,\"#46039f\"],[0.2222222222222222,\"#7201a8\"],[0.3333333333333333,\"#9c179e\"],[0.4444444444444444,\"#bd3786\"],[0.5555555555555556,\"#d8576b\"],[0.6666666666666666,\"#ed7953\"],[0.7777777777777778,\"#fb9f3a\"],[0.8888888888888888,\"#fdca26\"],[1.0,\"#f0f921\"]],\"type\":\"surface\"}],\"table\":[{\"cells\":{\"fill\":{\"color\":\"#EBF0F8\"},\"line\":{\"color\":\"white\"}},\"header\":{\"fill\":{\"color\":\"#C8D4E3\"},\"line\":{\"color\":\"white\"}},\"type\":\"table\"}]},\"layout\":{\"annotationdefaults\":{\"arrowcolor\":\"#2a3f5f\",\"arrowhead\":0,\"arrowwidth\":1},\"autotypenumbers\":\"strict\",\"coloraxis\":{\"colorbar\":{\"outlinewidth\":0,\"ticks\":\"\"}},\"colorscale\":{\"diverging\":[[0,\"#8e0152\"],[0.1,\"#c51b7d\"],[0.2,\"#de77ae\"],[0.3,\"#f1b6da\"],[0.4,\"#fde0ef\"],[0.5,\"#f7f7f7\"],[0.6,\"#e6f5d0\"],[0.7,\"#b8e186\"],[0.8,\"#7fbc41\"],[0.9,\"#4d9221\"],[1,\"#276419\"]],\"sequential\":[[0.0,\"#0d0887\"],[0.1111111111111111,\"#46039f\"],[0.2222222222222222,\"#7201a8\"],[0.3333333333333333,\"#9c179e\"],[0.4444444444444444,\"#bd3786\"],[0.5555555555555556,\"#d8576b\"],[0.6666666666666666,\"#ed7953\"],[0.7777777777777778,\"#fb9f3a\"],[0.8888888888888888,\"#fdca26\"],[1.0,\"#f0f921\"]],\"sequentialminus\":[[0.0,\"#0d0887\"],[0.1111111111111111,\"#46039f\"],[0.2222222222222222,\"#7201a8\"],[0.3333333333333333,\"#9c179e\"],[0.4444444444444444,\"#bd3786\"],[0.5555555555555556,\"#d8576b\"],[0.6666666666666666,\"#ed7953\"],[0.7777777777777778,\"#fb9f3a\"],[0.8888888888888888,\"#fdca26\"],[1.0,\"#f0f921\"]]},\"colorway\":[\"#636efa\",\"#EF553B\",\"#00cc96\",\"#ab63fa\",\"#FFA15A\",\"#19d3f3\",\"#FF6692\",\"#B6E880\",\"#FF97FF\",\"#FECB52\"],\"font\":{\"color\":\"#2a3f5f\"},\"geo\":{\"bgcolor\":\"white\",\"lakecolor\":\"white\",\"landcolor\":\"#E5ECF6\",\"showlakes\":true,\"showland\":true,\"subunitcolor\":\"white\"},\"hoverlabel\":{\"align\":\"left\"},\"hovermode\":\"closest\",\"mapbox\":{\"style\":\"light\"},\"paper_bgcolor\":\"white\",\"plot_bgcolor\":\"#E5ECF6\",\"polar\":{\"angularaxis\":{\"gridcolor\":\"white\",\"linecolor\":\"white\",\"ticks\":\"\"},\"bgcolor\":\"#E5ECF6\",\"radialaxis\":{\"gridcolor\":\"white\",\"linecolor\":\"white\",\"ticks\":\"\"}},\"scene\":{\"xaxis\":{\"backgroundcolor\":\"#E5ECF6\",\"gridcolor\":\"white\",\"gridwidth\":2,\"linecolor\":\"white\",\"showbackground\":true,\"ticks\":\"\",\"zerolinecolor\":\"white\"},\"yaxis\":{\"backgroundcolor\":\"#E5ECF6\",\"gridcolor\":\"white\",\"gridwidth\":2,\"linecolor\":\"white\",\"showbackground\":true,\"ticks\":\"\",\"zerolinecolor\":\"white\"},\"zaxis\":{\"backgroundcolor\":\"#E5ECF6\",\"gridcolor\":\"white\",\"gridwidth\":2,\"linecolor\":\"white\",\"showbackground\":true,\"ticks\":\"\",\"zerolinecolor\":\"white\"}},\"shapedefaults\":{\"line\":{\"color\":\"#2a3f5f\"}},\"ternary\":{\"aaxis\":{\"gridcolor\":\"white\",\"linecolor\":\"white\",\"ticks\":\"\"},\"baxis\":{\"gridcolor\":\"white\",\"linecolor\":\"white\",\"ticks\":\"\"},\"bgcolor\":\"#E5ECF6\",\"caxis\":{\"gridcolor\":\"white\",\"linecolor\":\"white\",\"ticks\":\"\"}},\"title\":{\"x\":0.05},\"xaxis\":{\"automargin\":true,\"gridcolor\":\"white\",\"linecolor\":\"white\",\"ticks\":\"\",\"title\":{\"standoff\":15},\"zerolinecolor\":\"white\",\"zerolinewidth\":2},\"yaxis\":{\"automargin\":true,\"gridcolor\":\"white\",\"linecolor\":\"white\",\"ticks\":\"\",\"title\":{\"standoff\":15},\"zerolinecolor\":\"white\",\"zerolinewidth\":2}}},\"title\":{\"font\":{\"color\":\"#4D5663\"}},\"xaxis\":{\"gridcolor\":\"#E1E5ED\",\"showgrid\":true,\"tickfont\":{\"color\":\"#4D5663\"},\"title\":{\"font\":{\"color\":\"#4D5663\"},\"text\":\"\"},\"zerolinecolor\":\"#E1E5ED\"},\"yaxis\":{\"gridcolor\":\"#E1E5ED\",\"showgrid\":true,\"tickfont\":{\"color\":\"#4D5663\"},\"title\":{\"font\":{\"color\":\"#4D5663\"},\"text\":\"\"},\"zerolinecolor\":\"#E1E5ED\"}},                        {\"showLink\": true, \"linkText\": \"Export to plot.ly\", \"plotlyServerURL\": \"https://plot.ly\", \"responsive\": true}                    ).then(function(){\n",
       "                            \n",
       "var gd = document.getElementById('cdee5d2c-1aec-4683-bb9c-1d1735adf0eb');\n",
       "var x = new MutationObserver(function (mutations, observer) {{\n",
       "        var display = window.getComputedStyle(gd).display;\n",
       "        if (!display || display === 'none') {{\n",
       "            console.log([gd, 'removed!']);\n",
       "            Plotly.purge(gd);\n",
       "            observer.disconnect();\n",
       "        }}\n",
       "}});\n",
       "\n",
       "// Listen for the removal of the full notebook cells\n",
       "var notebookContainer = gd.closest('#notebook-container');\n",
       "if (notebookContainer) {{\n",
       "    x.observe(notebookContainer, {childList: true});\n",
       "}}\n",
       "\n",
       "// Listen for the clearing of the current output cell\n",
       "var outputEl = gd.closest('.output');\n",
       "if (outputEl) {{\n",
       "    x.observe(outputEl, {childList: true});\n",
       "}}\n",
       "\n",
       "                        })                };                });            </script>        </div>"
      ]
     },
     "metadata": {},
     "output_type": "display_data"
    }
   ],
   "source": [
    "df1.iplot(kind='scatter',x='A',y='B',mode='markers',size=10)"
   ]
  },
  {
   "cell_type": "markdown",
   "metadata": {},
   "source": [
    "### ii. Bar Plots"
   ]
  },
  {
   "cell_type": "code",
   "execution_count": 9,
   "metadata": {},
   "outputs": [
    {
     "data": {
      "application/vnd.plotly.v1+json": {
       "config": {
        "linkText": "Export to plot.ly",
        "plotlyServerURL": "https://plot.ly",
        "showLink": true
       },
       "data": [
        {
         "marker": {
          "color": "rgba(255, 153, 51, 0.6)",
          "line": {
           "color": "rgba(255, 153, 51, 1.0)",
           "width": 1
          }
         },
         "name": "Values",
         "orientation": "v",
         "text": "",
         "type": "bar",
         "x": [
          "A",
          "B",
          "C"
         ],
         "y": [
          32,
          43,
          50
         ]
        }
       ],
       "layout": {
        "legend": {
         "bgcolor": "#F5F6F9",
         "font": {
          "color": "#4D5663"
         }
        },
        "paper_bgcolor": "#F5F6F9",
        "plot_bgcolor": "#F5F6F9",
        "template": {
         "data": {
          "bar": [
           {
            "error_x": {
             "color": "#2a3f5f"
            },
            "error_y": {
             "color": "#2a3f5f"
            },
            "marker": {
             "line": {
              "color": "#E5ECF6",
              "width": 0.5
             },
             "pattern": {
              "fillmode": "overlay",
              "size": 10,
              "solidity": 0.2
             }
            },
            "type": "bar"
           }
          ],
          "barpolar": [
           {
            "marker": {
             "line": {
              "color": "#E5ECF6",
              "width": 0.5
             },
             "pattern": {
              "fillmode": "overlay",
              "size": 10,
              "solidity": 0.2
             }
            },
            "type": "barpolar"
           }
          ],
          "carpet": [
           {
            "aaxis": {
             "endlinecolor": "#2a3f5f",
             "gridcolor": "white",
             "linecolor": "white",
             "minorgridcolor": "white",
             "startlinecolor": "#2a3f5f"
            },
            "baxis": {
             "endlinecolor": "#2a3f5f",
             "gridcolor": "white",
             "linecolor": "white",
             "minorgridcolor": "white",
             "startlinecolor": "#2a3f5f"
            },
            "type": "carpet"
           }
          ],
          "choropleth": [
           {
            "colorbar": {
             "outlinewidth": 0,
             "ticks": ""
            },
            "type": "choropleth"
           }
          ],
          "contour": [
           {
            "colorbar": {
             "outlinewidth": 0,
             "ticks": ""
            },
            "colorscale": [
             [
              0,
              "#0d0887"
             ],
             [
              0.1111111111111111,
              "#46039f"
             ],
             [
              0.2222222222222222,
              "#7201a8"
             ],
             [
              0.3333333333333333,
              "#9c179e"
             ],
             [
              0.4444444444444444,
              "#bd3786"
             ],
             [
              0.5555555555555556,
              "#d8576b"
             ],
             [
              0.6666666666666666,
              "#ed7953"
             ],
             [
              0.7777777777777778,
              "#fb9f3a"
             ],
             [
              0.8888888888888888,
              "#fdca26"
             ],
             [
              1,
              "#f0f921"
             ]
            ],
            "type": "contour"
           }
          ],
          "contourcarpet": [
           {
            "colorbar": {
             "outlinewidth": 0,
             "ticks": ""
            },
            "type": "contourcarpet"
           }
          ],
          "heatmap": [
           {
            "colorbar": {
             "outlinewidth": 0,
             "ticks": ""
            },
            "colorscale": [
             [
              0,
              "#0d0887"
             ],
             [
              0.1111111111111111,
              "#46039f"
             ],
             [
              0.2222222222222222,
              "#7201a8"
             ],
             [
              0.3333333333333333,
              "#9c179e"
             ],
             [
              0.4444444444444444,
              "#bd3786"
             ],
             [
              0.5555555555555556,
              "#d8576b"
             ],
             [
              0.6666666666666666,
              "#ed7953"
             ],
             [
              0.7777777777777778,
              "#fb9f3a"
             ],
             [
              0.8888888888888888,
              "#fdca26"
             ],
             [
              1,
              "#f0f921"
             ]
            ],
            "type": "heatmap"
           }
          ],
          "heatmapgl": [
           {
            "colorbar": {
             "outlinewidth": 0,
             "ticks": ""
            },
            "colorscale": [
             [
              0,
              "#0d0887"
             ],
             [
              0.1111111111111111,
              "#46039f"
             ],
             [
              0.2222222222222222,
              "#7201a8"
             ],
             [
              0.3333333333333333,
              "#9c179e"
             ],
             [
              0.4444444444444444,
              "#bd3786"
             ],
             [
              0.5555555555555556,
              "#d8576b"
             ],
             [
              0.6666666666666666,
              "#ed7953"
             ],
             [
              0.7777777777777778,
              "#fb9f3a"
             ],
             [
              0.8888888888888888,
              "#fdca26"
             ],
             [
              1,
              "#f0f921"
             ]
            ],
            "type": "heatmapgl"
           }
          ],
          "histogram": [
           {
            "marker": {
             "pattern": {
              "fillmode": "overlay",
              "size": 10,
              "solidity": 0.2
             }
            },
            "type": "histogram"
           }
          ],
          "histogram2d": [
           {
            "colorbar": {
             "outlinewidth": 0,
             "ticks": ""
            },
            "colorscale": [
             [
              0,
              "#0d0887"
             ],
             [
              0.1111111111111111,
              "#46039f"
             ],
             [
              0.2222222222222222,
              "#7201a8"
             ],
             [
              0.3333333333333333,
              "#9c179e"
             ],
             [
              0.4444444444444444,
              "#bd3786"
             ],
             [
              0.5555555555555556,
              "#d8576b"
             ],
             [
              0.6666666666666666,
              "#ed7953"
             ],
             [
              0.7777777777777778,
              "#fb9f3a"
             ],
             [
              0.8888888888888888,
              "#fdca26"
             ],
             [
              1,
              "#f0f921"
             ]
            ],
            "type": "histogram2d"
           }
          ],
          "histogram2dcontour": [
           {
            "colorbar": {
             "outlinewidth": 0,
             "ticks": ""
            },
            "colorscale": [
             [
              0,
              "#0d0887"
             ],
             [
              0.1111111111111111,
              "#46039f"
             ],
             [
              0.2222222222222222,
              "#7201a8"
             ],
             [
              0.3333333333333333,
              "#9c179e"
             ],
             [
              0.4444444444444444,
              "#bd3786"
             ],
             [
              0.5555555555555556,
              "#d8576b"
             ],
             [
              0.6666666666666666,
              "#ed7953"
             ],
             [
              0.7777777777777778,
              "#fb9f3a"
             ],
             [
              0.8888888888888888,
              "#fdca26"
             ],
             [
              1,
              "#f0f921"
             ]
            ],
            "type": "histogram2dcontour"
           }
          ],
          "mesh3d": [
           {
            "colorbar": {
             "outlinewidth": 0,
             "ticks": ""
            },
            "type": "mesh3d"
           }
          ],
          "parcoords": [
           {
            "line": {
             "colorbar": {
              "outlinewidth": 0,
              "ticks": ""
             }
            },
            "type": "parcoords"
           }
          ],
          "pie": [
           {
            "automargin": true,
            "type": "pie"
           }
          ],
          "scatter": [
           {
            "fillpattern": {
             "fillmode": "overlay",
             "size": 10,
             "solidity": 0.2
            },
            "type": "scatter"
           }
          ],
          "scatter3d": [
           {
            "line": {
             "colorbar": {
              "outlinewidth": 0,
              "ticks": ""
             }
            },
            "marker": {
             "colorbar": {
              "outlinewidth": 0,
              "ticks": ""
             }
            },
            "type": "scatter3d"
           }
          ],
          "scattercarpet": [
           {
            "marker": {
             "colorbar": {
              "outlinewidth": 0,
              "ticks": ""
             }
            },
            "type": "scattercarpet"
           }
          ],
          "scattergeo": [
           {
            "marker": {
             "colorbar": {
              "outlinewidth": 0,
              "ticks": ""
             }
            },
            "type": "scattergeo"
           }
          ],
          "scattergl": [
           {
            "marker": {
             "colorbar": {
              "outlinewidth": 0,
              "ticks": ""
             }
            },
            "type": "scattergl"
           }
          ],
          "scattermapbox": [
           {
            "marker": {
             "colorbar": {
              "outlinewidth": 0,
              "ticks": ""
             }
            },
            "type": "scattermapbox"
           }
          ],
          "scatterpolar": [
           {
            "marker": {
             "colorbar": {
              "outlinewidth": 0,
              "ticks": ""
             }
            },
            "type": "scatterpolar"
           }
          ],
          "scatterpolargl": [
           {
            "marker": {
             "colorbar": {
              "outlinewidth": 0,
              "ticks": ""
             }
            },
            "type": "scatterpolargl"
           }
          ],
          "scatterternary": [
           {
            "marker": {
             "colorbar": {
              "outlinewidth": 0,
              "ticks": ""
             }
            },
            "type": "scatterternary"
           }
          ],
          "surface": [
           {
            "colorbar": {
             "outlinewidth": 0,
             "ticks": ""
            },
            "colorscale": [
             [
              0,
              "#0d0887"
             ],
             [
              0.1111111111111111,
              "#46039f"
             ],
             [
              0.2222222222222222,
              "#7201a8"
             ],
             [
              0.3333333333333333,
              "#9c179e"
             ],
             [
              0.4444444444444444,
              "#bd3786"
             ],
             [
              0.5555555555555556,
              "#d8576b"
             ],
             [
              0.6666666666666666,
              "#ed7953"
             ],
             [
              0.7777777777777778,
              "#fb9f3a"
             ],
             [
              0.8888888888888888,
              "#fdca26"
             ],
             [
              1,
              "#f0f921"
             ]
            ],
            "type": "surface"
           }
          ],
          "table": [
           {
            "cells": {
             "fill": {
              "color": "#EBF0F8"
             },
             "line": {
              "color": "white"
             }
            },
            "header": {
             "fill": {
              "color": "#C8D4E3"
             },
             "line": {
              "color": "white"
             }
            },
            "type": "table"
           }
          ]
         },
         "layout": {
          "annotationdefaults": {
           "arrowcolor": "#2a3f5f",
           "arrowhead": 0,
           "arrowwidth": 1
          },
          "autotypenumbers": "strict",
          "coloraxis": {
           "colorbar": {
            "outlinewidth": 0,
            "ticks": ""
           }
          },
          "colorscale": {
           "diverging": [
            [
             0,
             "#8e0152"
            ],
            [
             0.1,
             "#c51b7d"
            ],
            [
             0.2,
             "#de77ae"
            ],
            [
             0.3,
             "#f1b6da"
            ],
            [
             0.4,
             "#fde0ef"
            ],
            [
             0.5,
             "#f7f7f7"
            ],
            [
             0.6,
             "#e6f5d0"
            ],
            [
             0.7,
             "#b8e186"
            ],
            [
             0.8,
             "#7fbc41"
            ],
            [
             0.9,
             "#4d9221"
            ],
            [
             1,
             "#276419"
            ]
           ],
           "sequential": [
            [
             0,
             "#0d0887"
            ],
            [
             0.1111111111111111,
             "#46039f"
            ],
            [
             0.2222222222222222,
             "#7201a8"
            ],
            [
             0.3333333333333333,
             "#9c179e"
            ],
            [
             0.4444444444444444,
             "#bd3786"
            ],
            [
             0.5555555555555556,
             "#d8576b"
            ],
            [
             0.6666666666666666,
             "#ed7953"
            ],
            [
             0.7777777777777778,
             "#fb9f3a"
            ],
            [
             0.8888888888888888,
             "#fdca26"
            ],
            [
             1,
             "#f0f921"
            ]
           ],
           "sequentialminus": [
            [
             0,
             "#0d0887"
            ],
            [
             0.1111111111111111,
             "#46039f"
            ],
            [
             0.2222222222222222,
             "#7201a8"
            ],
            [
             0.3333333333333333,
             "#9c179e"
            ],
            [
             0.4444444444444444,
             "#bd3786"
            ],
            [
             0.5555555555555556,
             "#d8576b"
            ],
            [
             0.6666666666666666,
             "#ed7953"
            ],
            [
             0.7777777777777778,
             "#fb9f3a"
            ],
            [
             0.8888888888888888,
             "#fdca26"
            ],
            [
             1,
             "#f0f921"
            ]
           ]
          },
          "colorway": [
           "#636efa",
           "#EF553B",
           "#00cc96",
           "#ab63fa",
           "#FFA15A",
           "#19d3f3",
           "#FF6692",
           "#B6E880",
           "#FF97FF",
           "#FECB52"
          ],
          "font": {
           "color": "#2a3f5f"
          },
          "geo": {
           "bgcolor": "white",
           "lakecolor": "white",
           "landcolor": "#E5ECF6",
           "showlakes": true,
           "showland": true,
           "subunitcolor": "white"
          },
          "hoverlabel": {
           "align": "left"
          },
          "hovermode": "closest",
          "mapbox": {
           "style": "light"
          },
          "paper_bgcolor": "white",
          "plot_bgcolor": "#E5ECF6",
          "polar": {
           "angularaxis": {
            "gridcolor": "white",
            "linecolor": "white",
            "ticks": ""
           },
           "bgcolor": "#E5ECF6",
           "radialaxis": {
            "gridcolor": "white",
            "linecolor": "white",
            "ticks": ""
           }
          },
          "scene": {
           "xaxis": {
            "backgroundcolor": "#E5ECF6",
            "gridcolor": "white",
            "gridwidth": 2,
            "linecolor": "white",
            "showbackground": true,
            "ticks": "",
            "zerolinecolor": "white"
           },
           "yaxis": {
            "backgroundcolor": "#E5ECF6",
            "gridcolor": "white",
            "gridwidth": 2,
            "linecolor": "white",
            "showbackground": true,
            "ticks": "",
            "zerolinecolor": "white"
           },
           "zaxis": {
            "backgroundcolor": "#E5ECF6",
            "gridcolor": "white",
            "gridwidth": 2,
            "linecolor": "white",
            "showbackground": true,
            "ticks": "",
            "zerolinecolor": "white"
           }
          },
          "shapedefaults": {
           "line": {
            "color": "#2a3f5f"
           }
          },
          "ternary": {
           "aaxis": {
            "gridcolor": "white",
            "linecolor": "white",
            "ticks": ""
           },
           "baxis": {
            "gridcolor": "white",
            "linecolor": "white",
            "ticks": ""
           },
           "bgcolor": "#E5ECF6",
           "caxis": {
            "gridcolor": "white",
            "linecolor": "white",
            "ticks": ""
           }
          },
          "title": {
           "x": 0.05
          },
          "xaxis": {
           "automargin": true,
           "gridcolor": "white",
           "linecolor": "white",
           "ticks": "",
           "title": {
            "standoff": 15
           },
           "zerolinecolor": "white",
           "zerolinewidth": 2
          },
          "yaxis": {
           "automargin": true,
           "gridcolor": "white",
           "linecolor": "white",
           "ticks": "",
           "title": {
            "standoff": 15
           },
           "zerolinecolor": "white",
           "zerolinewidth": 2
          }
         }
        },
        "title": {
         "font": {
          "color": "#4D5663"
         }
        },
        "xaxis": {
         "gridcolor": "#E1E5ED",
         "showgrid": true,
         "tickfont": {
          "color": "#4D5663"
         },
         "title": {
          "font": {
           "color": "#4D5663"
          },
          "text": ""
         },
         "zerolinecolor": "#E1E5ED"
        },
        "yaxis": {
         "gridcolor": "#E1E5ED",
         "showgrid": true,
         "tickfont": {
          "color": "#4D5663"
         },
         "title": {
          "font": {
           "color": "#4D5663"
          },
          "text": ""
         },
         "zerolinecolor": "#E1E5ED"
        }
       }
      },
      "text/html": [
       "<div>                            <div id=\"f82668be-31fd-469b-8295-06d9b5a6e8c5\" class=\"plotly-graph-div\" style=\"height:525px; width:100%;\"></div>            <script type=\"text/javascript\">                require([\"plotly\"], function(Plotly) {                    window.PLOTLYENV=window.PLOTLYENV || {};\n",
       "                    window.PLOTLYENV.BASE_URL='https://plot.ly';                                    if (document.getElementById(\"f82668be-31fd-469b-8295-06d9b5a6e8c5\")) {                    Plotly.newPlot(                        \"f82668be-31fd-469b-8295-06d9b5a6e8c5\",                        [{\"marker\":{\"color\":\"rgba(255, 153, 51, 0.6)\",\"line\":{\"color\":\"rgba(255, 153, 51, 1.0)\",\"width\":1}},\"name\":\"Values\",\"orientation\":\"v\",\"text\":\"\",\"x\":[\"A\",\"B\",\"C\"],\"y\":[32,43,50],\"type\":\"bar\"}],                        {\"legend\":{\"bgcolor\":\"#F5F6F9\",\"font\":{\"color\":\"#4D5663\"}},\"paper_bgcolor\":\"#F5F6F9\",\"plot_bgcolor\":\"#F5F6F9\",\"template\":{\"data\":{\"barpolar\":[{\"marker\":{\"line\":{\"color\":\"#E5ECF6\",\"width\":0.5},\"pattern\":{\"fillmode\":\"overlay\",\"size\":10,\"solidity\":0.2}},\"type\":\"barpolar\"}],\"bar\":[{\"error_x\":{\"color\":\"#2a3f5f\"},\"error_y\":{\"color\":\"#2a3f5f\"},\"marker\":{\"line\":{\"color\":\"#E5ECF6\",\"width\":0.5},\"pattern\":{\"fillmode\":\"overlay\",\"size\":10,\"solidity\":0.2}},\"type\":\"bar\"}],\"carpet\":[{\"aaxis\":{\"endlinecolor\":\"#2a3f5f\",\"gridcolor\":\"white\",\"linecolor\":\"white\",\"minorgridcolor\":\"white\",\"startlinecolor\":\"#2a3f5f\"},\"baxis\":{\"endlinecolor\":\"#2a3f5f\",\"gridcolor\":\"white\",\"linecolor\":\"white\",\"minorgridcolor\":\"white\",\"startlinecolor\":\"#2a3f5f\"},\"type\":\"carpet\"}],\"choropleth\":[{\"colorbar\":{\"outlinewidth\":0,\"ticks\":\"\"},\"type\":\"choropleth\"}],\"contourcarpet\":[{\"colorbar\":{\"outlinewidth\":0,\"ticks\":\"\"},\"type\":\"contourcarpet\"}],\"contour\":[{\"colorbar\":{\"outlinewidth\":0,\"ticks\":\"\"},\"colorscale\":[[0.0,\"#0d0887\"],[0.1111111111111111,\"#46039f\"],[0.2222222222222222,\"#7201a8\"],[0.3333333333333333,\"#9c179e\"],[0.4444444444444444,\"#bd3786\"],[0.5555555555555556,\"#d8576b\"],[0.6666666666666666,\"#ed7953\"],[0.7777777777777778,\"#fb9f3a\"],[0.8888888888888888,\"#fdca26\"],[1.0,\"#f0f921\"]],\"type\":\"contour\"}],\"heatmapgl\":[{\"colorbar\":{\"outlinewidth\":0,\"ticks\":\"\"},\"colorscale\":[[0.0,\"#0d0887\"],[0.1111111111111111,\"#46039f\"],[0.2222222222222222,\"#7201a8\"],[0.3333333333333333,\"#9c179e\"],[0.4444444444444444,\"#bd3786\"],[0.5555555555555556,\"#d8576b\"],[0.6666666666666666,\"#ed7953\"],[0.7777777777777778,\"#fb9f3a\"],[0.8888888888888888,\"#fdca26\"],[1.0,\"#f0f921\"]],\"type\":\"heatmapgl\"}],\"heatmap\":[{\"colorbar\":{\"outlinewidth\":0,\"ticks\":\"\"},\"colorscale\":[[0.0,\"#0d0887\"],[0.1111111111111111,\"#46039f\"],[0.2222222222222222,\"#7201a8\"],[0.3333333333333333,\"#9c179e\"],[0.4444444444444444,\"#bd3786\"],[0.5555555555555556,\"#d8576b\"],[0.6666666666666666,\"#ed7953\"],[0.7777777777777778,\"#fb9f3a\"],[0.8888888888888888,\"#fdca26\"],[1.0,\"#f0f921\"]],\"type\":\"heatmap\"}],\"histogram2dcontour\":[{\"colorbar\":{\"outlinewidth\":0,\"ticks\":\"\"},\"colorscale\":[[0.0,\"#0d0887\"],[0.1111111111111111,\"#46039f\"],[0.2222222222222222,\"#7201a8\"],[0.3333333333333333,\"#9c179e\"],[0.4444444444444444,\"#bd3786\"],[0.5555555555555556,\"#d8576b\"],[0.6666666666666666,\"#ed7953\"],[0.7777777777777778,\"#fb9f3a\"],[0.8888888888888888,\"#fdca26\"],[1.0,\"#f0f921\"]],\"type\":\"histogram2dcontour\"}],\"histogram2d\":[{\"colorbar\":{\"outlinewidth\":0,\"ticks\":\"\"},\"colorscale\":[[0.0,\"#0d0887\"],[0.1111111111111111,\"#46039f\"],[0.2222222222222222,\"#7201a8\"],[0.3333333333333333,\"#9c179e\"],[0.4444444444444444,\"#bd3786\"],[0.5555555555555556,\"#d8576b\"],[0.6666666666666666,\"#ed7953\"],[0.7777777777777778,\"#fb9f3a\"],[0.8888888888888888,\"#fdca26\"],[1.0,\"#f0f921\"]],\"type\":\"histogram2d\"}],\"histogram\":[{\"marker\":{\"pattern\":{\"fillmode\":\"overlay\",\"size\":10,\"solidity\":0.2}},\"type\":\"histogram\"}],\"mesh3d\":[{\"colorbar\":{\"outlinewidth\":0,\"ticks\":\"\"},\"type\":\"mesh3d\"}],\"parcoords\":[{\"line\":{\"colorbar\":{\"outlinewidth\":0,\"ticks\":\"\"}},\"type\":\"parcoords\"}],\"pie\":[{\"automargin\":true,\"type\":\"pie\"}],\"scatter3d\":[{\"line\":{\"colorbar\":{\"outlinewidth\":0,\"ticks\":\"\"}},\"marker\":{\"colorbar\":{\"outlinewidth\":0,\"ticks\":\"\"}},\"type\":\"scatter3d\"}],\"scattercarpet\":[{\"marker\":{\"colorbar\":{\"outlinewidth\":0,\"ticks\":\"\"}},\"type\":\"scattercarpet\"}],\"scattergeo\":[{\"marker\":{\"colorbar\":{\"outlinewidth\":0,\"ticks\":\"\"}},\"type\":\"scattergeo\"}],\"scattergl\":[{\"marker\":{\"colorbar\":{\"outlinewidth\":0,\"ticks\":\"\"}},\"type\":\"scattergl\"}],\"scattermapbox\":[{\"marker\":{\"colorbar\":{\"outlinewidth\":0,\"ticks\":\"\"}},\"type\":\"scattermapbox\"}],\"scatterpolargl\":[{\"marker\":{\"colorbar\":{\"outlinewidth\":0,\"ticks\":\"\"}},\"type\":\"scatterpolargl\"}],\"scatterpolar\":[{\"marker\":{\"colorbar\":{\"outlinewidth\":0,\"ticks\":\"\"}},\"type\":\"scatterpolar\"}],\"scatter\":[{\"fillpattern\":{\"fillmode\":\"overlay\",\"size\":10,\"solidity\":0.2},\"type\":\"scatter\"}],\"scatterternary\":[{\"marker\":{\"colorbar\":{\"outlinewidth\":0,\"ticks\":\"\"}},\"type\":\"scatterternary\"}],\"surface\":[{\"colorbar\":{\"outlinewidth\":0,\"ticks\":\"\"},\"colorscale\":[[0.0,\"#0d0887\"],[0.1111111111111111,\"#46039f\"],[0.2222222222222222,\"#7201a8\"],[0.3333333333333333,\"#9c179e\"],[0.4444444444444444,\"#bd3786\"],[0.5555555555555556,\"#d8576b\"],[0.6666666666666666,\"#ed7953\"],[0.7777777777777778,\"#fb9f3a\"],[0.8888888888888888,\"#fdca26\"],[1.0,\"#f0f921\"]],\"type\":\"surface\"}],\"table\":[{\"cells\":{\"fill\":{\"color\":\"#EBF0F8\"},\"line\":{\"color\":\"white\"}},\"header\":{\"fill\":{\"color\":\"#C8D4E3\"},\"line\":{\"color\":\"white\"}},\"type\":\"table\"}]},\"layout\":{\"annotationdefaults\":{\"arrowcolor\":\"#2a3f5f\",\"arrowhead\":0,\"arrowwidth\":1},\"autotypenumbers\":\"strict\",\"coloraxis\":{\"colorbar\":{\"outlinewidth\":0,\"ticks\":\"\"}},\"colorscale\":{\"diverging\":[[0,\"#8e0152\"],[0.1,\"#c51b7d\"],[0.2,\"#de77ae\"],[0.3,\"#f1b6da\"],[0.4,\"#fde0ef\"],[0.5,\"#f7f7f7\"],[0.6,\"#e6f5d0\"],[0.7,\"#b8e186\"],[0.8,\"#7fbc41\"],[0.9,\"#4d9221\"],[1,\"#276419\"]],\"sequential\":[[0.0,\"#0d0887\"],[0.1111111111111111,\"#46039f\"],[0.2222222222222222,\"#7201a8\"],[0.3333333333333333,\"#9c179e\"],[0.4444444444444444,\"#bd3786\"],[0.5555555555555556,\"#d8576b\"],[0.6666666666666666,\"#ed7953\"],[0.7777777777777778,\"#fb9f3a\"],[0.8888888888888888,\"#fdca26\"],[1.0,\"#f0f921\"]],\"sequentialminus\":[[0.0,\"#0d0887\"],[0.1111111111111111,\"#46039f\"],[0.2222222222222222,\"#7201a8\"],[0.3333333333333333,\"#9c179e\"],[0.4444444444444444,\"#bd3786\"],[0.5555555555555556,\"#d8576b\"],[0.6666666666666666,\"#ed7953\"],[0.7777777777777778,\"#fb9f3a\"],[0.8888888888888888,\"#fdca26\"],[1.0,\"#f0f921\"]]},\"colorway\":[\"#636efa\",\"#EF553B\",\"#00cc96\",\"#ab63fa\",\"#FFA15A\",\"#19d3f3\",\"#FF6692\",\"#B6E880\",\"#FF97FF\",\"#FECB52\"],\"font\":{\"color\":\"#2a3f5f\"},\"geo\":{\"bgcolor\":\"white\",\"lakecolor\":\"white\",\"landcolor\":\"#E5ECF6\",\"showlakes\":true,\"showland\":true,\"subunitcolor\":\"white\"},\"hoverlabel\":{\"align\":\"left\"},\"hovermode\":\"closest\",\"mapbox\":{\"style\":\"light\"},\"paper_bgcolor\":\"white\",\"plot_bgcolor\":\"#E5ECF6\",\"polar\":{\"angularaxis\":{\"gridcolor\":\"white\",\"linecolor\":\"white\",\"ticks\":\"\"},\"bgcolor\":\"#E5ECF6\",\"radialaxis\":{\"gridcolor\":\"white\",\"linecolor\":\"white\",\"ticks\":\"\"}},\"scene\":{\"xaxis\":{\"backgroundcolor\":\"#E5ECF6\",\"gridcolor\":\"white\",\"gridwidth\":2,\"linecolor\":\"white\",\"showbackground\":true,\"ticks\":\"\",\"zerolinecolor\":\"white\"},\"yaxis\":{\"backgroundcolor\":\"#E5ECF6\",\"gridcolor\":\"white\",\"gridwidth\":2,\"linecolor\":\"white\",\"showbackground\":true,\"ticks\":\"\",\"zerolinecolor\":\"white\"},\"zaxis\":{\"backgroundcolor\":\"#E5ECF6\",\"gridcolor\":\"white\",\"gridwidth\":2,\"linecolor\":\"white\",\"showbackground\":true,\"ticks\":\"\",\"zerolinecolor\":\"white\"}},\"shapedefaults\":{\"line\":{\"color\":\"#2a3f5f\"}},\"ternary\":{\"aaxis\":{\"gridcolor\":\"white\",\"linecolor\":\"white\",\"ticks\":\"\"},\"baxis\":{\"gridcolor\":\"white\",\"linecolor\":\"white\",\"ticks\":\"\"},\"bgcolor\":\"#E5ECF6\",\"caxis\":{\"gridcolor\":\"white\",\"linecolor\":\"white\",\"ticks\":\"\"}},\"title\":{\"x\":0.05},\"xaxis\":{\"automargin\":true,\"gridcolor\":\"white\",\"linecolor\":\"white\",\"ticks\":\"\",\"title\":{\"standoff\":15},\"zerolinecolor\":\"white\",\"zerolinewidth\":2},\"yaxis\":{\"automargin\":true,\"gridcolor\":\"white\",\"linecolor\":\"white\",\"ticks\":\"\",\"title\":{\"standoff\":15},\"zerolinecolor\":\"white\",\"zerolinewidth\":2}}},\"title\":{\"font\":{\"color\":\"#4D5663\"}},\"xaxis\":{\"gridcolor\":\"#E1E5ED\",\"showgrid\":true,\"tickfont\":{\"color\":\"#4D5663\"},\"title\":{\"font\":{\"color\":\"#4D5663\"},\"text\":\"\"},\"zerolinecolor\":\"#E1E5ED\"},\"yaxis\":{\"gridcolor\":\"#E1E5ED\",\"showgrid\":true,\"tickfont\":{\"color\":\"#4D5663\"},\"title\":{\"font\":{\"color\":\"#4D5663\"},\"text\":\"\"},\"zerolinecolor\":\"#E1E5ED\"}},                        {\"showLink\": true, \"linkText\": \"Export to plot.ly\", \"plotlyServerURL\": \"https://plot.ly\", \"responsive\": true}                    ).then(function(){\n",
       "                            \n",
       "var gd = document.getElementById('f82668be-31fd-469b-8295-06d9b5a6e8c5');\n",
       "var x = new MutationObserver(function (mutations, observer) {{\n",
       "        var display = window.getComputedStyle(gd).display;\n",
       "        if (!display || display === 'none') {{\n",
       "            console.log([gd, 'removed!']);\n",
       "            Plotly.purge(gd);\n",
       "            observer.disconnect();\n",
       "        }}\n",
       "}});\n",
       "\n",
       "// Listen for the removal of the full notebook cells\n",
       "var notebookContainer = gd.closest('#notebook-container');\n",
       "if (notebookContainer) {{\n",
       "    x.observe(notebookContainer, {childList: true});\n",
       "}}\n",
       "\n",
       "// Listen for the clearing of the current output cell\n",
       "var outputEl = gd.closest('.output');\n",
       "if (outputEl) {{\n",
       "    x.observe(outputEl, {childList: true});\n",
       "}}\n",
       "\n",
       "                        })                };                });            </script>        </div>"
      ]
     },
     "metadata": {},
     "output_type": "display_data"
    }
   ],
   "source": [
    "df2.iplot(kind='bar',x='Category',y='Values')"
   ]
  },
  {
   "cell_type": "code",
   "execution_count": 10,
   "metadata": {},
   "outputs": [
    {
     "data": {
      "application/vnd.plotly.v1+json": {
       "config": {
        "linkText": "Export to plot.ly",
        "plotlyServerURL": "https://plot.ly",
        "showLink": true
       },
       "data": [
        {
         "marker": {
          "color": "rgba(255, 153, 51, 0.6)",
          "line": {
           "color": "rgba(255, 153, 51, 1.0)",
           "width": 1
          }
         },
         "name": "None",
         "orientation": "v",
         "text": "",
         "type": "bar",
         "x": [
          "A",
          "B",
          "C",
          "D"
         ],
         "y": [
          100,
          100,
          100,
          100
         ]
        }
       ],
       "layout": {
        "legend": {
         "bgcolor": "#F5F6F9",
         "font": {
          "color": "#4D5663"
         }
        },
        "paper_bgcolor": "#F5F6F9",
        "plot_bgcolor": "#F5F6F9",
        "template": {
         "data": {
          "bar": [
           {
            "error_x": {
             "color": "#2a3f5f"
            },
            "error_y": {
             "color": "#2a3f5f"
            },
            "marker": {
             "line": {
              "color": "#E5ECF6",
              "width": 0.5
             },
             "pattern": {
              "fillmode": "overlay",
              "size": 10,
              "solidity": 0.2
             }
            },
            "type": "bar"
           }
          ],
          "barpolar": [
           {
            "marker": {
             "line": {
              "color": "#E5ECF6",
              "width": 0.5
             },
             "pattern": {
              "fillmode": "overlay",
              "size": 10,
              "solidity": 0.2
             }
            },
            "type": "barpolar"
           }
          ],
          "carpet": [
           {
            "aaxis": {
             "endlinecolor": "#2a3f5f",
             "gridcolor": "white",
             "linecolor": "white",
             "minorgridcolor": "white",
             "startlinecolor": "#2a3f5f"
            },
            "baxis": {
             "endlinecolor": "#2a3f5f",
             "gridcolor": "white",
             "linecolor": "white",
             "minorgridcolor": "white",
             "startlinecolor": "#2a3f5f"
            },
            "type": "carpet"
           }
          ],
          "choropleth": [
           {
            "colorbar": {
             "outlinewidth": 0,
             "ticks": ""
            },
            "type": "choropleth"
           }
          ],
          "contour": [
           {
            "colorbar": {
             "outlinewidth": 0,
             "ticks": ""
            },
            "colorscale": [
             [
              0,
              "#0d0887"
             ],
             [
              0.1111111111111111,
              "#46039f"
             ],
             [
              0.2222222222222222,
              "#7201a8"
             ],
             [
              0.3333333333333333,
              "#9c179e"
             ],
             [
              0.4444444444444444,
              "#bd3786"
             ],
             [
              0.5555555555555556,
              "#d8576b"
             ],
             [
              0.6666666666666666,
              "#ed7953"
             ],
             [
              0.7777777777777778,
              "#fb9f3a"
             ],
             [
              0.8888888888888888,
              "#fdca26"
             ],
             [
              1,
              "#f0f921"
             ]
            ],
            "type": "contour"
           }
          ],
          "contourcarpet": [
           {
            "colorbar": {
             "outlinewidth": 0,
             "ticks": ""
            },
            "type": "contourcarpet"
           }
          ],
          "heatmap": [
           {
            "colorbar": {
             "outlinewidth": 0,
             "ticks": ""
            },
            "colorscale": [
             [
              0,
              "#0d0887"
             ],
             [
              0.1111111111111111,
              "#46039f"
             ],
             [
              0.2222222222222222,
              "#7201a8"
             ],
             [
              0.3333333333333333,
              "#9c179e"
             ],
             [
              0.4444444444444444,
              "#bd3786"
             ],
             [
              0.5555555555555556,
              "#d8576b"
             ],
             [
              0.6666666666666666,
              "#ed7953"
             ],
             [
              0.7777777777777778,
              "#fb9f3a"
             ],
             [
              0.8888888888888888,
              "#fdca26"
             ],
             [
              1,
              "#f0f921"
             ]
            ],
            "type": "heatmap"
           }
          ],
          "heatmapgl": [
           {
            "colorbar": {
             "outlinewidth": 0,
             "ticks": ""
            },
            "colorscale": [
             [
              0,
              "#0d0887"
             ],
             [
              0.1111111111111111,
              "#46039f"
             ],
             [
              0.2222222222222222,
              "#7201a8"
             ],
             [
              0.3333333333333333,
              "#9c179e"
             ],
             [
              0.4444444444444444,
              "#bd3786"
             ],
             [
              0.5555555555555556,
              "#d8576b"
             ],
             [
              0.6666666666666666,
              "#ed7953"
             ],
             [
              0.7777777777777778,
              "#fb9f3a"
             ],
             [
              0.8888888888888888,
              "#fdca26"
             ],
             [
              1,
              "#f0f921"
             ]
            ],
            "type": "heatmapgl"
           }
          ],
          "histogram": [
           {
            "marker": {
             "pattern": {
              "fillmode": "overlay",
              "size": 10,
              "solidity": 0.2
             }
            },
            "type": "histogram"
           }
          ],
          "histogram2d": [
           {
            "colorbar": {
             "outlinewidth": 0,
             "ticks": ""
            },
            "colorscale": [
             [
              0,
              "#0d0887"
             ],
             [
              0.1111111111111111,
              "#46039f"
             ],
             [
              0.2222222222222222,
              "#7201a8"
             ],
             [
              0.3333333333333333,
              "#9c179e"
             ],
             [
              0.4444444444444444,
              "#bd3786"
             ],
             [
              0.5555555555555556,
              "#d8576b"
             ],
             [
              0.6666666666666666,
              "#ed7953"
             ],
             [
              0.7777777777777778,
              "#fb9f3a"
             ],
             [
              0.8888888888888888,
              "#fdca26"
             ],
             [
              1,
              "#f0f921"
             ]
            ],
            "type": "histogram2d"
           }
          ],
          "histogram2dcontour": [
           {
            "colorbar": {
             "outlinewidth": 0,
             "ticks": ""
            },
            "colorscale": [
             [
              0,
              "#0d0887"
             ],
             [
              0.1111111111111111,
              "#46039f"
             ],
             [
              0.2222222222222222,
              "#7201a8"
             ],
             [
              0.3333333333333333,
              "#9c179e"
             ],
             [
              0.4444444444444444,
              "#bd3786"
             ],
             [
              0.5555555555555556,
              "#d8576b"
             ],
             [
              0.6666666666666666,
              "#ed7953"
             ],
             [
              0.7777777777777778,
              "#fb9f3a"
             ],
             [
              0.8888888888888888,
              "#fdca26"
             ],
             [
              1,
              "#f0f921"
             ]
            ],
            "type": "histogram2dcontour"
           }
          ],
          "mesh3d": [
           {
            "colorbar": {
             "outlinewidth": 0,
             "ticks": ""
            },
            "type": "mesh3d"
           }
          ],
          "parcoords": [
           {
            "line": {
             "colorbar": {
              "outlinewidth": 0,
              "ticks": ""
             }
            },
            "type": "parcoords"
           }
          ],
          "pie": [
           {
            "automargin": true,
            "type": "pie"
           }
          ],
          "scatter": [
           {
            "fillpattern": {
             "fillmode": "overlay",
             "size": 10,
             "solidity": 0.2
            },
            "type": "scatter"
           }
          ],
          "scatter3d": [
           {
            "line": {
             "colorbar": {
              "outlinewidth": 0,
              "ticks": ""
             }
            },
            "marker": {
             "colorbar": {
              "outlinewidth": 0,
              "ticks": ""
             }
            },
            "type": "scatter3d"
           }
          ],
          "scattercarpet": [
           {
            "marker": {
             "colorbar": {
              "outlinewidth": 0,
              "ticks": ""
             }
            },
            "type": "scattercarpet"
           }
          ],
          "scattergeo": [
           {
            "marker": {
             "colorbar": {
              "outlinewidth": 0,
              "ticks": ""
             }
            },
            "type": "scattergeo"
           }
          ],
          "scattergl": [
           {
            "marker": {
             "colorbar": {
              "outlinewidth": 0,
              "ticks": ""
             }
            },
            "type": "scattergl"
           }
          ],
          "scattermapbox": [
           {
            "marker": {
             "colorbar": {
              "outlinewidth": 0,
              "ticks": ""
             }
            },
            "type": "scattermapbox"
           }
          ],
          "scatterpolar": [
           {
            "marker": {
             "colorbar": {
              "outlinewidth": 0,
              "ticks": ""
             }
            },
            "type": "scatterpolar"
           }
          ],
          "scatterpolargl": [
           {
            "marker": {
             "colorbar": {
              "outlinewidth": 0,
              "ticks": ""
             }
            },
            "type": "scatterpolargl"
           }
          ],
          "scatterternary": [
           {
            "marker": {
             "colorbar": {
              "outlinewidth": 0,
              "ticks": ""
             }
            },
            "type": "scatterternary"
           }
          ],
          "surface": [
           {
            "colorbar": {
             "outlinewidth": 0,
             "ticks": ""
            },
            "colorscale": [
             [
              0,
              "#0d0887"
             ],
             [
              0.1111111111111111,
              "#46039f"
             ],
             [
              0.2222222222222222,
              "#7201a8"
             ],
             [
              0.3333333333333333,
              "#9c179e"
             ],
             [
              0.4444444444444444,
              "#bd3786"
             ],
             [
              0.5555555555555556,
              "#d8576b"
             ],
             [
              0.6666666666666666,
              "#ed7953"
             ],
             [
              0.7777777777777778,
              "#fb9f3a"
             ],
             [
              0.8888888888888888,
              "#fdca26"
             ],
             [
              1,
              "#f0f921"
             ]
            ],
            "type": "surface"
           }
          ],
          "table": [
           {
            "cells": {
             "fill": {
              "color": "#EBF0F8"
             },
             "line": {
              "color": "white"
             }
            },
            "header": {
             "fill": {
              "color": "#C8D4E3"
             },
             "line": {
              "color": "white"
             }
            },
            "type": "table"
           }
          ]
         },
         "layout": {
          "annotationdefaults": {
           "arrowcolor": "#2a3f5f",
           "arrowhead": 0,
           "arrowwidth": 1
          },
          "autotypenumbers": "strict",
          "coloraxis": {
           "colorbar": {
            "outlinewidth": 0,
            "ticks": ""
           }
          },
          "colorscale": {
           "diverging": [
            [
             0,
             "#8e0152"
            ],
            [
             0.1,
             "#c51b7d"
            ],
            [
             0.2,
             "#de77ae"
            ],
            [
             0.3,
             "#f1b6da"
            ],
            [
             0.4,
             "#fde0ef"
            ],
            [
             0.5,
             "#f7f7f7"
            ],
            [
             0.6,
             "#e6f5d0"
            ],
            [
             0.7,
             "#b8e186"
            ],
            [
             0.8,
             "#7fbc41"
            ],
            [
             0.9,
             "#4d9221"
            ],
            [
             1,
             "#276419"
            ]
           ],
           "sequential": [
            [
             0,
             "#0d0887"
            ],
            [
             0.1111111111111111,
             "#46039f"
            ],
            [
             0.2222222222222222,
             "#7201a8"
            ],
            [
             0.3333333333333333,
             "#9c179e"
            ],
            [
             0.4444444444444444,
             "#bd3786"
            ],
            [
             0.5555555555555556,
             "#d8576b"
            ],
            [
             0.6666666666666666,
             "#ed7953"
            ],
            [
             0.7777777777777778,
             "#fb9f3a"
            ],
            [
             0.8888888888888888,
             "#fdca26"
            ],
            [
             1,
             "#f0f921"
            ]
           ],
           "sequentialminus": [
            [
             0,
             "#0d0887"
            ],
            [
             0.1111111111111111,
             "#46039f"
            ],
            [
             0.2222222222222222,
             "#7201a8"
            ],
            [
             0.3333333333333333,
             "#9c179e"
            ],
            [
             0.4444444444444444,
             "#bd3786"
            ],
            [
             0.5555555555555556,
             "#d8576b"
            ],
            [
             0.6666666666666666,
             "#ed7953"
            ],
            [
             0.7777777777777778,
             "#fb9f3a"
            ],
            [
             0.8888888888888888,
             "#fdca26"
            ],
            [
             1,
             "#f0f921"
            ]
           ]
          },
          "colorway": [
           "#636efa",
           "#EF553B",
           "#00cc96",
           "#ab63fa",
           "#FFA15A",
           "#19d3f3",
           "#FF6692",
           "#B6E880",
           "#FF97FF",
           "#FECB52"
          ],
          "font": {
           "color": "#2a3f5f"
          },
          "geo": {
           "bgcolor": "white",
           "lakecolor": "white",
           "landcolor": "#E5ECF6",
           "showlakes": true,
           "showland": true,
           "subunitcolor": "white"
          },
          "hoverlabel": {
           "align": "left"
          },
          "hovermode": "closest",
          "mapbox": {
           "style": "light"
          },
          "paper_bgcolor": "white",
          "plot_bgcolor": "#E5ECF6",
          "polar": {
           "angularaxis": {
            "gridcolor": "white",
            "linecolor": "white",
            "ticks": ""
           },
           "bgcolor": "#E5ECF6",
           "radialaxis": {
            "gridcolor": "white",
            "linecolor": "white",
            "ticks": ""
           }
          },
          "scene": {
           "xaxis": {
            "backgroundcolor": "#E5ECF6",
            "gridcolor": "white",
            "gridwidth": 2,
            "linecolor": "white",
            "showbackground": true,
            "ticks": "",
            "zerolinecolor": "white"
           },
           "yaxis": {
            "backgroundcolor": "#E5ECF6",
            "gridcolor": "white",
            "gridwidth": 2,
            "linecolor": "white",
            "showbackground": true,
            "ticks": "",
            "zerolinecolor": "white"
           },
           "zaxis": {
            "backgroundcolor": "#E5ECF6",
            "gridcolor": "white",
            "gridwidth": 2,
            "linecolor": "white",
            "showbackground": true,
            "ticks": "",
            "zerolinecolor": "white"
           }
          },
          "shapedefaults": {
           "line": {
            "color": "#2a3f5f"
           }
          },
          "ternary": {
           "aaxis": {
            "gridcolor": "white",
            "linecolor": "white",
            "ticks": ""
           },
           "baxis": {
            "gridcolor": "white",
            "linecolor": "white",
            "ticks": ""
           },
           "bgcolor": "#E5ECF6",
           "caxis": {
            "gridcolor": "white",
            "linecolor": "white",
            "ticks": ""
           }
          },
          "title": {
           "x": 0.05
          },
          "xaxis": {
           "automargin": true,
           "gridcolor": "white",
           "linecolor": "white",
           "ticks": "",
           "title": {
            "standoff": 15
           },
           "zerolinecolor": "white",
           "zerolinewidth": 2
          },
          "yaxis": {
           "automargin": true,
           "gridcolor": "white",
           "linecolor": "white",
           "ticks": "",
           "title": {
            "standoff": 15
           },
           "zerolinecolor": "white",
           "zerolinewidth": 2
          }
         }
        },
        "title": {
         "font": {
          "color": "#4D5663"
         }
        },
        "xaxis": {
         "gridcolor": "#E1E5ED",
         "showgrid": true,
         "tickfont": {
          "color": "#4D5663"
         },
         "title": {
          "font": {
           "color": "#4D5663"
          },
          "text": ""
         },
         "zerolinecolor": "#E1E5ED"
        },
        "yaxis": {
         "gridcolor": "#E1E5ED",
         "showgrid": true,
         "tickfont": {
          "color": "#4D5663"
         },
         "title": {
          "font": {
           "color": "#4D5663"
          },
          "text": ""
         },
         "zerolinecolor": "#E1E5ED"
        }
       }
      },
      "text/html": [
       "<div>                            <div id=\"ce4cbac0-db7c-4ac6-9202-22c154fb8350\" class=\"plotly-graph-div\" style=\"height:525px; width:100%;\"></div>            <script type=\"text/javascript\">                require([\"plotly\"], function(Plotly) {                    window.PLOTLYENV=window.PLOTLYENV || {};\n",
       "                    window.PLOTLYENV.BASE_URL='https://plot.ly';                                    if (document.getElementById(\"ce4cbac0-db7c-4ac6-9202-22c154fb8350\")) {                    Plotly.newPlot(                        \"ce4cbac0-db7c-4ac6-9202-22c154fb8350\",                        [{\"marker\":{\"color\":\"rgba(255, 153, 51, 0.6)\",\"line\":{\"color\":\"rgba(255, 153, 51, 1.0)\",\"width\":1}},\"name\":\"None\",\"orientation\":\"v\",\"text\":\"\",\"x\":[\"A\",\"B\",\"C\",\"D\"],\"y\":[100,100,100,100],\"type\":\"bar\"}],                        {\"legend\":{\"bgcolor\":\"#F5F6F9\",\"font\":{\"color\":\"#4D5663\"}},\"paper_bgcolor\":\"#F5F6F9\",\"plot_bgcolor\":\"#F5F6F9\",\"template\":{\"data\":{\"barpolar\":[{\"marker\":{\"line\":{\"color\":\"#E5ECF6\",\"width\":0.5},\"pattern\":{\"fillmode\":\"overlay\",\"size\":10,\"solidity\":0.2}},\"type\":\"barpolar\"}],\"bar\":[{\"error_x\":{\"color\":\"#2a3f5f\"},\"error_y\":{\"color\":\"#2a3f5f\"},\"marker\":{\"line\":{\"color\":\"#E5ECF6\",\"width\":0.5},\"pattern\":{\"fillmode\":\"overlay\",\"size\":10,\"solidity\":0.2}},\"type\":\"bar\"}],\"carpet\":[{\"aaxis\":{\"endlinecolor\":\"#2a3f5f\",\"gridcolor\":\"white\",\"linecolor\":\"white\",\"minorgridcolor\":\"white\",\"startlinecolor\":\"#2a3f5f\"},\"baxis\":{\"endlinecolor\":\"#2a3f5f\",\"gridcolor\":\"white\",\"linecolor\":\"white\",\"minorgridcolor\":\"white\",\"startlinecolor\":\"#2a3f5f\"},\"type\":\"carpet\"}],\"choropleth\":[{\"colorbar\":{\"outlinewidth\":0,\"ticks\":\"\"},\"type\":\"choropleth\"}],\"contourcarpet\":[{\"colorbar\":{\"outlinewidth\":0,\"ticks\":\"\"},\"type\":\"contourcarpet\"}],\"contour\":[{\"colorbar\":{\"outlinewidth\":0,\"ticks\":\"\"},\"colorscale\":[[0.0,\"#0d0887\"],[0.1111111111111111,\"#46039f\"],[0.2222222222222222,\"#7201a8\"],[0.3333333333333333,\"#9c179e\"],[0.4444444444444444,\"#bd3786\"],[0.5555555555555556,\"#d8576b\"],[0.6666666666666666,\"#ed7953\"],[0.7777777777777778,\"#fb9f3a\"],[0.8888888888888888,\"#fdca26\"],[1.0,\"#f0f921\"]],\"type\":\"contour\"}],\"heatmapgl\":[{\"colorbar\":{\"outlinewidth\":0,\"ticks\":\"\"},\"colorscale\":[[0.0,\"#0d0887\"],[0.1111111111111111,\"#46039f\"],[0.2222222222222222,\"#7201a8\"],[0.3333333333333333,\"#9c179e\"],[0.4444444444444444,\"#bd3786\"],[0.5555555555555556,\"#d8576b\"],[0.6666666666666666,\"#ed7953\"],[0.7777777777777778,\"#fb9f3a\"],[0.8888888888888888,\"#fdca26\"],[1.0,\"#f0f921\"]],\"type\":\"heatmapgl\"}],\"heatmap\":[{\"colorbar\":{\"outlinewidth\":0,\"ticks\":\"\"},\"colorscale\":[[0.0,\"#0d0887\"],[0.1111111111111111,\"#46039f\"],[0.2222222222222222,\"#7201a8\"],[0.3333333333333333,\"#9c179e\"],[0.4444444444444444,\"#bd3786\"],[0.5555555555555556,\"#d8576b\"],[0.6666666666666666,\"#ed7953\"],[0.7777777777777778,\"#fb9f3a\"],[0.8888888888888888,\"#fdca26\"],[1.0,\"#f0f921\"]],\"type\":\"heatmap\"}],\"histogram2dcontour\":[{\"colorbar\":{\"outlinewidth\":0,\"ticks\":\"\"},\"colorscale\":[[0.0,\"#0d0887\"],[0.1111111111111111,\"#46039f\"],[0.2222222222222222,\"#7201a8\"],[0.3333333333333333,\"#9c179e\"],[0.4444444444444444,\"#bd3786\"],[0.5555555555555556,\"#d8576b\"],[0.6666666666666666,\"#ed7953\"],[0.7777777777777778,\"#fb9f3a\"],[0.8888888888888888,\"#fdca26\"],[1.0,\"#f0f921\"]],\"type\":\"histogram2dcontour\"}],\"histogram2d\":[{\"colorbar\":{\"outlinewidth\":0,\"ticks\":\"\"},\"colorscale\":[[0.0,\"#0d0887\"],[0.1111111111111111,\"#46039f\"],[0.2222222222222222,\"#7201a8\"],[0.3333333333333333,\"#9c179e\"],[0.4444444444444444,\"#bd3786\"],[0.5555555555555556,\"#d8576b\"],[0.6666666666666666,\"#ed7953\"],[0.7777777777777778,\"#fb9f3a\"],[0.8888888888888888,\"#fdca26\"],[1.0,\"#f0f921\"]],\"type\":\"histogram2d\"}],\"histogram\":[{\"marker\":{\"pattern\":{\"fillmode\":\"overlay\",\"size\":10,\"solidity\":0.2}},\"type\":\"histogram\"}],\"mesh3d\":[{\"colorbar\":{\"outlinewidth\":0,\"ticks\":\"\"},\"type\":\"mesh3d\"}],\"parcoords\":[{\"line\":{\"colorbar\":{\"outlinewidth\":0,\"ticks\":\"\"}},\"type\":\"parcoords\"}],\"pie\":[{\"automargin\":true,\"type\":\"pie\"}],\"scatter3d\":[{\"line\":{\"colorbar\":{\"outlinewidth\":0,\"ticks\":\"\"}},\"marker\":{\"colorbar\":{\"outlinewidth\":0,\"ticks\":\"\"}},\"type\":\"scatter3d\"}],\"scattercarpet\":[{\"marker\":{\"colorbar\":{\"outlinewidth\":0,\"ticks\":\"\"}},\"type\":\"scattercarpet\"}],\"scattergeo\":[{\"marker\":{\"colorbar\":{\"outlinewidth\":0,\"ticks\":\"\"}},\"type\":\"scattergeo\"}],\"scattergl\":[{\"marker\":{\"colorbar\":{\"outlinewidth\":0,\"ticks\":\"\"}},\"type\":\"scattergl\"}],\"scattermapbox\":[{\"marker\":{\"colorbar\":{\"outlinewidth\":0,\"ticks\":\"\"}},\"type\":\"scattermapbox\"}],\"scatterpolargl\":[{\"marker\":{\"colorbar\":{\"outlinewidth\":0,\"ticks\":\"\"}},\"type\":\"scatterpolargl\"}],\"scatterpolar\":[{\"marker\":{\"colorbar\":{\"outlinewidth\":0,\"ticks\":\"\"}},\"type\":\"scatterpolar\"}],\"scatter\":[{\"fillpattern\":{\"fillmode\":\"overlay\",\"size\":10,\"solidity\":0.2},\"type\":\"scatter\"}],\"scatterternary\":[{\"marker\":{\"colorbar\":{\"outlinewidth\":0,\"ticks\":\"\"}},\"type\":\"scatterternary\"}],\"surface\":[{\"colorbar\":{\"outlinewidth\":0,\"ticks\":\"\"},\"colorscale\":[[0.0,\"#0d0887\"],[0.1111111111111111,\"#46039f\"],[0.2222222222222222,\"#7201a8\"],[0.3333333333333333,\"#9c179e\"],[0.4444444444444444,\"#bd3786\"],[0.5555555555555556,\"#d8576b\"],[0.6666666666666666,\"#ed7953\"],[0.7777777777777778,\"#fb9f3a\"],[0.8888888888888888,\"#fdca26\"],[1.0,\"#f0f921\"]],\"type\":\"surface\"}],\"table\":[{\"cells\":{\"fill\":{\"color\":\"#EBF0F8\"},\"line\":{\"color\":\"white\"}},\"header\":{\"fill\":{\"color\":\"#C8D4E3\"},\"line\":{\"color\":\"white\"}},\"type\":\"table\"}]},\"layout\":{\"annotationdefaults\":{\"arrowcolor\":\"#2a3f5f\",\"arrowhead\":0,\"arrowwidth\":1},\"autotypenumbers\":\"strict\",\"coloraxis\":{\"colorbar\":{\"outlinewidth\":0,\"ticks\":\"\"}},\"colorscale\":{\"diverging\":[[0,\"#8e0152\"],[0.1,\"#c51b7d\"],[0.2,\"#de77ae\"],[0.3,\"#f1b6da\"],[0.4,\"#fde0ef\"],[0.5,\"#f7f7f7\"],[0.6,\"#e6f5d0\"],[0.7,\"#b8e186\"],[0.8,\"#7fbc41\"],[0.9,\"#4d9221\"],[1,\"#276419\"]],\"sequential\":[[0.0,\"#0d0887\"],[0.1111111111111111,\"#46039f\"],[0.2222222222222222,\"#7201a8\"],[0.3333333333333333,\"#9c179e\"],[0.4444444444444444,\"#bd3786\"],[0.5555555555555556,\"#d8576b\"],[0.6666666666666666,\"#ed7953\"],[0.7777777777777778,\"#fb9f3a\"],[0.8888888888888888,\"#fdca26\"],[1.0,\"#f0f921\"]],\"sequentialminus\":[[0.0,\"#0d0887\"],[0.1111111111111111,\"#46039f\"],[0.2222222222222222,\"#7201a8\"],[0.3333333333333333,\"#9c179e\"],[0.4444444444444444,\"#bd3786\"],[0.5555555555555556,\"#d8576b\"],[0.6666666666666666,\"#ed7953\"],[0.7777777777777778,\"#fb9f3a\"],[0.8888888888888888,\"#fdca26\"],[1.0,\"#f0f921\"]]},\"colorway\":[\"#636efa\",\"#EF553B\",\"#00cc96\",\"#ab63fa\",\"#FFA15A\",\"#19d3f3\",\"#FF6692\",\"#B6E880\",\"#FF97FF\",\"#FECB52\"],\"font\":{\"color\":\"#2a3f5f\"},\"geo\":{\"bgcolor\":\"white\",\"lakecolor\":\"white\",\"landcolor\":\"#E5ECF6\",\"showlakes\":true,\"showland\":true,\"subunitcolor\":\"white\"},\"hoverlabel\":{\"align\":\"left\"},\"hovermode\":\"closest\",\"mapbox\":{\"style\":\"light\"},\"paper_bgcolor\":\"white\",\"plot_bgcolor\":\"#E5ECF6\",\"polar\":{\"angularaxis\":{\"gridcolor\":\"white\",\"linecolor\":\"white\",\"ticks\":\"\"},\"bgcolor\":\"#E5ECF6\",\"radialaxis\":{\"gridcolor\":\"white\",\"linecolor\":\"white\",\"ticks\":\"\"}},\"scene\":{\"xaxis\":{\"backgroundcolor\":\"#E5ECF6\",\"gridcolor\":\"white\",\"gridwidth\":2,\"linecolor\":\"white\",\"showbackground\":true,\"ticks\":\"\",\"zerolinecolor\":\"white\"},\"yaxis\":{\"backgroundcolor\":\"#E5ECF6\",\"gridcolor\":\"white\",\"gridwidth\":2,\"linecolor\":\"white\",\"showbackground\":true,\"ticks\":\"\",\"zerolinecolor\":\"white\"},\"zaxis\":{\"backgroundcolor\":\"#E5ECF6\",\"gridcolor\":\"white\",\"gridwidth\":2,\"linecolor\":\"white\",\"showbackground\":true,\"ticks\":\"\",\"zerolinecolor\":\"white\"}},\"shapedefaults\":{\"line\":{\"color\":\"#2a3f5f\"}},\"ternary\":{\"aaxis\":{\"gridcolor\":\"white\",\"linecolor\":\"white\",\"ticks\":\"\"},\"baxis\":{\"gridcolor\":\"white\",\"linecolor\":\"white\",\"ticks\":\"\"},\"bgcolor\":\"#E5ECF6\",\"caxis\":{\"gridcolor\":\"white\",\"linecolor\":\"white\",\"ticks\":\"\"}},\"title\":{\"x\":0.05},\"xaxis\":{\"automargin\":true,\"gridcolor\":\"white\",\"linecolor\":\"white\",\"ticks\":\"\",\"title\":{\"standoff\":15},\"zerolinecolor\":\"white\",\"zerolinewidth\":2},\"yaxis\":{\"automargin\":true,\"gridcolor\":\"white\",\"linecolor\":\"white\",\"ticks\":\"\",\"title\":{\"standoff\":15},\"zerolinecolor\":\"white\",\"zerolinewidth\":2}}},\"title\":{\"font\":{\"color\":\"#4D5663\"}},\"xaxis\":{\"gridcolor\":\"#E1E5ED\",\"showgrid\":true,\"tickfont\":{\"color\":\"#4D5663\"},\"title\":{\"font\":{\"color\":\"#4D5663\"},\"text\":\"\"},\"zerolinecolor\":\"#E1E5ED\"},\"yaxis\":{\"gridcolor\":\"#E1E5ED\",\"showgrid\":true,\"tickfont\":{\"color\":\"#4D5663\"},\"title\":{\"font\":{\"color\":\"#4D5663\"},\"text\":\"\"},\"zerolinecolor\":\"#E1E5ED\"}},                        {\"showLink\": true, \"linkText\": \"Export to plot.ly\", \"plotlyServerURL\": \"https://plot.ly\", \"responsive\": true}                    ).then(function(){\n",
       "                            \n",
       "var gd = document.getElementById('ce4cbac0-db7c-4ac6-9202-22c154fb8350');\n",
       "var x = new MutationObserver(function (mutations, observer) {{\n",
       "        var display = window.getComputedStyle(gd).display;\n",
       "        if (!display || display === 'none') {{\n",
       "            console.log([gd, 'removed!']);\n",
       "            Plotly.purge(gd);\n",
       "            observer.disconnect();\n",
       "        }}\n",
       "}});\n",
       "\n",
       "// Listen for the removal of the full notebook cells\n",
       "var notebookContainer = gd.closest('#notebook-container');\n",
       "if (notebookContainer) {{\n",
       "    x.observe(notebookContainer, {childList: true});\n",
       "}}\n",
       "\n",
       "// Listen for the clearing of the current output cell\n",
       "var outputEl = gd.closest('.output');\n",
       "if (outputEl) {{\n",
       "    x.observe(outputEl, {childList: true});\n",
       "}}\n",
       "\n",
       "                        })                };                });            </script>        </div>"
      ]
     },
     "metadata": {},
     "output_type": "display_data"
    }
   ],
   "source": [
    "df1.count().iplot(kind='bar')"
   ]
  },
  {
   "cell_type": "markdown",
   "metadata": {},
   "source": [
    "### iii. Boxplots"
   ]
  },
  {
   "cell_type": "code",
   "execution_count": 11,
   "metadata": {},
   "outputs": [
    {
     "data": {
      "application/vnd.plotly.v1+json": {
       "config": {
        "linkText": "Export to plot.ly",
        "plotlyServerURL": "https://plot.ly",
        "showLink": true
       },
       "data": [
        {
         "boxpoints": false,
         "line": {
          "width": 1.3
         },
         "marker": {
          "color": "rgba(255, 153, 51, 1.0)"
         },
         "name": "A",
         "orientation": "v",
         "type": "box",
         "y": [
          -0.16200811326552847,
          -0.20157352604196913,
          -0.7878824139985893,
          -0.8098186826097336,
          -1.499626473245483,
          1.3801493133608,
          1.4464314084880139,
          -1.027585474513354,
          -0.4425867986983349,
          1.0107964592664522,
          -1.8686899556147416,
          -0.4366797049682072,
          0.33283194607288075,
          0.8691983656072146,
          0.34899189602579483,
          -0.758070179841699,
          -2.2823246253628784,
          -1.7959123288281453,
          -1.0702517942537177,
          0.4303128493804597,
          1.3435913199391896,
          -1.3231792291241613,
          -0.055540871869691394,
          0.6047955363165932,
          -0.012223060701152295,
          -1.1977548892056136,
          -0.30401147308524457,
          -0.0014968000861568448,
          0.7614139136605413,
          1.6585102109046828,
          0.7364580328985136,
          -0.7862808461442161,
          0.12410899216476683,
          1.1324233955669805,
          -0.5386544999702856,
          -0.022224946329560458,
          -0.834795832535822,
          0.6400542617381624,
          -0.050410517639447344,
          -0.5070593103526382,
          0.10836598048652045,
          -1.3099723281736693,
          -0.7309978091566318,
          -1.4472446690984737,
          1.214628112420574,
          0.16471557214098853,
          0.5101660846956017,
          0.2543680410886363,
          -1.0907187736222694,
          -1.0206930835823955,
          0.2114028072469376,
          1.103887751499291,
          -0.4328552481437502,
          1.7194264735579212,
          -0.14310994297648086,
          1.889389666404278,
          1.9843080677745246,
          -0.0717101693371949,
          -0.30833082541370677,
          -0.83727669533764,
          0.8295237394428329,
          -1.7304676350653139,
          -0.02263656134543682,
          0.9036188982062072,
          -1.1962297491709328,
          0.6151506627961592,
          -1.0744273790386734,
          1.9546837633904182,
          -1.6721370855644804,
          0.6285809592376622,
          0.06875595298308364,
          0.1735047453153547,
          -1.6484418313570877,
          -0.05196360207271461,
          -1.860942779195856,
          -0.24376406652507243,
          1.3166504197314817,
          1.0993760777773394,
          0.3350603250308234,
          2.166415132213184,
          -1.403635427455722,
          -0.9987539122797616,
          -0.0389318520766291,
          -1.0102888165372037,
          -0.47230340795459325,
          0.8944983501138225,
          -1.0323828454951944,
          -0.37873548762691633,
          1.1014417823921847,
          -1.502163006619164,
          0.4882168187023026,
          -0.08079466347421826,
          -0.7311064155672401,
          -1.3601359769407153,
          1.4419021706579305,
          0.6056008285554461,
          0.5359229544971378,
          0.7345365991801566,
          -1.0367646456343842,
          -1.1218870781265498
         ]
        },
        {
         "boxpoints": false,
         "line": {
          "width": 1.3
         },
         "marker": {
          "color": "rgba(55, 128, 191, 1.0)"
         },
         "name": "B",
         "orientation": "v",
         "type": "box",
         "y": [
          -1.921426653795267,
          0.334048307502647,
          0.29139511039949373,
          -0.6414184527866889,
          1.8129978660736876,
          0.9340616438700942,
          0.5255701521359472,
          -1.4207847314561757,
          -0.41203169323718924,
          2.1136931234184893,
          -0.2392950511227681,
          -0.5231243382302146,
          0.3623773844099841,
          0.43469180714147115,
          0.2935866855881844,
          0.32138992642777864,
          0.41061037413189344,
          -1.4194998343720762,
          1.393825863114237,
          -0.20378647124285942,
          -1.4991509068453899,
          -0.9160663223473968,
          0.39070360889958233,
          0.6172298347446923,
          -0.020980893536748667,
          0.02720719120393217,
          0.8659489667656535,
          1.4120805940010235,
          -0.6612552163928156,
          0.9766072007021301,
          0.5235910411065691,
          -1.117754300835103,
          -0.9579560538658426,
          0.4833318295107085,
          1.0543709617500725,
          0.009685684378018729,
          0.7288669976657884,
          -0.14689205337746256,
          0.11445795487666606,
          -0.027564293539367023,
          0.9093040405128784,
          -4.077346761391594,
          -0.8483320828075116,
          -0.8627690117139539,
          1.5086069738838883,
          0.5260008509407854,
          -1.7565326317334966,
          -0.3256021478172967,
          -1.2930036573566386,
          2.0288102398037915,
          1.0006261134294256,
          -1.108821308601499,
          0.6152609168980175,
          2.0481960101332133,
          1.3425391747308673,
          -1.293040167109373,
          1.1935177409160567,
          2.032888804673782,
          -1.7204457700362052,
          0.7287309361140403,
          2.2336560605752216,
          0.8822170448893837,
          0.050861719101860235,
          -0.08036018285574575,
          0.955803896868485,
          -0.07512760849515579,
          -1.361603914789393,
          2.640321839534361,
          -0.16940684601982414,
          0.28864765292112526,
          -0.7236842378381518,
          2.1116733153120353,
          0.1707759963321653,
          0.36901845477741674,
          -0.02521850161399106,
          0.2138434590310381,
          0.6885987440922583,
          -0.44279120734842004,
          -1.4347583561859933,
          -0.061585991997536935,
          -0.007528460407516018,
          -0.07182976840387806,
          2.660622975619294,
          -1.9004200235224258,
          -0.2617815618962467,
          1.4001633502788777,
          0.33623084799756425,
          -1.9703525166164124,
          0.5608169864561404,
          -0.5908191652410173,
          -2.3693589710613843,
          -1.0687157067226851,
          -1.3174908751570347,
          -0.21392793423096837,
          -0.5070210409948378,
          0.7068919126208695,
          0.4290939015181902,
          0.20560676502747743,
          -0.5278415000966169,
          1.8805733839542274
         ]
        },
        {
         "boxpoints": false,
         "line": {
          "width": 1.3
         },
         "marker": {
          "color": "rgba(50, 171, 96, 1.0)"
         },
         "name": "C",
         "orientation": "v",
         "type": "box",
         "y": [
          0.5267213974017121,
          -0.6684721840099757,
          -1.141119046831687,
          1.1952937181424739,
          1.7320233809492094,
          2.2617353078392783,
          0.5384683625876707,
          -0.11410735863685739,
          1.3320638421906792,
          0.19923206749959435,
          0.5613166047840271,
          1.4304372320296712,
          -1.343726395845464,
          0.7974392252186355,
          0.3212060955914616,
          -1.1635189883077761,
          -1.9346041414231638,
          1.0991506780351776,
          0.9186151196859581,
          0.4058623076515299,
          0.3016117240884719,
          0.5390679126879692,
          1.7882821054636522,
          -0.7757503630089266,
          2.377676902173927,
          0.9382343519045592,
          -0.5217378947577189,
          -0.13514500103587732,
          1.8762618430593225,
          2.1822170404138594,
          -0.414390211630898,
          0.6320920697953718,
          1.605533027910114,
          0.5654687322199591,
          0.6005537403792309,
          -0.3118041064374641,
          -0.4692221397366222,
          -0.29791882175656,
          0.02008235100353307,
          0.8100830890363357,
          -0.41672642986287073,
          0.9707033627232081,
          -0.6274786177878557,
          -0.4493776286603382,
          0.26514144671427525,
          -0.04034111936471769,
          -0.10542251792092436,
          0.7471881336927859,
          1.6985588724379266,
          0.9354138980955412,
          -0.003141295201818217,
          -1.245411618435649,
          -0.9906648160596542,
          -0.670643483855532,
          1.1114464676201257,
          -0.8084299703554508,
          0.9580579285687029,
          -0.7546165427834294,
          0.24279901723644104,
          -1.2053255000790124,
          0.9141083144876642,
          -0.11502723859631576,
          -0.9993376790012358,
          -1.9738607555907814,
          0.7630783039648289,
          0.10718710803428953,
          0.1491713991366512,
          -1.5063335010209173,
          -0.21116475440213478,
          -0.43042237631346253,
          -0.655294099587039,
          0.493334627973203,
          1.2816680776557954,
          1.906469897813769,
          0.4068432602086838,
          0.2981626083642478,
          -0.1551622345743024,
          -0.25586300583241217,
          -0.1072890447732036,
          0.6886202913281744,
          0.7064294807731066,
          -1.514281664211926,
          -0.9352445123099749,
          -0.6430592509054291,
          -1.1857032874556375,
          0.24964944474376413,
          -0.08175661611192668,
          1.7043810219276505,
          -2.1734077732721393,
          0.6157199374214332,
          0.561177867971734,
          -0.31004162508684,
          -2.0768279407804595,
          -0.12408805142145696,
          0.4456014385718528,
          -0.09730591604309241,
          0.016409860819479843,
          -0.3059200401869885,
          0.9299055126147543,
          0.4277380178785075
         ]
        },
        {
         "boxpoints": false,
         "line": {
          "width": 1.3
         },
         "marker": {
          "color": "rgba(128, 0, 128, 1.0)"
         },
         "name": "D",
         "orientation": "v",
         "type": "box",
         "y": [
          0.3451197133623394,
          2.5270914380626217,
          0.9299482488958838,
          -0.5562988664566687,
          1.4355715653202474,
          -0.7411067515733488,
          -0.9794450690442909,
          0.769440739591859,
          0.23751958527666056,
          -0.04706497440737075,
          -0.7294036572263799,
          0.4487776730293185,
          -0.8159189914580166,
          -1.2092660952139471,
          0.5654421624230525,
          0.4744520720930635,
          0.2740372805334614,
          -1.167244162476902,
          0.06720960750460263,
          0.10936150469402772,
          -0.9165180090283555,
          1.5676031557714862,
          -0.2995972838469109,
          1.458781610122082,
          0.9032260632726471,
          0.0009649718193337695,
          1.3030292509667687,
          1.0154089128334605,
          1.3596947673823985,
          0.9872193424997157,
          0.6941544813230869,
          0.024910448406248353,
          -1.3486603903313839,
          0.061844911825487715,
          0.213019956711909,
          -0.8683314443340561,
          -0.8739817567047742,
          0.1909808662841519,
          0.5013768330823971,
          2.2697891566696655,
          -0.24631356881604097,
          -0.011390776771784489,
          -1.567484134177324,
          -0.21992787315449117,
          -1.0675819475914363,
          1.1650197898461372,
          1.626222850381875,
          0.08695494236171078,
          -1.0716543221237307,
          0.032898705870172434,
          -0.30256373771870076,
          -0.5777882371948797,
          0.0946134149705952,
          0.31831285044310376,
          0.6233905164548375,
          -0.8960529522407366,
          0.12005881079668307,
          0.6544857244125727,
          1.767021225361013,
          0.4086051048572968,
          -0.5179625005304351,
          0.6710461933989572,
          -0.7007507442805617,
          1.1420347801168707,
          0.06066636935888025,
          0.6172452112868805,
          0.9534282004171482,
          -0.7532122638499019,
          -0.9719816509300259,
          -1.1699284868256044,
          -1.234725048143622,
          -0.39974714289496094,
          -0.3328412126687109,
          0.02574109832320354,
          -0.5985483089169847,
          -0.6362247552931904,
          0.3316304039734038,
          -0.08129075988219273,
          -0.4799320950889164,
          -0.3692275148462346,
          -1.128444800903437,
          -1.6004237399739227,
          0.7762570230477617,
          -0.040674914293237135,
          -0.27726698007777667,
          0.630114105526245,
          -2.03869384082419,
          0.18356701054308538,
          -1.5810787623878058,
          0.7298179679225076,
          -1.1018296237385043,
          -0.2983903965981016,
          1.2351818237246057,
          1.1836383653171723,
          -1.7182458709928827,
          -1.0279262541311613,
          1.1420058715577808,
          -0.5014854459857403,
          -1.072287120130173,
          0.3348116696007735
         ]
        }
       ],
       "layout": {
        "legend": {
         "bgcolor": "#F5F6F9",
         "font": {
          "color": "#4D5663"
         }
        },
        "paper_bgcolor": "#F5F6F9",
        "plot_bgcolor": "#F5F6F9",
        "template": {
         "data": {
          "bar": [
           {
            "error_x": {
             "color": "#2a3f5f"
            },
            "error_y": {
             "color": "#2a3f5f"
            },
            "marker": {
             "line": {
              "color": "#E5ECF6",
              "width": 0.5
             },
             "pattern": {
              "fillmode": "overlay",
              "size": 10,
              "solidity": 0.2
             }
            },
            "type": "bar"
           }
          ],
          "barpolar": [
           {
            "marker": {
             "line": {
              "color": "#E5ECF6",
              "width": 0.5
             },
             "pattern": {
              "fillmode": "overlay",
              "size": 10,
              "solidity": 0.2
             }
            },
            "type": "barpolar"
           }
          ],
          "carpet": [
           {
            "aaxis": {
             "endlinecolor": "#2a3f5f",
             "gridcolor": "white",
             "linecolor": "white",
             "minorgridcolor": "white",
             "startlinecolor": "#2a3f5f"
            },
            "baxis": {
             "endlinecolor": "#2a3f5f",
             "gridcolor": "white",
             "linecolor": "white",
             "minorgridcolor": "white",
             "startlinecolor": "#2a3f5f"
            },
            "type": "carpet"
           }
          ],
          "choropleth": [
           {
            "colorbar": {
             "outlinewidth": 0,
             "ticks": ""
            },
            "type": "choropleth"
           }
          ],
          "contour": [
           {
            "colorbar": {
             "outlinewidth": 0,
             "ticks": ""
            },
            "colorscale": [
             [
              0,
              "#0d0887"
             ],
             [
              0.1111111111111111,
              "#46039f"
             ],
             [
              0.2222222222222222,
              "#7201a8"
             ],
             [
              0.3333333333333333,
              "#9c179e"
             ],
             [
              0.4444444444444444,
              "#bd3786"
             ],
             [
              0.5555555555555556,
              "#d8576b"
             ],
             [
              0.6666666666666666,
              "#ed7953"
             ],
             [
              0.7777777777777778,
              "#fb9f3a"
             ],
             [
              0.8888888888888888,
              "#fdca26"
             ],
             [
              1,
              "#f0f921"
             ]
            ],
            "type": "contour"
           }
          ],
          "contourcarpet": [
           {
            "colorbar": {
             "outlinewidth": 0,
             "ticks": ""
            },
            "type": "contourcarpet"
           }
          ],
          "heatmap": [
           {
            "colorbar": {
             "outlinewidth": 0,
             "ticks": ""
            },
            "colorscale": [
             [
              0,
              "#0d0887"
             ],
             [
              0.1111111111111111,
              "#46039f"
             ],
             [
              0.2222222222222222,
              "#7201a8"
             ],
             [
              0.3333333333333333,
              "#9c179e"
             ],
             [
              0.4444444444444444,
              "#bd3786"
             ],
             [
              0.5555555555555556,
              "#d8576b"
             ],
             [
              0.6666666666666666,
              "#ed7953"
             ],
             [
              0.7777777777777778,
              "#fb9f3a"
             ],
             [
              0.8888888888888888,
              "#fdca26"
             ],
             [
              1,
              "#f0f921"
             ]
            ],
            "type": "heatmap"
           }
          ],
          "heatmapgl": [
           {
            "colorbar": {
             "outlinewidth": 0,
             "ticks": ""
            },
            "colorscale": [
             [
              0,
              "#0d0887"
             ],
             [
              0.1111111111111111,
              "#46039f"
             ],
             [
              0.2222222222222222,
              "#7201a8"
             ],
             [
              0.3333333333333333,
              "#9c179e"
             ],
             [
              0.4444444444444444,
              "#bd3786"
             ],
             [
              0.5555555555555556,
              "#d8576b"
             ],
             [
              0.6666666666666666,
              "#ed7953"
             ],
             [
              0.7777777777777778,
              "#fb9f3a"
             ],
             [
              0.8888888888888888,
              "#fdca26"
             ],
             [
              1,
              "#f0f921"
             ]
            ],
            "type": "heatmapgl"
           }
          ],
          "histogram": [
           {
            "marker": {
             "pattern": {
              "fillmode": "overlay",
              "size": 10,
              "solidity": 0.2
             }
            },
            "type": "histogram"
           }
          ],
          "histogram2d": [
           {
            "colorbar": {
             "outlinewidth": 0,
             "ticks": ""
            },
            "colorscale": [
             [
              0,
              "#0d0887"
             ],
             [
              0.1111111111111111,
              "#46039f"
             ],
             [
              0.2222222222222222,
              "#7201a8"
             ],
             [
              0.3333333333333333,
              "#9c179e"
             ],
             [
              0.4444444444444444,
              "#bd3786"
             ],
             [
              0.5555555555555556,
              "#d8576b"
             ],
             [
              0.6666666666666666,
              "#ed7953"
             ],
             [
              0.7777777777777778,
              "#fb9f3a"
             ],
             [
              0.8888888888888888,
              "#fdca26"
             ],
             [
              1,
              "#f0f921"
             ]
            ],
            "type": "histogram2d"
           }
          ],
          "histogram2dcontour": [
           {
            "colorbar": {
             "outlinewidth": 0,
             "ticks": ""
            },
            "colorscale": [
             [
              0,
              "#0d0887"
             ],
             [
              0.1111111111111111,
              "#46039f"
             ],
             [
              0.2222222222222222,
              "#7201a8"
             ],
             [
              0.3333333333333333,
              "#9c179e"
             ],
             [
              0.4444444444444444,
              "#bd3786"
             ],
             [
              0.5555555555555556,
              "#d8576b"
             ],
             [
              0.6666666666666666,
              "#ed7953"
             ],
             [
              0.7777777777777778,
              "#fb9f3a"
             ],
             [
              0.8888888888888888,
              "#fdca26"
             ],
             [
              1,
              "#f0f921"
             ]
            ],
            "type": "histogram2dcontour"
           }
          ],
          "mesh3d": [
           {
            "colorbar": {
             "outlinewidth": 0,
             "ticks": ""
            },
            "type": "mesh3d"
           }
          ],
          "parcoords": [
           {
            "line": {
             "colorbar": {
              "outlinewidth": 0,
              "ticks": ""
             }
            },
            "type": "parcoords"
           }
          ],
          "pie": [
           {
            "automargin": true,
            "type": "pie"
           }
          ],
          "scatter": [
           {
            "fillpattern": {
             "fillmode": "overlay",
             "size": 10,
             "solidity": 0.2
            },
            "type": "scatter"
           }
          ],
          "scatter3d": [
           {
            "line": {
             "colorbar": {
              "outlinewidth": 0,
              "ticks": ""
             }
            },
            "marker": {
             "colorbar": {
              "outlinewidth": 0,
              "ticks": ""
             }
            },
            "type": "scatter3d"
           }
          ],
          "scattercarpet": [
           {
            "marker": {
             "colorbar": {
              "outlinewidth": 0,
              "ticks": ""
             }
            },
            "type": "scattercarpet"
           }
          ],
          "scattergeo": [
           {
            "marker": {
             "colorbar": {
              "outlinewidth": 0,
              "ticks": ""
             }
            },
            "type": "scattergeo"
           }
          ],
          "scattergl": [
           {
            "marker": {
             "colorbar": {
              "outlinewidth": 0,
              "ticks": ""
             }
            },
            "type": "scattergl"
           }
          ],
          "scattermapbox": [
           {
            "marker": {
             "colorbar": {
              "outlinewidth": 0,
              "ticks": ""
             }
            },
            "type": "scattermapbox"
           }
          ],
          "scatterpolar": [
           {
            "marker": {
             "colorbar": {
              "outlinewidth": 0,
              "ticks": ""
             }
            },
            "type": "scatterpolar"
           }
          ],
          "scatterpolargl": [
           {
            "marker": {
             "colorbar": {
              "outlinewidth": 0,
              "ticks": ""
             }
            },
            "type": "scatterpolargl"
           }
          ],
          "scatterternary": [
           {
            "marker": {
             "colorbar": {
              "outlinewidth": 0,
              "ticks": ""
             }
            },
            "type": "scatterternary"
           }
          ],
          "surface": [
           {
            "colorbar": {
             "outlinewidth": 0,
             "ticks": ""
            },
            "colorscale": [
             [
              0,
              "#0d0887"
             ],
             [
              0.1111111111111111,
              "#46039f"
             ],
             [
              0.2222222222222222,
              "#7201a8"
             ],
             [
              0.3333333333333333,
              "#9c179e"
             ],
             [
              0.4444444444444444,
              "#bd3786"
             ],
             [
              0.5555555555555556,
              "#d8576b"
             ],
             [
              0.6666666666666666,
              "#ed7953"
             ],
             [
              0.7777777777777778,
              "#fb9f3a"
             ],
             [
              0.8888888888888888,
              "#fdca26"
             ],
             [
              1,
              "#f0f921"
             ]
            ],
            "type": "surface"
           }
          ],
          "table": [
           {
            "cells": {
             "fill": {
              "color": "#EBF0F8"
             },
             "line": {
              "color": "white"
             }
            },
            "header": {
             "fill": {
              "color": "#C8D4E3"
             },
             "line": {
              "color": "white"
             }
            },
            "type": "table"
           }
          ]
         },
         "layout": {
          "annotationdefaults": {
           "arrowcolor": "#2a3f5f",
           "arrowhead": 0,
           "arrowwidth": 1
          },
          "autotypenumbers": "strict",
          "coloraxis": {
           "colorbar": {
            "outlinewidth": 0,
            "ticks": ""
           }
          },
          "colorscale": {
           "diverging": [
            [
             0,
             "#8e0152"
            ],
            [
             0.1,
             "#c51b7d"
            ],
            [
             0.2,
             "#de77ae"
            ],
            [
             0.3,
             "#f1b6da"
            ],
            [
             0.4,
             "#fde0ef"
            ],
            [
             0.5,
             "#f7f7f7"
            ],
            [
             0.6,
             "#e6f5d0"
            ],
            [
             0.7,
             "#b8e186"
            ],
            [
             0.8,
             "#7fbc41"
            ],
            [
             0.9,
             "#4d9221"
            ],
            [
             1,
             "#276419"
            ]
           ],
           "sequential": [
            [
             0,
             "#0d0887"
            ],
            [
             0.1111111111111111,
             "#46039f"
            ],
            [
             0.2222222222222222,
             "#7201a8"
            ],
            [
             0.3333333333333333,
             "#9c179e"
            ],
            [
             0.4444444444444444,
             "#bd3786"
            ],
            [
             0.5555555555555556,
             "#d8576b"
            ],
            [
             0.6666666666666666,
             "#ed7953"
            ],
            [
             0.7777777777777778,
             "#fb9f3a"
            ],
            [
             0.8888888888888888,
             "#fdca26"
            ],
            [
             1,
             "#f0f921"
            ]
           ],
           "sequentialminus": [
            [
             0,
             "#0d0887"
            ],
            [
             0.1111111111111111,
             "#46039f"
            ],
            [
             0.2222222222222222,
             "#7201a8"
            ],
            [
             0.3333333333333333,
             "#9c179e"
            ],
            [
             0.4444444444444444,
             "#bd3786"
            ],
            [
             0.5555555555555556,
             "#d8576b"
            ],
            [
             0.6666666666666666,
             "#ed7953"
            ],
            [
             0.7777777777777778,
             "#fb9f3a"
            ],
            [
             0.8888888888888888,
             "#fdca26"
            ],
            [
             1,
             "#f0f921"
            ]
           ]
          },
          "colorway": [
           "#636efa",
           "#EF553B",
           "#00cc96",
           "#ab63fa",
           "#FFA15A",
           "#19d3f3",
           "#FF6692",
           "#B6E880",
           "#FF97FF",
           "#FECB52"
          ],
          "font": {
           "color": "#2a3f5f"
          },
          "geo": {
           "bgcolor": "white",
           "lakecolor": "white",
           "landcolor": "#E5ECF6",
           "showlakes": true,
           "showland": true,
           "subunitcolor": "white"
          },
          "hoverlabel": {
           "align": "left"
          },
          "hovermode": "closest",
          "mapbox": {
           "style": "light"
          },
          "paper_bgcolor": "white",
          "plot_bgcolor": "#E5ECF6",
          "polar": {
           "angularaxis": {
            "gridcolor": "white",
            "linecolor": "white",
            "ticks": ""
           },
           "bgcolor": "#E5ECF6",
           "radialaxis": {
            "gridcolor": "white",
            "linecolor": "white",
            "ticks": ""
           }
          },
          "scene": {
           "xaxis": {
            "backgroundcolor": "#E5ECF6",
            "gridcolor": "white",
            "gridwidth": 2,
            "linecolor": "white",
            "showbackground": true,
            "ticks": "",
            "zerolinecolor": "white"
           },
           "yaxis": {
            "backgroundcolor": "#E5ECF6",
            "gridcolor": "white",
            "gridwidth": 2,
            "linecolor": "white",
            "showbackground": true,
            "ticks": "",
            "zerolinecolor": "white"
           },
           "zaxis": {
            "backgroundcolor": "#E5ECF6",
            "gridcolor": "white",
            "gridwidth": 2,
            "linecolor": "white",
            "showbackground": true,
            "ticks": "",
            "zerolinecolor": "white"
           }
          },
          "shapedefaults": {
           "line": {
            "color": "#2a3f5f"
           }
          },
          "ternary": {
           "aaxis": {
            "gridcolor": "white",
            "linecolor": "white",
            "ticks": ""
           },
           "baxis": {
            "gridcolor": "white",
            "linecolor": "white",
            "ticks": ""
           },
           "bgcolor": "#E5ECF6",
           "caxis": {
            "gridcolor": "white",
            "linecolor": "white",
            "ticks": ""
           }
          },
          "title": {
           "x": 0.05
          },
          "xaxis": {
           "automargin": true,
           "gridcolor": "white",
           "linecolor": "white",
           "ticks": "",
           "title": {
            "standoff": 15
           },
           "zerolinecolor": "white",
           "zerolinewidth": 2
          },
          "yaxis": {
           "automargin": true,
           "gridcolor": "white",
           "linecolor": "white",
           "ticks": "",
           "title": {
            "standoff": 15
           },
           "zerolinecolor": "white",
           "zerolinewidth": 2
          }
         }
        },
        "title": {
         "font": {
          "color": "#4D5663"
         }
        },
        "xaxis": {
         "gridcolor": "#E1E5ED",
         "showgrid": true,
         "tickfont": {
          "color": "#4D5663"
         },
         "title": {
          "font": {
           "color": "#4D5663"
          },
          "text": ""
         },
         "zerolinecolor": "#E1E5ED"
        },
        "yaxis": {
         "gridcolor": "#E1E5ED",
         "showgrid": true,
         "tickfont": {
          "color": "#4D5663"
         },
         "title": {
          "font": {
           "color": "#4D5663"
          },
          "text": ""
         },
         "zerolinecolor": "#E1E5ED"
        }
       }
      },
      "text/html": [
       "<div>                            <div id=\"57ad5ded-f3f1-4d5f-b329-be9f75559fba\" class=\"plotly-graph-div\" style=\"height:525px; width:100%;\"></div>            <script type=\"text/javascript\">                require([\"plotly\"], function(Plotly) {                    window.PLOTLYENV=window.PLOTLYENV || {};\n",
       "                    window.PLOTLYENV.BASE_URL='https://plot.ly';                                    if (document.getElementById(\"57ad5ded-f3f1-4d5f-b329-be9f75559fba\")) {                    Plotly.newPlot(                        \"57ad5ded-f3f1-4d5f-b329-be9f75559fba\",                        [{\"boxpoints\":false,\"line\":{\"width\":1.3},\"marker\":{\"color\":\"rgba(255, 153, 51, 1.0)\"},\"name\":\"A\",\"orientation\":\"v\",\"y\":[-0.16200811326552847,-0.20157352604196913,-0.7878824139985893,-0.8098186826097336,-1.499626473245483,1.3801493133608,1.4464314084880139,-1.027585474513354,-0.4425867986983349,1.0107964592664522,-1.8686899556147416,-0.4366797049682072,0.33283194607288075,0.8691983656072146,0.34899189602579483,-0.758070179841699,-2.2823246253628784,-1.7959123288281453,-1.0702517942537177,0.4303128493804597,1.3435913199391896,-1.3231792291241613,-0.055540871869691394,0.6047955363165932,-0.012223060701152295,-1.1977548892056136,-0.30401147308524457,-0.0014968000861568448,0.7614139136605413,1.6585102109046828,0.7364580328985136,-0.7862808461442161,0.12410899216476683,1.1324233955669805,-0.5386544999702856,-0.022224946329560458,-0.834795832535822,0.6400542617381624,-0.050410517639447344,-0.5070593103526382,0.10836598048652045,-1.3099723281736693,-0.7309978091566318,-1.4472446690984737,1.214628112420574,0.16471557214098853,0.5101660846956017,0.2543680410886363,-1.0907187736222694,-1.0206930835823955,0.2114028072469376,1.103887751499291,-0.4328552481437502,1.7194264735579212,-0.14310994297648086,1.889389666404278,1.9843080677745246,-0.0717101693371949,-0.30833082541370677,-0.83727669533764,0.8295237394428329,-1.7304676350653139,-0.02263656134543682,0.9036188982062072,-1.1962297491709328,0.6151506627961592,-1.0744273790386734,1.9546837633904182,-1.6721370855644804,0.6285809592376622,0.06875595298308364,0.1735047453153547,-1.6484418313570877,-0.05196360207271461,-1.860942779195856,-0.24376406652507243,1.3166504197314817,1.0993760777773394,0.3350603250308234,2.166415132213184,-1.403635427455722,-0.9987539122797616,-0.0389318520766291,-1.0102888165372037,-0.47230340795459325,0.8944983501138225,-1.0323828454951944,-0.37873548762691633,1.1014417823921847,-1.502163006619164,0.4882168187023026,-0.08079466347421826,-0.7311064155672401,-1.3601359769407153,1.4419021706579305,0.6056008285554461,0.5359229544971378,0.7345365991801566,-1.0367646456343842,-1.1218870781265498],\"type\":\"box\"},{\"boxpoints\":false,\"line\":{\"width\":1.3},\"marker\":{\"color\":\"rgba(55, 128, 191, 1.0)\"},\"name\":\"B\",\"orientation\":\"v\",\"y\":[-1.921426653795267,0.334048307502647,0.29139511039949373,-0.6414184527866889,1.8129978660736876,0.9340616438700942,0.5255701521359472,-1.4207847314561757,-0.41203169323718924,2.1136931234184893,-0.2392950511227681,-0.5231243382302146,0.3623773844099841,0.43469180714147115,0.2935866855881844,0.32138992642777864,0.41061037413189344,-1.4194998343720762,1.393825863114237,-0.20378647124285942,-1.4991509068453899,-0.9160663223473968,0.39070360889958233,0.6172298347446923,-0.020980893536748667,0.02720719120393217,0.8659489667656535,1.4120805940010235,-0.6612552163928156,0.9766072007021301,0.5235910411065691,-1.117754300835103,-0.9579560538658426,0.4833318295107085,1.0543709617500725,0.009685684378018729,0.7288669976657884,-0.14689205337746256,0.11445795487666606,-0.027564293539367023,0.9093040405128784,-4.077346761391594,-0.8483320828075116,-0.8627690117139539,1.5086069738838883,0.5260008509407854,-1.7565326317334966,-0.3256021478172967,-1.2930036573566386,2.0288102398037915,1.0006261134294256,-1.108821308601499,0.6152609168980175,2.0481960101332133,1.3425391747308673,-1.293040167109373,1.1935177409160567,2.032888804673782,-1.7204457700362052,0.7287309361140403,2.2336560605752216,0.8822170448893837,0.050861719101860235,-0.08036018285574575,0.955803896868485,-0.07512760849515579,-1.361603914789393,2.640321839534361,-0.16940684601982414,0.28864765292112526,-0.7236842378381518,2.1116733153120353,0.1707759963321653,0.36901845477741674,-0.02521850161399106,0.2138434590310381,0.6885987440922583,-0.44279120734842004,-1.4347583561859933,-0.061585991997536935,-0.007528460407516018,-0.07182976840387806,2.660622975619294,-1.9004200235224258,-0.2617815618962467,1.4001633502788777,0.33623084799756425,-1.9703525166164124,0.5608169864561404,-0.5908191652410173,-2.3693589710613843,-1.0687157067226851,-1.3174908751570347,-0.21392793423096837,-0.5070210409948378,0.7068919126208695,0.4290939015181902,0.20560676502747743,-0.5278415000966169,1.8805733839542274],\"type\":\"box\"},{\"boxpoints\":false,\"line\":{\"width\":1.3},\"marker\":{\"color\":\"rgba(50, 171, 96, 1.0)\"},\"name\":\"C\",\"orientation\":\"v\",\"y\":[0.5267213974017121,-0.6684721840099757,-1.141119046831687,1.1952937181424739,1.7320233809492094,2.2617353078392783,0.5384683625876707,-0.11410735863685739,1.3320638421906792,0.19923206749959435,0.5613166047840271,1.4304372320296712,-1.343726395845464,0.7974392252186355,0.3212060955914616,-1.1635189883077761,-1.9346041414231638,1.0991506780351776,0.9186151196859581,0.4058623076515299,0.3016117240884719,0.5390679126879692,1.7882821054636522,-0.7757503630089266,2.377676902173927,0.9382343519045592,-0.5217378947577189,-0.13514500103587732,1.8762618430593225,2.1822170404138594,-0.414390211630898,0.6320920697953718,1.605533027910114,0.5654687322199591,0.6005537403792309,-0.3118041064374641,-0.4692221397366222,-0.29791882175656,0.02008235100353307,0.8100830890363357,-0.41672642986287073,0.9707033627232081,-0.6274786177878557,-0.4493776286603382,0.26514144671427525,-0.04034111936471769,-0.10542251792092436,0.7471881336927859,1.6985588724379266,0.9354138980955412,-0.003141295201818217,-1.245411618435649,-0.9906648160596542,-0.670643483855532,1.1114464676201257,-0.8084299703554508,0.9580579285687029,-0.7546165427834294,0.24279901723644104,-1.2053255000790124,0.9141083144876642,-0.11502723859631576,-0.9993376790012358,-1.9738607555907814,0.7630783039648289,0.10718710803428953,0.1491713991366512,-1.5063335010209173,-0.21116475440213478,-0.43042237631346253,-0.655294099587039,0.493334627973203,1.2816680776557954,1.906469897813769,0.4068432602086838,0.2981626083642478,-0.1551622345743024,-0.25586300583241217,-0.1072890447732036,0.6886202913281744,0.7064294807731066,-1.514281664211926,-0.9352445123099749,-0.6430592509054291,-1.1857032874556375,0.24964944474376413,-0.08175661611192668,1.7043810219276505,-2.1734077732721393,0.6157199374214332,0.561177867971734,-0.31004162508684,-2.0768279407804595,-0.12408805142145696,0.4456014385718528,-0.09730591604309241,0.016409860819479843,-0.3059200401869885,0.9299055126147543,0.4277380178785075],\"type\":\"box\"},{\"boxpoints\":false,\"line\":{\"width\":1.3},\"marker\":{\"color\":\"rgba(128, 0, 128, 1.0)\"},\"name\":\"D\",\"orientation\":\"v\",\"y\":[0.3451197133623394,2.5270914380626217,0.9299482488958838,-0.5562988664566687,1.4355715653202474,-0.7411067515733488,-0.9794450690442909,0.769440739591859,0.23751958527666056,-0.04706497440737075,-0.7294036572263799,0.4487776730293185,-0.8159189914580166,-1.2092660952139471,0.5654421624230525,0.4744520720930635,0.2740372805334614,-1.167244162476902,0.06720960750460263,0.10936150469402772,-0.9165180090283555,1.5676031557714862,-0.2995972838469109,1.458781610122082,0.9032260632726471,0.0009649718193337695,1.3030292509667687,1.0154089128334605,1.3596947673823985,0.9872193424997157,0.6941544813230869,0.024910448406248353,-1.3486603903313839,0.061844911825487715,0.213019956711909,-0.8683314443340561,-0.8739817567047742,0.1909808662841519,0.5013768330823971,2.2697891566696655,-0.24631356881604097,-0.011390776771784489,-1.567484134177324,-0.21992787315449117,-1.0675819475914363,1.1650197898461372,1.626222850381875,0.08695494236171078,-1.0716543221237307,0.032898705870172434,-0.30256373771870076,-0.5777882371948797,0.0946134149705952,0.31831285044310376,0.6233905164548375,-0.8960529522407366,0.12005881079668307,0.6544857244125727,1.767021225361013,0.4086051048572968,-0.5179625005304351,0.6710461933989572,-0.7007507442805617,1.1420347801168707,0.06066636935888025,0.6172452112868805,0.9534282004171482,-0.7532122638499019,-0.9719816509300259,-1.1699284868256044,-1.234725048143622,-0.39974714289496094,-0.3328412126687109,0.02574109832320354,-0.5985483089169847,-0.6362247552931904,0.3316304039734038,-0.08129075988219273,-0.4799320950889164,-0.3692275148462346,-1.128444800903437,-1.6004237399739227,0.7762570230477617,-0.040674914293237135,-0.27726698007777667,0.630114105526245,-2.03869384082419,0.18356701054308538,-1.5810787623878058,0.7298179679225076,-1.1018296237385043,-0.2983903965981016,1.2351818237246057,1.1836383653171723,-1.7182458709928827,-1.0279262541311613,1.1420058715577808,-0.5014854459857403,-1.072287120130173,0.3348116696007735],\"type\":\"box\"}],                        {\"legend\":{\"bgcolor\":\"#F5F6F9\",\"font\":{\"color\":\"#4D5663\"}},\"paper_bgcolor\":\"#F5F6F9\",\"plot_bgcolor\":\"#F5F6F9\",\"template\":{\"data\":{\"barpolar\":[{\"marker\":{\"line\":{\"color\":\"#E5ECF6\",\"width\":0.5},\"pattern\":{\"fillmode\":\"overlay\",\"size\":10,\"solidity\":0.2}},\"type\":\"barpolar\"}],\"bar\":[{\"error_x\":{\"color\":\"#2a3f5f\"},\"error_y\":{\"color\":\"#2a3f5f\"},\"marker\":{\"line\":{\"color\":\"#E5ECF6\",\"width\":0.5},\"pattern\":{\"fillmode\":\"overlay\",\"size\":10,\"solidity\":0.2}},\"type\":\"bar\"}],\"carpet\":[{\"aaxis\":{\"endlinecolor\":\"#2a3f5f\",\"gridcolor\":\"white\",\"linecolor\":\"white\",\"minorgridcolor\":\"white\",\"startlinecolor\":\"#2a3f5f\"},\"baxis\":{\"endlinecolor\":\"#2a3f5f\",\"gridcolor\":\"white\",\"linecolor\":\"white\",\"minorgridcolor\":\"white\",\"startlinecolor\":\"#2a3f5f\"},\"type\":\"carpet\"}],\"choropleth\":[{\"colorbar\":{\"outlinewidth\":0,\"ticks\":\"\"},\"type\":\"choropleth\"}],\"contourcarpet\":[{\"colorbar\":{\"outlinewidth\":0,\"ticks\":\"\"},\"type\":\"contourcarpet\"}],\"contour\":[{\"colorbar\":{\"outlinewidth\":0,\"ticks\":\"\"},\"colorscale\":[[0.0,\"#0d0887\"],[0.1111111111111111,\"#46039f\"],[0.2222222222222222,\"#7201a8\"],[0.3333333333333333,\"#9c179e\"],[0.4444444444444444,\"#bd3786\"],[0.5555555555555556,\"#d8576b\"],[0.6666666666666666,\"#ed7953\"],[0.7777777777777778,\"#fb9f3a\"],[0.8888888888888888,\"#fdca26\"],[1.0,\"#f0f921\"]],\"type\":\"contour\"}],\"heatmapgl\":[{\"colorbar\":{\"outlinewidth\":0,\"ticks\":\"\"},\"colorscale\":[[0.0,\"#0d0887\"],[0.1111111111111111,\"#46039f\"],[0.2222222222222222,\"#7201a8\"],[0.3333333333333333,\"#9c179e\"],[0.4444444444444444,\"#bd3786\"],[0.5555555555555556,\"#d8576b\"],[0.6666666666666666,\"#ed7953\"],[0.7777777777777778,\"#fb9f3a\"],[0.8888888888888888,\"#fdca26\"],[1.0,\"#f0f921\"]],\"type\":\"heatmapgl\"}],\"heatmap\":[{\"colorbar\":{\"outlinewidth\":0,\"ticks\":\"\"},\"colorscale\":[[0.0,\"#0d0887\"],[0.1111111111111111,\"#46039f\"],[0.2222222222222222,\"#7201a8\"],[0.3333333333333333,\"#9c179e\"],[0.4444444444444444,\"#bd3786\"],[0.5555555555555556,\"#d8576b\"],[0.6666666666666666,\"#ed7953\"],[0.7777777777777778,\"#fb9f3a\"],[0.8888888888888888,\"#fdca26\"],[1.0,\"#f0f921\"]],\"type\":\"heatmap\"}],\"histogram2dcontour\":[{\"colorbar\":{\"outlinewidth\":0,\"ticks\":\"\"},\"colorscale\":[[0.0,\"#0d0887\"],[0.1111111111111111,\"#46039f\"],[0.2222222222222222,\"#7201a8\"],[0.3333333333333333,\"#9c179e\"],[0.4444444444444444,\"#bd3786\"],[0.5555555555555556,\"#d8576b\"],[0.6666666666666666,\"#ed7953\"],[0.7777777777777778,\"#fb9f3a\"],[0.8888888888888888,\"#fdca26\"],[1.0,\"#f0f921\"]],\"type\":\"histogram2dcontour\"}],\"histogram2d\":[{\"colorbar\":{\"outlinewidth\":0,\"ticks\":\"\"},\"colorscale\":[[0.0,\"#0d0887\"],[0.1111111111111111,\"#46039f\"],[0.2222222222222222,\"#7201a8\"],[0.3333333333333333,\"#9c179e\"],[0.4444444444444444,\"#bd3786\"],[0.5555555555555556,\"#d8576b\"],[0.6666666666666666,\"#ed7953\"],[0.7777777777777778,\"#fb9f3a\"],[0.8888888888888888,\"#fdca26\"],[1.0,\"#f0f921\"]],\"type\":\"histogram2d\"}],\"histogram\":[{\"marker\":{\"pattern\":{\"fillmode\":\"overlay\",\"size\":10,\"solidity\":0.2}},\"type\":\"histogram\"}],\"mesh3d\":[{\"colorbar\":{\"outlinewidth\":0,\"ticks\":\"\"},\"type\":\"mesh3d\"}],\"parcoords\":[{\"line\":{\"colorbar\":{\"outlinewidth\":0,\"ticks\":\"\"}},\"type\":\"parcoords\"}],\"pie\":[{\"automargin\":true,\"type\":\"pie\"}],\"scatter3d\":[{\"line\":{\"colorbar\":{\"outlinewidth\":0,\"ticks\":\"\"}},\"marker\":{\"colorbar\":{\"outlinewidth\":0,\"ticks\":\"\"}},\"type\":\"scatter3d\"}],\"scattercarpet\":[{\"marker\":{\"colorbar\":{\"outlinewidth\":0,\"ticks\":\"\"}},\"type\":\"scattercarpet\"}],\"scattergeo\":[{\"marker\":{\"colorbar\":{\"outlinewidth\":0,\"ticks\":\"\"}},\"type\":\"scattergeo\"}],\"scattergl\":[{\"marker\":{\"colorbar\":{\"outlinewidth\":0,\"ticks\":\"\"}},\"type\":\"scattergl\"}],\"scattermapbox\":[{\"marker\":{\"colorbar\":{\"outlinewidth\":0,\"ticks\":\"\"}},\"type\":\"scattermapbox\"}],\"scatterpolargl\":[{\"marker\":{\"colorbar\":{\"outlinewidth\":0,\"ticks\":\"\"}},\"type\":\"scatterpolargl\"}],\"scatterpolar\":[{\"marker\":{\"colorbar\":{\"outlinewidth\":0,\"ticks\":\"\"}},\"type\":\"scatterpolar\"}],\"scatter\":[{\"fillpattern\":{\"fillmode\":\"overlay\",\"size\":10,\"solidity\":0.2},\"type\":\"scatter\"}],\"scatterternary\":[{\"marker\":{\"colorbar\":{\"outlinewidth\":0,\"ticks\":\"\"}},\"type\":\"scatterternary\"}],\"surface\":[{\"colorbar\":{\"outlinewidth\":0,\"ticks\":\"\"},\"colorscale\":[[0.0,\"#0d0887\"],[0.1111111111111111,\"#46039f\"],[0.2222222222222222,\"#7201a8\"],[0.3333333333333333,\"#9c179e\"],[0.4444444444444444,\"#bd3786\"],[0.5555555555555556,\"#d8576b\"],[0.6666666666666666,\"#ed7953\"],[0.7777777777777778,\"#fb9f3a\"],[0.8888888888888888,\"#fdca26\"],[1.0,\"#f0f921\"]],\"type\":\"surface\"}],\"table\":[{\"cells\":{\"fill\":{\"color\":\"#EBF0F8\"},\"line\":{\"color\":\"white\"}},\"header\":{\"fill\":{\"color\":\"#C8D4E3\"},\"line\":{\"color\":\"white\"}},\"type\":\"table\"}]},\"layout\":{\"annotationdefaults\":{\"arrowcolor\":\"#2a3f5f\",\"arrowhead\":0,\"arrowwidth\":1},\"autotypenumbers\":\"strict\",\"coloraxis\":{\"colorbar\":{\"outlinewidth\":0,\"ticks\":\"\"}},\"colorscale\":{\"diverging\":[[0,\"#8e0152\"],[0.1,\"#c51b7d\"],[0.2,\"#de77ae\"],[0.3,\"#f1b6da\"],[0.4,\"#fde0ef\"],[0.5,\"#f7f7f7\"],[0.6,\"#e6f5d0\"],[0.7,\"#b8e186\"],[0.8,\"#7fbc41\"],[0.9,\"#4d9221\"],[1,\"#276419\"]],\"sequential\":[[0.0,\"#0d0887\"],[0.1111111111111111,\"#46039f\"],[0.2222222222222222,\"#7201a8\"],[0.3333333333333333,\"#9c179e\"],[0.4444444444444444,\"#bd3786\"],[0.5555555555555556,\"#d8576b\"],[0.6666666666666666,\"#ed7953\"],[0.7777777777777778,\"#fb9f3a\"],[0.8888888888888888,\"#fdca26\"],[1.0,\"#f0f921\"]],\"sequentialminus\":[[0.0,\"#0d0887\"],[0.1111111111111111,\"#46039f\"],[0.2222222222222222,\"#7201a8\"],[0.3333333333333333,\"#9c179e\"],[0.4444444444444444,\"#bd3786\"],[0.5555555555555556,\"#d8576b\"],[0.6666666666666666,\"#ed7953\"],[0.7777777777777778,\"#fb9f3a\"],[0.8888888888888888,\"#fdca26\"],[1.0,\"#f0f921\"]]},\"colorway\":[\"#636efa\",\"#EF553B\",\"#00cc96\",\"#ab63fa\",\"#FFA15A\",\"#19d3f3\",\"#FF6692\",\"#B6E880\",\"#FF97FF\",\"#FECB52\"],\"font\":{\"color\":\"#2a3f5f\"},\"geo\":{\"bgcolor\":\"white\",\"lakecolor\":\"white\",\"landcolor\":\"#E5ECF6\",\"showlakes\":true,\"showland\":true,\"subunitcolor\":\"white\"},\"hoverlabel\":{\"align\":\"left\"},\"hovermode\":\"closest\",\"mapbox\":{\"style\":\"light\"},\"paper_bgcolor\":\"white\",\"plot_bgcolor\":\"#E5ECF6\",\"polar\":{\"angularaxis\":{\"gridcolor\":\"white\",\"linecolor\":\"white\",\"ticks\":\"\"},\"bgcolor\":\"#E5ECF6\",\"radialaxis\":{\"gridcolor\":\"white\",\"linecolor\":\"white\",\"ticks\":\"\"}},\"scene\":{\"xaxis\":{\"backgroundcolor\":\"#E5ECF6\",\"gridcolor\":\"white\",\"gridwidth\":2,\"linecolor\":\"white\",\"showbackground\":true,\"ticks\":\"\",\"zerolinecolor\":\"white\"},\"yaxis\":{\"backgroundcolor\":\"#E5ECF6\",\"gridcolor\":\"white\",\"gridwidth\":2,\"linecolor\":\"white\",\"showbackground\":true,\"ticks\":\"\",\"zerolinecolor\":\"white\"},\"zaxis\":{\"backgroundcolor\":\"#E5ECF6\",\"gridcolor\":\"white\",\"gridwidth\":2,\"linecolor\":\"white\",\"showbackground\":true,\"ticks\":\"\",\"zerolinecolor\":\"white\"}},\"shapedefaults\":{\"line\":{\"color\":\"#2a3f5f\"}},\"ternary\":{\"aaxis\":{\"gridcolor\":\"white\",\"linecolor\":\"white\",\"ticks\":\"\"},\"baxis\":{\"gridcolor\":\"white\",\"linecolor\":\"white\",\"ticks\":\"\"},\"bgcolor\":\"#E5ECF6\",\"caxis\":{\"gridcolor\":\"white\",\"linecolor\":\"white\",\"ticks\":\"\"}},\"title\":{\"x\":0.05},\"xaxis\":{\"automargin\":true,\"gridcolor\":\"white\",\"linecolor\":\"white\",\"ticks\":\"\",\"title\":{\"standoff\":15},\"zerolinecolor\":\"white\",\"zerolinewidth\":2},\"yaxis\":{\"automargin\":true,\"gridcolor\":\"white\",\"linecolor\":\"white\",\"ticks\":\"\",\"title\":{\"standoff\":15},\"zerolinecolor\":\"white\",\"zerolinewidth\":2}}},\"title\":{\"font\":{\"color\":\"#4D5663\"}},\"xaxis\":{\"gridcolor\":\"#E1E5ED\",\"showgrid\":true,\"tickfont\":{\"color\":\"#4D5663\"},\"title\":{\"font\":{\"color\":\"#4D5663\"},\"text\":\"\"},\"zerolinecolor\":\"#E1E5ED\"},\"yaxis\":{\"gridcolor\":\"#E1E5ED\",\"showgrid\":true,\"tickfont\":{\"color\":\"#4D5663\"},\"title\":{\"font\":{\"color\":\"#4D5663\"},\"text\":\"\"},\"zerolinecolor\":\"#E1E5ED\"}},                        {\"showLink\": true, \"linkText\": \"Export to plot.ly\", \"plotlyServerURL\": \"https://plot.ly\", \"responsive\": true}                    ).then(function(){\n",
       "                            \n",
       "var gd = document.getElementById('57ad5ded-f3f1-4d5f-b329-be9f75559fba');\n",
       "var x = new MutationObserver(function (mutations, observer) {{\n",
       "        var display = window.getComputedStyle(gd).display;\n",
       "        if (!display || display === 'none') {{\n",
       "            console.log([gd, 'removed!']);\n",
       "            Plotly.purge(gd);\n",
       "            observer.disconnect();\n",
       "        }}\n",
       "}});\n",
       "\n",
       "// Listen for the removal of the full notebook cells\n",
       "var notebookContainer = gd.closest('#notebook-container');\n",
       "if (notebookContainer) {{\n",
       "    x.observe(notebookContainer, {childList: true});\n",
       "}}\n",
       "\n",
       "// Listen for the clearing of the current output cell\n",
       "var outputEl = gd.closest('.output');\n",
       "if (outputEl) {{\n",
       "    x.observe(outputEl, {childList: true});\n",
       "}}\n",
       "\n",
       "                        })                };                });            </script>        </div>"
      ]
     },
     "metadata": {},
     "output_type": "display_data"
    }
   ],
   "source": [
    "df1.iplot(kind='box')"
   ]
  },
  {
   "cell_type": "markdown",
   "metadata": {},
   "source": [
    "## iv. 3d Surface"
   ]
  },
  {
   "cell_type": "code",
   "execution_count": 12,
   "metadata": {},
   "outputs": [
    {
     "data": {
      "application/vnd.plotly.v1+json": {
       "config": {
        "linkText": "Export to plot.ly",
        "plotlyServerURL": "https://plot.ly",
        "showLink": true
       },
       "data": [
        {
         "colorscale": [
          [
           0,
           "rgb(165,0,38)"
          ],
          [
           0.1,
           "rgb(215,48,39)"
          ],
          [
           0.2,
           "rgb(244,109,67)"
          ],
          [
           0.3,
           "rgb(253,174,97)"
          ],
          [
           0.4,
           "rgb(254,224,144)"
          ],
          [
           0.5,
           "rgb(255,255,191)"
          ],
          [
           0.6,
           "rgb(224,243,248)"
          ],
          [
           0.7,
           "rgb(171,217,233)"
          ],
          [
           0.8,
           "rgb(116,173,209)"
          ],
          [
           0.9,
           "rgb(69,117,180)"
          ],
          [
           1,
           "rgb(49,54,149)"
          ]
         ],
         "type": "surface",
         "x": [
          0,
          1,
          2,
          3,
          4
         ],
         "y": [
          "x",
          "y",
          "z"
         ],
         "z": [
          [
           1,
           2,
           3,
           4,
           5
          ],
          [
           10,
           20,
           30,
           20,
           10
          ],
          [
           5,
           4,
           3,
           2,
           1
          ]
         ]
        }
       ],
       "layout": {
        "legend": {
         "bgcolor": "#F5F6F9",
         "font": {
          "color": "#4D5663"
         }
        },
        "paper_bgcolor": "#F5F6F9",
        "plot_bgcolor": "#F5F6F9",
        "template": {
         "data": {
          "bar": [
           {
            "error_x": {
             "color": "#2a3f5f"
            },
            "error_y": {
             "color": "#2a3f5f"
            },
            "marker": {
             "line": {
              "color": "#E5ECF6",
              "width": 0.5
             },
             "pattern": {
              "fillmode": "overlay",
              "size": 10,
              "solidity": 0.2
             }
            },
            "type": "bar"
           }
          ],
          "barpolar": [
           {
            "marker": {
             "line": {
              "color": "#E5ECF6",
              "width": 0.5
             },
             "pattern": {
              "fillmode": "overlay",
              "size": 10,
              "solidity": 0.2
             }
            },
            "type": "barpolar"
           }
          ],
          "carpet": [
           {
            "aaxis": {
             "endlinecolor": "#2a3f5f",
             "gridcolor": "white",
             "linecolor": "white",
             "minorgridcolor": "white",
             "startlinecolor": "#2a3f5f"
            },
            "baxis": {
             "endlinecolor": "#2a3f5f",
             "gridcolor": "white",
             "linecolor": "white",
             "minorgridcolor": "white",
             "startlinecolor": "#2a3f5f"
            },
            "type": "carpet"
           }
          ],
          "choropleth": [
           {
            "colorbar": {
             "outlinewidth": 0,
             "ticks": ""
            },
            "type": "choropleth"
           }
          ],
          "contour": [
           {
            "colorbar": {
             "outlinewidth": 0,
             "ticks": ""
            },
            "colorscale": [
             [
              0,
              "#0d0887"
             ],
             [
              0.1111111111111111,
              "#46039f"
             ],
             [
              0.2222222222222222,
              "#7201a8"
             ],
             [
              0.3333333333333333,
              "#9c179e"
             ],
             [
              0.4444444444444444,
              "#bd3786"
             ],
             [
              0.5555555555555556,
              "#d8576b"
             ],
             [
              0.6666666666666666,
              "#ed7953"
             ],
             [
              0.7777777777777778,
              "#fb9f3a"
             ],
             [
              0.8888888888888888,
              "#fdca26"
             ],
             [
              1,
              "#f0f921"
             ]
            ],
            "type": "contour"
           }
          ],
          "contourcarpet": [
           {
            "colorbar": {
             "outlinewidth": 0,
             "ticks": ""
            },
            "type": "contourcarpet"
           }
          ],
          "heatmap": [
           {
            "colorbar": {
             "outlinewidth": 0,
             "ticks": ""
            },
            "colorscale": [
             [
              0,
              "#0d0887"
             ],
             [
              0.1111111111111111,
              "#46039f"
             ],
             [
              0.2222222222222222,
              "#7201a8"
             ],
             [
              0.3333333333333333,
              "#9c179e"
             ],
             [
              0.4444444444444444,
              "#bd3786"
             ],
             [
              0.5555555555555556,
              "#d8576b"
             ],
             [
              0.6666666666666666,
              "#ed7953"
             ],
             [
              0.7777777777777778,
              "#fb9f3a"
             ],
             [
              0.8888888888888888,
              "#fdca26"
             ],
             [
              1,
              "#f0f921"
             ]
            ],
            "type": "heatmap"
           }
          ],
          "heatmapgl": [
           {
            "colorbar": {
             "outlinewidth": 0,
             "ticks": ""
            },
            "colorscale": [
             [
              0,
              "#0d0887"
             ],
             [
              0.1111111111111111,
              "#46039f"
             ],
             [
              0.2222222222222222,
              "#7201a8"
             ],
             [
              0.3333333333333333,
              "#9c179e"
             ],
             [
              0.4444444444444444,
              "#bd3786"
             ],
             [
              0.5555555555555556,
              "#d8576b"
             ],
             [
              0.6666666666666666,
              "#ed7953"
             ],
             [
              0.7777777777777778,
              "#fb9f3a"
             ],
             [
              0.8888888888888888,
              "#fdca26"
             ],
             [
              1,
              "#f0f921"
             ]
            ],
            "type": "heatmapgl"
           }
          ],
          "histogram": [
           {
            "marker": {
             "pattern": {
              "fillmode": "overlay",
              "size": 10,
              "solidity": 0.2
             }
            },
            "type": "histogram"
           }
          ],
          "histogram2d": [
           {
            "colorbar": {
             "outlinewidth": 0,
             "ticks": ""
            },
            "colorscale": [
             [
              0,
              "#0d0887"
             ],
             [
              0.1111111111111111,
              "#46039f"
             ],
             [
              0.2222222222222222,
              "#7201a8"
             ],
             [
              0.3333333333333333,
              "#9c179e"
             ],
             [
              0.4444444444444444,
              "#bd3786"
             ],
             [
              0.5555555555555556,
              "#d8576b"
             ],
             [
              0.6666666666666666,
              "#ed7953"
             ],
             [
              0.7777777777777778,
              "#fb9f3a"
             ],
             [
              0.8888888888888888,
              "#fdca26"
             ],
             [
              1,
              "#f0f921"
             ]
            ],
            "type": "histogram2d"
           }
          ],
          "histogram2dcontour": [
           {
            "colorbar": {
             "outlinewidth": 0,
             "ticks": ""
            },
            "colorscale": [
             [
              0,
              "#0d0887"
             ],
             [
              0.1111111111111111,
              "#46039f"
             ],
             [
              0.2222222222222222,
              "#7201a8"
             ],
             [
              0.3333333333333333,
              "#9c179e"
             ],
             [
              0.4444444444444444,
              "#bd3786"
             ],
             [
              0.5555555555555556,
              "#d8576b"
             ],
             [
              0.6666666666666666,
              "#ed7953"
             ],
             [
              0.7777777777777778,
              "#fb9f3a"
             ],
             [
              0.8888888888888888,
              "#fdca26"
             ],
             [
              1,
              "#f0f921"
             ]
            ],
            "type": "histogram2dcontour"
           }
          ],
          "mesh3d": [
           {
            "colorbar": {
             "outlinewidth": 0,
             "ticks": ""
            },
            "type": "mesh3d"
           }
          ],
          "parcoords": [
           {
            "line": {
             "colorbar": {
              "outlinewidth": 0,
              "ticks": ""
             }
            },
            "type": "parcoords"
           }
          ],
          "pie": [
           {
            "automargin": true,
            "type": "pie"
           }
          ],
          "scatter": [
           {
            "fillpattern": {
             "fillmode": "overlay",
             "size": 10,
             "solidity": 0.2
            },
            "type": "scatter"
           }
          ],
          "scatter3d": [
           {
            "line": {
             "colorbar": {
              "outlinewidth": 0,
              "ticks": ""
             }
            },
            "marker": {
             "colorbar": {
              "outlinewidth": 0,
              "ticks": ""
             }
            },
            "type": "scatter3d"
           }
          ],
          "scattercarpet": [
           {
            "marker": {
             "colorbar": {
              "outlinewidth": 0,
              "ticks": ""
             }
            },
            "type": "scattercarpet"
           }
          ],
          "scattergeo": [
           {
            "marker": {
             "colorbar": {
              "outlinewidth": 0,
              "ticks": ""
             }
            },
            "type": "scattergeo"
           }
          ],
          "scattergl": [
           {
            "marker": {
             "colorbar": {
              "outlinewidth": 0,
              "ticks": ""
             }
            },
            "type": "scattergl"
           }
          ],
          "scattermapbox": [
           {
            "marker": {
             "colorbar": {
              "outlinewidth": 0,
              "ticks": ""
             }
            },
            "type": "scattermapbox"
           }
          ],
          "scatterpolar": [
           {
            "marker": {
             "colorbar": {
              "outlinewidth": 0,
              "ticks": ""
             }
            },
            "type": "scatterpolar"
           }
          ],
          "scatterpolargl": [
           {
            "marker": {
             "colorbar": {
              "outlinewidth": 0,
              "ticks": ""
             }
            },
            "type": "scatterpolargl"
           }
          ],
          "scatterternary": [
           {
            "marker": {
             "colorbar": {
              "outlinewidth": 0,
              "ticks": ""
             }
            },
            "type": "scatterternary"
           }
          ],
          "surface": [
           {
            "colorbar": {
             "outlinewidth": 0,
             "ticks": ""
            },
            "colorscale": [
             [
              0,
              "#0d0887"
             ],
             [
              0.1111111111111111,
              "#46039f"
             ],
             [
              0.2222222222222222,
              "#7201a8"
             ],
             [
              0.3333333333333333,
              "#9c179e"
             ],
             [
              0.4444444444444444,
              "#bd3786"
             ],
             [
              0.5555555555555556,
              "#d8576b"
             ],
             [
              0.6666666666666666,
              "#ed7953"
             ],
             [
              0.7777777777777778,
              "#fb9f3a"
             ],
             [
              0.8888888888888888,
              "#fdca26"
             ],
             [
              1,
              "#f0f921"
             ]
            ],
            "type": "surface"
           }
          ],
          "table": [
           {
            "cells": {
             "fill": {
              "color": "#EBF0F8"
             },
             "line": {
              "color": "white"
             }
            },
            "header": {
             "fill": {
              "color": "#C8D4E3"
             },
             "line": {
              "color": "white"
             }
            },
            "type": "table"
           }
          ]
         },
         "layout": {
          "annotationdefaults": {
           "arrowcolor": "#2a3f5f",
           "arrowhead": 0,
           "arrowwidth": 1
          },
          "autotypenumbers": "strict",
          "coloraxis": {
           "colorbar": {
            "outlinewidth": 0,
            "ticks": ""
           }
          },
          "colorscale": {
           "diverging": [
            [
             0,
             "#8e0152"
            ],
            [
             0.1,
             "#c51b7d"
            ],
            [
             0.2,
             "#de77ae"
            ],
            [
             0.3,
             "#f1b6da"
            ],
            [
             0.4,
             "#fde0ef"
            ],
            [
             0.5,
             "#f7f7f7"
            ],
            [
             0.6,
             "#e6f5d0"
            ],
            [
             0.7,
             "#b8e186"
            ],
            [
             0.8,
             "#7fbc41"
            ],
            [
             0.9,
             "#4d9221"
            ],
            [
             1,
             "#276419"
            ]
           ],
           "sequential": [
            [
             0,
             "#0d0887"
            ],
            [
             0.1111111111111111,
             "#46039f"
            ],
            [
             0.2222222222222222,
             "#7201a8"
            ],
            [
             0.3333333333333333,
             "#9c179e"
            ],
            [
             0.4444444444444444,
             "#bd3786"
            ],
            [
             0.5555555555555556,
             "#d8576b"
            ],
            [
             0.6666666666666666,
             "#ed7953"
            ],
            [
             0.7777777777777778,
             "#fb9f3a"
            ],
            [
             0.8888888888888888,
             "#fdca26"
            ],
            [
             1,
             "#f0f921"
            ]
           ],
           "sequentialminus": [
            [
             0,
             "#0d0887"
            ],
            [
             0.1111111111111111,
             "#46039f"
            ],
            [
             0.2222222222222222,
             "#7201a8"
            ],
            [
             0.3333333333333333,
             "#9c179e"
            ],
            [
             0.4444444444444444,
             "#bd3786"
            ],
            [
             0.5555555555555556,
             "#d8576b"
            ],
            [
             0.6666666666666666,
             "#ed7953"
            ],
            [
             0.7777777777777778,
             "#fb9f3a"
            ],
            [
             0.8888888888888888,
             "#fdca26"
            ],
            [
             1,
             "#f0f921"
            ]
           ]
          },
          "colorway": [
           "#636efa",
           "#EF553B",
           "#00cc96",
           "#ab63fa",
           "#FFA15A",
           "#19d3f3",
           "#FF6692",
           "#B6E880",
           "#FF97FF",
           "#FECB52"
          ],
          "font": {
           "color": "#2a3f5f"
          },
          "geo": {
           "bgcolor": "white",
           "lakecolor": "white",
           "landcolor": "#E5ECF6",
           "showlakes": true,
           "showland": true,
           "subunitcolor": "white"
          },
          "hoverlabel": {
           "align": "left"
          },
          "hovermode": "closest",
          "mapbox": {
           "style": "light"
          },
          "paper_bgcolor": "white",
          "plot_bgcolor": "#E5ECF6",
          "polar": {
           "angularaxis": {
            "gridcolor": "white",
            "linecolor": "white",
            "ticks": ""
           },
           "bgcolor": "#E5ECF6",
           "radialaxis": {
            "gridcolor": "white",
            "linecolor": "white",
            "ticks": ""
           }
          },
          "scene": {
           "xaxis": {
            "backgroundcolor": "#E5ECF6",
            "gridcolor": "white",
            "gridwidth": 2,
            "linecolor": "white",
            "showbackground": true,
            "ticks": "",
            "zerolinecolor": "white"
           },
           "yaxis": {
            "backgroundcolor": "#E5ECF6",
            "gridcolor": "white",
            "gridwidth": 2,
            "linecolor": "white",
            "showbackground": true,
            "ticks": "",
            "zerolinecolor": "white"
           },
           "zaxis": {
            "backgroundcolor": "#E5ECF6",
            "gridcolor": "white",
            "gridwidth": 2,
            "linecolor": "white",
            "showbackground": true,
            "ticks": "",
            "zerolinecolor": "white"
           }
          },
          "shapedefaults": {
           "line": {
            "color": "#2a3f5f"
           }
          },
          "ternary": {
           "aaxis": {
            "gridcolor": "white",
            "linecolor": "white",
            "ticks": ""
           },
           "baxis": {
            "gridcolor": "white",
            "linecolor": "white",
            "ticks": ""
           },
           "bgcolor": "#E5ECF6",
           "caxis": {
            "gridcolor": "white",
            "linecolor": "white",
            "ticks": ""
           }
          },
          "title": {
           "x": 0.05
          },
          "xaxis": {
           "automargin": true,
           "gridcolor": "white",
           "linecolor": "white",
           "ticks": "",
           "title": {
            "standoff": 15
           },
           "zerolinecolor": "white",
           "zerolinewidth": 2
          },
          "yaxis": {
           "automargin": true,
           "gridcolor": "white",
           "linecolor": "white",
           "ticks": "",
           "title": {
            "standoff": 15
           },
           "zerolinecolor": "white",
           "zerolinewidth": 2
          }
         }
        },
        "title": {
         "font": {
          "color": "#4D5663"
         }
        },
        "xaxis": {
         "gridcolor": "#E1E5ED",
         "showgrid": true,
         "tickfont": {
          "color": "#4D5663"
         },
         "title": {
          "font": {
           "color": "#4D5663"
          },
          "text": ""
         },
         "zerolinecolor": "#E1E5ED"
        },
        "yaxis": {
         "gridcolor": "#E1E5ED",
         "showgrid": true,
         "tickfont": {
          "color": "#4D5663"
         },
         "title": {
          "font": {
           "color": "#4D5663"
          },
          "text": ""
         },
         "zerolinecolor": "#E1E5ED"
        }
       }
      },
      "text/html": [
       "<div>                            <div id=\"bfda20c2-eaf0-45a3-911d-1127f681590a\" class=\"plotly-graph-div\" style=\"height:525px; width:100%;\"></div>            <script type=\"text/javascript\">                require([\"plotly\"], function(Plotly) {                    window.PLOTLYENV=window.PLOTLYENV || {};\n",
       "                    window.PLOTLYENV.BASE_URL='https://plot.ly';                                    if (document.getElementById(\"bfda20c2-eaf0-45a3-911d-1127f681590a\")) {                    Plotly.newPlot(                        \"bfda20c2-eaf0-45a3-911d-1127f681590a\",                        [{\"colorscale\":[[0.0,\"rgb(165,0,38)\"],[0.1,\"rgb(215,48,39)\"],[0.2,\"rgb(244,109,67)\"],[0.3,\"rgb(253,174,97)\"],[0.4,\"rgb(254,224,144)\"],[0.5,\"rgb(255,255,191)\"],[0.6,\"rgb(224,243,248)\"],[0.7,\"rgb(171,217,233)\"],[0.8,\"rgb(116,173,209)\"],[0.9,\"rgb(69,117,180)\"],[1.0,\"rgb(49,54,149)\"]],\"x\":[0,1,2,3,4],\"y\":[\"x\",\"y\",\"z\"],\"z\":[[1,2,3,4,5],[10,20,30,20,10],[5,4,3,2,1]],\"type\":\"surface\"}],                        {\"legend\":{\"bgcolor\":\"#F5F6F9\",\"font\":{\"color\":\"#4D5663\"}},\"paper_bgcolor\":\"#F5F6F9\",\"plot_bgcolor\":\"#F5F6F9\",\"template\":{\"data\":{\"barpolar\":[{\"marker\":{\"line\":{\"color\":\"#E5ECF6\",\"width\":0.5},\"pattern\":{\"fillmode\":\"overlay\",\"size\":10,\"solidity\":0.2}},\"type\":\"barpolar\"}],\"bar\":[{\"error_x\":{\"color\":\"#2a3f5f\"},\"error_y\":{\"color\":\"#2a3f5f\"},\"marker\":{\"line\":{\"color\":\"#E5ECF6\",\"width\":0.5},\"pattern\":{\"fillmode\":\"overlay\",\"size\":10,\"solidity\":0.2}},\"type\":\"bar\"}],\"carpet\":[{\"aaxis\":{\"endlinecolor\":\"#2a3f5f\",\"gridcolor\":\"white\",\"linecolor\":\"white\",\"minorgridcolor\":\"white\",\"startlinecolor\":\"#2a3f5f\"},\"baxis\":{\"endlinecolor\":\"#2a3f5f\",\"gridcolor\":\"white\",\"linecolor\":\"white\",\"minorgridcolor\":\"white\",\"startlinecolor\":\"#2a3f5f\"},\"type\":\"carpet\"}],\"choropleth\":[{\"colorbar\":{\"outlinewidth\":0,\"ticks\":\"\"},\"type\":\"choropleth\"}],\"contourcarpet\":[{\"colorbar\":{\"outlinewidth\":0,\"ticks\":\"\"},\"type\":\"contourcarpet\"}],\"contour\":[{\"colorbar\":{\"outlinewidth\":0,\"ticks\":\"\"},\"colorscale\":[[0.0,\"#0d0887\"],[0.1111111111111111,\"#46039f\"],[0.2222222222222222,\"#7201a8\"],[0.3333333333333333,\"#9c179e\"],[0.4444444444444444,\"#bd3786\"],[0.5555555555555556,\"#d8576b\"],[0.6666666666666666,\"#ed7953\"],[0.7777777777777778,\"#fb9f3a\"],[0.8888888888888888,\"#fdca26\"],[1.0,\"#f0f921\"]],\"type\":\"contour\"}],\"heatmapgl\":[{\"colorbar\":{\"outlinewidth\":0,\"ticks\":\"\"},\"colorscale\":[[0.0,\"#0d0887\"],[0.1111111111111111,\"#46039f\"],[0.2222222222222222,\"#7201a8\"],[0.3333333333333333,\"#9c179e\"],[0.4444444444444444,\"#bd3786\"],[0.5555555555555556,\"#d8576b\"],[0.6666666666666666,\"#ed7953\"],[0.7777777777777778,\"#fb9f3a\"],[0.8888888888888888,\"#fdca26\"],[1.0,\"#f0f921\"]],\"type\":\"heatmapgl\"}],\"heatmap\":[{\"colorbar\":{\"outlinewidth\":0,\"ticks\":\"\"},\"colorscale\":[[0.0,\"#0d0887\"],[0.1111111111111111,\"#46039f\"],[0.2222222222222222,\"#7201a8\"],[0.3333333333333333,\"#9c179e\"],[0.4444444444444444,\"#bd3786\"],[0.5555555555555556,\"#d8576b\"],[0.6666666666666666,\"#ed7953\"],[0.7777777777777778,\"#fb9f3a\"],[0.8888888888888888,\"#fdca26\"],[1.0,\"#f0f921\"]],\"type\":\"heatmap\"}],\"histogram2dcontour\":[{\"colorbar\":{\"outlinewidth\":0,\"ticks\":\"\"},\"colorscale\":[[0.0,\"#0d0887\"],[0.1111111111111111,\"#46039f\"],[0.2222222222222222,\"#7201a8\"],[0.3333333333333333,\"#9c179e\"],[0.4444444444444444,\"#bd3786\"],[0.5555555555555556,\"#d8576b\"],[0.6666666666666666,\"#ed7953\"],[0.7777777777777778,\"#fb9f3a\"],[0.8888888888888888,\"#fdca26\"],[1.0,\"#f0f921\"]],\"type\":\"histogram2dcontour\"}],\"histogram2d\":[{\"colorbar\":{\"outlinewidth\":0,\"ticks\":\"\"},\"colorscale\":[[0.0,\"#0d0887\"],[0.1111111111111111,\"#46039f\"],[0.2222222222222222,\"#7201a8\"],[0.3333333333333333,\"#9c179e\"],[0.4444444444444444,\"#bd3786\"],[0.5555555555555556,\"#d8576b\"],[0.6666666666666666,\"#ed7953\"],[0.7777777777777778,\"#fb9f3a\"],[0.8888888888888888,\"#fdca26\"],[1.0,\"#f0f921\"]],\"type\":\"histogram2d\"}],\"histogram\":[{\"marker\":{\"pattern\":{\"fillmode\":\"overlay\",\"size\":10,\"solidity\":0.2}},\"type\":\"histogram\"}],\"mesh3d\":[{\"colorbar\":{\"outlinewidth\":0,\"ticks\":\"\"},\"type\":\"mesh3d\"}],\"parcoords\":[{\"line\":{\"colorbar\":{\"outlinewidth\":0,\"ticks\":\"\"}},\"type\":\"parcoords\"}],\"pie\":[{\"automargin\":true,\"type\":\"pie\"}],\"scatter3d\":[{\"line\":{\"colorbar\":{\"outlinewidth\":0,\"ticks\":\"\"}},\"marker\":{\"colorbar\":{\"outlinewidth\":0,\"ticks\":\"\"}},\"type\":\"scatter3d\"}],\"scattercarpet\":[{\"marker\":{\"colorbar\":{\"outlinewidth\":0,\"ticks\":\"\"}},\"type\":\"scattercarpet\"}],\"scattergeo\":[{\"marker\":{\"colorbar\":{\"outlinewidth\":0,\"ticks\":\"\"}},\"type\":\"scattergeo\"}],\"scattergl\":[{\"marker\":{\"colorbar\":{\"outlinewidth\":0,\"ticks\":\"\"}},\"type\":\"scattergl\"}],\"scattermapbox\":[{\"marker\":{\"colorbar\":{\"outlinewidth\":0,\"ticks\":\"\"}},\"type\":\"scattermapbox\"}],\"scatterpolargl\":[{\"marker\":{\"colorbar\":{\"outlinewidth\":0,\"ticks\":\"\"}},\"type\":\"scatterpolargl\"}],\"scatterpolar\":[{\"marker\":{\"colorbar\":{\"outlinewidth\":0,\"ticks\":\"\"}},\"type\":\"scatterpolar\"}],\"scatter\":[{\"fillpattern\":{\"fillmode\":\"overlay\",\"size\":10,\"solidity\":0.2},\"type\":\"scatter\"}],\"scatterternary\":[{\"marker\":{\"colorbar\":{\"outlinewidth\":0,\"ticks\":\"\"}},\"type\":\"scatterternary\"}],\"surface\":[{\"colorbar\":{\"outlinewidth\":0,\"ticks\":\"\"},\"colorscale\":[[0.0,\"#0d0887\"],[0.1111111111111111,\"#46039f\"],[0.2222222222222222,\"#7201a8\"],[0.3333333333333333,\"#9c179e\"],[0.4444444444444444,\"#bd3786\"],[0.5555555555555556,\"#d8576b\"],[0.6666666666666666,\"#ed7953\"],[0.7777777777777778,\"#fb9f3a\"],[0.8888888888888888,\"#fdca26\"],[1.0,\"#f0f921\"]],\"type\":\"surface\"}],\"table\":[{\"cells\":{\"fill\":{\"color\":\"#EBF0F8\"},\"line\":{\"color\":\"white\"}},\"header\":{\"fill\":{\"color\":\"#C8D4E3\"},\"line\":{\"color\":\"white\"}},\"type\":\"table\"}]},\"layout\":{\"annotationdefaults\":{\"arrowcolor\":\"#2a3f5f\",\"arrowhead\":0,\"arrowwidth\":1},\"autotypenumbers\":\"strict\",\"coloraxis\":{\"colorbar\":{\"outlinewidth\":0,\"ticks\":\"\"}},\"colorscale\":{\"diverging\":[[0,\"#8e0152\"],[0.1,\"#c51b7d\"],[0.2,\"#de77ae\"],[0.3,\"#f1b6da\"],[0.4,\"#fde0ef\"],[0.5,\"#f7f7f7\"],[0.6,\"#e6f5d0\"],[0.7,\"#b8e186\"],[0.8,\"#7fbc41\"],[0.9,\"#4d9221\"],[1,\"#276419\"]],\"sequential\":[[0.0,\"#0d0887\"],[0.1111111111111111,\"#46039f\"],[0.2222222222222222,\"#7201a8\"],[0.3333333333333333,\"#9c179e\"],[0.4444444444444444,\"#bd3786\"],[0.5555555555555556,\"#d8576b\"],[0.6666666666666666,\"#ed7953\"],[0.7777777777777778,\"#fb9f3a\"],[0.8888888888888888,\"#fdca26\"],[1.0,\"#f0f921\"]],\"sequentialminus\":[[0.0,\"#0d0887\"],[0.1111111111111111,\"#46039f\"],[0.2222222222222222,\"#7201a8\"],[0.3333333333333333,\"#9c179e\"],[0.4444444444444444,\"#bd3786\"],[0.5555555555555556,\"#d8576b\"],[0.6666666666666666,\"#ed7953\"],[0.7777777777777778,\"#fb9f3a\"],[0.8888888888888888,\"#fdca26\"],[1.0,\"#f0f921\"]]},\"colorway\":[\"#636efa\",\"#EF553B\",\"#00cc96\",\"#ab63fa\",\"#FFA15A\",\"#19d3f3\",\"#FF6692\",\"#B6E880\",\"#FF97FF\",\"#FECB52\"],\"font\":{\"color\":\"#2a3f5f\"},\"geo\":{\"bgcolor\":\"white\",\"lakecolor\":\"white\",\"landcolor\":\"#E5ECF6\",\"showlakes\":true,\"showland\":true,\"subunitcolor\":\"white\"},\"hoverlabel\":{\"align\":\"left\"},\"hovermode\":\"closest\",\"mapbox\":{\"style\":\"light\"},\"paper_bgcolor\":\"white\",\"plot_bgcolor\":\"#E5ECF6\",\"polar\":{\"angularaxis\":{\"gridcolor\":\"white\",\"linecolor\":\"white\",\"ticks\":\"\"},\"bgcolor\":\"#E5ECF6\",\"radialaxis\":{\"gridcolor\":\"white\",\"linecolor\":\"white\",\"ticks\":\"\"}},\"scene\":{\"xaxis\":{\"backgroundcolor\":\"#E5ECF6\",\"gridcolor\":\"white\",\"gridwidth\":2,\"linecolor\":\"white\",\"showbackground\":true,\"ticks\":\"\",\"zerolinecolor\":\"white\"},\"yaxis\":{\"backgroundcolor\":\"#E5ECF6\",\"gridcolor\":\"white\",\"gridwidth\":2,\"linecolor\":\"white\",\"showbackground\":true,\"ticks\":\"\",\"zerolinecolor\":\"white\"},\"zaxis\":{\"backgroundcolor\":\"#E5ECF6\",\"gridcolor\":\"white\",\"gridwidth\":2,\"linecolor\":\"white\",\"showbackground\":true,\"ticks\":\"\",\"zerolinecolor\":\"white\"}},\"shapedefaults\":{\"line\":{\"color\":\"#2a3f5f\"}},\"ternary\":{\"aaxis\":{\"gridcolor\":\"white\",\"linecolor\":\"white\",\"ticks\":\"\"},\"baxis\":{\"gridcolor\":\"white\",\"linecolor\":\"white\",\"ticks\":\"\"},\"bgcolor\":\"#E5ECF6\",\"caxis\":{\"gridcolor\":\"white\",\"linecolor\":\"white\",\"ticks\":\"\"}},\"title\":{\"x\":0.05},\"xaxis\":{\"automargin\":true,\"gridcolor\":\"white\",\"linecolor\":\"white\",\"ticks\":\"\",\"title\":{\"standoff\":15},\"zerolinecolor\":\"white\",\"zerolinewidth\":2},\"yaxis\":{\"automargin\":true,\"gridcolor\":\"white\",\"linecolor\":\"white\",\"ticks\":\"\",\"title\":{\"standoff\":15},\"zerolinecolor\":\"white\",\"zerolinewidth\":2}}},\"title\":{\"font\":{\"color\":\"#4D5663\"}},\"xaxis\":{\"gridcolor\":\"#E1E5ED\",\"showgrid\":true,\"tickfont\":{\"color\":\"#4D5663\"},\"title\":{\"font\":{\"color\":\"#4D5663\"},\"text\":\"\"},\"zerolinecolor\":\"#E1E5ED\"},\"yaxis\":{\"gridcolor\":\"#E1E5ED\",\"showgrid\":true,\"tickfont\":{\"color\":\"#4D5663\"},\"title\":{\"font\":{\"color\":\"#4D5663\"},\"text\":\"\"},\"zerolinecolor\":\"#E1E5ED\"}},                        {\"showLink\": true, \"linkText\": \"Export to plot.ly\", \"plotlyServerURL\": \"https://plot.ly\", \"responsive\": true}                    ).then(function(){\n",
       "                            \n",
       "var gd = document.getElementById('bfda20c2-eaf0-45a3-911d-1127f681590a');\n",
       "var x = new MutationObserver(function (mutations, observer) {{\n",
       "        var display = window.getComputedStyle(gd).display;\n",
       "        if (!display || display === 'none') {{\n",
       "            console.log([gd, 'removed!']);\n",
       "            Plotly.purge(gd);\n",
       "            observer.disconnect();\n",
       "        }}\n",
       "}});\n",
       "\n",
       "// Listen for the removal of the full notebook cells\n",
       "var notebookContainer = gd.closest('#notebook-container');\n",
       "if (notebookContainer) {{\n",
       "    x.observe(notebookContainer, {childList: true});\n",
       "}}\n",
       "\n",
       "// Listen for the clearing of the current output cell\n",
       "var outputEl = gd.closest('.output');\n",
       "if (outputEl) {{\n",
       "    x.observe(outputEl, {childList: true});\n",
       "}}\n",
       "\n",
       "                        })                };                });            </script>        </div>"
      ]
     },
     "metadata": {},
     "output_type": "display_data"
    }
   ],
   "source": [
    "df3 = pd.DataFrame({'x':[1,2,3,4,5],'y':[10,20,30,20,10],'z':[5,4,3,2,1]})\n",
    "df3.iplot(kind='surface',colorscale='rdylbu')"
   ]
  },
  {
   "cell_type": "markdown",
   "metadata": {},
   "source": [
    "### v. Spread\n",
    "\n",
    "[Fix](https://stackoverflow.com/questions/76459499/attributeerror-module-pandas-has-no-attribute-np-cufflinks-spread-graph)"
   ]
  },
  {
   "cell_type": "code",
   "execution_count": null,
   "metadata": {},
   "outputs": [],
   "source": [
    "df1[['A','B']].iplot(kind='spread')"
   ]
  },
  {
   "cell_type": "markdown",
   "metadata": {},
   "source": [
    "### vi. histogram"
   ]
  },
  {
   "cell_type": "code",
   "execution_count": 19,
   "metadata": {},
   "outputs": [
    {
     "data": {
      "application/vnd.plotly.v1+json": {
       "config": {
        "linkText": "Export to plot.ly",
        "plotlyServerURL": "https://plot.ly",
        "showLink": true
       },
       "data": [
        {
         "histfunc": "count",
         "histnorm": "",
         "marker": {
          "color": "rgba(255, 153, 51, 1.0)",
          "line": {
           "color": "#4D5663",
           "width": 1.3
          }
         },
         "name": "A",
         "nbinsx": 25,
         "opacity": 0.8,
         "orientation": "v",
         "type": "histogram",
         "x": [
          -0.16200811326552847,
          -0.20157352604196913,
          -0.7878824139985893,
          -0.8098186826097336,
          -1.499626473245483,
          1.3801493133608,
          1.4464314084880139,
          -1.027585474513354,
          -0.4425867986983349,
          1.0107964592664522,
          -1.8686899556147416,
          -0.4366797049682072,
          0.33283194607288075,
          0.8691983656072146,
          0.34899189602579483,
          -0.758070179841699,
          -2.2823246253628784,
          -1.7959123288281453,
          -1.0702517942537177,
          0.4303128493804597,
          1.3435913199391896,
          -1.3231792291241613,
          -0.055540871869691394,
          0.6047955363165932,
          -0.012223060701152295,
          -1.1977548892056136,
          -0.30401147308524457,
          -0.0014968000861568448,
          0.7614139136605413,
          1.6585102109046828,
          0.7364580328985136,
          -0.7862808461442161,
          0.12410899216476683,
          1.1324233955669805,
          -0.5386544999702856,
          -0.022224946329560458,
          -0.834795832535822,
          0.6400542617381624,
          -0.050410517639447344,
          -0.5070593103526382,
          0.10836598048652045,
          -1.3099723281736693,
          -0.7309978091566318,
          -1.4472446690984737,
          1.214628112420574,
          0.16471557214098853,
          0.5101660846956017,
          0.2543680410886363,
          -1.0907187736222694,
          -1.0206930835823955,
          0.2114028072469376,
          1.103887751499291,
          -0.4328552481437502,
          1.7194264735579212,
          -0.14310994297648086,
          1.889389666404278,
          1.9843080677745246,
          -0.0717101693371949,
          -0.30833082541370677,
          -0.83727669533764,
          0.8295237394428329,
          -1.7304676350653139,
          -0.02263656134543682,
          0.9036188982062072,
          -1.1962297491709328,
          0.6151506627961592,
          -1.0744273790386734,
          1.9546837633904182,
          -1.6721370855644804,
          0.6285809592376622,
          0.06875595298308364,
          0.1735047453153547,
          -1.6484418313570877,
          -0.05196360207271461,
          -1.860942779195856,
          -0.24376406652507243,
          1.3166504197314817,
          1.0993760777773394,
          0.3350603250308234,
          2.166415132213184,
          -1.403635427455722,
          -0.9987539122797616,
          -0.0389318520766291,
          -1.0102888165372037,
          -0.47230340795459325,
          0.8944983501138225,
          -1.0323828454951944,
          -0.37873548762691633,
          1.1014417823921847,
          -1.502163006619164,
          0.4882168187023026,
          -0.08079466347421826,
          -0.7311064155672401,
          -1.3601359769407153,
          1.4419021706579305,
          0.6056008285554461,
          0.5359229544971378,
          0.7345365991801566,
          -1.0367646456343842,
          -1.1218870781265498
         ]
        }
       ],
       "layout": {
        "barmode": "overlay",
        "legend": {
         "bgcolor": "#F5F6F9",
         "font": {
          "color": "#4D5663"
         }
        },
        "paper_bgcolor": "#F5F6F9",
        "plot_bgcolor": "#F5F6F9",
        "template": {
         "data": {
          "bar": [
           {
            "error_x": {
             "color": "#2a3f5f"
            },
            "error_y": {
             "color": "#2a3f5f"
            },
            "marker": {
             "line": {
              "color": "#E5ECF6",
              "width": 0.5
             },
             "pattern": {
              "fillmode": "overlay",
              "size": 10,
              "solidity": 0.2
             }
            },
            "type": "bar"
           }
          ],
          "barpolar": [
           {
            "marker": {
             "line": {
              "color": "#E5ECF6",
              "width": 0.5
             },
             "pattern": {
              "fillmode": "overlay",
              "size": 10,
              "solidity": 0.2
             }
            },
            "type": "barpolar"
           }
          ],
          "carpet": [
           {
            "aaxis": {
             "endlinecolor": "#2a3f5f",
             "gridcolor": "white",
             "linecolor": "white",
             "minorgridcolor": "white",
             "startlinecolor": "#2a3f5f"
            },
            "baxis": {
             "endlinecolor": "#2a3f5f",
             "gridcolor": "white",
             "linecolor": "white",
             "minorgridcolor": "white",
             "startlinecolor": "#2a3f5f"
            },
            "type": "carpet"
           }
          ],
          "choropleth": [
           {
            "colorbar": {
             "outlinewidth": 0,
             "ticks": ""
            },
            "type": "choropleth"
           }
          ],
          "contour": [
           {
            "colorbar": {
             "outlinewidth": 0,
             "ticks": ""
            },
            "colorscale": [
             [
              0,
              "#0d0887"
             ],
             [
              0.1111111111111111,
              "#46039f"
             ],
             [
              0.2222222222222222,
              "#7201a8"
             ],
             [
              0.3333333333333333,
              "#9c179e"
             ],
             [
              0.4444444444444444,
              "#bd3786"
             ],
             [
              0.5555555555555556,
              "#d8576b"
             ],
             [
              0.6666666666666666,
              "#ed7953"
             ],
             [
              0.7777777777777778,
              "#fb9f3a"
             ],
             [
              0.8888888888888888,
              "#fdca26"
             ],
             [
              1,
              "#f0f921"
             ]
            ],
            "type": "contour"
           }
          ],
          "contourcarpet": [
           {
            "colorbar": {
             "outlinewidth": 0,
             "ticks": ""
            },
            "type": "contourcarpet"
           }
          ],
          "heatmap": [
           {
            "colorbar": {
             "outlinewidth": 0,
             "ticks": ""
            },
            "colorscale": [
             [
              0,
              "#0d0887"
             ],
             [
              0.1111111111111111,
              "#46039f"
             ],
             [
              0.2222222222222222,
              "#7201a8"
             ],
             [
              0.3333333333333333,
              "#9c179e"
             ],
             [
              0.4444444444444444,
              "#bd3786"
             ],
             [
              0.5555555555555556,
              "#d8576b"
             ],
             [
              0.6666666666666666,
              "#ed7953"
             ],
             [
              0.7777777777777778,
              "#fb9f3a"
             ],
             [
              0.8888888888888888,
              "#fdca26"
             ],
             [
              1,
              "#f0f921"
             ]
            ],
            "type": "heatmap"
           }
          ],
          "heatmapgl": [
           {
            "colorbar": {
             "outlinewidth": 0,
             "ticks": ""
            },
            "colorscale": [
             [
              0,
              "#0d0887"
             ],
             [
              0.1111111111111111,
              "#46039f"
             ],
             [
              0.2222222222222222,
              "#7201a8"
             ],
             [
              0.3333333333333333,
              "#9c179e"
             ],
             [
              0.4444444444444444,
              "#bd3786"
             ],
             [
              0.5555555555555556,
              "#d8576b"
             ],
             [
              0.6666666666666666,
              "#ed7953"
             ],
             [
              0.7777777777777778,
              "#fb9f3a"
             ],
             [
              0.8888888888888888,
              "#fdca26"
             ],
             [
              1,
              "#f0f921"
             ]
            ],
            "type": "heatmapgl"
           }
          ],
          "histogram": [
           {
            "marker": {
             "pattern": {
              "fillmode": "overlay",
              "size": 10,
              "solidity": 0.2
             }
            },
            "type": "histogram"
           }
          ],
          "histogram2d": [
           {
            "colorbar": {
             "outlinewidth": 0,
             "ticks": ""
            },
            "colorscale": [
             [
              0,
              "#0d0887"
             ],
             [
              0.1111111111111111,
              "#46039f"
             ],
             [
              0.2222222222222222,
              "#7201a8"
             ],
             [
              0.3333333333333333,
              "#9c179e"
             ],
             [
              0.4444444444444444,
              "#bd3786"
             ],
             [
              0.5555555555555556,
              "#d8576b"
             ],
             [
              0.6666666666666666,
              "#ed7953"
             ],
             [
              0.7777777777777778,
              "#fb9f3a"
             ],
             [
              0.8888888888888888,
              "#fdca26"
             ],
             [
              1,
              "#f0f921"
             ]
            ],
            "type": "histogram2d"
           }
          ],
          "histogram2dcontour": [
           {
            "colorbar": {
             "outlinewidth": 0,
             "ticks": ""
            },
            "colorscale": [
             [
              0,
              "#0d0887"
             ],
             [
              0.1111111111111111,
              "#46039f"
             ],
             [
              0.2222222222222222,
              "#7201a8"
             ],
             [
              0.3333333333333333,
              "#9c179e"
             ],
             [
              0.4444444444444444,
              "#bd3786"
             ],
             [
              0.5555555555555556,
              "#d8576b"
             ],
             [
              0.6666666666666666,
              "#ed7953"
             ],
             [
              0.7777777777777778,
              "#fb9f3a"
             ],
             [
              0.8888888888888888,
              "#fdca26"
             ],
             [
              1,
              "#f0f921"
             ]
            ],
            "type": "histogram2dcontour"
           }
          ],
          "mesh3d": [
           {
            "colorbar": {
             "outlinewidth": 0,
             "ticks": ""
            },
            "type": "mesh3d"
           }
          ],
          "parcoords": [
           {
            "line": {
             "colorbar": {
              "outlinewidth": 0,
              "ticks": ""
             }
            },
            "type": "parcoords"
           }
          ],
          "pie": [
           {
            "automargin": true,
            "type": "pie"
           }
          ],
          "scatter": [
           {
            "fillpattern": {
             "fillmode": "overlay",
             "size": 10,
             "solidity": 0.2
            },
            "type": "scatter"
           }
          ],
          "scatter3d": [
           {
            "line": {
             "colorbar": {
              "outlinewidth": 0,
              "ticks": ""
             }
            },
            "marker": {
             "colorbar": {
              "outlinewidth": 0,
              "ticks": ""
             }
            },
            "type": "scatter3d"
           }
          ],
          "scattercarpet": [
           {
            "marker": {
             "colorbar": {
              "outlinewidth": 0,
              "ticks": ""
             }
            },
            "type": "scattercarpet"
           }
          ],
          "scattergeo": [
           {
            "marker": {
             "colorbar": {
              "outlinewidth": 0,
              "ticks": ""
             }
            },
            "type": "scattergeo"
           }
          ],
          "scattergl": [
           {
            "marker": {
             "colorbar": {
              "outlinewidth": 0,
              "ticks": ""
             }
            },
            "type": "scattergl"
           }
          ],
          "scattermapbox": [
           {
            "marker": {
             "colorbar": {
              "outlinewidth": 0,
              "ticks": ""
             }
            },
            "type": "scattermapbox"
           }
          ],
          "scatterpolar": [
           {
            "marker": {
             "colorbar": {
              "outlinewidth": 0,
              "ticks": ""
             }
            },
            "type": "scatterpolar"
           }
          ],
          "scatterpolargl": [
           {
            "marker": {
             "colorbar": {
              "outlinewidth": 0,
              "ticks": ""
             }
            },
            "type": "scatterpolargl"
           }
          ],
          "scatterternary": [
           {
            "marker": {
             "colorbar": {
              "outlinewidth": 0,
              "ticks": ""
             }
            },
            "type": "scatterternary"
           }
          ],
          "surface": [
           {
            "colorbar": {
             "outlinewidth": 0,
             "ticks": ""
            },
            "colorscale": [
             [
              0,
              "#0d0887"
             ],
             [
              0.1111111111111111,
              "#46039f"
             ],
             [
              0.2222222222222222,
              "#7201a8"
             ],
             [
              0.3333333333333333,
              "#9c179e"
             ],
             [
              0.4444444444444444,
              "#bd3786"
             ],
             [
              0.5555555555555556,
              "#d8576b"
             ],
             [
              0.6666666666666666,
              "#ed7953"
             ],
             [
              0.7777777777777778,
              "#fb9f3a"
             ],
             [
              0.8888888888888888,
              "#fdca26"
             ],
             [
              1,
              "#f0f921"
             ]
            ],
            "type": "surface"
           }
          ],
          "table": [
           {
            "cells": {
             "fill": {
              "color": "#EBF0F8"
             },
             "line": {
              "color": "white"
             }
            },
            "header": {
             "fill": {
              "color": "#C8D4E3"
             },
             "line": {
              "color": "white"
             }
            },
            "type": "table"
           }
          ]
         },
         "layout": {
          "annotationdefaults": {
           "arrowcolor": "#2a3f5f",
           "arrowhead": 0,
           "arrowwidth": 1
          },
          "autotypenumbers": "strict",
          "coloraxis": {
           "colorbar": {
            "outlinewidth": 0,
            "ticks": ""
           }
          },
          "colorscale": {
           "diverging": [
            [
             0,
             "#8e0152"
            ],
            [
             0.1,
             "#c51b7d"
            ],
            [
             0.2,
             "#de77ae"
            ],
            [
             0.3,
             "#f1b6da"
            ],
            [
             0.4,
             "#fde0ef"
            ],
            [
             0.5,
             "#f7f7f7"
            ],
            [
             0.6,
             "#e6f5d0"
            ],
            [
             0.7,
             "#b8e186"
            ],
            [
             0.8,
             "#7fbc41"
            ],
            [
             0.9,
             "#4d9221"
            ],
            [
             1,
             "#276419"
            ]
           ],
           "sequential": [
            [
             0,
             "#0d0887"
            ],
            [
             0.1111111111111111,
             "#46039f"
            ],
            [
             0.2222222222222222,
             "#7201a8"
            ],
            [
             0.3333333333333333,
             "#9c179e"
            ],
            [
             0.4444444444444444,
             "#bd3786"
            ],
            [
             0.5555555555555556,
             "#d8576b"
            ],
            [
             0.6666666666666666,
             "#ed7953"
            ],
            [
             0.7777777777777778,
             "#fb9f3a"
            ],
            [
             0.8888888888888888,
             "#fdca26"
            ],
            [
             1,
             "#f0f921"
            ]
           ],
           "sequentialminus": [
            [
             0,
             "#0d0887"
            ],
            [
             0.1111111111111111,
             "#46039f"
            ],
            [
             0.2222222222222222,
             "#7201a8"
            ],
            [
             0.3333333333333333,
             "#9c179e"
            ],
            [
             0.4444444444444444,
             "#bd3786"
            ],
            [
             0.5555555555555556,
             "#d8576b"
            ],
            [
             0.6666666666666666,
             "#ed7953"
            ],
            [
             0.7777777777777778,
             "#fb9f3a"
            ],
            [
             0.8888888888888888,
             "#fdca26"
            ],
            [
             1,
             "#f0f921"
            ]
           ]
          },
          "colorway": [
           "#636efa",
           "#EF553B",
           "#00cc96",
           "#ab63fa",
           "#FFA15A",
           "#19d3f3",
           "#FF6692",
           "#B6E880",
           "#FF97FF",
           "#FECB52"
          ],
          "font": {
           "color": "#2a3f5f"
          },
          "geo": {
           "bgcolor": "white",
           "lakecolor": "white",
           "landcolor": "#E5ECF6",
           "showlakes": true,
           "showland": true,
           "subunitcolor": "white"
          },
          "hoverlabel": {
           "align": "left"
          },
          "hovermode": "closest",
          "mapbox": {
           "style": "light"
          },
          "paper_bgcolor": "white",
          "plot_bgcolor": "#E5ECF6",
          "polar": {
           "angularaxis": {
            "gridcolor": "white",
            "linecolor": "white",
            "ticks": ""
           },
           "bgcolor": "#E5ECF6",
           "radialaxis": {
            "gridcolor": "white",
            "linecolor": "white",
            "ticks": ""
           }
          },
          "scene": {
           "xaxis": {
            "backgroundcolor": "#E5ECF6",
            "gridcolor": "white",
            "gridwidth": 2,
            "linecolor": "white",
            "showbackground": true,
            "ticks": "",
            "zerolinecolor": "white"
           },
           "yaxis": {
            "backgroundcolor": "#E5ECF6",
            "gridcolor": "white",
            "gridwidth": 2,
            "linecolor": "white",
            "showbackground": true,
            "ticks": "",
            "zerolinecolor": "white"
           },
           "zaxis": {
            "backgroundcolor": "#E5ECF6",
            "gridcolor": "white",
            "gridwidth": 2,
            "linecolor": "white",
            "showbackground": true,
            "ticks": "",
            "zerolinecolor": "white"
           }
          },
          "shapedefaults": {
           "line": {
            "color": "#2a3f5f"
           }
          },
          "ternary": {
           "aaxis": {
            "gridcolor": "white",
            "linecolor": "white",
            "ticks": ""
           },
           "baxis": {
            "gridcolor": "white",
            "linecolor": "white",
            "ticks": ""
           },
           "bgcolor": "#E5ECF6",
           "caxis": {
            "gridcolor": "white",
            "linecolor": "white",
            "ticks": ""
           }
          },
          "title": {
           "x": 0.05
          },
          "xaxis": {
           "automargin": true,
           "gridcolor": "white",
           "linecolor": "white",
           "ticks": "",
           "title": {
            "standoff": 15
           },
           "zerolinecolor": "white",
           "zerolinewidth": 2
          },
          "yaxis": {
           "automargin": true,
           "gridcolor": "white",
           "linecolor": "white",
           "ticks": "",
           "title": {
            "standoff": 15
           },
           "zerolinecolor": "white",
           "zerolinewidth": 2
          }
         }
        },
        "title": {
         "font": {
          "color": "#4D5663"
         }
        },
        "xaxis": {
         "gridcolor": "#E1E5ED",
         "showgrid": true,
         "tickfont": {
          "color": "#4D5663"
         },
         "title": {
          "font": {
           "color": "#4D5663"
          },
          "text": ""
         },
         "zerolinecolor": "#E1E5ED"
        },
        "yaxis": {
         "gridcolor": "#E1E5ED",
         "showgrid": true,
         "tickfont": {
          "color": "#4D5663"
         },
         "title": {
          "font": {
           "color": "#4D5663"
          },
          "text": ""
         },
         "zerolinecolor": "#E1E5ED"
        }
       }
      },
      "text/html": [
       "<div>                            <div id=\"de31e569-f4ef-427d-a172-47d765db7e03\" class=\"plotly-graph-div\" style=\"height:525px; width:100%;\"></div>            <script type=\"text/javascript\">                require([\"plotly\"], function(Plotly) {                    window.PLOTLYENV=window.PLOTLYENV || {};\n",
       "                    window.PLOTLYENV.BASE_URL='https://plot.ly';                                    if (document.getElementById(\"de31e569-f4ef-427d-a172-47d765db7e03\")) {                    Plotly.newPlot(                        \"de31e569-f4ef-427d-a172-47d765db7e03\",                        [{\"histfunc\":\"count\",\"histnorm\":\"\",\"marker\":{\"color\":\"rgba(255, 153, 51, 1.0)\",\"line\":{\"color\":\"#4D5663\",\"width\":1.3}},\"name\":\"A\",\"nbinsx\":25,\"opacity\":0.8,\"orientation\":\"v\",\"x\":[-0.16200811326552847,-0.20157352604196913,-0.7878824139985893,-0.8098186826097336,-1.499626473245483,1.3801493133608,1.4464314084880139,-1.027585474513354,-0.4425867986983349,1.0107964592664522,-1.8686899556147416,-0.4366797049682072,0.33283194607288075,0.8691983656072146,0.34899189602579483,-0.758070179841699,-2.2823246253628784,-1.7959123288281453,-1.0702517942537177,0.4303128493804597,1.3435913199391896,-1.3231792291241613,-0.055540871869691394,0.6047955363165932,-0.012223060701152295,-1.1977548892056136,-0.30401147308524457,-0.0014968000861568448,0.7614139136605413,1.6585102109046828,0.7364580328985136,-0.7862808461442161,0.12410899216476683,1.1324233955669805,-0.5386544999702856,-0.022224946329560458,-0.834795832535822,0.6400542617381624,-0.050410517639447344,-0.5070593103526382,0.10836598048652045,-1.3099723281736693,-0.7309978091566318,-1.4472446690984737,1.214628112420574,0.16471557214098853,0.5101660846956017,0.2543680410886363,-1.0907187736222694,-1.0206930835823955,0.2114028072469376,1.103887751499291,-0.4328552481437502,1.7194264735579212,-0.14310994297648086,1.889389666404278,1.9843080677745246,-0.0717101693371949,-0.30833082541370677,-0.83727669533764,0.8295237394428329,-1.7304676350653139,-0.02263656134543682,0.9036188982062072,-1.1962297491709328,0.6151506627961592,-1.0744273790386734,1.9546837633904182,-1.6721370855644804,0.6285809592376622,0.06875595298308364,0.1735047453153547,-1.6484418313570877,-0.05196360207271461,-1.860942779195856,-0.24376406652507243,1.3166504197314817,1.0993760777773394,0.3350603250308234,2.166415132213184,-1.403635427455722,-0.9987539122797616,-0.0389318520766291,-1.0102888165372037,-0.47230340795459325,0.8944983501138225,-1.0323828454951944,-0.37873548762691633,1.1014417823921847,-1.502163006619164,0.4882168187023026,-0.08079466347421826,-0.7311064155672401,-1.3601359769407153,1.4419021706579305,0.6056008285554461,0.5359229544971378,0.7345365991801566,-1.0367646456343842,-1.1218870781265498],\"type\":\"histogram\"}],                        {\"barmode\":\"overlay\",\"legend\":{\"bgcolor\":\"#F5F6F9\",\"font\":{\"color\":\"#4D5663\"}},\"paper_bgcolor\":\"#F5F6F9\",\"plot_bgcolor\":\"#F5F6F9\",\"template\":{\"data\":{\"barpolar\":[{\"marker\":{\"line\":{\"color\":\"#E5ECF6\",\"width\":0.5},\"pattern\":{\"fillmode\":\"overlay\",\"size\":10,\"solidity\":0.2}},\"type\":\"barpolar\"}],\"bar\":[{\"error_x\":{\"color\":\"#2a3f5f\"},\"error_y\":{\"color\":\"#2a3f5f\"},\"marker\":{\"line\":{\"color\":\"#E5ECF6\",\"width\":0.5},\"pattern\":{\"fillmode\":\"overlay\",\"size\":10,\"solidity\":0.2}},\"type\":\"bar\"}],\"carpet\":[{\"aaxis\":{\"endlinecolor\":\"#2a3f5f\",\"gridcolor\":\"white\",\"linecolor\":\"white\",\"minorgridcolor\":\"white\",\"startlinecolor\":\"#2a3f5f\"},\"baxis\":{\"endlinecolor\":\"#2a3f5f\",\"gridcolor\":\"white\",\"linecolor\":\"white\",\"minorgridcolor\":\"white\",\"startlinecolor\":\"#2a3f5f\"},\"type\":\"carpet\"}],\"choropleth\":[{\"colorbar\":{\"outlinewidth\":0,\"ticks\":\"\"},\"type\":\"choropleth\"}],\"contourcarpet\":[{\"colorbar\":{\"outlinewidth\":0,\"ticks\":\"\"},\"type\":\"contourcarpet\"}],\"contour\":[{\"colorbar\":{\"outlinewidth\":0,\"ticks\":\"\"},\"colorscale\":[[0.0,\"#0d0887\"],[0.1111111111111111,\"#46039f\"],[0.2222222222222222,\"#7201a8\"],[0.3333333333333333,\"#9c179e\"],[0.4444444444444444,\"#bd3786\"],[0.5555555555555556,\"#d8576b\"],[0.6666666666666666,\"#ed7953\"],[0.7777777777777778,\"#fb9f3a\"],[0.8888888888888888,\"#fdca26\"],[1.0,\"#f0f921\"]],\"type\":\"contour\"}],\"heatmapgl\":[{\"colorbar\":{\"outlinewidth\":0,\"ticks\":\"\"},\"colorscale\":[[0.0,\"#0d0887\"],[0.1111111111111111,\"#46039f\"],[0.2222222222222222,\"#7201a8\"],[0.3333333333333333,\"#9c179e\"],[0.4444444444444444,\"#bd3786\"],[0.5555555555555556,\"#d8576b\"],[0.6666666666666666,\"#ed7953\"],[0.7777777777777778,\"#fb9f3a\"],[0.8888888888888888,\"#fdca26\"],[1.0,\"#f0f921\"]],\"type\":\"heatmapgl\"}],\"heatmap\":[{\"colorbar\":{\"outlinewidth\":0,\"ticks\":\"\"},\"colorscale\":[[0.0,\"#0d0887\"],[0.1111111111111111,\"#46039f\"],[0.2222222222222222,\"#7201a8\"],[0.3333333333333333,\"#9c179e\"],[0.4444444444444444,\"#bd3786\"],[0.5555555555555556,\"#d8576b\"],[0.6666666666666666,\"#ed7953\"],[0.7777777777777778,\"#fb9f3a\"],[0.8888888888888888,\"#fdca26\"],[1.0,\"#f0f921\"]],\"type\":\"heatmap\"}],\"histogram2dcontour\":[{\"colorbar\":{\"outlinewidth\":0,\"ticks\":\"\"},\"colorscale\":[[0.0,\"#0d0887\"],[0.1111111111111111,\"#46039f\"],[0.2222222222222222,\"#7201a8\"],[0.3333333333333333,\"#9c179e\"],[0.4444444444444444,\"#bd3786\"],[0.5555555555555556,\"#d8576b\"],[0.6666666666666666,\"#ed7953\"],[0.7777777777777778,\"#fb9f3a\"],[0.8888888888888888,\"#fdca26\"],[1.0,\"#f0f921\"]],\"type\":\"histogram2dcontour\"}],\"histogram2d\":[{\"colorbar\":{\"outlinewidth\":0,\"ticks\":\"\"},\"colorscale\":[[0.0,\"#0d0887\"],[0.1111111111111111,\"#46039f\"],[0.2222222222222222,\"#7201a8\"],[0.3333333333333333,\"#9c179e\"],[0.4444444444444444,\"#bd3786\"],[0.5555555555555556,\"#d8576b\"],[0.6666666666666666,\"#ed7953\"],[0.7777777777777778,\"#fb9f3a\"],[0.8888888888888888,\"#fdca26\"],[1.0,\"#f0f921\"]],\"type\":\"histogram2d\"}],\"histogram\":[{\"marker\":{\"pattern\":{\"fillmode\":\"overlay\",\"size\":10,\"solidity\":0.2}},\"type\":\"histogram\"}],\"mesh3d\":[{\"colorbar\":{\"outlinewidth\":0,\"ticks\":\"\"},\"type\":\"mesh3d\"}],\"parcoords\":[{\"line\":{\"colorbar\":{\"outlinewidth\":0,\"ticks\":\"\"}},\"type\":\"parcoords\"}],\"pie\":[{\"automargin\":true,\"type\":\"pie\"}],\"scatter3d\":[{\"line\":{\"colorbar\":{\"outlinewidth\":0,\"ticks\":\"\"}},\"marker\":{\"colorbar\":{\"outlinewidth\":0,\"ticks\":\"\"}},\"type\":\"scatter3d\"}],\"scattercarpet\":[{\"marker\":{\"colorbar\":{\"outlinewidth\":0,\"ticks\":\"\"}},\"type\":\"scattercarpet\"}],\"scattergeo\":[{\"marker\":{\"colorbar\":{\"outlinewidth\":0,\"ticks\":\"\"}},\"type\":\"scattergeo\"}],\"scattergl\":[{\"marker\":{\"colorbar\":{\"outlinewidth\":0,\"ticks\":\"\"}},\"type\":\"scattergl\"}],\"scattermapbox\":[{\"marker\":{\"colorbar\":{\"outlinewidth\":0,\"ticks\":\"\"}},\"type\":\"scattermapbox\"}],\"scatterpolargl\":[{\"marker\":{\"colorbar\":{\"outlinewidth\":0,\"ticks\":\"\"}},\"type\":\"scatterpolargl\"}],\"scatterpolar\":[{\"marker\":{\"colorbar\":{\"outlinewidth\":0,\"ticks\":\"\"}},\"type\":\"scatterpolar\"}],\"scatter\":[{\"fillpattern\":{\"fillmode\":\"overlay\",\"size\":10,\"solidity\":0.2},\"type\":\"scatter\"}],\"scatterternary\":[{\"marker\":{\"colorbar\":{\"outlinewidth\":0,\"ticks\":\"\"}},\"type\":\"scatterternary\"}],\"surface\":[{\"colorbar\":{\"outlinewidth\":0,\"ticks\":\"\"},\"colorscale\":[[0.0,\"#0d0887\"],[0.1111111111111111,\"#46039f\"],[0.2222222222222222,\"#7201a8\"],[0.3333333333333333,\"#9c179e\"],[0.4444444444444444,\"#bd3786\"],[0.5555555555555556,\"#d8576b\"],[0.6666666666666666,\"#ed7953\"],[0.7777777777777778,\"#fb9f3a\"],[0.8888888888888888,\"#fdca26\"],[1.0,\"#f0f921\"]],\"type\":\"surface\"}],\"table\":[{\"cells\":{\"fill\":{\"color\":\"#EBF0F8\"},\"line\":{\"color\":\"white\"}},\"header\":{\"fill\":{\"color\":\"#C8D4E3\"},\"line\":{\"color\":\"white\"}},\"type\":\"table\"}]},\"layout\":{\"annotationdefaults\":{\"arrowcolor\":\"#2a3f5f\",\"arrowhead\":0,\"arrowwidth\":1},\"autotypenumbers\":\"strict\",\"coloraxis\":{\"colorbar\":{\"outlinewidth\":0,\"ticks\":\"\"}},\"colorscale\":{\"diverging\":[[0,\"#8e0152\"],[0.1,\"#c51b7d\"],[0.2,\"#de77ae\"],[0.3,\"#f1b6da\"],[0.4,\"#fde0ef\"],[0.5,\"#f7f7f7\"],[0.6,\"#e6f5d0\"],[0.7,\"#b8e186\"],[0.8,\"#7fbc41\"],[0.9,\"#4d9221\"],[1,\"#276419\"]],\"sequential\":[[0.0,\"#0d0887\"],[0.1111111111111111,\"#46039f\"],[0.2222222222222222,\"#7201a8\"],[0.3333333333333333,\"#9c179e\"],[0.4444444444444444,\"#bd3786\"],[0.5555555555555556,\"#d8576b\"],[0.6666666666666666,\"#ed7953\"],[0.7777777777777778,\"#fb9f3a\"],[0.8888888888888888,\"#fdca26\"],[1.0,\"#f0f921\"]],\"sequentialminus\":[[0.0,\"#0d0887\"],[0.1111111111111111,\"#46039f\"],[0.2222222222222222,\"#7201a8\"],[0.3333333333333333,\"#9c179e\"],[0.4444444444444444,\"#bd3786\"],[0.5555555555555556,\"#d8576b\"],[0.6666666666666666,\"#ed7953\"],[0.7777777777777778,\"#fb9f3a\"],[0.8888888888888888,\"#fdca26\"],[1.0,\"#f0f921\"]]},\"colorway\":[\"#636efa\",\"#EF553B\",\"#00cc96\",\"#ab63fa\",\"#FFA15A\",\"#19d3f3\",\"#FF6692\",\"#B6E880\",\"#FF97FF\",\"#FECB52\"],\"font\":{\"color\":\"#2a3f5f\"},\"geo\":{\"bgcolor\":\"white\",\"lakecolor\":\"white\",\"landcolor\":\"#E5ECF6\",\"showlakes\":true,\"showland\":true,\"subunitcolor\":\"white\"},\"hoverlabel\":{\"align\":\"left\"},\"hovermode\":\"closest\",\"mapbox\":{\"style\":\"light\"},\"paper_bgcolor\":\"white\",\"plot_bgcolor\":\"#E5ECF6\",\"polar\":{\"angularaxis\":{\"gridcolor\":\"white\",\"linecolor\":\"white\",\"ticks\":\"\"},\"bgcolor\":\"#E5ECF6\",\"radialaxis\":{\"gridcolor\":\"white\",\"linecolor\":\"white\",\"ticks\":\"\"}},\"scene\":{\"xaxis\":{\"backgroundcolor\":\"#E5ECF6\",\"gridcolor\":\"white\",\"gridwidth\":2,\"linecolor\":\"white\",\"showbackground\":true,\"ticks\":\"\",\"zerolinecolor\":\"white\"},\"yaxis\":{\"backgroundcolor\":\"#E5ECF6\",\"gridcolor\":\"white\",\"gridwidth\":2,\"linecolor\":\"white\",\"showbackground\":true,\"ticks\":\"\",\"zerolinecolor\":\"white\"},\"zaxis\":{\"backgroundcolor\":\"#E5ECF6\",\"gridcolor\":\"white\",\"gridwidth\":2,\"linecolor\":\"white\",\"showbackground\":true,\"ticks\":\"\",\"zerolinecolor\":\"white\"}},\"shapedefaults\":{\"line\":{\"color\":\"#2a3f5f\"}},\"ternary\":{\"aaxis\":{\"gridcolor\":\"white\",\"linecolor\":\"white\",\"ticks\":\"\"},\"baxis\":{\"gridcolor\":\"white\",\"linecolor\":\"white\",\"ticks\":\"\"},\"bgcolor\":\"#E5ECF6\",\"caxis\":{\"gridcolor\":\"white\",\"linecolor\":\"white\",\"ticks\":\"\"}},\"title\":{\"x\":0.05},\"xaxis\":{\"automargin\":true,\"gridcolor\":\"white\",\"linecolor\":\"white\",\"ticks\":\"\",\"title\":{\"standoff\":15},\"zerolinecolor\":\"white\",\"zerolinewidth\":2},\"yaxis\":{\"automargin\":true,\"gridcolor\":\"white\",\"linecolor\":\"white\",\"ticks\":\"\",\"title\":{\"standoff\":15},\"zerolinecolor\":\"white\",\"zerolinewidth\":2}}},\"title\":{\"font\":{\"color\":\"#4D5663\"}},\"xaxis\":{\"gridcolor\":\"#E1E5ED\",\"showgrid\":true,\"tickfont\":{\"color\":\"#4D5663\"},\"title\":{\"font\":{\"color\":\"#4D5663\"},\"text\":\"\"},\"zerolinecolor\":\"#E1E5ED\"},\"yaxis\":{\"gridcolor\":\"#E1E5ED\",\"showgrid\":true,\"tickfont\":{\"color\":\"#4D5663\"},\"title\":{\"font\":{\"color\":\"#4D5663\"},\"text\":\"\"},\"zerolinecolor\":\"#E1E5ED\"}},                        {\"showLink\": true, \"linkText\": \"Export to plot.ly\", \"plotlyServerURL\": \"https://plot.ly\", \"responsive\": true}                    ).then(function(){\n",
       "                            \n",
       "var gd = document.getElementById('de31e569-f4ef-427d-a172-47d765db7e03');\n",
       "var x = new MutationObserver(function (mutations, observer) {{\n",
       "        var display = window.getComputedStyle(gd).display;\n",
       "        if (!display || display === 'none') {{\n",
       "            console.log([gd, 'removed!']);\n",
       "            Plotly.purge(gd);\n",
       "            observer.disconnect();\n",
       "        }}\n",
       "}});\n",
       "\n",
       "// Listen for the removal of the full notebook cells\n",
       "var notebookContainer = gd.closest('#notebook-container');\n",
       "if (notebookContainer) {{\n",
       "    x.observe(notebookContainer, {childList: true});\n",
       "}}\n",
       "\n",
       "// Listen for the clearing of the current output cell\n",
       "var outputEl = gd.closest('.output');\n",
       "if (outputEl) {{\n",
       "    x.observe(outputEl, {childList: true});\n",
       "}}\n",
       "\n",
       "                        })                };                });            </script>        </div>"
      ]
     },
     "metadata": {},
     "output_type": "display_data"
    }
   ],
   "source": [
    "df1['A'].iplot(kind='hist',bins=25)"
   ]
  },
  {
   "cell_type": "code",
   "execution_count": 21,
   "metadata": {},
   "outputs": [
    {
     "data": {
      "application/vnd.plotly.v1+json": {
       "config": {
        "linkText": "Export to plot.ly",
        "plotlyServerURL": "https://plot.ly",
        "showLink": true
       },
       "data": [
        {
         "marker": {
          "color": [
           "rgb(255, 153, 51)",
           "rgb(55, 128, 191)",
           "rgb(50, 171, 96)",
           "rgb(128, 0, 128)",
           "rgb(219, 64, 82)",
           "rgb(0, 128, 128)",
           "rgb(255, 255, 51)",
           "rgb(128, 128, 0)",
           "rgb(251, 128, 114)",
           "rgb(128, 177, 211)"
          ],
          "line": {
           "width": 1.3
          },
          "size": [
           71,
           45,
           34,
           86,
           97,
           109,
           71,
           57,
           89,
           64,
           72,
           91,
           30,
           77,
           66,
           34,
           17,
           83,
           79,
           68,
           66,
           71,
           99,
           42,
           112,
           80,
           48,
           56,
           100,
           107,
           50,
           73,
           95,
           72,
           72,
           52,
           49,
           53,
           60,
           77,
           50,
           81,
           45,
           49,
           65,
           58,
           57,
           76,
           97,
           80,
           59,
           32,
           37,
           45,
           84,
           41,
           80,
           43,
           65,
           33,
           79,
           57,
           37,
           16,
           76,
           62,
           63,
           26,
           55,
           50,
           45,
           70,
           87,
           101,
           68,
           66,
           56,
           54,
           57,
           74,
           75,
           26,
           39,
           45,
           33,
           65,
           57,
           97,
           12,
           73,
           72,
           52,
           14,
           57,
           69,
           57,
           60,
           53,
           80,
           69
          ],
          "symbol": "circle"
         },
         "mode": "markers",
         "text": "",
         "type": "scatter",
         "x": [
          -0.16200811326552847,
          -0.20157352604196913,
          -0.7878824139985893,
          -0.8098186826097336,
          -1.499626473245483,
          1.3801493133608,
          1.4464314084880139,
          -1.027585474513354,
          -0.4425867986983349,
          1.0107964592664522,
          -1.8686899556147416,
          -0.4366797049682072,
          0.33283194607288075,
          0.8691983656072146,
          0.34899189602579483,
          -0.758070179841699,
          -2.2823246253628784,
          -1.7959123288281453,
          -1.0702517942537177,
          0.4303128493804597,
          1.3435913199391896,
          -1.3231792291241613,
          -0.055540871869691394,
          0.6047955363165932,
          -0.012223060701152295,
          -1.1977548892056136,
          -0.30401147308524457,
          -0.0014968000861568448,
          0.7614139136605413,
          1.6585102109046828,
          0.7364580328985136,
          -0.7862808461442161,
          0.12410899216476683,
          1.1324233955669805,
          -0.5386544999702856,
          -0.022224946329560458,
          -0.834795832535822,
          0.6400542617381624,
          -0.050410517639447344,
          -0.5070593103526382,
          0.10836598048652045,
          -1.3099723281736693,
          -0.7309978091566318,
          -1.4472446690984737,
          1.214628112420574,
          0.16471557214098853,
          0.5101660846956017,
          0.2543680410886363,
          -1.0907187736222694,
          -1.0206930835823955,
          0.2114028072469376,
          1.103887751499291,
          -0.4328552481437502,
          1.7194264735579212,
          -0.14310994297648086,
          1.889389666404278,
          1.9843080677745246,
          -0.0717101693371949,
          -0.30833082541370677,
          -0.83727669533764,
          0.8295237394428329,
          -1.7304676350653139,
          -0.02263656134543682,
          0.9036188982062072,
          -1.1962297491709328,
          0.6151506627961592,
          -1.0744273790386734,
          1.9546837633904182,
          -1.6721370855644804,
          0.6285809592376622,
          0.06875595298308364,
          0.1735047453153547,
          -1.6484418313570877,
          -0.05196360207271461,
          -1.860942779195856,
          -0.24376406652507243,
          1.3166504197314817,
          1.0993760777773394,
          0.3350603250308234,
          2.166415132213184,
          -1.403635427455722,
          -0.9987539122797616,
          -0.0389318520766291,
          -1.0102888165372037,
          -0.47230340795459325,
          0.8944983501138225,
          -1.0323828454951944,
          -0.37873548762691633,
          1.1014417823921847,
          -1.502163006619164,
          0.4882168187023026,
          -0.08079466347421826,
          -0.7311064155672401,
          -1.3601359769407153,
          1.4419021706579305,
          0.6056008285554461,
          0.5359229544971378,
          0.7345365991801566,
          -1.0367646456343842,
          -1.1218870781265498
         ],
         "y": [
          -1.921426653795267,
          0.334048307502647,
          0.29139511039949373,
          -0.6414184527866889,
          1.8129978660736876,
          0.9340616438700942,
          0.5255701521359472,
          -1.4207847314561757,
          -0.41203169323718924,
          2.1136931234184893,
          -0.2392950511227681,
          -0.5231243382302146,
          0.3623773844099841,
          0.43469180714147115,
          0.2935866855881844,
          0.32138992642777864,
          0.41061037413189344,
          -1.4194998343720762,
          1.393825863114237,
          -0.20378647124285942,
          -1.4991509068453899,
          -0.9160663223473968,
          0.39070360889958233,
          0.6172298347446923,
          -0.020980893536748667,
          0.02720719120393217,
          0.8659489667656535,
          1.4120805940010235,
          -0.6612552163928156,
          0.9766072007021301,
          0.5235910411065691,
          -1.117754300835103,
          -0.9579560538658426,
          0.4833318295107085,
          1.0543709617500725,
          0.009685684378018729,
          0.7288669976657884,
          -0.14689205337746256,
          0.11445795487666606,
          -0.027564293539367023,
          0.9093040405128784,
          -4.077346761391594,
          -0.8483320828075116,
          -0.8627690117139539,
          1.5086069738838883,
          0.5260008509407854,
          -1.7565326317334966,
          -0.3256021478172967,
          -1.2930036573566386,
          2.0288102398037915,
          1.0006261134294256,
          -1.108821308601499,
          0.6152609168980175,
          2.0481960101332133,
          1.3425391747308673,
          -1.293040167109373,
          1.1935177409160567,
          2.032888804673782,
          -1.7204457700362052,
          0.7287309361140403,
          2.2336560605752216,
          0.8822170448893837,
          0.050861719101860235,
          -0.08036018285574575,
          0.955803896868485,
          -0.07512760849515579,
          -1.361603914789393,
          2.640321839534361,
          -0.16940684601982414,
          0.28864765292112526,
          -0.7236842378381518,
          2.1116733153120353,
          0.1707759963321653,
          0.36901845477741674,
          -0.02521850161399106,
          0.2138434590310381,
          0.6885987440922583,
          -0.44279120734842004,
          -1.4347583561859933,
          -0.061585991997536935,
          -0.007528460407516018,
          -0.07182976840387806,
          2.660622975619294,
          -1.9004200235224258,
          -0.2617815618962467,
          1.4001633502788777,
          0.33623084799756425,
          -1.9703525166164124,
          0.5608169864561404,
          -0.5908191652410173,
          -2.3693589710613843,
          -1.0687157067226851,
          -1.3174908751570347,
          -0.21392793423096837,
          -0.5070210409948378,
          0.7068919126208695,
          0.4290939015181902,
          0.20560676502747743,
          -0.5278415000966169,
          1.8805733839542274
         ]
        }
       ],
       "layout": {
        "legend": {
         "bgcolor": "#F5F6F9",
         "font": {
          "color": "#4D5663"
         }
        },
        "paper_bgcolor": "#F5F6F9",
        "plot_bgcolor": "#F5F6F9",
        "template": {
         "data": {
          "bar": [
           {
            "error_x": {
             "color": "#2a3f5f"
            },
            "error_y": {
             "color": "#2a3f5f"
            },
            "marker": {
             "line": {
              "color": "#E5ECF6",
              "width": 0.5
             },
             "pattern": {
              "fillmode": "overlay",
              "size": 10,
              "solidity": 0.2
             }
            },
            "type": "bar"
           }
          ],
          "barpolar": [
           {
            "marker": {
             "line": {
              "color": "#E5ECF6",
              "width": 0.5
             },
             "pattern": {
              "fillmode": "overlay",
              "size": 10,
              "solidity": 0.2
             }
            },
            "type": "barpolar"
           }
          ],
          "carpet": [
           {
            "aaxis": {
             "endlinecolor": "#2a3f5f",
             "gridcolor": "white",
             "linecolor": "white",
             "minorgridcolor": "white",
             "startlinecolor": "#2a3f5f"
            },
            "baxis": {
             "endlinecolor": "#2a3f5f",
             "gridcolor": "white",
             "linecolor": "white",
             "minorgridcolor": "white",
             "startlinecolor": "#2a3f5f"
            },
            "type": "carpet"
           }
          ],
          "choropleth": [
           {
            "colorbar": {
             "outlinewidth": 0,
             "ticks": ""
            },
            "type": "choropleth"
           }
          ],
          "contour": [
           {
            "colorbar": {
             "outlinewidth": 0,
             "ticks": ""
            },
            "colorscale": [
             [
              0,
              "#0d0887"
             ],
             [
              0.1111111111111111,
              "#46039f"
             ],
             [
              0.2222222222222222,
              "#7201a8"
             ],
             [
              0.3333333333333333,
              "#9c179e"
             ],
             [
              0.4444444444444444,
              "#bd3786"
             ],
             [
              0.5555555555555556,
              "#d8576b"
             ],
             [
              0.6666666666666666,
              "#ed7953"
             ],
             [
              0.7777777777777778,
              "#fb9f3a"
             ],
             [
              0.8888888888888888,
              "#fdca26"
             ],
             [
              1,
              "#f0f921"
             ]
            ],
            "type": "contour"
           }
          ],
          "contourcarpet": [
           {
            "colorbar": {
             "outlinewidth": 0,
             "ticks": ""
            },
            "type": "contourcarpet"
           }
          ],
          "heatmap": [
           {
            "colorbar": {
             "outlinewidth": 0,
             "ticks": ""
            },
            "colorscale": [
             [
              0,
              "#0d0887"
             ],
             [
              0.1111111111111111,
              "#46039f"
             ],
             [
              0.2222222222222222,
              "#7201a8"
             ],
             [
              0.3333333333333333,
              "#9c179e"
             ],
             [
              0.4444444444444444,
              "#bd3786"
             ],
             [
              0.5555555555555556,
              "#d8576b"
             ],
             [
              0.6666666666666666,
              "#ed7953"
             ],
             [
              0.7777777777777778,
              "#fb9f3a"
             ],
             [
              0.8888888888888888,
              "#fdca26"
             ],
             [
              1,
              "#f0f921"
             ]
            ],
            "type": "heatmap"
           }
          ],
          "heatmapgl": [
           {
            "colorbar": {
             "outlinewidth": 0,
             "ticks": ""
            },
            "colorscale": [
             [
              0,
              "#0d0887"
             ],
             [
              0.1111111111111111,
              "#46039f"
             ],
             [
              0.2222222222222222,
              "#7201a8"
             ],
             [
              0.3333333333333333,
              "#9c179e"
             ],
             [
              0.4444444444444444,
              "#bd3786"
             ],
             [
              0.5555555555555556,
              "#d8576b"
             ],
             [
              0.6666666666666666,
              "#ed7953"
             ],
             [
              0.7777777777777778,
              "#fb9f3a"
             ],
             [
              0.8888888888888888,
              "#fdca26"
             ],
             [
              1,
              "#f0f921"
             ]
            ],
            "type": "heatmapgl"
           }
          ],
          "histogram": [
           {
            "marker": {
             "pattern": {
              "fillmode": "overlay",
              "size": 10,
              "solidity": 0.2
             }
            },
            "type": "histogram"
           }
          ],
          "histogram2d": [
           {
            "colorbar": {
             "outlinewidth": 0,
             "ticks": ""
            },
            "colorscale": [
             [
              0,
              "#0d0887"
             ],
             [
              0.1111111111111111,
              "#46039f"
             ],
             [
              0.2222222222222222,
              "#7201a8"
             ],
             [
              0.3333333333333333,
              "#9c179e"
             ],
             [
              0.4444444444444444,
              "#bd3786"
             ],
             [
              0.5555555555555556,
              "#d8576b"
             ],
             [
              0.6666666666666666,
              "#ed7953"
             ],
             [
              0.7777777777777778,
              "#fb9f3a"
             ],
             [
              0.8888888888888888,
              "#fdca26"
             ],
             [
              1,
              "#f0f921"
             ]
            ],
            "type": "histogram2d"
           }
          ],
          "histogram2dcontour": [
           {
            "colorbar": {
             "outlinewidth": 0,
             "ticks": ""
            },
            "colorscale": [
             [
              0,
              "#0d0887"
             ],
             [
              0.1111111111111111,
              "#46039f"
             ],
             [
              0.2222222222222222,
              "#7201a8"
             ],
             [
              0.3333333333333333,
              "#9c179e"
             ],
             [
              0.4444444444444444,
              "#bd3786"
             ],
             [
              0.5555555555555556,
              "#d8576b"
             ],
             [
              0.6666666666666666,
              "#ed7953"
             ],
             [
              0.7777777777777778,
              "#fb9f3a"
             ],
             [
              0.8888888888888888,
              "#fdca26"
             ],
             [
              1,
              "#f0f921"
             ]
            ],
            "type": "histogram2dcontour"
           }
          ],
          "mesh3d": [
           {
            "colorbar": {
             "outlinewidth": 0,
             "ticks": ""
            },
            "type": "mesh3d"
           }
          ],
          "parcoords": [
           {
            "line": {
             "colorbar": {
              "outlinewidth": 0,
              "ticks": ""
             }
            },
            "type": "parcoords"
           }
          ],
          "pie": [
           {
            "automargin": true,
            "type": "pie"
           }
          ],
          "scatter": [
           {
            "fillpattern": {
             "fillmode": "overlay",
             "size": 10,
             "solidity": 0.2
            },
            "type": "scatter"
           }
          ],
          "scatter3d": [
           {
            "line": {
             "colorbar": {
              "outlinewidth": 0,
              "ticks": ""
             }
            },
            "marker": {
             "colorbar": {
              "outlinewidth": 0,
              "ticks": ""
             }
            },
            "type": "scatter3d"
           }
          ],
          "scattercarpet": [
           {
            "marker": {
             "colorbar": {
              "outlinewidth": 0,
              "ticks": ""
             }
            },
            "type": "scattercarpet"
           }
          ],
          "scattergeo": [
           {
            "marker": {
             "colorbar": {
              "outlinewidth": 0,
              "ticks": ""
             }
            },
            "type": "scattergeo"
           }
          ],
          "scattergl": [
           {
            "marker": {
             "colorbar": {
              "outlinewidth": 0,
              "ticks": ""
             }
            },
            "type": "scattergl"
           }
          ],
          "scattermapbox": [
           {
            "marker": {
             "colorbar": {
              "outlinewidth": 0,
              "ticks": ""
             }
            },
            "type": "scattermapbox"
           }
          ],
          "scatterpolar": [
           {
            "marker": {
             "colorbar": {
              "outlinewidth": 0,
              "ticks": ""
             }
            },
            "type": "scatterpolar"
           }
          ],
          "scatterpolargl": [
           {
            "marker": {
             "colorbar": {
              "outlinewidth": 0,
              "ticks": ""
             }
            },
            "type": "scatterpolargl"
           }
          ],
          "scatterternary": [
           {
            "marker": {
             "colorbar": {
              "outlinewidth": 0,
              "ticks": ""
             }
            },
            "type": "scatterternary"
           }
          ],
          "surface": [
           {
            "colorbar": {
             "outlinewidth": 0,
             "ticks": ""
            },
            "colorscale": [
             [
              0,
              "#0d0887"
             ],
             [
              0.1111111111111111,
              "#46039f"
             ],
             [
              0.2222222222222222,
              "#7201a8"
             ],
             [
              0.3333333333333333,
              "#9c179e"
             ],
             [
              0.4444444444444444,
              "#bd3786"
             ],
             [
              0.5555555555555556,
              "#d8576b"
             ],
             [
              0.6666666666666666,
              "#ed7953"
             ],
             [
              0.7777777777777778,
              "#fb9f3a"
             ],
             [
              0.8888888888888888,
              "#fdca26"
             ],
             [
              1,
              "#f0f921"
             ]
            ],
            "type": "surface"
           }
          ],
          "table": [
           {
            "cells": {
             "fill": {
              "color": "#EBF0F8"
             },
             "line": {
              "color": "white"
             }
            },
            "header": {
             "fill": {
              "color": "#C8D4E3"
             },
             "line": {
              "color": "white"
             }
            },
            "type": "table"
           }
          ]
         },
         "layout": {
          "annotationdefaults": {
           "arrowcolor": "#2a3f5f",
           "arrowhead": 0,
           "arrowwidth": 1
          },
          "autotypenumbers": "strict",
          "coloraxis": {
           "colorbar": {
            "outlinewidth": 0,
            "ticks": ""
           }
          },
          "colorscale": {
           "diverging": [
            [
             0,
             "#8e0152"
            ],
            [
             0.1,
             "#c51b7d"
            ],
            [
             0.2,
             "#de77ae"
            ],
            [
             0.3,
             "#f1b6da"
            ],
            [
             0.4,
             "#fde0ef"
            ],
            [
             0.5,
             "#f7f7f7"
            ],
            [
             0.6,
             "#e6f5d0"
            ],
            [
             0.7,
             "#b8e186"
            ],
            [
             0.8,
             "#7fbc41"
            ],
            [
             0.9,
             "#4d9221"
            ],
            [
             1,
             "#276419"
            ]
           ],
           "sequential": [
            [
             0,
             "#0d0887"
            ],
            [
             0.1111111111111111,
             "#46039f"
            ],
            [
             0.2222222222222222,
             "#7201a8"
            ],
            [
             0.3333333333333333,
             "#9c179e"
            ],
            [
             0.4444444444444444,
             "#bd3786"
            ],
            [
             0.5555555555555556,
             "#d8576b"
            ],
            [
             0.6666666666666666,
             "#ed7953"
            ],
            [
             0.7777777777777778,
             "#fb9f3a"
            ],
            [
             0.8888888888888888,
             "#fdca26"
            ],
            [
             1,
             "#f0f921"
            ]
           ],
           "sequentialminus": [
            [
             0,
             "#0d0887"
            ],
            [
             0.1111111111111111,
             "#46039f"
            ],
            [
             0.2222222222222222,
             "#7201a8"
            ],
            [
             0.3333333333333333,
             "#9c179e"
            ],
            [
             0.4444444444444444,
             "#bd3786"
            ],
            [
             0.5555555555555556,
             "#d8576b"
            ],
            [
             0.6666666666666666,
             "#ed7953"
            ],
            [
             0.7777777777777778,
             "#fb9f3a"
            ],
            [
             0.8888888888888888,
             "#fdca26"
            ],
            [
             1,
             "#f0f921"
            ]
           ]
          },
          "colorway": [
           "#636efa",
           "#EF553B",
           "#00cc96",
           "#ab63fa",
           "#FFA15A",
           "#19d3f3",
           "#FF6692",
           "#B6E880",
           "#FF97FF",
           "#FECB52"
          ],
          "font": {
           "color": "#2a3f5f"
          },
          "geo": {
           "bgcolor": "white",
           "lakecolor": "white",
           "landcolor": "#E5ECF6",
           "showlakes": true,
           "showland": true,
           "subunitcolor": "white"
          },
          "hoverlabel": {
           "align": "left"
          },
          "hovermode": "closest",
          "mapbox": {
           "style": "light"
          },
          "paper_bgcolor": "white",
          "plot_bgcolor": "#E5ECF6",
          "polar": {
           "angularaxis": {
            "gridcolor": "white",
            "linecolor": "white",
            "ticks": ""
           },
           "bgcolor": "#E5ECF6",
           "radialaxis": {
            "gridcolor": "white",
            "linecolor": "white",
            "ticks": ""
           }
          },
          "scene": {
           "xaxis": {
            "backgroundcolor": "#E5ECF6",
            "gridcolor": "white",
            "gridwidth": 2,
            "linecolor": "white",
            "showbackground": true,
            "ticks": "",
            "zerolinecolor": "white"
           },
           "yaxis": {
            "backgroundcolor": "#E5ECF6",
            "gridcolor": "white",
            "gridwidth": 2,
            "linecolor": "white",
            "showbackground": true,
            "ticks": "",
            "zerolinecolor": "white"
           },
           "zaxis": {
            "backgroundcolor": "#E5ECF6",
            "gridcolor": "white",
            "gridwidth": 2,
            "linecolor": "white",
            "showbackground": true,
            "ticks": "",
            "zerolinecolor": "white"
           }
          },
          "shapedefaults": {
           "line": {
            "color": "#2a3f5f"
           }
          },
          "ternary": {
           "aaxis": {
            "gridcolor": "white",
            "linecolor": "white",
            "ticks": ""
           },
           "baxis": {
            "gridcolor": "white",
            "linecolor": "white",
            "ticks": ""
           },
           "bgcolor": "#E5ECF6",
           "caxis": {
            "gridcolor": "white",
            "linecolor": "white",
            "ticks": ""
           }
          },
          "title": {
           "x": 0.05
          },
          "xaxis": {
           "automargin": true,
           "gridcolor": "white",
           "linecolor": "white",
           "ticks": "",
           "title": {
            "standoff": 15
           },
           "zerolinecolor": "white",
           "zerolinewidth": 2
          },
          "yaxis": {
           "automargin": true,
           "gridcolor": "white",
           "linecolor": "white",
           "ticks": "",
           "title": {
            "standoff": 15
           },
           "zerolinecolor": "white",
           "zerolinewidth": 2
          }
         }
        },
        "title": {
         "font": {
          "color": "#4D5663"
         }
        },
        "xaxis": {
         "gridcolor": "#E1E5ED",
         "showgrid": true,
         "tickfont": {
          "color": "#4D5663"
         },
         "title": {
          "font": {
           "color": "#4D5663"
          },
          "text": ""
         },
         "zerolinecolor": "#E1E5ED"
        },
        "yaxis": {
         "gridcolor": "#E1E5ED",
         "showgrid": true,
         "tickfont": {
          "color": "#4D5663"
         },
         "title": {
          "font": {
           "color": "#4D5663"
          },
          "text": ""
         },
         "zerolinecolor": "#E1E5ED"
        }
       }
      },
      "text/html": [
       "<div>                            <div id=\"bbf0635f-9f67-49b5-b826-39f4cb65f871\" class=\"plotly-graph-div\" style=\"height:525px; width:100%;\"></div>            <script type=\"text/javascript\">                require([\"plotly\"], function(Plotly) {                    window.PLOTLYENV=window.PLOTLYENV || {};\n",
       "                    window.PLOTLYENV.BASE_URL='https://plot.ly';                                    if (document.getElementById(\"bbf0635f-9f67-49b5-b826-39f4cb65f871\")) {                    Plotly.newPlot(                        \"bbf0635f-9f67-49b5-b826-39f4cb65f871\",                        [{\"marker\":{\"color\":[\"rgb(255, 153, 51)\",\"rgb(55, 128, 191)\",\"rgb(50, 171, 96)\",\"rgb(128, 0, 128)\",\"rgb(219, 64, 82)\",\"rgb(0, 128, 128)\",\"rgb(255, 255, 51)\",\"rgb(128, 128, 0)\",\"rgb(251, 128, 114)\",\"rgb(128, 177, 211)\"],\"line\":{\"width\":1.3},\"size\":[71,45,34,86,97,109,71,57,89,64,72,91,30,77,66,34,17,83,79,68,66,71,99,42,112,80,48,56,100,107,50,73,95,72,72,52,49,53,60,77,50,81,45,49,65,58,57,76,97,80,59,32,37,45,84,41,80,43,65,33,79,57,37,16,76,62,63,26,55,50,45,70,87,101,68,66,56,54,57,74,75,26,39,45,33,65,57,97,12,73,72,52,14,57,69,57,60,53,80,69],\"symbol\":\"circle\"},\"mode\":\"markers\",\"text\":\"\",\"x\":[-0.16200811326552847,-0.20157352604196913,-0.7878824139985893,-0.8098186826097336,-1.499626473245483,1.3801493133608,1.4464314084880139,-1.027585474513354,-0.4425867986983349,1.0107964592664522,-1.8686899556147416,-0.4366797049682072,0.33283194607288075,0.8691983656072146,0.34899189602579483,-0.758070179841699,-2.2823246253628784,-1.7959123288281453,-1.0702517942537177,0.4303128493804597,1.3435913199391896,-1.3231792291241613,-0.055540871869691394,0.6047955363165932,-0.012223060701152295,-1.1977548892056136,-0.30401147308524457,-0.0014968000861568448,0.7614139136605413,1.6585102109046828,0.7364580328985136,-0.7862808461442161,0.12410899216476683,1.1324233955669805,-0.5386544999702856,-0.022224946329560458,-0.834795832535822,0.6400542617381624,-0.050410517639447344,-0.5070593103526382,0.10836598048652045,-1.3099723281736693,-0.7309978091566318,-1.4472446690984737,1.214628112420574,0.16471557214098853,0.5101660846956017,0.2543680410886363,-1.0907187736222694,-1.0206930835823955,0.2114028072469376,1.103887751499291,-0.4328552481437502,1.7194264735579212,-0.14310994297648086,1.889389666404278,1.9843080677745246,-0.0717101693371949,-0.30833082541370677,-0.83727669533764,0.8295237394428329,-1.7304676350653139,-0.02263656134543682,0.9036188982062072,-1.1962297491709328,0.6151506627961592,-1.0744273790386734,1.9546837633904182,-1.6721370855644804,0.6285809592376622,0.06875595298308364,0.1735047453153547,-1.6484418313570877,-0.05196360207271461,-1.860942779195856,-0.24376406652507243,1.3166504197314817,1.0993760777773394,0.3350603250308234,2.166415132213184,-1.403635427455722,-0.9987539122797616,-0.0389318520766291,-1.0102888165372037,-0.47230340795459325,0.8944983501138225,-1.0323828454951944,-0.37873548762691633,1.1014417823921847,-1.502163006619164,0.4882168187023026,-0.08079466347421826,-0.7311064155672401,-1.3601359769407153,1.4419021706579305,0.6056008285554461,0.5359229544971378,0.7345365991801566,-1.0367646456343842,-1.1218870781265498],\"y\":[-1.921426653795267,0.334048307502647,0.29139511039949373,-0.6414184527866889,1.8129978660736876,0.9340616438700942,0.5255701521359472,-1.4207847314561757,-0.41203169323718924,2.1136931234184893,-0.2392950511227681,-0.5231243382302146,0.3623773844099841,0.43469180714147115,0.2935866855881844,0.32138992642777864,0.41061037413189344,-1.4194998343720762,1.393825863114237,-0.20378647124285942,-1.4991509068453899,-0.9160663223473968,0.39070360889958233,0.6172298347446923,-0.020980893536748667,0.02720719120393217,0.8659489667656535,1.4120805940010235,-0.6612552163928156,0.9766072007021301,0.5235910411065691,-1.117754300835103,-0.9579560538658426,0.4833318295107085,1.0543709617500725,0.009685684378018729,0.7288669976657884,-0.14689205337746256,0.11445795487666606,-0.027564293539367023,0.9093040405128784,-4.077346761391594,-0.8483320828075116,-0.8627690117139539,1.5086069738838883,0.5260008509407854,-1.7565326317334966,-0.3256021478172967,-1.2930036573566386,2.0288102398037915,1.0006261134294256,-1.108821308601499,0.6152609168980175,2.0481960101332133,1.3425391747308673,-1.293040167109373,1.1935177409160567,2.032888804673782,-1.7204457700362052,0.7287309361140403,2.2336560605752216,0.8822170448893837,0.050861719101860235,-0.08036018285574575,0.955803896868485,-0.07512760849515579,-1.361603914789393,2.640321839534361,-0.16940684601982414,0.28864765292112526,-0.7236842378381518,2.1116733153120353,0.1707759963321653,0.36901845477741674,-0.02521850161399106,0.2138434590310381,0.6885987440922583,-0.44279120734842004,-1.4347583561859933,-0.061585991997536935,-0.007528460407516018,-0.07182976840387806,2.660622975619294,-1.9004200235224258,-0.2617815618962467,1.4001633502788777,0.33623084799756425,-1.9703525166164124,0.5608169864561404,-0.5908191652410173,-2.3693589710613843,-1.0687157067226851,-1.3174908751570347,-0.21392793423096837,-0.5070210409948378,0.7068919126208695,0.4290939015181902,0.20560676502747743,-0.5278415000966169,1.8805733839542274],\"type\":\"scatter\"}],                        {\"legend\":{\"bgcolor\":\"#F5F6F9\",\"font\":{\"color\":\"#4D5663\"}},\"paper_bgcolor\":\"#F5F6F9\",\"plot_bgcolor\":\"#F5F6F9\",\"template\":{\"data\":{\"barpolar\":[{\"marker\":{\"line\":{\"color\":\"#E5ECF6\",\"width\":0.5},\"pattern\":{\"fillmode\":\"overlay\",\"size\":10,\"solidity\":0.2}},\"type\":\"barpolar\"}],\"bar\":[{\"error_x\":{\"color\":\"#2a3f5f\"},\"error_y\":{\"color\":\"#2a3f5f\"},\"marker\":{\"line\":{\"color\":\"#E5ECF6\",\"width\":0.5},\"pattern\":{\"fillmode\":\"overlay\",\"size\":10,\"solidity\":0.2}},\"type\":\"bar\"}],\"carpet\":[{\"aaxis\":{\"endlinecolor\":\"#2a3f5f\",\"gridcolor\":\"white\",\"linecolor\":\"white\",\"minorgridcolor\":\"white\",\"startlinecolor\":\"#2a3f5f\"},\"baxis\":{\"endlinecolor\":\"#2a3f5f\",\"gridcolor\":\"white\",\"linecolor\":\"white\",\"minorgridcolor\":\"white\",\"startlinecolor\":\"#2a3f5f\"},\"type\":\"carpet\"}],\"choropleth\":[{\"colorbar\":{\"outlinewidth\":0,\"ticks\":\"\"},\"type\":\"choropleth\"}],\"contourcarpet\":[{\"colorbar\":{\"outlinewidth\":0,\"ticks\":\"\"},\"type\":\"contourcarpet\"}],\"contour\":[{\"colorbar\":{\"outlinewidth\":0,\"ticks\":\"\"},\"colorscale\":[[0.0,\"#0d0887\"],[0.1111111111111111,\"#46039f\"],[0.2222222222222222,\"#7201a8\"],[0.3333333333333333,\"#9c179e\"],[0.4444444444444444,\"#bd3786\"],[0.5555555555555556,\"#d8576b\"],[0.6666666666666666,\"#ed7953\"],[0.7777777777777778,\"#fb9f3a\"],[0.8888888888888888,\"#fdca26\"],[1.0,\"#f0f921\"]],\"type\":\"contour\"}],\"heatmapgl\":[{\"colorbar\":{\"outlinewidth\":0,\"ticks\":\"\"},\"colorscale\":[[0.0,\"#0d0887\"],[0.1111111111111111,\"#46039f\"],[0.2222222222222222,\"#7201a8\"],[0.3333333333333333,\"#9c179e\"],[0.4444444444444444,\"#bd3786\"],[0.5555555555555556,\"#d8576b\"],[0.6666666666666666,\"#ed7953\"],[0.7777777777777778,\"#fb9f3a\"],[0.8888888888888888,\"#fdca26\"],[1.0,\"#f0f921\"]],\"type\":\"heatmapgl\"}],\"heatmap\":[{\"colorbar\":{\"outlinewidth\":0,\"ticks\":\"\"},\"colorscale\":[[0.0,\"#0d0887\"],[0.1111111111111111,\"#46039f\"],[0.2222222222222222,\"#7201a8\"],[0.3333333333333333,\"#9c179e\"],[0.4444444444444444,\"#bd3786\"],[0.5555555555555556,\"#d8576b\"],[0.6666666666666666,\"#ed7953\"],[0.7777777777777778,\"#fb9f3a\"],[0.8888888888888888,\"#fdca26\"],[1.0,\"#f0f921\"]],\"type\":\"heatmap\"}],\"histogram2dcontour\":[{\"colorbar\":{\"outlinewidth\":0,\"ticks\":\"\"},\"colorscale\":[[0.0,\"#0d0887\"],[0.1111111111111111,\"#46039f\"],[0.2222222222222222,\"#7201a8\"],[0.3333333333333333,\"#9c179e\"],[0.4444444444444444,\"#bd3786\"],[0.5555555555555556,\"#d8576b\"],[0.6666666666666666,\"#ed7953\"],[0.7777777777777778,\"#fb9f3a\"],[0.8888888888888888,\"#fdca26\"],[1.0,\"#f0f921\"]],\"type\":\"histogram2dcontour\"}],\"histogram2d\":[{\"colorbar\":{\"outlinewidth\":0,\"ticks\":\"\"},\"colorscale\":[[0.0,\"#0d0887\"],[0.1111111111111111,\"#46039f\"],[0.2222222222222222,\"#7201a8\"],[0.3333333333333333,\"#9c179e\"],[0.4444444444444444,\"#bd3786\"],[0.5555555555555556,\"#d8576b\"],[0.6666666666666666,\"#ed7953\"],[0.7777777777777778,\"#fb9f3a\"],[0.8888888888888888,\"#fdca26\"],[1.0,\"#f0f921\"]],\"type\":\"histogram2d\"}],\"histogram\":[{\"marker\":{\"pattern\":{\"fillmode\":\"overlay\",\"size\":10,\"solidity\":0.2}},\"type\":\"histogram\"}],\"mesh3d\":[{\"colorbar\":{\"outlinewidth\":0,\"ticks\":\"\"},\"type\":\"mesh3d\"}],\"parcoords\":[{\"line\":{\"colorbar\":{\"outlinewidth\":0,\"ticks\":\"\"}},\"type\":\"parcoords\"}],\"pie\":[{\"automargin\":true,\"type\":\"pie\"}],\"scatter3d\":[{\"line\":{\"colorbar\":{\"outlinewidth\":0,\"ticks\":\"\"}},\"marker\":{\"colorbar\":{\"outlinewidth\":0,\"ticks\":\"\"}},\"type\":\"scatter3d\"}],\"scattercarpet\":[{\"marker\":{\"colorbar\":{\"outlinewidth\":0,\"ticks\":\"\"}},\"type\":\"scattercarpet\"}],\"scattergeo\":[{\"marker\":{\"colorbar\":{\"outlinewidth\":0,\"ticks\":\"\"}},\"type\":\"scattergeo\"}],\"scattergl\":[{\"marker\":{\"colorbar\":{\"outlinewidth\":0,\"ticks\":\"\"}},\"type\":\"scattergl\"}],\"scattermapbox\":[{\"marker\":{\"colorbar\":{\"outlinewidth\":0,\"ticks\":\"\"}},\"type\":\"scattermapbox\"}],\"scatterpolargl\":[{\"marker\":{\"colorbar\":{\"outlinewidth\":0,\"ticks\":\"\"}},\"type\":\"scatterpolargl\"}],\"scatterpolar\":[{\"marker\":{\"colorbar\":{\"outlinewidth\":0,\"ticks\":\"\"}},\"type\":\"scatterpolar\"}],\"scatter\":[{\"fillpattern\":{\"fillmode\":\"overlay\",\"size\":10,\"solidity\":0.2},\"type\":\"scatter\"}],\"scatterternary\":[{\"marker\":{\"colorbar\":{\"outlinewidth\":0,\"ticks\":\"\"}},\"type\":\"scatterternary\"}],\"surface\":[{\"colorbar\":{\"outlinewidth\":0,\"ticks\":\"\"},\"colorscale\":[[0.0,\"#0d0887\"],[0.1111111111111111,\"#46039f\"],[0.2222222222222222,\"#7201a8\"],[0.3333333333333333,\"#9c179e\"],[0.4444444444444444,\"#bd3786\"],[0.5555555555555556,\"#d8576b\"],[0.6666666666666666,\"#ed7953\"],[0.7777777777777778,\"#fb9f3a\"],[0.8888888888888888,\"#fdca26\"],[1.0,\"#f0f921\"]],\"type\":\"surface\"}],\"table\":[{\"cells\":{\"fill\":{\"color\":\"#EBF0F8\"},\"line\":{\"color\":\"white\"}},\"header\":{\"fill\":{\"color\":\"#C8D4E3\"},\"line\":{\"color\":\"white\"}},\"type\":\"table\"}]},\"layout\":{\"annotationdefaults\":{\"arrowcolor\":\"#2a3f5f\",\"arrowhead\":0,\"arrowwidth\":1},\"autotypenumbers\":\"strict\",\"coloraxis\":{\"colorbar\":{\"outlinewidth\":0,\"ticks\":\"\"}},\"colorscale\":{\"diverging\":[[0,\"#8e0152\"],[0.1,\"#c51b7d\"],[0.2,\"#de77ae\"],[0.3,\"#f1b6da\"],[0.4,\"#fde0ef\"],[0.5,\"#f7f7f7\"],[0.6,\"#e6f5d0\"],[0.7,\"#b8e186\"],[0.8,\"#7fbc41\"],[0.9,\"#4d9221\"],[1,\"#276419\"]],\"sequential\":[[0.0,\"#0d0887\"],[0.1111111111111111,\"#46039f\"],[0.2222222222222222,\"#7201a8\"],[0.3333333333333333,\"#9c179e\"],[0.4444444444444444,\"#bd3786\"],[0.5555555555555556,\"#d8576b\"],[0.6666666666666666,\"#ed7953\"],[0.7777777777777778,\"#fb9f3a\"],[0.8888888888888888,\"#fdca26\"],[1.0,\"#f0f921\"]],\"sequentialminus\":[[0.0,\"#0d0887\"],[0.1111111111111111,\"#46039f\"],[0.2222222222222222,\"#7201a8\"],[0.3333333333333333,\"#9c179e\"],[0.4444444444444444,\"#bd3786\"],[0.5555555555555556,\"#d8576b\"],[0.6666666666666666,\"#ed7953\"],[0.7777777777777778,\"#fb9f3a\"],[0.8888888888888888,\"#fdca26\"],[1.0,\"#f0f921\"]]},\"colorway\":[\"#636efa\",\"#EF553B\",\"#00cc96\",\"#ab63fa\",\"#FFA15A\",\"#19d3f3\",\"#FF6692\",\"#B6E880\",\"#FF97FF\",\"#FECB52\"],\"font\":{\"color\":\"#2a3f5f\"},\"geo\":{\"bgcolor\":\"white\",\"lakecolor\":\"white\",\"landcolor\":\"#E5ECF6\",\"showlakes\":true,\"showland\":true,\"subunitcolor\":\"white\"},\"hoverlabel\":{\"align\":\"left\"},\"hovermode\":\"closest\",\"mapbox\":{\"style\":\"light\"},\"paper_bgcolor\":\"white\",\"plot_bgcolor\":\"#E5ECF6\",\"polar\":{\"angularaxis\":{\"gridcolor\":\"white\",\"linecolor\":\"white\",\"ticks\":\"\"},\"bgcolor\":\"#E5ECF6\",\"radialaxis\":{\"gridcolor\":\"white\",\"linecolor\":\"white\",\"ticks\":\"\"}},\"scene\":{\"xaxis\":{\"backgroundcolor\":\"#E5ECF6\",\"gridcolor\":\"white\",\"gridwidth\":2,\"linecolor\":\"white\",\"showbackground\":true,\"ticks\":\"\",\"zerolinecolor\":\"white\"},\"yaxis\":{\"backgroundcolor\":\"#E5ECF6\",\"gridcolor\":\"white\",\"gridwidth\":2,\"linecolor\":\"white\",\"showbackground\":true,\"ticks\":\"\",\"zerolinecolor\":\"white\"},\"zaxis\":{\"backgroundcolor\":\"#E5ECF6\",\"gridcolor\":\"white\",\"gridwidth\":2,\"linecolor\":\"white\",\"showbackground\":true,\"ticks\":\"\",\"zerolinecolor\":\"white\"}},\"shapedefaults\":{\"line\":{\"color\":\"#2a3f5f\"}},\"ternary\":{\"aaxis\":{\"gridcolor\":\"white\",\"linecolor\":\"white\",\"ticks\":\"\"},\"baxis\":{\"gridcolor\":\"white\",\"linecolor\":\"white\",\"ticks\":\"\"},\"bgcolor\":\"#E5ECF6\",\"caxis\":{\"gridcolor\":\"white\",\"linecolor\":\"white\",\"ticks\":\"\"}},\"title\":{\"x\":0.05},\"xaxis\":{\"automargin\":true,\"gridcolor\":\"white\",\"linecolor\":\"white\",\"ticks\":\"\",\"title\":{\"standoff\":15},\"zerolinecolor\":\"white\",\"zerolinewidth\":2},\"yaxis\":{\"automargin\":true,\"gridcolor\":\"white\",\"linecolor\":\"white\",\"ticks\":\"\",\"title\":{\"standoff\":15},\"zerolinecolor\":\"white\",\"zerolinewidth\":2}}},\"title\":{\"font\":{\"color\":\"#4D5663\"}},\"xaxis\":{\"gridcolor\":\"#E1E5ED\",\"showgrid\":true,\"tickfont\":{\"color\":\"#4D5663\"},\"title\":{\"font\":{\"color\":\"#4D5663\"},\"text\":\"\"},\"zerolinecolor\":\"#E1E5ED\"},\"yaxis\":{\"gridcolor\":\"#E1E5ED\",\"showgrid\":true,\"tickfont\":{\"color\":\"#4D5663\"},\"title\":{\"font\":{\"color\":\"#4D5663\"},\"text\":\"\"},\"zerolinecolor\":\"#E1E5ED\"}},                        {\"showLink\": true, \"linkText\": \"Export to plot.ly\", \"plotlyServerURL\": \"https://plot.ly\", \"responsive\": true}                    ).then(function(){\n",
       "                            \n",
       "var gd = document.getElementById('bbf0635f-9f67-49b5-b826-39f4cb65f871');\n",
       "var x = new MutationObserver(function (mutations, observer) {{\n",
       "        var display = window.getComputedStyle(gd).display;\n",
       "        if (!display || display === 'none') {{\n",
       "            console.log([gd, 'removed!']);\n",
       "            Plotly.purge(gd);\n",
       "            observer.disconnect();\n",
       "        }}\n",
       "}});\n",
       "\n",
       "// Listen for the removal of the full notebook cells\n",
       "var notebookContainer = gd.closest('#notebook-container');\n",
       "if (notebookContainer) {{\n",
       "    x.observe(notebookContainer, {childList: true});\n",
       "}}\n",
       "\n",
       "// Listen for the clearing of the current output cell\n",
       "var outputEl = gd.closest('.output');\n",
       "if (outputEl) {{\n",
       "    x.observe(outputEl, {childList: true});\n",
       "}}\n",
       "\n",
       "                        })                };                });            </script>        </div>"
      ]
     },
     "metadata": {},
     "output_type": "display_data"
    }
   ],
   "source": [
    "df1.iplot(kind='bubble',x='A',y='B',size='C')"
   ]
  },
  {
   "cell_type": "markdown",
   "metadata": {},
   "source": [
    "### vii. scatter_matrix()\n",
    "\n",
    "Similar to `sns.pairplot()`"
   ]
  },
  {
   "cell_type": "code",
   "execution_count": 22,
   "metadata": {},
   "outputs": [
    {
     "data": {
      "application/vnd.plotly.v1+json": {
       "config": {
        "linkText": "Export to plot.ly",
        "plotlyServerURL": "https://plot.ly",
        "showLink": true
       },
       "data": [
        {
         "histfunc": "count",
         "histnorm": "",
         "marker": {
          "color": "rgba(255, 153, 51, 1.0)",
          "line": {
           "color": "#4D5663",
           "width": 1.3
          }
         },
         "name": "A",
         "nbinsx": 10,
         "opacity": 0.8,
         "orientation": "v",
         "type": "histogram",
         "x": [
          -0.16200811326552847,
          -0.20157352604196913,
          -0.7878824139985893,
          -0.8098186826097336,
          -1.499626473245483,
          1.3801493133608,
          1.4464314084880139,
          -1.027585474513354,
          -0.4425867986983349,
          1.0107964592664522,
          -1.8686899556147416,
          -0.4366797049682072,
          0.33283194607288075,
          0.8691983656072146,
          0.34899189602579483,
          -0.758070179841699,
          -2.2823246253628784,
          -1.7959123288281453,
          -1.0702517942537177,
          0.4303128493804597,
          1.3435913199391896,
          -1.3231792291241613,
          -0.055540871869691394,
          0.6047955363165932,
          -0.012223060701152295,
          -1.1977548892056136,
          -0.30401147308524457,
          -0.0014968000861568448,
          0.7614139136605413,
          1.6585102109046828,
          0.7364580328985136,
          -0.7862808461442161,
          0.12410899216476683,
          1.1324233955669805,
          -0.5386544999702856,
          -0.022224946329560458,
          -0.834795832535822,
          0.6400542617381624,
          -0.050410517639447344,
          -0.5070593103526382,
          0.10836598048652045,
          -1.3099723281736693,
          -0.7309978091566318,
          -1.4472446690984737,
          1.214628112420574,
          0.16471557214098853,
          0.5101660846956017,
          0.2543680410886363,
          -1.0907187736222694,
          -1.0206930835823955,
          0.2114028072469376,
          1.103887751499291,
          -0.4328552481437502,
          1.7194264735579212,
          -0.14310994297648086,
          1.889389666404278,
          1.9843080677745246,
          -0.0717101693371949,
          -0.30833082541370677,
          -0.83727669533764,
          0.8295237394428329,
          -1.7304676350653139,
          -0.02263656134543682,
          0.9036188982062072,
          -1.1962297491709328,
          0.6151506627961592,
          -1.0744273790386734,
          1.9546837633904182,
          -1.6721370855644804,
          0.6285809592376622,
          0.06875595298308364,
          0.1735047453153547,
          -1.6484418313570877,
          -0.05196360207271461,
          -1.860942779195856,
          -0.24376406652507243,
          1.3166504197314817,
          1.0993760777773394,
          0.3350603250308234,
          2.166415132213184,
          -1.403635427455722,
          -0.9987539122797616,
          -0.0389318520766291,
          -1.0102888165372037,
          -0.47230340795459325,
          0.8944983501138225,
          -1.0323828454951944,
          -0.37873548762691633,
          1.1014417823921847,
          -1.502163006619164,
          0.4882168187023026,
          -0.08079466347421826,
          -0.7311064155672401,
          -1.3601359769407153,
          1.4419021706579305,
          0.6056008285554461,
          0.5359229544971378,
          0.7345365991801566,
          -1.0367646456343842,
          -1.1218870781265498
         ],
         "xaxis": "x",
         "yaxis": "y"
        },
        {
         "line": {
          "color": "rgba(128, 128, 128, 1.0)",
          "dash": "solid",
          "shape": "linear",
          "width": 1.3
         },
         "marker": {
          "size": 2,
          "symbol": "circle"
         },
         "mode": "markers",
         "name": "A",
         "text": "",
         "type": "scatter",
         "x": [
          -1.921426653795267,
          0.334048307502647,
          0.29139511039949373,
          -0.6414184527866889,
          1.8129978660736876,
          0.9340616438700942,
          0.5255701521359472,
          -1.4207847314561757,
          -0.41203169323718924,
          2.1136931234184893,
          -0.2392950511227681,
          -0.5231243382302146,
          0.3623773844099841,
          0.43469180714147115,
          0.2935866855881844,
          0.32138992642777864,
          0.41061037413189344,
          -1.4194998343720762,
          1.393825863114237,
          -0.20378647124285942,
          -1.4991509068453899,
          -0.9160663223473968,
          0.39070360889958233,
          0.6172298347446923,
          -0.020980893536748667,
          0.02720719120393217,
          0.8659489667656535,
          1.4120805940010235,
          -0.6612552163928156,
          0.9766072007021301,
          0.5235910411065691,
          -1.117754300835103,
          -0.9579560538658426,
          0.4833318295107085,
          1.0543709617500725,
          0.009685684378018729,
          0.7288669976657884,
          -0.14689205337746256,
          0.11445795487666606,
          -0.027564293539367023,
          0.9093040405128784,
          -4.077346761391594,
          -0.8483320828075116,
          -0.8627690117139539,
          1.5086069738838883,
          0.5260008509407854,
          -1.7565326317334966,
          -0.3256021478172967,
          -1.2930036573566386,
          2.0288102398037915,
          1.0006261134294256,
          -1.108821308601499,
          0.6152609168980175,
          2.0481960101332133,
          1.3425391747308673,
          -1.293040167109373,
          1.1935177409160567,
          2.032888804673782,
          -1.7204457700362052,
          0.7287309361140403,
          2.2336560605752216,
          0.8822170448893837,
          0.050861719101860235,
          -0.08036018285574575,
          0.955803896868485,
          -0.07512760849515579,
          -1.361603914789393,
          2.640321839534361,
          -0.16940684601982414,
          0.28864765292112526,
          -0.7236842378381518,
          2.1116733153120353,
          0.1707759963321653,
          0.36901845477741674,
          -0.02521850161399106,
          0.2138434590310381,
          0.6885987440922583,
          -0.44279120734842004,
          -1.4347583561859933,
          -0.061585991997536935,
          -0.007528460407516018,
          -0.07182976840387806,
          2.660622975619294,
          -1.9004200235224258,
          -0.2617815618962467,
          1.4001633502788777,
          0.33623084799756425,
          -1.9703525166164124,
          0.5608169864561404,
          -0.5908191652410173,
          -2.3693589710613843,
          -1.0687157067226851,
          -1.3174908751570347,
          -0.21392793423096837,
          -0.5070210409948378,
          0.7068919126208695,
          0.4290939015181902,
          0.20560676502747743,
          -0.5278415000966169,
          1.8805733839542274
         ],
         "xaxis": "x2",
         "y": [
          -0.16200811326552847,
          -0.20157352604196913,
          -0.7878824139985893,
          -0.8098186826097336,
          -1.499626473245483,
          1.3801493133608,
          1.4464314084880139,
          -1.027585474513354,
          -0.4425867986983349,
          1.0107964592664522,
          -1.8686899556147416,
          -0.4366797049682072,
          0.33283194607288075,
          0.8691983656072146,
          0.34899189602579483,
          -0.758070179841699,
          -2.2823246253628784,
          -1.7959123288281453,
          -1.0702517942537177,
          0.4303128493804597,
          1.3435913199391896,
          -1.3231792291241613,
          -0.055540871869691394,
          0.6047955363165932,
          -0.012223060701152295,
          -1.1977548892056136,
          -0.30401147308524457,
          -0.0014968000861568448,
          0.7614139136605413,
          1.6585102109046828,
          0.7364580328985136,
          -0.7862808461442161,
          0.12410899216476683,
          1.1324233955669805,
          -0.5386544999702856,
          -0.022224946329560458,
          -0.834795832535822,
          0.6400542617381624,
          -0.050410517639447344,
          -0.5070593103526382,
          0.10836598048652045,
          -1.3099723281736693,
          -0.7309978091566318,
          -1.4472446690984737,
          1.214628112420574,
          0.16471557214098853,
          0.5101660846956017,
          0.2543680410886363,
          -1.0907187736222694,
          -1.0206930835823955,
          0.2114028072469376,
          1.103887751499291,
          -0.4328552481437502,
          1.7194264735579212,
          -0.14310994297648086,
          1.889389666404278,
          1.9843080677745246,
          -0.0717101693371949,
          -0.30833082541370677,
          -0.83727669533764,
          0.8295237394428329,
          -1.7304676350653139,
          -0.02263656134543682,
          0.9036188982062072,
          -1.1962297491709328,
          0.6151506627961592,
          -1.0744273790386734,
          1.9546837633904182,
          -1.6721370855644804,
          0.6285809592376622,
          0.06875595298308364,
          0.1735047453153547,
          -1.6484418313570877,
          -0.05196360207271461,
          -1.860942779195856,
          -0.24376406652507243,
          1.3166504197314817,
          1.0993760777773394,
          0.3350603250308234,
          2.166415132213184,
          -1.403635427455722,
          -0.9987539122797616,
          -0.0389318520766291,
          -1.0102888165372037,
          -0.47230340795459325,
          0.8944983501138225,
          -1.0323828454951944,
          -0.37873548762691633,
          1.1014417823921847,
          -1.502163006619164,
          0.4882168187023026,
          -0.08079466347421826,
          -0.7311064155672401,
          -1.3601359769407153,
          1.4419021706579305,
          0.6056008285554461,
          0.5359229544971378,
          0.7345365991801566,
          -1.0367646456343842,
          -1.1218870781265498
         ],
         "yaxis": "y2"
        },
        {
         "line": {
          "color": "rgba(128, 128, 128, 1.0)",
          "dash": "solid",
          "shape": "linear",
          "width": 1.3
         },
         "marker": {
          "size": 2,
          "symbol": "circle"
         },
         "mode": "markers",
         "name": "A",
         "text": "",
         "type": "scatter",
         "x": [
          0.5267213974017121,
          -0.6684721840099757,
          -1.141119046831687,
          1.1952937181424739,
          1.7320233809492094,
          2.2617353078392783,
          0.5384683625876707,
          -0.11410735863685739,
          1.3320638421906792,
          0.19923206749959435,
          0.5613166047840271,
          1.4304372320296712,
          -1.343726395845464,
          0.7974392252186355,
          0.3212060955914616,
          -1.1635189883077761,
          -1.9346041414231638,
          1.0991506780351776,
          0.9186151196859581,
          0.4058623076515299,
          0.3016117240884719,
          0.5390679126879692,
          1.7882821054636522,
          -0.7757503630089266,
          2.377676902173927,
          0.9382343519045592,
          -0.5217378947577189,
          -0.13514500103587732,
          1.8762618430593225,
          2.1822170404138594,
          -0.414390211630898,
          0.6320920697953718,
          1.605533027910114,
          0.5654687322199591,
          0.6005537403792309,
          -0.3118041064374641,
          -0.4692221397366222,
          -0.29791882175656,
          0.02008235100353307,
          0.8100830890363357,
          -0.41672642986287073,
          0.9707033627232081,
          -0.6274786177878557,
          -0.4493776286603382,
          0.26514144671427525,
          -0.04034111936471769,
          -0.10542251792092436,
          0.7471881336927859,
          1.6985588724379266,
          0.9354138980955412,
          -0.003141295201818217,
          -1.245411618435649,
          -0.9906648160596542,
          -0.670643483855532,
          1.1114464676201257,
          -0.8084299703554508,
          0.9580579285687029,
          -0.7546165427834294,
          0.24279901723644104,
          -1.2053255000790124,
          0.9141083144876642,
          -0.11502723859631576,
          -0.9993376790012358,
          -1.9738607555907814,
          0.7630783039648289,
          0.10718710803428953,
          0.1491713991366512,
          -1.5063335010209173,
          -0.21116475440213478,
          -0.43042237631346253,
          -0.655294099587039,
          0.493334627973203,
          1.2816680776557954,
          1.906469897813769,
          0.4068432602086838,
          0.2981626083642478,
          -0.1551622345743024,
          -0.25586300583241217,
          -0.1072890447732036,
          0.6886202913281744,
          0.7064294807731066,
          -1.514281664211926,
          -0.9352445123099749,
          -0.6430592509054291,
          -1.1857032874556375,
          0.24964944474376413,
          -0.08175661611192668,
          1.7043810219276505,
          -2.1734077732721393,
          0.6157199374214332,
          0.561177867971734,
          -0.31004162508684,
          -2.0768279407804595,
          -0.12408805142145696,
          0.4456014385718528,
          -0.09730591604309241,
          0.016409860819479843,
          -0.3059200401869885,
          0.9299055126147543,
          0.4277380178785075
         ],
         "xaxis": "x3",
         "y": [
          -0.16200811326552847,
          -0.20157352604196913,
          -0.7878824139985893,
          -0.8098186826097336,
          -1.499626473245483,
          1.3801493133608,
          1.4464314084880139,
          -1.027585474513354,
          -0.4425867986983349,
          1.0107964592664522,
          -1.8686899556147416,
          -0.4366797049682072,
          0.33283194607288075,
          0.8691983656072146,
          0.34899189602579483,
          -0.758070179841699,
          -2.2823246253628784,
          -1.7959123288281453,
          -1.0702517942537177,
          0.4303128493804597,
          1.3435913199391896,
          -1.3231792291241613,
          -0.055540871869691394,
          0.6047955363165932,
          -0.012223060701152295,
          -1.1977548892056136,
          -0.30401147308524457,
          -0.0014968000861568448,
          0.7614139136605413,
          1.6585102109046828,
          0.7364580328985136,
          -0.7862808461442161,
          0.12410899216476683,
          1.1324233955669805,
          -0.5386544999702856,
          -0.022224946329560458,
          -0.834795832535822,
          0.6400542617381624,
          -0.050410517639447344,
          -0.5070593103526382,
          0.10836598048652045,
          -1.3099723281736693,
          -0.7309978091566318,
          -1.4472446690984737,
          1.214628112420574,
          0.16471557214098853,
          0.5101660846956017,
          0.2543680410886363,
          -1.0907187736222694,
          -1.0206930835823955,
          0.2114028072469376,
          1.103887751499291,
          -0.4328552481437502,
          1.7194264735579212,
          -0.14310994297648086,
          1.889389666404278,
          1.9843080677745246,
          -0.0717101693371949,
          -0.30833082541370677,
          -0.83727669533764,
          0.8295237394428329,
          -1.7304676350653139,
          -0.02263656134543682,
          0.9036188982062072,
          -1.1962297491709328,
          0.6151506627961592,
          -1.0744273790386734,
          1.9546837633904182,
          -1.6721370855644804,
          0.6285809592376622,
          0.06875595298308364,
          0.1735047453153547,
          -1.6484418313570877,
          -0.05196360207271461,
          -1.860942779195856,
          -0.24376406652507243,
          1.3166504197314817,
          1.0993760777773394,
          0.3350603250308234,
          2.166415132213184,
          -1.403635427455722,
          -0.9987539122797616,
          -0.0389318520766291,
          -1.0102888165372037,
          -0.47230340795459325,
          0.8944983501138225,
          -1.0323828454951944,
          -0.37873548762691633,
          1.1014417823921847,
          -1.502163006619164,
          0.4882168187023026,
          -0.08079466347421826,
          -0.7311064155672401,
          -1.3601359769407153,
          1.4419021706579305,
          0.6056008285554461,
          0.5359229544971378,
          0.7345365991801566,
          -1.0367646456343842,
          -1.1218870781265498
         ],
         "yaxis": "y3"
        },
        {
         "line": {
          "color": "rgba(128, 128, 128, 1.0)",
          "dash": "solid",
          "shape": "linear",
          "width": 1.3
         },
         "marker": {
          "size": 2,
          "symbol": "circle"
         },
         "mode": "markers",
         "name": "A",
         "text": "",
         "type": "scatter",
         "x": [
          0.3451197133623394,
          2.5270914380626217,
          0.9299482488958838,
          -0.5562988664566687,
          1.4355715653202474,
          -0.7411067515733488,
          -0.9794450690442909,
          0.769440739591859,
          0.23751958527666056,
          -0.04706497440737075,
          -0.7294036572263799,
          0.4487776730293185,
          -0.8159189914580166,
          -1.2092660952139471,
          0.5654421624230525,
          0.4744520720930635,
          0.2740372805334614,
          -1.167244162476902,
          0.06720960750460263,
          0.10936150469402772,
          -0.9165180090283555,
          1.5676031557714862,
          -0.2995972838469109,
          1.458781610122082,
          0.9032260632726471,
          0.0009649718193337695,
          1.3030292509667687,
          1.0154089128334605,
          1.3596947673823985,
          0.9872193424997157,
          0.6941544813230869,
          0.024910448406248353,
          -1.3486603903313839,
          0.061844911825487715,
          0.213019956711909,
          -0.8683314443340561,
          -0.8739817567047742,
          0.1909808662841519,
          0.5013768330823971,
          2.2697891566696655,
          -0.24631356881604097,
          -0.011390776771784489,
          -1.567484134177324,
          -0.21992787315449117,
          -1.0675819475914363,
          1.1650197898461372,
          1.626222850381875,
          0.08695494236171078,
          -1.0716543221237307,
          0.032898705870172434,
          -0.30256373771870076,
          -0.5777882371948797,
          0.0946134149705952,
          0.31831285044310376,
          0.6233905164548375,
          -0.8960529522407366,
          0.12005881079668307,
          0.6544857244125727,
          1.767021225361013,
          0.4086051048572968,
          -0.5179625005304351,
          0.6710461933989572,
          -0.7007507442805617,
          1.1420347801168707,
          0.06066636935888025,
          0.6172452112868805,
          0.9534282004171482,
          -0.7532122638499019,
          -0.9719816509300259,
          -1.1699284868256044,
          -1.234725048143622,
          -0.39974714289496094,
          -0.3328412126687109,
          0.02574109832320354,
          -0.5985483089169847,
          -0.6362247552931904,
          0.3316304039734038,
          -0.08129075988219273,
          -0.4799320950889164,
          -0.3692275148462346,
          -1.128444800903437,
          -1.6004237399739227,
          0.7762570230477617,
          -0.040674914293237135,
          -0.27726698007777667,
          0.630114105526245,
          -2.03869384082419,
          0.18356701054308538,
          -1.5810787623878058,
          0.7298179679225076,
          -1.1018296237385043,
          -0.2983903965981016,
          1.2351818237246057,
          1.1836383653171723,
          -1.7182458709928827,
          -1.0279262541311613,
          1.1420058715577808,
          -0.5014854459857403,
          -1.072287120130173,
          0.3348116696007735
         ],
         "xaxis": "x4",
         "y": [
          -0.16200811326552847,
          -0.20157352604196913,
          -0.7878824139985893,
          -0.8098186826097336,
          -1.499626473245483,
          1.3801493133608,
          1.4464314084880139,
          -1.027585474513354,
          -0.4425867986983349,
          1.0107964592664522,
          -1.8686899556147416,
          -0.4366797049682072,
          0.33283194607288075,
          0.8691983656072146,
          0.34899189602579483,
          -0.758070179841699,
          -2.2823246253628784,
          -1.7959123288281453,
          -1.0702517942537177,
          0.4303128493804597,
          1.3435913199391896,
          -1.3231792291241613,
          -0.055540871869691394,
          0.6047955363165932,
          -0.012223060701152295,
          -1.1977548892056136,
          -0.30401147308524457,
          -0.0014968000861568448,
          0.7614139136605413,
          1.6585102109046828,
          0.7364580328985136,
          -0.7862808461442161,
          0.12410899216476683,
          1.1324233955669805,
          -0.5386544999702856,
          -0.022224946329560458,
          -0.834795832535822,
          0.6400542617381624,
          -0.050410517639447344,
          -0.5070593103526382,
          0.10836598048652045,
          -1.3099723281736693,
          -0.7309978091566318,
          -1.4472446690984737,
          1.214628112420574,
          0.16471557214098853,
          0.5101660846956017,
          0.2543680410886363,
          -1.0907187736222694,
          -1.0206930835823955,
          0.2114028072469376,
          1.103887751499291,
          -0.4328552481437502,
          1.7194264735579212,
          -0.14310994297648086,
          1.889389666404278,
          1.9843080677745246,
          -0.0717101693371949,
          -0.30833082541370677,
          -0.83727669533764,
          0.8295237394428329,
          -1.7304676350653139,
          -0.02263656134543682,
          0.9036188982062072,
          -1.1962297491709328,
          0.6151506627961592,
          -1.0744273790386734,
          1.9546837633904182,
          -1.6721370855644804,
          0.6285809592376622,
          0.06875595298308364,
          0.1735047453153547,
          -1.6484418313570877,
          -0.05196360207271461,
          -1.860942779195856,
          -0.24376406652507243,
          1.3166504197314817,
          1.0993760777773394,
          0.3350603250308234,
          2.166415132213184,
          -1.403635427455722,
          -0.9987539122797616,
          -0.0389318520766291,
          -1.0102888165372037,
          -0.47230340795459325,
          0.8944983501138225,
          -1.0323828454951944,
          -0.37873548762691633,
          1.1014417823921847,
          -1.502163006619164,
          0.4882168187023026,
          -0.08079466347421826,
          -0.7311064155672401,
          -1.3601359769407153,
          1.4419021706579305,
          0.6056008285554461,
          0.5359229544971378,
          0.7345365991801566,
          -1.0367646456343842,
          -1.1218870781265498
         ],
         "yaxis": "y4"
        },
        {
         "line": {
          "color": "rgba(128, 128, 128, 1.0)",
          "dash": "solid",
          "shape": "linear",
          "width": 1.3
         },
         "marker": {
          "size": 2,
          "symbol": "circle"
         },
         "mode": "markers",
         "name": "B",
         "text": "",
         "type": "scatter",
         "x": [
          -0.16200811326552847,
          -0.20157352604196913,
          -0.7878824139985893,
          -0.8098186826097336,
          -1.499626473245483,
          1.3801493133608,
          1.4464314084880139,
          -1.027585474513354,
          -0.4425867986983349,
          1.0107964592664522,
          -1.8686899556147416,
          -0.4366797049682072,
          0.33283194607288075,
          0.8691983656072146,
          0.34899189602579483,
          -0.758070179841699,
          -2.2823246253628784,
          -1.7959123288281453,
          -1.0702517942537177,
          0.4303128493804597,
          1.3435913199391896,
          -1.3231792291241613,
          -0.055540871869691394,
          0.6047955363165932,
          -0.012223060701152295,
          -1.1977548892056136,
          -0.30401147308524457,
          -0.0014968000861568448,
          0.7614139136605413,
          1.6585102109046828,
          0.7364580328985136,
          -0.7862808461442161,
          0.12410899216476683,
          1.1324233955669805,
          -0.5386544999702856,
          -0.022224946329560458,
          -0.834795832535822,
          0.6400542617381624,
          -0.050410517639447344,
          -0.5070593103526382,
          0.10836598048652045,
          -1.3099723281736693,
          -0.7309978091566318,
          -1.4472446690984737,
          1.214628112420574,
          0.16471557214098853,
          0.5101660846956017,
          0.2543680410886363,
          -1.0907187736222694,
          -1.0206930835823955,
          0.2114028072469376,
          1.103887751499291,
          -0.4328552481437502,
          1.7194264735579212,
          -0.14310994297648086,
          1.889389666404278,
          1.9843080677745246,
          -0.0717101693371949,
          -0.30833082541370677,
          -0.83727669533764,
          0.8295237394428329,
          -1.7304676350653139,
          -0.02263656134543682,
          0.9036188982062072,
          -1.1962297491709328,
          0.6151506627961592,
          -1.0744273790386734,
          1.9546837633904182,
          -1.6721370855644804,
          0.6285809592376622,
          0.06875595298308364,
          0.1735047453153547,
          -1.6484418313570877,
          -0.05196360207271461,
          -1.860942779195856,
          -0.24376406652507243,
          1.3166504197314817,
          1.0993760777773394,
          0.3350603250308234,
          2.166415132213184,
          -1.403635427455722,
          -0.9987539122797616,
          -0.0389318520766291,
          -1.0102888165372037,
          -0.47230340795459325,
          0.8944983501138225,
          -1.0323828454951944,
          -0.37873548762691633,
          1.1014417823921847,
          -1.502163006619164,
          0.4882168187023026,
          -0.08079466347421826,
          -0.7311064155672401,
          -1.3601359769407153,
          1.4419021706579305,
          0.6056008285554461,
          0.5359229544971378,
          0.7345365991801566,
          -1.0367646456343842,
          -1.1218870781265498
         ],
         "xaxis": "x5",
         "y": [
          -1.921426653795267,
          0.334048307502647,
          0.29139511039949373,
          -0.6414184527866889,
          1.8129978660736876,
          0.9340616438700942,
          0.5255701521359472,
          -1.4207847314561757,
          -0.41203169323718924,
          2.1136931234184893,
          -0.2392950511227681,
          -0.5231243382302146,
          0.3623773844099841,
          0.43469180714147115,
          0.2935866855881844,
          0.32138992642777864,
          0.41061037413189344,
          -1.4194998343720762,
          1.393825863114237,
          -0.20378647124285942,
          -1.4991509068453899,
          -0.9160663223473968,
          0.39070360889958233,
          0.6172298347446923,
          -0.020980893536748667,
          0.02720719120393217,
          0.8659489667656535,
          1.4120805940010235,
          -0.6612552163928156,
          0.9766072007021301,
          0.5235910411065691,
          -1.117754300835103,
          -0.9579560538658426,
          0.4833318295107085,
          1.0543709617500725,
          0.009685684378018729,
          0.7288669976657884,
          -0.14689205337746256,
          0.11445795487666606,
          -0.027564293539367023,
          0.9093040405128784,
          -4.077346761391594,
          -0.8483320828075116,
          -0.8627690117139539,
          1.5086069738838883,
          0.5260008509407854,
          -1.7565326317334966,
          -0.3256021478172967,
          -1.2930036573566386,
          2.0288102398037915,
          1.0006261134294256,
          -1.108821308601499,
          0.6152609168980175,
          2.0481960101332133,
          1.3425391747308673,
          -1.293040167109373,
          1.1935177409160567,
          2.032888804673782,
          -1.7204457700362052,
          0.7287309361140403,
          2.2336560605752216,
          0.8822170448893837,
          0.050861719101860235,
          -0.08036018285574575,
          0.955803896868485,
          -0.07512760849515579,
          -1.361603914789393,
          2.640321839534361,
          -0.16940684601982414,
          0.28864765292112526,
          -0.7236842378381518,
          2.1116733153120353,
          0.1707759963321653,
          0.36901845477741674,
          -0.02521850161399106,
          0.2138434590310381,
          0.6885987440922583,
          -0.44279120734842004,
          -1.4347583561859933,
          -0.061585991997536935,
          -0.007528460407516018,
          -0.07182976840387806,
          2.660622975619294,
          -1.9004200235224258,
          -0.2617815618962467,
          1.4001633502788777,
          0.33623084799756425,
          -1.9703525166164124,
          0.5608169864561404,
          -0.5908191652410173,
          -2.3693589710613843,
          -1.0687157067226851,
          -1.3174908751570347,
          -0.21392793423096837,
          -0.5070210409948378,
          0.7068919126208695,
          0.4290939015181902,
          0.20560676502747743,
          -0.5278415000966169,
          1.8805733839542274
         ],
         "yaxis": "y5"
        },
        {
         "histfunc": "count",
         "histnorm": "",
         "marker": {
          "color": "rgba(55, 128, 191, 1.0)",
          "line": {
           "color": "#4D5663",
           "width": 1.3
          }
         },
         "name": "B",
         "nbinsx": 10,
         "opacity": 0.8,
         "orientation": "v",
         "type": "histogram",
         "x": [
          -1.921426653795267,
          0.334048307502647,
          0.29139511039949373,
          -0.6414184527866889,
          1.8129978660736876,
          0.9340616438700942,
          0.5255701521359472,
          -1.4207847314561757,
          -0.41203169323718924,
          2.1136931234184893,
          -0.2392950511227681,
          -0.5231243382302146,
          0.3623773844099841,
          0.43469180714147115,
          0.2935866855881844,
          0.32138992642777864,
          0.41061037413189344,
          -1.4194998343720762,
          1.393825863114237,
          -0.20378647124285942,
          -1.4991509068453899,
          -0.9160663223473968,
          0.39070360889958233,
          0.6172298347446923,
          -0.020980893536748667,
          0.02720719120393217,
          0.8659489667656535,
          1.4120805940010235,
          -0.6612552163928156,
          0.9766072007021301,
          0.5235910411065691,
          -1.117754300835103,
          -0.9579560538658426,
          0.4833318295107085,
          1.0543709617500725,
          0.009685684378018729,
          0.7288669976657884,
          -0.14689205337746256,
          0.11445795487666606,
          -0.027564293539367023,
          0.9093040405128784,
          -4.077346761391594,
          -0.8483320828075116,
          -0.8627690117139539,
          1.5086069738838883,
          0.5260008509407854,
          -1.7565326317334966,
          -0.3256021478172967,
          -1.2930036573566386,
          2.0288102398037915,
          1.0006261134294256,
          -1.108821308601499,
          0.6152609168980175,
          2.0481960101332133,
          1.3425391747308673,
          -1.293040167109373,
          1.1935177409160567,
          2.032888804673782,
          -1.7204457700362052,
          0.7287309361140403,
          2.2336560605752216,
          0.8822170448893837,
          0.050861719101860235,
          -0.08036018285574575,
          0.955803896868485,
          -0.07512760849515579,
          -1.361603914789393,
          2.640321839534361,
          -0.16940684601982414,
          0.28864765292112526,
          -0.7236842378381518,
          2.1116733153120353,
          0.1707759963321653,
          0.36901845477741674,
          -0.02521850161399106,
          0.2138434590310381,
          0.6885987440922583,
          -0.44279120734842004,
          -1.4347583561859933,
          -0.061585991997536935,
          -0.007528460407516018,
          -0.07182976840387806,
          2.660622975619294,
          -1.9004200235224258,
          -0.2617815618962467,
          1.4001633502788777,
          0.33623084799756425,
          -1.9703525166164124,
          0.5608169864561404,
          -0.5908191652410173,
          -2.3693589710613843,
          -1.0687157067226851,
          -1.3174908751570347,
          -0.21392793423096837,
          -0.5070210409948378,
          0.7068919126208695,
          0.4290939015181902,
          0.20560676502747743,
          -0.5278415000966169,
          1.8805733839542274
         ],
         "xaxis": "x6",
         "yaxis": "y6"
        },
        {
         "line": {
          "color": "rgba(128, 128, 128, 1.0)",
          "dash": "solid",
          "shape": "linear",
          "width": 1.3
         },
         "marker": {
          "size": 2,
          "symbol": "circle"
         },
         "mode": "markers",
         "name": "B",
         "text": "",
         "type": "scatter",
         "x": [
          0.5267213974017121,
          -0.6684721840099757,
          -1.141119046831687,
          1.1952937181424739,
          1.7320233809492094,
          2.2617353078392783,
          0.5384683625876707,
          -0.11410735863685739,
          1.3320638421906792,
          0.19923206749959435,
          0.5613166047840271,
          1.4304372320296712,
          -1.343726395845464,
          0.7974392252186355,
          0.3212060955914616,
          -1.1635189883077761,
          -1.9346041414231638,
          1.0991506780351776,
          0.9186151196859581,
          0.4058623076515299,
          0.3016117240884719,
          0.5390679126879692,
          1.7882821054636522,
          -0.7757503630089266,
          2.377676902173927,
          0.9382343519045592,
          -0.5217378947577189,
          -0.13514500103587732,
          1.8762618430593225,
          2.1822170404138594,
          -0.414390211630898,
          0.6320920697953718,
          1.605533027910114,
          0.5654687322199591,
          0.6005537403792309,
          -0.3118041064374641,
          -0.4692221397366222,
          -0.29791882175656,
          0.02008235100353307,
          0.8100830890363357,
          -0.41672642986287073,
          0.9707033627232081,
          -0.6274786177878557,
          -0.4493776286603382,
          0.26514144671427525,
          -0.04034111936471769,
          -0.10542251792092436,
          0.7471881336927859,
          1.6985588724379266,
          0.9354138980955412,
          -0.003141295201818217,
          -1.245411618435649,
          -0.9906648160596542,
          -0.670643483855532,
          1.1114464676201257,
          -0.8084299703554508,
          0.9580579285687029,
          -0.7546165427834294,
          0.24279901723644104,
          -1.2053255000790124,
          0.9141083144876642,
          -0.11502723859631576,
          -0.9993376790012358,
          -1.9738607555907814,
          0.7630783039648289,
          0.10718710803428953,
          0.1491713991366512,
          -1.5063335010209173,
          -0.21116475440213478,
          -0.43042237631346253,
          -0.655294099587039,
          0.493334627973203,
          1.2816680776557954,
          1.906469897813769,
          0.4068432602086838,
          0.2981626083642478,
          -0.1551622345743024,
          -0.25586300583241217,
          -0.1072890447732036,
          0.6886202913281744,
          0.7064294807731066,
          -1.514281664211926,
          -0.9352445123099749,
          -0.6430592509054291,
          -1.1857032874556375,
          0.24964944474376413,
          -0.08175661611192668,
          1.7043810219276505,
          -2.1734077732721393,
          0.6157199374214332,
          0.561177867971734,
          -0.31004162508684,
          -2.0768279407804595,
          -0.12408805142145696,
          0.4456014385718528,
          -0.09730591604309241,
          0.016409860819479843,
          -0.3059200401869885,
          0.9299055126147543,
          0.4277380178785075
         ],
         "xaxis": "x7",
         "y": [
          -1.921426653795267,
          0.334048307502647,
          0.29139511039949373,
          -0.6414184527866889,
          1.8129978660736876,
          0.9340616438700942,
          0.5255701521359472,
          -1.4207847314561757,
          -0.41203169323718924,
          2.1136931234184893,
          -0.2392950511227681,
          -0.5231243382302146,
          0.3623773844099841,
          0.43469180714147115,
          0.2935866855881844,
          0.32138992642777864,
          0.41061037413189344,
          -1.4194998343720762,
          1.393825863114237,
          -0.20378647124285942,
          -1.4991509068453899,
          -0.9160663223473968,
          0.39070360889958233,
          0.6172298347446923,
          -0.020980893536748667,
          0.02720719120393217,
          0.8659489667656535,
          1.4120805940010235,
          -0.6612552163928156,
          0.9766072007021301,
          0.5235910411065691,
          -1.117754300835103,
          -0.9579560538658426,
          0.4833318295107085,
          1.0543709617500725,
          0.009685684378018729,
          0.7288669976657884,
          -0.14689205337746256,
          0.11445795487666606,
          -0.027564293539367023,
          0.9093040405128784,
          -4.077346761391594,
          -0.8483320828075116,
          -0.8627690117139539,
          1.5086069738838883,
          0.5260008509407854,
          -1.7565326317334966,
          -0.3256021478172967,
          -1.2930036573566386,
          2.0288102398037915,
          1.0006261134294256,
          -1.108821308601499,
          0.6152609168980175,
          2.0481960101332133,
          1.3425391747308673,
          -1.293040167109373,
          1.1935177409160567,
          2.032888804673782,
          -1.7204457700362052,
          0.7287309361140403,
          2.2336560605752216,
          0.8822170448893837,
          0.050861719101860235,
          -0.08036018285574575,
          0.955803896868485,
          -0.07512760849515579,
          -1.361603914789393,
          2.640321839534361,
          -0.16940684601982414,
          0.28864765292112526,
          -0.7236842378381518,
          2.1116733153120353,
          0.1707759963321653,
          0.36901845477741674,
          -0.02521850161399106,
          0.2138434590310381,
          0.6885987440922583,
          -0.44279120734842004,
          -1.4347583561859933,
          -0.061585991997536935,
          -0.007528460407516018,
          -0.07182976840387806,
          2.660622975619294,
          -1.9004200235224258,
          -0.2617815618962467,
          1.4001633502788777,
          0.33623084799756425,
          -1.9703525166164124,
          0.5608169864561404,
          -0.5908191652410173,
          -2.3693589710613843,
          -1.0687157067226851,
          -1.3174908751570347,
          -0.21392793423096837,
          -0.5070210409948378,
          0.7068919126208695,
          0.4290939015181902,
          0.20560676502747743,
          -0.5278415000966169,
          1.8805733839542274
         ],
         "yaxis": "y7"
        },
        {
         "line": {
          "color": "rgba(128, 128, 128, 1.0)",
          "dash": "solid",
          "shape": "linear",
          "width": 1.3
         },
         "marker": {
          "size": 2,
          "symbol": "circle"
         },
         "mode": "markers",
         "name": "B",
         "text": "",
         "type": "scatter",
         "x": [
          0.3451197133623394,
          2.5270914380626217,
          0.9299482488958838,
          -0.5562988664566687,
          1.4355715653202474,
          -0.7411067515733488,
          -0.9794450690442909,
          0.769440739591859,
          0.23751958527666056,
          -0.04706497440737075,
          -0.7294036572263799,
          0.4487776730293185,
          -0.8159189914580166,
          -1.2092660952139471,
          0.5654421624230525,
          0.4744520720930635,
          0.2740372805334614,
          -1.167244162476902,
          0.06720960750460263,
          0.10936150469402772,
          -0.9165180090283555,
          1.5676031557714862,
          -0.2995972838469109,
          1.458781610122082,
          0.9032260632726471,
          0.0009649718193337695,
          1.3030292509667687,
          1.0154089128334605,
          1.3596947673823985,
          0.9872193424997157,
          0.6941544813230869,
          0.024910448406248353,
          -1.3486603903313839,
          0.061844911825487715,
          0.213019956711909,
          -0.8683314443340561,
          -0.8739817567047742,
          0.1909808662841519,
          0.5013768330823971,
          2.2697891566696655,
          -0.24631356881604097,
          -0.011390776771784489,
          -1.567484134177324,
          -0.21992787315449117,
          -1.0675819475914363,
          1.1650197898461372,
          1.626222850381875,
          0.08695494236171078,
          -1.0716543221237307,
          0.032898705870172434,
          -0.30256373771870076,
          -0.5777882371948797,
          0.0946134149705952,
          0.31831285044310376,
          0.6233905164548375,
          -0.8960529522407366,
          0.12005881079668307,
          0.6544857244125727,
          1.767021225361013,
          0.4086051048572968,
          -0.5179625005304351,
          0.6710461933989572,
          -0.7007507442805617,
          1.1420347801168707,
          0.06066636935888025,
          0.6172452112868805,
          0.9534282004171482,
          -0.7532122638499019,
          -0.9719816509300259,
          -1.1699284868256044,
          -1.234725048143622,
          -0.39974714289496094,
          -0.3328412126687109,
          0.02574109832320354,
          -0.5985483089169847,
          -0.6362247552931904,
          0.3316304039734038,
          -0.08129075988219273,
          -0.4799320950889164,
          -0.3692275148462346,
          -1.128444800903437,
          -1.6004237399739227,
          0.7762570230477617,
          -0.040674914293237135,
          -0.27726698007777667,
          0.630114105526245,
          -2.03869384082419,
          0.18356701054308538,
          -1.5810787623878058,
          0.7298179679225076,
          -1.1018296237385043,
          -0.2983903965981016,
          1.2351818237246057,
          1.1836383653171723,
          -1.7182458709928827,
          -1.0279262541311613,
          1.1420058715577808,
          -0.5014854459857403,
          -1.072287120130173,
          0.3348116696007735
         ],
         "xaxis": "x8",
         "y": [
          -1.921426653795267,
          0.334048307502647,
          0.29139511039949373,
          -0.6414184527866889,
          1.8129978660736876,
          0.9340616438700942,
          0.5255701521359472,
          -1.4207847314561757,
          -0.41203169323718924,
          2.1136931234184893,
          -0.2392950511227681,
          -0.5231243382302146,
          0.3623773844099841,
          0.43469180714147115,
          0.2935866855881844,
          0.32138992642777864,
          0.41061037413189344,
          -1.4194998343720762,
          1.393825863114237,
          -0.20378647124285942,
          -1.4991509068453899,
          -0.9160663223473968,
          0.39070360889958233,
          0.6172298347446923,
          -0.020980893536748667,
          0.02720719120393217,
          0.8659489667656535,
          1.4120805940010235,
          -0.6612552163928156,
          0.9766072007021301,
          0.5235910411065691,
          -1.117754300835103,
          -0.9579560538658426,
          0.4833318295107085,
          1.0543709617500725,
          0.009685684378018729,
          0.7288669976657884,
          -0.14689205337746256,
          0.11445795487666606,
          -0.027564293539367023,
          0.9093040405128784,
          -4.077346761391594,
          -0.8483320828075116,
          -0.8627690117139539,
          1.5086069738838883,
          0.5260008509407854,
          -1.7565326317334966,
          -0.3256021478172967,
          -1.2930036573566386,
          2.0288102398037915,
          1.0006261134294256,
          -1.108821308601499,
          0.6152609168980175,
          2.0481960101332133,
          1.3425391747308673,
          -1.293040167109373,
          1.1935177409160567,
          2.032888804673782,
          -1.7204457700362052,
          0.7287309361140403,
          2.2336560605752216,
          0.8822170448893837,
          0.050861719101860235,
          -0.08036018285574575,
          0.955803896868485,
          -0.07512760849515579,
          -1.361603914789393,
          2.640321839534361,
          -0.16940684601982414,
          0.28864765292112526,
          -0.7236842378381518,
          2.1116733153120353,
          0.1707759963321653,
          0.36901845477741674,
          -0.02521850161399106,
          0.2138434590310381,
          0.6885987440922583,
          -0.44279120734842004,
          -1.4347583561859933,
          -0.061585991997536935,
          -0.007528460407516018,
          -0.07182976840387806,
          2.660622975619294,
          -1.9004200235224258,
          -0.2617815618962467,
          1.4001633502788777,
          0.33623084799756425,
          -1.9703525166164124,
          0.5608169864561404,
          -0.5908191652410173,
          -2.3693589710613843,
          -1.0687157067226851,
          -1.3174908751570347,
          -0.21392793423096837,
          -0.5070210409948378,
          0.7068919126208695,
          0.4290939015181902,
          0.20560676502747743,
          -0.5278415000966169,
          1.8805733839542274
         ],
         "yaxis": "y8"
        },
        {
         "line": {
          "color": "rgba(128, 128, 128, 1.0)",
          "dash": "solid",
          "shape": "linear",
          "width": 1.3
         },
         "marker": {
          "size": 2,
          "symbol": "circle"
         },
         "mode": "markers",
         "name": "C",
         "text": "",
         "type": "scatter",
         "x": [
          -0.16200811326552847,
          -0.20157352604196913,
          -0.7878824139985893,
          -0.8098186826097336,
          -1.499626473245483,
          1.3801493133608,
          1.4464314084880139,
          -1.027585474513354,
          -0.4425867986983349,
          1.0107964592664522,
          -1.8686899556147416,
          -0.4366797049682072,
          0.33283194607288075,
          0.8691983656072146,
          0.34899189602579483,
          -0.758070179841699,
          -2.2823246253628784,
          -1.7959123288281453,
          -1.0702517942537177,
          0.4303128493804597,
          1.3435913199391896,
          -1.3231792291241613,
          -0.055540871869691394,
          0.6047955363165932,
          -0.012223060701152295,
          -1.1977548892056136,
          -0.30401147308524457,
          -0.0014968000861568448,
          0.7614139136605413,
          1.6585102109046828,
          0.7364580328985136,
          -0.7862808461442161,
          0.12410899216476683,
          1.1324233955669805,
          -0.5386544999702856,
          -0.022224946329560458,
          -0.834795832535822,
          0.6400542617381624,
          -0.050410517639447344,
          -0.5070593103526382,
          0.10836598048652045,
          -1.3099723281736693,
          -0.7309978091566318,
          -1.4472446690984737,
          1.214628112420574,
          0.16471557214098853,
          0.5101660846956017,
          0.2543680410886363,
          -1.0907187736222694,
          -1.0206930835823955,
          0.2114028072469376,
          1.103887751499291,
          -0.4328552481437502,
          1.7194264735579212,
          -0.14310994297648086,
          1.889389666404278,
          1.9843080677745246,
          -0.0717101693371949,
          -0.30833082541370677,
          -0.83727669533764,
          0.8295237394428329,
          -1.7304676350653139,
          -0.02263656134543682,
          0.9036188982062072,
          -1.1962297491709328,
          0.6151506627961592,
          -1.0744273790386734,
          1.9546837633904182,
          -1.6721370855644804,
          0.6285809592376622,
          0.06875595298308364,
          0.1735047453153547,
          -1.6484418313570877,
          -0.05196360207271461,
          -1.860942779195856,
          -0.24376406652507243,
          1.3166504197314817,
          1.0993760777773394,
          0.3350603250308234,
          2.166415132213184,
          -1.403635427455722,
          -0.9987539122797616,
          -0.0389318520766291,
          -1.0102888165372037,
          -0.47230340795459325,
          0.8944983501138225,
          -1.0323828454951944,
          -0.37873548762691633,
          1.1014417823921847,
          -1.502163006619164,
          0.4882168187023026,
          -0.08079466347421826,
          -0.7311064155672401,
          -1.3601359769407153,
          1.4419021706579305,
          0.6056008285554461,
          0.5359229544971378,
          0.7345365991801566,
          -1.0367646456343842,
          -1.1218870781265498
         ],
         "xaxis": "x9",
         "y": [
          0.5267213974017121,
          -0.6684721840099757,
          -1.141119046831687,
          1.1952937181424739,
          1.7320233809492094,
          2.2617353078392783,
          0.5384683625876707,
          -0.11410735863685739,
          1.3320638421906792,
          0.19923206749959435,
          0.5613166047840271,
          1.4304372320296712,
          -1.343726395845464,
          0.7974392252186355,
          0.3212060955914616,
          -1.1635189883077761,
          -1.9346041414231638,
          1.0991506780351776,
          0.9186151196859581,
          0.4058623076515299,
          0.3016117240884719,
          0.5390679126879692,
          1.7882821054636522,
          -0.7757503630089266,
          2.377676902173927,
          0.9382343519045592,
          -0.5217378947577189,
          -0.13514500103587732,
          1.8762618430593225,
          2.1822170404138594,
          -0.414390211630898,
          0.6320920697953718,
          1.605533027910114,
          0.5654687322199591,
          0.6005537403792309,
          -0.3118041064374641,
          -0.4692221397366222,
          -0.29791882175656,
          0.02008235100353307,
          0.8100830890363357,
          -0.41672642986287073,
          0.9707033627232081,
          -0.6274786177878557,
          -0.4493776286603382,
          0.26514144671427525,
          -0.04034111936471769,
          -0.10542251792092436,
          0.7471881336927859,
          1.6985588724379266,
          0.9354138980955412,
          -0.003141295201818217,
          -1.245411618435649,
          -0.9906648160596542,
          -0.670643483855532,
          1.1114464676201257,
          -0.8084299703554508,
          0.9580579285687029,
          -0.7546165427834294,
          0.24279901723644104,
          -1.2053255000790124,
          0.9141083144876642,
          -0.11502723859631576,
          -0.9993376790012358,
          -1.9738607555907814,
          0.7630783039648289,
          0.10718710803428953,
          0.1491713991366512,
          -1.5063335010209173,
          -0.21116475440213478,
          -0.43042237631346253,
          -0.655294099587039,
          0.493334627973203,
          1.2816680776557954,
          1.906469897813769,
          0.4068432602086838,
          0.2981626083642478,
          -0.1551622345743024,
          -0.25586300583241217,
          -0.1072890447732036,
          0.6886202913281744,
          0.7064294807731066,
          -1.514281664211926,
          -0.9352445123099749,
          -0.6430592509054291,
          -1.1857032874556375,
          0.24964944474376413,
          -0.08175661611192668,
          1.7043810219276505,
          -2.1734077732721393,
          0.6157199374214332,
          0.561177867971734,
          -0.31004162508684,
          -2.0768279407804595,
          -0.12408805142145696,
          0.4456014385718528,
          -0.09730591604309241,
          0.016409860819479843,
          -0.3059200401869885,
          0.9299055126147543,
          0.4277380178785075
         ],
         "yaxis": "y9"
        },
        {
         "line": {
          "color": "rgba(128, 128, 128, 1.0)",
          "dash": "solid",
          "shape": "linear",
          "width": 1.3
         },
         "marker": {
          "size": 2,
          "symbol": "circle"
         },
         "mode": "markers",
         "name": "C",
         "text": "",
         "type": "scatter",
         "x": [
          -1.921426653795267,
          0.334048307502647,
          0.29139511039949373,
          -0.6414184527866889,
          1.8129978660736876,
          0.9340616438700942,
          0.5255701521359472,
          -1.4207847314561757,
          -0.41203169323718924,
          2.1136931234184893,
          -0.2392950511227681,
          -0.5231243382302146,
          0.3623773844099841,
          0.43469180714147115,
          0.2935866855881844,
          0.32138992642777864,
          0.41061037413189344,
          -1.4194998343720762,
          1.393825863114237,
          -0.20378647124285942,
          -1.4991509068453899,
          -0.9160663223473968,
          0.39070360889958233,
          0.6172298347446923,
          -0.020980893536748667,
          0.02720719120393217,
          0.8659489667656535,
          1.4120805940010235,
          -0.6612552163928156,
          0.9766072007021301,
          0.5235910411065691,
          -1.117754300835103,
          -0.9579560538658426,
          0.4833318295107085,
          1.0543709617500725,
          0.009685684378018729,
          0.7288669976657884,
          -0.14689205337746256,
          0.11445795487666606,
          -0.027564293539367023,
          0.9093040405128784,
          -4.077346761391594,
          -0.8483320828075116,
          -0.8627690117139539,
          1.5086069738838883,
          0.5260008509407854,
          -1.7565326317334966,
          -0.3256021478172967,
          -1.2930036573566386,
          2.0288102398037915,
          1.0006261134294256,
          -1.108821308601499,
          0.6152609168980175,
          2.0481960101332133,
          1.3425391747308673,
          -1.293040167109373,
          1.1935177409160567,
          2.032888804673782,
          -1.7204457700362052,
          0.7287309361140403,
          2.2336560605752216,
          0.8822170448893837,
          0.050861719101860235,
          -0.08036018285574575,
          0.955803896868485,
          -0.07512760849515579,
          -1.361603914789393,
          2.640321839534361,
          -0.16940684601982414,
          0.28864765292112526,
          -0.7236842378381518,
          2.1116733153120353,
          0.1707759963321653,
          0.36901845477741674,
          -0.02521850161399106,
          0.2138434590310381,
          0.6885987440922583,
          -0.44279120734842004,
          -1.4347583561859933,
          -0.061585991997536935,
          -0.007528460407516018,
          -0.07182976840387806,
          2.660622975619294,
          -1.9004200235224258,
          -0.2617815618962467,
          1.4001633502788777,
          0.33623084799756425,
          -1.9703525166164124,
          0.5608169864561404,
          -0.5908191652410173,
          -2.3693589710613843,
          -1.0687157067226851,
          -1.3174908751570347,
          -0.21392793423096837,
          -0.5070210409948378,
          0.7068919126208695,
          0.4290939015181902,
          0.20560676502747743,
          -0.5278415000966169,
          1.8805733839542274
         ],
         "xaxis": "x10",
         "y": [
          0.5267213974017121,
          -0.6684721840099757,
          -1.141119046831687,
          1.1952937181424739,
          1.7320233809492094,
          2.2617353078392783,
          0.5384683625876707,
          -0.11410735863685739,
          1.3320638421906792,
          0.19923206749959435,
          0.5613166047840271,
          1.4304372320296712,
          -1.343726395845464,
          0.7974392252186355,
          0.3212060955914616,
          -1.1635189883077761,
          -1.9346041414231638,
          1.0991506780351776,
          0.9186151196859581,
          0.4058623076515299,
          0.3016117240884719,
          0.5390679126879692,
          1.7882821054636522,
          -0.7757503630089266,
          2.377676902173927,
          0.9382343519045592,
          -0.5217378947577189,
          -0.13514500103587732,
          1.8762618430593225,
          2.1822170404138594,
          -0.414390211630898,
          0.6320920697953718,
          1.605533027910114,
          0.5654687322199591,
          0.6005537403792309,
          -0.3118041064374641,
          -0.4692221397366222,
          -0.29791882175656,
          0.02008235100353307,
          0.8100830890363357,
          -0.41672642986287073,
          0.9707033627232081,
          -0.6274786177878557,
          -0.4493776286603382,
          0.26514144671427525,
          -0.04034111936471769,
          -0.10542251792092436,
          0.7471881336927859,
          1.6985588724379266,
          0.9354138980955412,
          -0.003141295201818217,
          -1.245411618435649,
          -0.9906648160596542,
          -0.670643483855532,
          1.1114464676201257,
          -0.8084299703554508,
          0.9580579285687029,
          -0.7546165427834294,
          0.24279901723644104,
          -1.2053255000790124,
          0.9141083144876642,
          -0.11502723859631576,
          -0.9993376790012358,
          -1.9738607555907814,
          0.7630783039648289,
          0.10718710803428953,
          0.1491713991366512,
          -1.5063335010209173,
          -0.21116475440213478,
          -0.43042237631346253,
          -0.655294099587039,
          0.493334627973203,
          1.2816680776557954,
          1.906469897813769,
          0.4068432602086838,
          0.2981626083642478,
          -0.1551622345743024,
          -0.25586300583241217,
          -0.1072890447732036,
          0.6886202913281744,
          0.7064294807731066,
          -1.514281664211926,
          -0.9352445123099749,
          -0.6430592509054291,
          -1.1857032874556375,
          0.24964944474376413,
          -0.08175661611192668,
          1.7043810219276505,
          -2.1734077732721393,
          0.6157199374214332,
          0.561177867971734,
          -0.31004162508684,
          -2.0768279407804595,
          -0.12408805142145696,
          0.4456014385718528,
          -0.09730591604309241,
          0.016409860819479843,
          -0.3059200401869885,
          0.9299055126147543,
          0.4277380178785075
         ],
         "yaxis": "y10"
        },
        {
         "histfunc": "count",
         "histnorm": "",
         "marker": {
          "color": "rgba(50, 171, 96, 1.0)",
          "line": {
           "color": "#4D5663",
           "width": 1.3
          }
         },
         "name": "C",
         "nbinsx": 10,
         "opacity": 0.8,
         "orientation": "v",
         "type": "histogram",
         "x": [
          0.5267213974017121,
          -0.6684721840099757,
          -1.141119046831687,
          1.1952937181424739,
          1.7320233809492094,
          2.2617353078392783,
          0.5384683625876707,
          -0.11410735863685739,
          1.3320638421906792,
          0.19923206749959435,
          0.5613166047840271,
          1.4304372320296712,
          -1.343726395845464,
          0.7974392252186355,
          0.3212060955914616,
          -1.1635189883077761,
          -1.9346041414231638,
          1.0991506780351776,
          0.9186151196859581,
          0.4058623076515299,
          0.3016117240884719,
          0.5390679126879692,
          1.7882821054636522,
          -0.7757503630089266,
          2.377676902173927,
          0.9382343519045592,
          -0.5217378947577189,
          -0.13514500103587732,
          1.8762618430593225,
          2.1822170404138594,
          -0.414390211630898,
          0.6320920697953718,
          1.605533027910114,
          0.5654687322199591,
          0.6005537403792309,
          -0.3118041064374641,
          -0.4692221397366222,
          -0.29791882175656,
          0.02008235100353307,
          0.8100830890363357,
          -0.41672642986287073,
          0.9707033627232081,
          -0.6274786177878557,
          -0.4493776286603382,
          0.26514144671427525,
          -0.04034111936471769,
          -0.10542251792092436,
          0.7471881336927859,
          1.6985588724379266,
          0.9354138980955412,
          -0.003141295201818217,
          -1.245411618435649,
          -0.9906648160596542,
          -0.670643483855532,
          1.1114464676201257,
          -0.8084299703554508,
          0.9580579285687029,
          -0.7546165427834294,
          0.24279901723644104,
          -1.2053255000790124,
          0.9141083144876642,
          -0.11502723859631576,
          -0.9993376790012358,
          -1.9738607555907814,
          0.7630783039648289,
          0.10718710803428953,
          0.1491713991366512,
          -1.5063335010209173,
          -0.21116475440213478,
          -0.43042237631346253,
          -0.655294099587039,
          0.493334627973203,
          1.2816680776557954,
          1.906469897813769,
          0.4068432602086838,
          0.2981626083642478,
          -0.1551622345743024,
          -0.25586300583241217,
          -0.1072890447732036,
          0.6886202913281744,
          0.7064294807731066,
          -1.514281664211926,
          -0.9352445123099749,
          -0.6430592509054291,
          -1.1857032874556375,
          0.24964944474376413,
          -0.08175661611192668,
          1.7043810219276505,
          -2.1734077732721393,
          0.6157199374214332,
          0.561177867971734,
          -0.31004162508684,
          -2.0768279407804595,
          -0.12408805142145696,
          0.4456014385718528,
          -0.09730591604309241,
          0.016409860819479843,
          -0.3059200401869885,
          0.9299055126147543,
          0.4277380178785075
         ],
         "xaxis": "x11",
         "yaxis": "y11"
        },
        {
         "line": {
          "color": "rgba(128, 128, 128, 1.0)",
          "dash": "solid",
          "shape": "linear",
          "width": 1.3
         },
         "marker": {
          "size": 2,
          "symbol": "circle"
         },
         "mode": "markers",
         "name": "C",
         "text": "",
         "type": "scatter",
         "x": [
          0.3451197133623394,
          2.5270914380626217,
          0.9299482488958838,
          -0.5562988664566687,
          1.4355715653202474,
          -0.7411067515733488,
          -0.9794450690442909,
          0.769440739591859,
          0.23751958527666056,
          -0.04706497440737075,
          -0.7294036572263799,
          0.4487776730293185,
          -0.8159189914580166,
          -1.2092660952139471,
          0.5654421624230525,
          0.4744520720930635,
          0.2740372805334614,
          -1.167244162476902,
          0.06720960750460263,
          0.10936150469402772,
          -0.9165180090283555,
          1.5676031557714862,
          -0.2995972838469109,
          1.458781610122082,
          0.9032260632726471,
          0.0009649718193337695,
          1.3030292509667687,
          1.0154089128334605,
          1.3596947673823985,
          0.9872193424997157,
          0.6941544813230869,
          0.024910448406248353,
          -1.3486603903313839,
          0.061844911825487715,
          0.213019956711909,
          -0.8683314443340561,
          -0.8739817567047742,
          0.1909808662841519,
          0.5013768330823971,
          2.2697891566696655,
          -0.24631356881604097,
          -0.011390776771784489,
          -1.567484134177324,
          -0.21992787315449117,
          -1.0675819475914363,
          1.1650197898461372,
          1.626222850381875,
          0.08695494236171078,
          -1.0716543221237307,
          0.032898705870172434,
          -0.30256373771870076,
          -0.5777882371948797,
          0.0946134149705952,
          0.31831285044310376,
          0.6233905164548375,
          -0.8960529522407366,
          0.12005881079668307,
          0.6544857244125727,
          1.767021225361013,
          0.4086051048572968,
          -0.5179625005304351,
          0.6710461933989572,
          -0.7007507442805617,
          1.1420347801168707,
          0.06066636935888025,
          0.6172452112868805,
          0.9534282004171482,
          -0.7532122638499019,
          -0.9719816509300259,
          -1.1699284868256044,
          -1.234725048143622,
          -0.39974714289496094,
          -0.3328412126687109,
          0.02574109832320354,
          -0.5985483089169847,
          -0.6362247552931904,
          0.3316304039734038,
          -0.08129075988219273,
          -0.4799320950889164,
          -0.3692275148462346,
          -1.128444800903437,
          -1.6004237399739227,
          0.7762570230477617,
          -0.040674914293237135,
          -0.27726698007777667,
          0.630114105526245,
          -2.03869384082419,
          0.18356701054308538,
          -1.5810787623878058,
          0.7298179679225076,
          -1.1018296237385043,
          -0.2983903965981016,
          1.2351818237246057,
          1.1836383653171723,
          -1.7182458709928827,
          -1.0279262541311613,
          1.1420058715577808,
          -0.5014854459857403,
          -1.072287120130173,
          0.3348116696007735
         ],
         "xaxis": "x12",
         "y": [
          0.5267213974017121,
          -0.6684721840099757,
          -1.141119046831687,
          1.1952937181424739,
          1.7320233809492094,
          2.2617353078392783,
          0.5384683625876707,
          -0.11410735863685739,
          1.3320638421906792,
          0.19923206749959435,
          0.5613166047840271,
          1.4304372320296712,
          -1.343726395845464,
          0.7974392252186355,
          0.3212060955914616,
          -1.1635189883077761,
          -1.9346041414231638,
          1.0991506780351776,
          0.9186151196859581,
          0.4058623076515299,
          0.3016117240884719,
          0.5390679126879692,
          1.7882821054636522,
          -0.7757503630089266,
          2.377676902173927,
          0.9382343519045592,
          -0.5217378947577189,
          -0.13514500103587732,
          1.8762618430593225,
          2.1822170404138594,
          -0.414390211630898,
          0.6320920697953718,
          1.605533027910114,
          0.5654687322199591,
          0.6005537403792309,
          -0.3118041064374641,
          -0.4692221397366222,
          -0.29791882175656,
          0.02008235100353307,
          0.8100830890363357,
          -0.41672642986287073,
          0.9707033627232081,
          -0.6274786177878557,
          -0.4493776286603382,
          0.26514144671427525,
          -0.04034111936471769,
          -0.10542251792092436,
          0.7471881336927859,
          1.6985588724379266,
          0.9354138980955412,
          -0.003141295201818217,
          -1.245411618435649,
          -0.9906648160596542,
          -0.670643483855532,
          1.1114464676201257,
          -0.8084299703554508,
          0.9580579285687029,
          -0.7546165427834294,
          0.24279901723644104,
          -1.2053255000790124,
          0.9141083144876642,
          -0.11502723859631576,
          -0.9993376790012358,
          -1.9738607555907814,
          0.7630783039648289,
          0.10718710803428953,
          0.1491713991366512,
          -1.5063335010209173,
          -0.21116475440213478,
          -0.43042237631346253,
          -0.655294099587039,
          0.493334627973203,
          1.2816680776557954,
          1.906469897813769,
          0.4068432602086838,
          0.2981626083642478,
          -0.1551622345743024,
          -0.25586300583241217,
          -0.1072890447732036,
          0.6886202913281744,
          0.7064294807731066,
          -1.514281664211926,
          -0.9352445123099749,
          -0.6430592509054291,
          -1.1857032874556375,
          0.24964944474376413,
          -0.08175661611192668,
          1.7043810219276505,
          -2.1734077732721393,
          0.6157199374214332,
          0.561177867971734,
          -0.31004162508684,
          -2.0768279407804595,
          -0.12408805142145696,
          0.4456014385718528,
          -0.09730591604309241,
          0.016409860819479843,
          -0.3059200401869885,
          0.9299055126147543,
          0.4277380178785075
         ],
         "yaxis": "y12"
        },
        {
         "line": {
          "color": "rgba(128, 128, 128, 1.0)",
          "dash": "solid",
          "shape": "linear",
          "width": 1.3
         },
         "marker": {
          "size": 2,
          "symbol": "circle"
         },
         "mode": "markers",
         "name": "D",
         "text": "",
         "type": "scatter",
         "x": [
          -0.16200811326552847,
          -0.20157352604196913,
          -0.7878824139985893,
          -0.8098186826097336,
          -1.499626473245483,
          1.3801493133608,
          1.4464314084880139,
          -1.027585474513354,
          -0.4425867986983349,
          1.0107964592664522,
          -1.8686899556147416,
          -0.4366797049682072,
          0.33283194607288075,
          0.8691983656072146,
          0.34899189602579483,
          -0.758070179841699,
          -2.2823246253628784,
          -1.7959123288281453,
          -1.0702517942537177,
          0.4303128493804597,
          1.3435913199391896,
          -1.3231792291241613,
          -0.055540871869691394,
          0.6047955363165932,
          -0.012223060701152295,
          -1.1977548892056136,
          -0.30401147308524457,
          -0.0014968000861568448,
          0.7614139136605413,
          1.6585102109046828,
          0.7364580328985136,
          -0.7862808461442161,
          0.12410899216476683,
          1.1324233955669805,
          -0.5386544999702856,
          -0.022224946329560458,
          -0.834795832535822,
          0.6400542617381624,
          -0.050410517639447344,
          -0.5070593103526382,
          0.10836598048652045,
          -1.3099723281736693,
          -0.7309978091566318,
          -1.4472446690984737,
          1.214628112420574,
          0.16471557214098853,
          0.5101660846956017,
          0.2543680410886363,
          -1.0907187736222694,
          -1.0206930835823955,
          0.2114028072469376,
          1.103887751499291,
          -0.4328552481437502,
          1.7194264735579212,
          -0.14310994297648086,
          1.889389666404278,
          1.9843080677745246,
          -0.0717101693371949,
          -0.30833082541370677,
          -0.83727669533764,
          0.8295237394428329,
          -1.7304676350653139,
          -0.02263656134543682,
          0.9036188982062072,
          -1.1962297491709328,
          0.6151506627961592,
          -1.0744273790386734,
          1.9546837633904182,
          -1.6721370855644804,
          0.6285809592376622,
          0.06875595298308364,
          0.1735047453153547,
          -1.6484418313570877,
          -0.05196360207271461,
          -1.860942779195856,
          -0.24376406652507243,
          1.3166504197314817,
          1.0993760777773394,
          0.3350603250308234,
          2.166415132213184,
          -1.403635427455722,
          -0.9987539122797616,
          -0.0389318520766291,
          -1.0102888165372037,
          -0.47230340795459325,
          0.8944983501138225,
          -1.0323828454951944,
          -0.37873548762691633,
          1.1014417823921847,
          -1.502163006619164,
          0.4882168187023026,
          -0.08079466347421826,
          -0.7311064155672401,
          -1.3601359769407153,
          1.4419021706579305,
          0.6056008285554461,
          0.5359229544971378,
          0.7345365991801566,
          -1.0367646456343842,
          -1.1218870781265498
         ],
         "xaxis": "x13",
         "y": [
          0.3451197133623394,
          2.5270914380626217,
          0.9299482488958838,
          -0.5562988664566687,
          1.4355715653202474,
          -0.7411067515733488,
          -0.9794450690442909,
          0.769440739591859,
          0.23751958527666056,
          -0.04706497440737075,
          -0.7294036572263799,
          0.4487776730293185,
          -0.8159189914580166,
          -1.2092660952139471,
          0.5654421624230525,
          0.4744520720930635,
          0.2740372805334614,
          -1.167244162476902,
          0.06720960750460263,
          0.10936150469402772,
          -0.9165180090283555,
          1.5676031557714862,
          -0.2995972838469109,
          1.458781610122082,
          0.9032260632726471,
          0.0009649718193337695,
          1.3030292509667687,
          1.0154089128334605,
          1.3596947673823985,
          0.9872193424997157,
          0.6941544813230869,
          0.024910448406248353,
          -1.3486603903313839,
          0.061844911825487715,
          0.213019956711909,
          -0.8683314443340561,
          -0.8739817567047742,
          0.1909808662841519,
          0.5013768330823971,
          2.2697891566696655,
          -0.24631356881604097,
          -0.011390776771784489,
          -1.567484134177324,
          -0.21992787315449117,
          -1.0675819475914363,
          1.1650197898461372,
          1.626222850381875,
          0.08695494236171078,
          -1.0716543221237307,
          0.032898705870172434,
          -0.30256373771870076,
          -0.5777882371948797,
          0.0946134149705952,
          0.31831285044310376,
          0.6233905164548375,
          -0.8960529522407366,
          0.12005881079668307,
          0.6544857244125727,
          1.767021225361013,
          0.4086051048572968,
          -0.5179625005304351,
          0.6710461933989572,
          -0.7007507442805617,
          1.1420347801168707,
          0.06066636935888025,
          0.6172452112868805,
          0.9534282004171482,
          -0.7532122638499019,
          -0.9719816509300259,
          -1.1699284868256044,
          -1.234725048143622,
          -0.39974714289496094,
          -0.3328412126687109,
          0.02574109832320354,
          -0.5985483089169847,
          -0.6362247552931904,
          0.3316304039734038,
          -0.08129075988219273,
          -0.4799320950889164,
          -0.3692275148462346,
          -1.128444800903437,
          -1.6004237399739227,
          0.7762570230477617,
          -0.040674914293237135,
          -0.27726698007777667,
          0.630114105526245,
          -2.03869384082419,
          0.18356701054308538,
          -1.5810787623878058,
          0.7298179679225076,
          -1.1018296237385043,
          -0.2983903965981016,
          1.2351818237246057,
          1.1836383653171723,
          -1.7182458709928827,
          -1.0279262541311613,
          1.1420058715577808,
          -0.5014854459857403,
          -1.072287120130173,
          0.3348116696007735
         ],
         "yaxis": "y13"
        },
        {
         "line": {
          "color": "rgba(128, 128, 128, 1.0)",
          "dash": "solid",
          "shape": "linear",
          "width": 1.3
         },
         "marker": {
          "size": 2,
          "symbol": "circle"
         },
         "mode": "markers",
         "name": "D",
         "text": "",
         "type": "scatter",
         "x": [
          -1.921426653795267,
          0.334048307502647,
          0.29139511039949373,
          -0.6414184527866889,
          1.8129978660736876,
          0.9340616438700942,
          0.5255701521359472,
          -1.4207847314561757,
          -0.41203169323718924,
          2.1136931234184893,
          -0.2392950511227681,
          -0.5231243382302146,
          0.3623773844099841,
          0.43469180714147115,
          0.2935866855881844,
          0.32138992642777864,
          0.41061037413189344,
          -1.4194998343720762,
          1.393825863114237,
          -0.20378647124285942,
          -1.4991509068453899,
          -0.9160663223473968,
          0.39070360889958233,
          0.6172298347446923,
          -0.020980893536748667,
          0.02720719120393217,
          0.8659489667656535,
          1.4120805940010235,
          -0.6612552163928156,
          0.9766072007021301,
          0.5235910411065691,
          -1.117754300835103,
          -0.9579560538658426,
          0.4833318295107085,
          1.0543709617500725,
          0.009685684378018729,
          0.7288669976657884,
          -0.14689205337746256,
          0.11445795487666606,
          -0.027564293539367023,
          0.9093040405128784,
          -4.077346761391594,
          -0.8483320828075116,
          -0.8627690117139539,
          1.5086069738838883,
          0.5260008509407854,
          -1.7565326317334966,
          -0.3256021478172967,
          -1.2930036573566386,
          2.0288102398037915,
          1.0006261134294256,
          -1.108821308601499,
          0.6152609168980175,
          2.0481960101332133,
          1.3425391747308673,
          -1.293040167109373,
          1.1935177409160567,
          2.032888804673782,
          -1.7204457700362052,
          0.7287309361140403,
          2.2336560605752216,
          0.8822170448893837,
          0.050861719101860235,
          -0.08036018285574575,
          0.955803896868485,
          -0.07512760849515579,
          -1.361603914789393,
          2.640321839534361,
          -0.16940684601982414,
          0.28864765292112526,
          -0.7236842378381518,
          2.1116733153120353,
          0.1707759963321653,
          0.36901845477741674,
          -0.02521850161399106,
          0.2138434590310381,
          0.6885987440922583,
          -0.44279120734842004,
          -1.4347583561859933,
          -0.061585991997536935,
          -0.007528460407516018,
          -0.07182976840387806,
          2.660622975619294,
          -1.9004200235224258,
          -0.2617815618962467,
          1.4001633502788777,
          0.33623084799756425,
          -1.9703525166164124,
          0.5608169864561404,
          -0.5908191652410173,
          -2.3693589710613843,
          -1.0687157067226851,
          -1.3174908751570347,
          -0.21392793423096837,
          -0.5070210409948378,
          0.7068919126208695,
          0.4290939015181902,
          0.20560676502747743,
          -0.5278415000966169,
          1.8805733839542274
         ],
         "xaxis": "x14",
         "y": [
          0.3451197133623394,
          2.5270914380626217,
          0.9299482488958838,
          -0.5562988664566687,
          1.4355715653202474,
          -0.7411067515733488,
          -0.9794450690442909,
          0.769440739591859,
          0.23751958527666056,
          -0.04706497440737075,
          -0.7294036572263799,
          0.4487776730293185,
          -0.8159189914580166,
          -1.2092660952139471,
          0.5654421624230525,
          0.4744520720930635,
          0.2740372805334614,
          -1.167244162476902,
          0.06720960750460263,
          0.10936150469402772,
          -0.9165180090283555,
          1.5676031557714862,
          -0.2995972838469109,
          1.458781610122082,
          0.9032260632726471,
          0.0009649718193337695,
          1.3030292509667687,
          1.0154089128334605,
          1.3596947673823985,
          0.9872193424997157,
          0.6941544813230869,
          0.024910448406248353,
          -1.3486603903313839,
          0.061844911825487715,
          0.213019956711909,
          -0.8683314443340561,
          -0.8739817567047742,
          0.1909808662841519,
          0.5013768330823971,
          2.2697891566696655,
          -0.24631356881604097,
          -0.011390776771784489,
          -1.567484134177324,
          -0.21992787315449117,
          -1.0675819475914363,
          1.1650197898461372,
          1.626222850381875,
          0.08695494236171078,
          -1.0716543221237307,
          0.032898705870172434,
          -0.30256373771870076,
          -0.5777882371948797,
          0.0946134149705952,
          0.31831285044310376,
          0.6233905164548375,
          -0.8960529522407366,
          0.12005881079668307,
          0.6544857244125727,
          1.767021225361013,
          0.4086051048572968,
          -0.5179625005304351,
          0.6710461933989572,
          -0.7007507442805617,
          1.1420347801168707,
          0.06066636935888025,
          0.6172452112868805,
          0.9534282004171482,
          -0.7532122638499019,
          -0.9719816509300259,
          -1.1699284868256044,
          -1.234725048143622,
          -0.39974714289496094,
          -0.3328412126687109,
          0.02574109832320354,
          -0.5985483089169847,
          -0.6362247552931904,
          0.3316304039734038,
          -0.08129075988219273,
          -0.4799320950889164,
          -0.3692275148462346,
          -1.128444800903437,
          -1.6004237399739227,
          0.7762570230477617,
          -0.040674914293237135,
          -0.27726698007777667,
          0.630114105526245,
          -2.03869384082419,
          0.18356701054308538,
          -1.5810787623878058,
          0.7298179679225076,
          -1.1018296237385043,
          -0.2983903965981016,
          1.2351818237246057,
          1.1836383653171723,
          -1.7182458709928827,
          -1.0279262541311613,
          1.1420058715577808,
          -0.5014854459857403,
          -1.072287120130173,
          0.3348116696007735
         ],
         "yaxis": "y14"
        },
        {
         "line": {
          "color": "rgba(128, 128, 128, 1.0)",
          "dash": "solid",
          "shape": "linear",
          "width": 1.3
         },
         "marker": {
          "size": 2,
          "symbol": "circle"
         },
         "mode": "markers",
         "name": "D",
         "text": "",
         "type": "scatter",
         "x": [
          0.5267213974017121,
          -0.6684721840099757,
          -1.141119046831687,
          1.1952937181424739,
          1.7320233809492094,
          2.2617353078392783,
          0.5384683625876707,
          -0.11410735863685739,
          1.3320638421906792,
          0.19923206749959435,
          0.5613166047840271,
          1.4304372320296712,
          -1.343726395845464,
          0.7974392252186355,
          0.3212060955914616,
          -1.1635189883077761,
          -1.9346041414231638,
          1.0991506780351776,
          0.9186151196859581,
          0.4058623076515299,
          0.3016117240884719,
          0.5390679126879692,
          1.7882821054636522,
          -0.7757503630089266,
          2.377676902173927,
          0.9382343519045592,
          -0.5217378947577189,
          -0.13514500103587732,
          1.8762618430593225,
          2.1822170404138594,
          -0.414390211630898,
          0.6320920697953718,
          1.605533027910114,
          0.5654687322199591,
          0.6005537403792309,
          -0.3118041064374641,
          -0.4692221397366222,
          -0.29791882175656,
          0.02008235100353307,
          0.8100830890363357,
          -0.41672642986287073,
          0.9707033627232081,
          -0.6274786177878557,
          -0.4493776286603382,
          0.26514144671427525,
          -0.04034111936471769,
          -0.10542251792092436,
          0.7471881336927859,
          1.6985588724379266,
          0.9354138980955412,
          -0.003141295201818217,
          -1.245411618435649,
          -0.9906648160596542,
          -0.670643483855532,
          1.1114464676201257,
          -0.8084299703554508,
          0.9580579285687029,
          -0.7546165427834294,
          0.24279901723644104,
          -1.2053255000790124,
          0.9141083144876642,
          -0.11502723859631576,
          -0.9993376790012358,
          -1.9738607555907814,
          0.7630783039648289,
          0.10718710803428953,
          0.1491713991366512,
          -1.5063335010209173,
          -0.21116475440213478,
          -0.43042237631346253,
          -0.655294099587039,
          0.493334627973203,
          1.2816680776557954,
          1.906469897813769,
          0.4068432602086838,
          0.2981626083642478,
          -0.1551622345743024,
          -0.25586300583241217,
          -0.1072890447732036,
          0.6886202913281744,
          0.7064294807731066,
          -1.514281664211926,
          -0.9352445123099749,
          -0.6430592509054291,
          -1.1857032874556375,
          0.24964944474376413,
          -0.08175661611192668,
          1.7043810219276505,
          -2.1734077732721393,
          0.6157199374214332,
          0.561177867971734,
          -0.31004162508684,
          -2.0768279407804595,
          -0.12408805142145696,
          0.4456014385718528,
          -0.09730591604309241,
          0.016409860819479843,
          -0.3059200401869885,
          0.9299055126147543,
          0.4277380178785075
         ],
         "xaxis": "x15",
         "y": [
          0.3451197133623394,
          2.5270914380626217,
          0.9299482488958838,
          -0.5562988664566687,
          1.4355715653202474,
          -0.7411067515733488,
          -0.9794450690442909,
          0.769440739591859,
          0.23751958527666056,
          -0.04706497440737075,
          -0.7294036572263799,
          0.4487776730293185,
          -0.8159189914580166,
          -1.2092660952139471,
          0.5654421624230525,
          0.4744520720930635,
          0.2740372805334614,
          -1.167244162476902,
          0.06720960750460263,
          0.10936150469402772,
          -0.9165180090283555,
          1.5676031557714862,
          -0.2995972838469109,
          1.458781610122082,
          0.9032260632726471,
          0.0009649718193337695,
          1.3030292509667687,
          1.0154089128334605,
          1.3596947673823985,
          0.9872193424997157,
          0.6941544813230869,
          0.024910448406248353,
          -1.3486603903313839,
          0.061844911825487715,
          0.213019956711909,
          -0.8683314443340561,
          -0.8739817567047742,
          0.1909808662841519,
          0.5013768330823971,
          2.2697891566696655,
          -0.24631356881604097,
          -0.011390776771784489,
          -1.567484134177324,
          -0.21992787315449117,
          -1.0675819475914363,
          1.1650197898461372,
          1.626222850381875,
          0.08695494236171078,
          -1.0716543221237307,
          0.032898705870172434,
          -0.30256373771870076,
          -0.5777882371948797,
          0.0946134149705952,
          0.31831285044310376,
          0.6233905164548375,
          -0.8960529522407366,
          0.12005881079668307,
          0.6544857244125727,
          1.767021225361013,
          0.4086051048572968,
          -0.5179625005304351,
          0.6710461933989572,
          -0.7007507442805617,
          1.1420347801168707,
          0.06066636935888025,
          0.6172452112868805,
          0.9534282004171482,
          -0.7532122638499019,
          -0.9719816509300259,
          -1.1699284868256044,
          -1.234725048143622,
          -0.39974714289496094,
          -0.3328412126687109,
          0.02574109832320354,
          -0.5985483089169847,
          -0.6362247552931904,
          0.3316304039734038,
          -0.08129075988219273,
          -0.4799320950889164,
          -0.3692275148462346,
          -1.128444800903437,
          -1.6004237399739227,
          0.7762570230477617,
          -0.040674914293237135,
          -0.27726698007777667,
          0.630114105526245,
          -2.03869384082419,
          0.18356701054308538,
          -1.5810787623878058,
          0.7298179679225076,
          -1.1018296237385043,
          -0.2983903965981016,
          1.2351818237246057,
          1.1836383653171723,
          -1.7182458709928827,
          -1.0279262541311613,
          1.1420058715577808,
          -0.5014854459857403,
          -1.072287120130173,
          0.3348116696007735
         ],
         "yaxis": "y15"
        },
        {
         "histfunc": "count",
         "histnorm": "",
         "marker": {
          "color": "rgba(128, 0, 128, 1.0)",
          "line": {
           "color": "#4D5663",
           "width": 1.3
          }
         },
         "name": "D",
         "nbinsx": 10,
         "opacity": 0.8,
         "orientation": "v",
         "type": "histogram",
         "x": [
          0.3451197133623394,
          2.5270914380626217,
          0.9299482488958838,
          -0.5562988664566687,
          1.4355715653202474,
          -0.7411067515733488,
          -0.9794450690442909,
          0.769440739591859,
          0.23751958527666056,
          -0.04706497440737075,
          -0.7294036572263799,
          0.4487776730293185,
          -0.8159189914580166,
          -1.2092660952139471,
          0.5654421624230525,
          0.4744520720930635,
          0.2740372805334614,
          -1.167244162476902,
          0.06720960750460263,
          0.10936150469402772,
          -0.9165180090283555,
          1.5676031557714862,
          -0.2995972838469109,
          1.458781610122082,
          0.9032260632726471,
          0.0009649718193337695,
          1.3030292509667687,
          1.0154089128334605,
          1.3596947673823985,
          0.9872193424997157,
          0.6941544813230869,
          0.024910448406248353,
          -1.3486603903313839,
          0.061844911825487715,
          0.213019956711909,
          -0.8683314443340561,
          -0.8739817567047742,
          0.1909808662841519,
          0.5013768330823971,
          2.2697891566696655,
          -0.24631356881604097,
          -0.011390776771784489,
          -1.567484134177324,
          -0.21992787315449117,
          -1.0675819475914363,
          1.1650197898461372,
          1.626222850381875,
          0.08695494236171078,
          -1.0716543221237307,
          0.032898705870172434,
          -0.30256373771870076,
          -0.5777882371948797,
          0.0946134149705952,
          0.31831285044310376,
          0.6233905164548375,
          -0.8960529522407366,
          0.12005881079668307,
          0.6544857244125727,
          1.767021225361013,
          0.4086051048572968,
          -0.5179625005304351,
          0.6710461933989572,
          -0.7007507442805617,
          1.1420347801168707,
          0.06066636935888025,
          0.6172452112868805,
          0.9534282004171482,
          -0.7532122638499019,
          -0.9719816509300259,
          -1.1699284868256044,
          -1.234725048143622,
          -0.39974714289496094,
          -0.3328412126687109,
          0.02574109832320354,
          -0.5985483089169847,
          -0.6362247552931904,
          0.3316304039734038,
          -0.08129075988219273,
          -0.4799320950889164,
          -0.3692275148462346,
          -1.128444800903437,
          -1.6004237399739227,
          0.7762570230477617,
          -0.040674914293237135,
          -0.27726698007777667,
          0.630114105526245,
          -2.03869384082419,
          0.18356701054308538,
          -1.5810787623878058,
          0.7298179679225076,
          -1.1018296237385043,
          -0.2983903965981016,
          1.2351818237246057,
          1.1836383653171723,
          -1.7182458709928827,
          -1.0279262541311613,
          1.1420058715577808,
          -0.5014854459857403,
          -1.072287120130173,
          0.3348116696007735
         ],
         "xaxis": "x16",
         "yaxis": "y16"
        }
       ],
       "layout": {
        "bargap": 0.02,
        "legend": {
         "bgcolor": "#F5F6F9",
         "font": {
          "color": "#4D5663"
         }
        },
        "paper_bgcolor": "#F5F6F9",
        "plot_bgcolor": "#F5F6F9",
        "showlegend": false,
        "template": {
         "data": {
          "bar": [
           {
            "error_x": {
             "color": "#2a3f5f"
            },
            "error_y": {
             "color": "#2a3f5f"
            },
            "marker": {
             "line": {
              "color": "#E5ECF6",
              "width": 0.5
             },
             "pattern": {
              "fillmode": "overlay",
              "size": 10,
              "solidity": 0.2
             }
            },
            "type": "bar"
           }
          ],
          "barpolar": [
           {
            "marker": {
             "line": {
              "color": "#E5ECF6",
              "width": 0.5
             },
             "pattern": {
              "fillmode": "overlay",
              "size": 10,
              "solidity": 0.2
             }
            },
            "type": "barpolar"
           }
          ],
          "carpet": [
           {
            "aaxis": {
             "endlinecolor": "#2a3f5f",
             "gridcolor": "white",
             "linecolor": "white",
             "minorgridcolor": "white",
             "startlinecolor": "#2a3f5f"
            },
            "baxis": {
             "endlinecolor": "#2a3f5f",
             "gridcolor": "white",
             "linecolor": "white",
             "minorgridcolor": "white",
             "startlinecolor": "#2a3f5f"
            },
            "type": "carpet"
           }
          ],
          "choropleth": [
           {
            "colorbar": {
             "outlinewidth": 0,
             "ticks": ""
            },
            "type": "choropleth"
           }
          ],
          "contour": [
           {
            "colorbar": {
             "outlinewidth": 0,
             "ticks": ""
            },
            "colorscale": [
             [
              0,
              "#0d0887"
             ],
             [
              0.1111111111111111,
              "#46039f"
             ],
             [
              0.2222222222222222,
              "#7201a8"
             ],
             [
              0.3333333333333333,
              "#9c179e"
             ],
             [
              0.4444444444444444,
              "#bd3786"
             ],
             [
              0.5555555555555556,
              "#d8576b"
             ],
             [
              0.6666666666666666,
              "#ed7953"
             ],
             [
              0.7777777777777778,
              "#fb9f3a"
             ],
             [
              0.8888888888888888,
              "#fdca26"
             ],
             [
              1,
              "#f0f921"
             ]
            ],
            "type": "contour"
           }
          ],
          "contourcarpet": [
           {
            "colorbar": {
             "outlinewidth": 0,
             "ticks": ""
            },
            "type": "contourcarpet"
           }
          ],
          "heatmap": [
           {
            "colorbar": {
             "outlinewidth": 0,
             "ticks": ""
            },
            "colorscale": [
             [
              0,
              "#0d0887"
             ],
             [
              0.1111111111111111,
              "#46039f"
             ],
             [
              0.2222222222222222,
              "#7201a8"
             ],
             [
              0.3333333333333333,
              "#9c179e"
             ],
             [
              0.4444444444444444,
              "#bd3786"
             ],
             [
              0.5555555555555556,
              "#d8576b"
             ],
             [
              0.6666666666666666,
              "#ed7953"
             ],
             [
              0.7777777777777778,
              "#fb9f3a"
             ],
             [
              0.8888888888888888,
              "#fdca26"
             ],
             [
              1,
              "#f0f921"
             ]
            ],
            "type": "heatmap"
           }
          ],
          "heatmapgl": [
           {
            "colorbar": {
             "outlinewidth": 0,
             "ticks": ""
            },
            "colorscale": [
             [
              0,
              "#0d0887"
             ],
             [
              0.1111111111111111,
              "#46039f"
             ],
             [
              0.2222222222222222,
              "#7201a8"
             ],
             [
              0.3333333333333333,
              "#9c179e"
             ],
             [
              0.4444444444444444,
              "#bd3786"
             ],
             [
              0.5555555555555556,
              "#d8576b"
             ],
             [
              0.6666666666666666,
              "#ed7953"
             ],
             [
              0.7777777777777778,
              "#fb9f3a"
             ],
             [
              0.8888888888888888,
              "#fdca26"
             ],
             [
              1,
              "#f0f921"
             ]
            ],
            "type": "heatmapgl"
           }
          ],
          "histogram": [
           {
            "marker": {
             "pattern": {
              "fillmode": "overlay",
              "size": 10,
              "solidity": 0.2
             }
            },
            "type": "histogram"
           }
          ],
          "histogram2d": [
           {
            "colorbar": {
             "outlinewidth": 0,
             "ticks": ""
            },
            "colorscale": [
             [
              0,
              "#0d0887"
             ],
             [
              0.1111111111111111,
              "#46039f"
             ],
             [
              0.2222222222222222,
              "#7201a8"
             ],
             [
              0.3333333333333333,
              "#9c179e"
             ],
             [
              0.4444444444444444,
              "#bd3786"
             ],
             [
              0.5555555555555556,
              "#d8576b"
             ],
             [
              0.6666666666666666,
              "#ed7953"
             ],
             [
              0.7777777777777778,
              "#fb9f3a"
             ],
             [
              0.8888888888888888,
              "#fdca26"
             ],
             [
              1,
              "#f0f921"
             ]
            ],
            "type": "histogram2d"
           }
          ],
          "histogram2dcontour": [
           {
            "colorbar": {
             "outlinewidth": 0,
             "ticks": ""
            },
            "colorscale": [
             [
              0,
              "#0d0887"
             ],
             [
              0.1111111111111111,
              "#46039f"
             ],
             [
              0.2222222222222222,
              "#7201a8"
             ],
             [
              0.3333333333333333,
              "#9c179e"
             ],
             [
              0.4444444444444444,
              "#bd3786"
             ],
             [
              0.5555555555555556,
              "#d8576b"
             ],
             [
              0.6666666666666666,
              "#ed7953"
             ],
             [
              0.7777777777777778,
              "#fb9f3a"
             ],
             [
              0.8888888888888888,
              "#fdca26"
             ],
             [
              1,
              "#f0f921"
             ]
            ],
            "type": "histogram2dcontour"
           }
          ],
          "mesh3d": [
           {
            "colorbar": {
             "outlinewidth": 0,
             "ticks": ""
            },
            "type": "mesh3d"
           }
          ],
          "parcoords": [
           {
            "line": {
             "colorbar": {
              "outlinewidth": 0,
              "ticks": ""
             }
            },
            "type": "parcoords"
           }
          ],
          "pie": [
           {
            "automargin": true,
            "type": "pie"
           }
          ],
          "scatter": [
           {
            "fillpattern": {
             "fillmode": "overlay",
             "size": 10,
             "solidity": 0.2
            },
            "type": "scatter"
           }
          ],
          "scatter3d": [
           {
            "line": {
             "colorbar": {
              "outlinewidth": 0,
              "ticks": ""
             }
            },
            "marker": {
             "colorbar": {
              "outlinewidth": 0,
              "ticks": ""
             }
            },
            "type": "scatter3d"
           }
          ],
          "scattercarpet": [
           {
            "marker": {
             "colorbar": {
              "outlinewidth": 0,
              "ticks": ""
             }
            },
            "type": "scattercarpet"
           }
          ],
          "scattergeo": [
           {
            "marker": {
             "colorbar": {
              "outlinewidth": 0,
              "ticks": ""
             }
            },
            "type": "scattergeo"
           }
          ],
          "scattergl": [
           {
            "marker": {
             "colorbar": {
              "outlinewidth": 0,
              "ticks": ""
             }
            },
            "type": "scattergl"
           }
          ],
          "scattermapbox": [
           {
            "marker": {
             "colorbar": {
              "outlinewidth": 0,
              "ticks": ""
             }
            },
            "type": "scattermapbox"
           }
          ],
          "scatterpolar": [
           {
            "marker": {
             "colorbar": {
              "outlinewidth": 0,
              "ticks": ""
             }
            },
            "type": "scatterpolar"
           }
          ],
          "scatterpolargl": [
           {
            "marker": {
             "colorbar": {
              "outlinewidth": 0,
              "ticks": ""
             }
            },
            "type": "scatterpolargl"
           }
          ],
          "scatterternary": [
           {
            "marker": {
             "colorbar": {
              "outlinewidth": 0,
              "ticks": ""
             }
            },
            "type": "scatterternary"
           }
          ],
          "surface": [
           {
            "colorbar": {
             "outlinewidth": 0,
             "ticks": ""
            },
            "colorscale": [
             [
              0,
              "#0d0887"
             ],
             [
              0.1111111111111111,
              "#46039f"
             ],
             [
              0.2222222222222222,
              "#7201a8"
             ],
             [
              0.3333333333333333,
              "#9c179e"
             ],
             [
              0.4444444444444444,
              "#bd3786"
             ],
             [
              0.5555555555555556,
              "#d8576b"
             ],
             [
              0.6666666666666666,
              "#ed7953"
             ],
             [
              0.7777777777777778,
              "#fb9f3a"
             ],
             [
              0.8888888888888888,
              "#fdca26"
             ],
             [
              1,
              "#f0f921"
             ]
            ],
            "type": "surface"
           }
          ],
          "table": [
           {
            "cells": {
             "fill": {
              "color": "#EBF0F8"
             },
             "line": {
              "color": "white"
             }
            },
            "header": {
             "fill": {
              "color": "#C8D4E3"
             },
             "line": {
              "color": "white"
             }
            },
            "type": "table"
           }
          ]
         },
         "layout": {
          "annotationdefaults": {
           "arrowcolor": "#2a3f5f",
           "arrowhead": 0,
           "arrowwidth": 1
          },
          "autotypenumbers": "strict",
          "coloraxis": {
           "colorbar": {
            "outlinewidth": 0,
            "ticks": ""
           }
          },
          "colorscale": {
           "diverging": [
            [
             0,
             "#8e0152"
            ],
            [
             0.1,
             "#c51b7d"
            ],
            [
             0.2,
             "#de77ae"
            ],
            [
             0.3,
             "#f1b6da"
            ],
            [
             0.4,
             "#fde0ef"
            ],
            [
             0.5,
             "#f7f7f7"
            ],
            [
             0.6,
             "#e6f5d0"
            ],
            [
             0.7,
             "#b8e186"
            ],
            [
             0.8,
             "#7fbc41"
            ],
            [
             0.9,
             "#4d9221"
            ],
            [
             1,
             "#276419"
            ]
           ],
           "sequential": [
            [
             0,
             "#0d0887"
            ],
            [
             0.1111111111111111,
             "#46039f"
            ],
            [
             0.2222222222222222,
             "#7201a8"
            ],
            [
             0.3333333333333333,
             "#9c179e"
            ],
            [
             0.4444444444444444,
             "#bd3786"
            ],
            [
             0.5555555555555556,
             "#d8576b"
            ],
            [
             0.6666666666666666,
             "#ed7953"
            ],
            [
             0.7777777777777778,
             "#fb9f3a"
            ],
            [
             0.8888888888888888,
             "#fdca26"
            ],
            [
             1,
             "#f0f921"
            ]
           ],
           "sequentialminus": [
            [
             0,
             "#0d0887"
            ],
            [
             0.1111111111111111,
             "#46039f"
            ],
            [
             0.2222222222222222,
             "#7201a8"
            ],
            [
             0.3333333333333333,
             "#9c179e"
            ],
            [
             0.4444444444444444,
             "#bd3786"
            ],
            [
             0.5555555555555556,
             "#d8576b"
            ],
            [
             0.6666666666666666,
             "#ed7953"
            ],
            [
             0.7777777777777778,
             "#fb9f3a"
            ],
            [
             0.8888888888888888,
             "#fdca26"
            ],
            [
             1,
             "#f0f921"
            ]
           ]
          },
          "colorway": [
           "#636efa",
           "#EF553B",
           "#00cc96",
           "#ab63fa",
           "#FFA15A",
           "#19d3f3",
           "#FF6692",
           "#B6E880",
           "#FF97FF",
           "#FECB52"
          ],
          "font": {
           "color": "#2a3f5f"
          },
          "geo": {
           "bgcolor": "white",
           "lakecolor": "white",
           "landcolor": "#E5ECF6",
           "showlakes": true,
           "showland": true,
           "subunitcolor": "white"
          },
          "hoverlabel": {
           "align": "left"
          },
          "hovermode": "closest",
          "mapbox": {
           "style": "light"
          },
          "paper_bgcolor": "white",
          "plot_bgcolor": "#E5ECF6",
          "polar": {
           "angularaxis": {
            "gridcolor": "white",
            "linecolor": "white",
            "ticks": ""
           },
           "bgcolor": "#E5ECF6",
           "radialaxis": {
            "gridcolor": "white",
            "linecolor": "white",
            "ticks": ""
           }
          },
          "scene": {
           "xaxis": {
            "backgroundcolor": "#E5ECF6",
            "gridcolor": "white",
            "gridwidth": 2,
            "linecolor": "white",
            "showbackground": true,
            "ticks": "",
            "zerolinecolor": "white"
           },
           "yaxis": {
            "backgroundcolor": "#E5ECF6",
            "gridcolor": "white",
            "gridwidth": 2,
            "linecolor": "white",
            "showbackground": true,
            "ticks": "",
            "zerolinecolor": "white"
           },
           "zaxis": {
            "backgroundcolor": "#E5ECF6",
            "gridcolor": "white",
            "gridwidth": 2,
            "linecolor": "white",
            "showbackground": true,
            "ticks": "",
            "zerolinecolor": "white"
           }
          },
          "shapedefaults": {
           "line": {
            "color": "#2a3f5f"
           }
          },
          "ternary": {
           "aaxis": {
            "gridcolor": "white",
            "linecolor": "white",
            "ticks": ""
           },
           "baxis": {
            "gridcolor": "white",
            "linecolor": "white",
            "ticks": ""
           },
           "bgcolor": "#E5ECF6",
           "caxis": {
            "gridcolor": "white",
            "linecolor": "white",
            "ticks": ""
           }
          },
          "title": {
           "x": 0.05
          },
          "xaxis": {
           "automargin": true,
           "gridcolor": "white",
           "linecolor": "white",
           "ticks": "",
           "title": {
            "standoff": 15
           },
           "zerolinecolor": "white",
           "zerolinewidth": 2
          },
          "yaxis": {
           "automargin": true,
           "gridcolor": "white",
           "linecolor": "white",
           "ticks": "",
           "title": {
            "standoff": 15
           },
           "zerolinecolor": "white",
           "zerolinewidth": 2
          }
         }
        },
        "title": {
         "font": {
          "color": "#4D5663"
         }
        },
        "xaxis": {
         "anchor": "y",
         "domain": [
          0,
          0.2125
         ],
         "gridcolor": "#E1E5ED",
         "showgrid": false,
         "tickfont": {
          "color": "#4D5663"
         },
         "title": {
          "font": {
           "color": "#4D5663"
          },
          "text": ""
         },
         "zerolinecolor": "#E1E5ED"
        },
        "xaxis10": {
         "anchor": "y10",
         "domain": [
          0.2625,
          0.475
         ],
         "gridcolor": "#E1E5ED",
         "showgrid": false,
         "tickfont": {
          "color": "#4D5663"
         },
         "title": {
          "font": {
           "color": "#4D5663"
          },
          "text": ""
         },
         "zerolinecolor": "#E1E5ED"
        },
        "xaxis11": {
         "anchor": "y11",
         "domain": [
          0.525,
          0.7375
         ],
         "gridcolor": "#E1E5ED",
         "showgrid": false,
         "tickfont": {
          "color": "#4D5663"
         },
         "title": {
          "font": {
           "color": "#4D5663"
          },
          "text": ""
         },
         "zerolinecolor": "#E1E5ED"
        },
        "xaxis12": {
         "anchor": "y12",
         "domain": [
          0.7875,
          1
         ],
         "gridcolor": "#E1E5ED",
         "showgrid": false,
         "tickfont": {
          "color": "#4D5663"
         },
         "title": {
          "font": {
           "color": "#4D5663"
          },
          "text": ""
         },
         "zerolinecolor": "#E1E5ED"
        },
        "xaxis13": {
         "anchor": "y13",
         "domain": [
          0,
          0.2125
         ],
         "gridcolor": "#E1E5ED",
         "showgrid": false,
         "tickfont": {
          "color": "#4D5663"
         },
         "title": {
          "font": {
           "color": "#4D5663"
          },
          "text": ""
         },
         "zerolinecolor": "#E1E5ED"
        },
        "xaxis14": {
         "anchor": "y14",
         "domain": [
          0.2625,
          0.475
         ],
         "gridcolor": "#E1E5ED",
         "showgrid": false,
         "tickfont": {
          "color": "#4D5663"
         },
         "title": {
          "font": {
           "color": "#4D5663"
          },
          "text": ""
         },
         "zerolinecolor": "#E1E5ED"
        },
        "xaxis15": {
         "anchor": "y15",
         "domain": [
          0.525,
          0.7375
         ],
         "gridcolor": "#E1E5ED",
         "showgrid": false,
         "tickfont": {
          "color": "#4D5663"
         },
         "title": {
          "font": {
           "color": "#4D5663"
          },
          "text": ""
         },
         "zerolinecolor": "#E1E5ED"
        },
        "xaxis16": {
         "anchor": "y16",
         "domain": [
          0.7875,
          1
         ],
         "gridcolor": "#E1E5ED",
         "showgrid": false,
         "tickfont": {
          "color": "#4D5663"
         },
         "title": {
          "font": {
           "color": "#4D5663"
          },
          "text": ""
         },
         "zerolinecolor": "#E1E5ED"
        },
        "xaxis2": {
         "anchor": "y2",
         "domain": [
          0.2625,
          0.475
         ],
         "gridcolor": "#E1E5ED",
         "showgrid": false,
         "tickfont": {
          "color": "#4D5663"
         },
         "title": {
          "font": {
           "color": "#4D5663"
          },
          "text": ""
         },
         "zerolinecolor": "#E1E5ED"
        },
        "xaxis3": {
         "anchor": "y3",
         "domain": [
          0.525,
          0.7375
         ],
         "gridcolor": "#E1E5ED",
         "showgrid": false,
         "tickfont": {
          "color": "#4D5663"
         },
         "title": {
          "font": {
           "color": "#4D5663"
          },
          "text": ""
         },
         "zerolinecolor": "#E1E5ED"
        },
        "xaxis4": {
         "anchor": "y4",
         "domain": [
          0.7875,
          1
         ],
         "gridcolor": "#E1E5ED",
         "showgrid": false,
         "tickfont": {
          "color": "#4D5663"
         },
         "title": {
          "font": {
           "color": "#4D5663"
          },
          "text": ""
         },
         "zerolinecolor": "#E1E5ED"
        },
        "xaxis5": {
         "anchor": "y5",
         "domain": [
          0,
          0.2125
         ],
         "gridcolor": "#E1E5ED",
         "showgrid": false,
         "tickfont": {
          "color": "#4D5663"
         },
         "title": {
          "font": {
           "color": "#4D5663"
          },
          "text": ""
         },
         "zerolinecolor": "#E1E5ED"
        },
        "xaxis6": {
         "anchor": "y6",
         "domain": [
          0.2625,
          0.475
         ],
         "gridcolor": "#E1E5ED",
         "showgrid": false,
         "tickfont": {
          "color": "#4D5663"
         },
         "title": {
          "font": {
           "color": "#4D5663"
          },
          "text": ""
         },
         "zerolinecolor": "#E1E5ED"
        },
        "xaxis7": {
         "anchor": "y7",
         "domain": [
          0.525,
          0.7375
         ],
         "gridcolor": "#E1E5ED",
         "showgrid": false,
         "tickfont": {
          "color": "#4D5663"
         },
         "title": {
          "font": {
           "color": "#4D5663"
          },
          "text": ""
         },
         "zerolinecolor": "#E1E5ED"
        },
        "xaxis8": {
         "anchor": "y8",
         "domain": [
          0.7875,
          1
         ],
         "gridcolor": "#E1E5ED",
         "showgrid": false,
         "tickfont": {
          "color": "#4D5663"
         },
         "title": {
          "font": {
           "color": "#4D5663"
          },
          "text": ""
         },
         "zerolinecolor": "#E1E5ED"
        },
        "xaxis9": {
         "anchor": "y9",
         "domain": [
          0,
          0.2125
         ],
         "gridcolor": "#E1E5ED",
         "showgrid": false,
         "tickfont": {
          "color": "#4D5663"
         },
         "title": {
          "font": {
           "color": "#4D5663"
          },
          "text": ""
         },
         "zerolinecolor": "#E1E5ED"
        },
        "yaxis": {
         "anchor": "x",
         "domain": [
          0.8025,
          1
         ],
         "gridcolor": "#E1E5ED",
         "showgrid": false,
         "tickfont": {
          "color": "#4D5663"
         },
         "title": {
          "font": {
           "color": "#4D5663"
          },
          "text": ""
         },
         "zerolinecolor": "#E1E5ED"
        },
        "yaxis10": {
         "anchor": "x10",
         "domain": [
          0.2675,
          0.465
         ],
         "gridcolor": "#E1E5ED",
         "showgrid": false,
         "tickfont": {
          "color": "#4D5663"
         },
         "title": {
          "font": {
           "color": "#4D5663"
          },
          "text": ""
         },
         "zerolinecolor": "#E1E5ED"
        },
        "yaxis11": {
         "anchor": "x11",
         "domain": [
          0.2675,
          0.465
         ],
         "gridcolor": "#E1E5ED",
         "showgrid": false,
         "tickfont": {
          "color": "#4D5663"
         },
         "title": {
          "font": {
           "color": "#4D5663"
          },
          "text": ""
         },
         "zerolinecolor": "#E1E5ED"
        },
        "yaxis12": {
         "anchor": "x12",
         "domain": [
          0.2675,
          0.465
         ],
         "gridcolor": "#E1E5ED",
         "showgrid": false,
         "tickfont": {
          "color": "#4D5663"
         },
         "title": {
          "font": {
           "color": "#4D5663"
          },
          "text": ""
         },
         "zerolinecolor": "#E1E5ED"
        },
        "yaxis13": {
         "anchor": "x13",
         "domain": [
          0,
          0.1975
         ],
         "gridcolor": "#E1E5ED",
         "showgrid": false,
         "tickfont": {
          "color": "#4D5663"
         },
         "title": {
          "font": {
           "color": "#4D5663"
          },
          "text": ""
         },
         "zerolinecolor": "#E1E5ED"
        },
        "yaxis14": {
         "anchor": "x14",
         "domain": [
          0,
          0.1975
         ],
         "gridcolor": "#E1E5ED",
         "showgrid": false,
         "tickfont": {
          "color": "#4D5663"
         },
         "title": {
          "font": {
           "color": "#4D5663"
          },
          "text": ""
         },
         "zerolinecolor": "#E1E5ED"
        },
        "yaxis15": {
         "anchor": "x15",
         "domain": [
          0,
          0.1975
         ],
         "gridcolor": "#E1E5ED",
         "showgrid": false,
         "tickfont": {
          "color": "#4D5663"
         },
         "title": {
          "font": {
           "color": "#4D5663"
          },
          "text": ""
         },
         "zerolinecolor": "#E1E5ED"
        },
        "yaxis16": {
         "anchor": "x16",
         "domain": [
          0,
          0.1975
         ],
         "gridcolor": "#E1E5ED",
         "showgrid": false,
         "tickfont": {
          "color": "#4D5663"
         },
         "title": {
          "font": {
           "color": "#4D5663"
          },
          "text": ""
         },
         "zerolinecolor": "#E1E5ED"
        },
        "yaxis2": {
         "anchor": "x2",
         "domain": [
          0.8025,
          1
         ],
         "gridcolor": "#E1E5ED",
         "showgrid": false,
         "tickfont": {
          "color": "#4D5663"
         },
         "title": {
          "font": {
           "color": "#4D5663"
          },
          "text": ""
         },
         "zerolinecolor": "#E1E5ED"
        },
        "yaxis3": {
         "anchor": "x3",
         "domain": [
          0.8025,
          1
         ],
         "gridcolor": "#E1E5ED",
         "showgrid": false,
         "tickfont": {
          "color": "#4D5663"
         },
         "title": {
          "font": {
           "color": "#4D5663"
          },
          "text": ""
         },
         "zerolinecolor": "#E1E5ED"
        },
        "yaxis4": {
         "anchor": "x4",
         "domain": [
          0.8025,
          1
         ],
         "gridcolor": "#E1E5ED",
         "showgrid": false,
         "tickfont": {
          "color": "#4D5663"
         },
         "title": {
          "font": {
           "color": "#4D5663"
          },
          "text": ""
         },
         "zerolinecolor": "#E1E5ED"
        },
        "yaxis5": {
         "anchor": "x5",
         "domain": [
          0.535,
          0.7325
         ],
         "gridcolor": "#E1E5ED",
         "showgrid": false,
         "tickfont": {
          "color": "#4D5663"
         },
         "title": {
          "font": {
           "color": "#4D5663"
          },
          "text": ""
         },
         "zerolinecolor": "#E1E5ED"
        },
        "yaxis6": {
         "anchor": "x6",
         "domain": [
          0.535,
          0.7325
         ],
         "gridcolor": "#E1E5ED",
         "showgrid": false,
         "tickfont": {
          "color": "#4D5663"
         },
         "title": {
          "font": {
           "color": "#4D5663"
          },
          "text": ""
         },
         "zerolinecolor": "#E1E5ED"
        },
        "yaxis7": {
         "anchor": "x7",
         "domain": [
          0.535,
          0.7325
         ],
         "gridcolor": "#E1E5ED",
         "showgrid": false,
         "tickfont": {
          "color": "#4D5663"
         },
         "title": {
          "font": {
           "color": "#4D5663"
          },
          "text": ""
         },
         "zerolinecolor": "#E1E5ED"
        },
        "yaxis8": {
         "anchor": "x8",
         "domain": [
          0.535,
          0.7325
         ],
         "gridcolor": "#E1E5ED",
         "showgrid": false,
         "tickfont": {
          "color": "#4D5663"
         },
         "title": {
          "font": {
           "color": "#4D5663"
          },
          "text": ""
         },
         "zerolinecolor": "#E1E5ED"
        },
        "yaxis9": {
         "anchor": "x9",
         "domain": [
          0.2675,
          0.465
         ],
         "gridcolor": "#E1E5ED",
         "showgrid": false,
         "tickfont": {
          "color": "#4D5663"
         },
         "title": {
          "font": {
           "color": "#4D5663"
          },
          "text": ""
         },
         "zerolinecolor": "#E1E5ED"
        }
       }
      },
      "text/html": [
       "<div>                            <div id=\"44f6eb11-98e1-4f40-8734-84e13e0a1dcb\" class=\"plotly-graph-div\" style=\"height:525px; width:100%;\"></div>            <script type=\"text/javascript\">                require([\"plotly\"], function(Plotly) {                    window.PLOTLYENV=window.PLOTLYENV || {};\n",
       "                    window.PLOTLYENV.BASE_URL='https://plot.ly';                                    if (document.getElementById(\"44f6eb11-98e1-4f40-8734-84e13e0a1dcb\")) {                    Plotly.newPlot(                        \"44f6eb11-98e1-4f40-8734-84e13e0a1dcb\",                        [{\"histfunc\":\"count\",\"histnorm\":\"\",\"marker\":{\"color\":\"rgba(255, 153, 51, 1.0)\",\"line\":{\"color\":\"#4D5663\",\"width\":1.3}},\"name\":\"A\",\"nbinsx\":10,\"opacity\":0.8,\"orientation\":\"v\",\"x\":[-0.16200811326552847,-0.20157352604196913,-0.7878824139985893,-0.8098186826097336,-1.499626473245483,1.3801493133608,1.4464314084880139,-1.027585474513354,-0.4425867986983349,1.0107964592664522,-1.8686899556147416,-0.4366797049682072,0.33283194607288075,0.8691983656072146,0.34899189602579483,-0.758070179841699,-2.2823246253628784,-1.7959123288281453,-1.0702517942537177,0.4303128493804597,1.3435913199391896,-1.3231792291241613,-0.055540871869691394,0.6047955363165932,-0.012223060701152295,-1.1977548892056136,-0.30401147308524457,-0.0014968000861568448,0.7614139136605413,1.6585102109046828,0.7364580328985136,-0.7862808461442161,0.12410899216476683,1.1324233955669805,-0.5386544999702856,-0.022224946329560458,-0.834795832535822,0.6400542617381624,-0.050410517639447344,-0.5070593103526382,0.10836598048652045,-1.3099723281736693,-0.7309978091566318,-1.4472446690984737,1.214628112420574,0.16471557214098853,0.5101660846956017,0.2543680410886363,-1.0907187736222694,-1.0206930835823955,0.2114028072469376,1.103887751499291,-0.4328552481437502,1.7194264735579212,-0.14310994297648086,1.889389666404278,1.9843080677745246,-0.0717101693371949,-0.30833082541370677,-0.83727669533764,0.8295237394428329,-1.7304676350653139,-0.02263656134543682,0.9036188982062072,-1.1962297491709328,0.6151506627961592,-1.0744273790386734,1.9546837633904182,-1.6721370855644804,0.6285809592376622,0.06875595298308364,0.1735047453153547,-1.6484418313570877,-0.05196360207271461,-1.860942779195856,-0.24376406652507243,1.3166504197314817,1.0993760777773394,0.3350603250308234,2.166415132213184,-1.403635427455722,-0.9987539122797616,-0.0389318520766291,-1.0102888165372037,-0.47230340795459325,0.8944983501138225,-1.0323828454951944,-0.37873548762691633,1.1014417823921847,-1.502163006619164,0.4882168187023026,-0.08079466347421826,-0.7311064155672401,-1.3601359769407153,1.4419021706579305,0.6056008285554461,0.5359229544971378,0.7345365991801566,-1.0367646456343842,-1.1218870781265498],\"xaxis\":\"x\",\"yaxis\":\"y\",\"type\":\"histogram\"},{\"line\":{\"color\":\"rgba(128, 128, 128, 1.0)\",\"dash\":\"solid\",\"shape\":\"linear\",\"width\":1.3},\"marker\":{\"size\":2,\"symbol\":\"circle\"},\"mode\":\"markers\",\"name\":\"A\",\"text\":\"\",\"x\":[-1.921426653795267,0.334048307502647,0.29139511039949373,-0.6414184527866889,1.8129978660736876,0.9340616438700942,0.5255701521359472,-1.4207847314561757,-0.41203169323718924,2.1136931234184893,-0.2392950511227681,-0.5231243382302146,0.3623773844099841,0.43469180714147115,0.2935866855881844,0.32138992642777864,0.41061037413189344,-1.4194998343720762,1.393825863114237,-0.20378647124285942,-1.4991509068453899,-0.9160663223473968,0.39070360889958233,0.6172298347446923,-0.020980893536748667,0.02720719120393217,0.8659489667656535,1.4120805940010235,-0.6612552163928156,0.9766072007021301,0.5235910411065691,-1.117754300835103,-0.9579560538658426,0.4833318295107085,1.0543709617500725,0.009685684378018729,0.7288669976657884,-0.14689205337746256,0.11445795487666606,-0.027564293539367023,0.9093040405128784,-4.077346761391594,-0.8483320828075116,-0.8627690117139539,1.5086069738838883,0.5260008509407854,-1.7565326317334966,-0.3256021478172967,-1.2930036573566386,2.0288102398037915,1.0006261134294256,-1.108821308601499,0.6152609168980175,2.0481960101332133,1.3425391747308673,-1.293040167109373,1.1935177409160567,2.032888804673782,-1.7204457700362052,0.7287309361140403,2.2336560605752216,0.8822170448893837,0.050861719101860235,-0.08036018285574575,0.955803896868485,-0.07512760849515579,-1.361603914789393,2.640321839534361,-0.16940684601982414,0.28864765292112526,-0.7236842378381518,2.1116733153120353,0.1707759963321653,0.36901845477741674,-0.02521850161399106,0.2138434590310381,0.6885987440922583,-0.44279120734842004,-1.4347583561859933,-0.061585991997536935,-0.007528460407516018,-0.07182976840387806,2.660622975619294,-1.9004200235224258,-0.2617815618962467,1.4001633502788777,0.33623084799756425,-1.9703525166164124,0.5608169864561404,-0.5908191652410173,-2.3693589710613843,-1.0687157067226851,-1.3174908751570347,-0.21392793423096837,-0.5070210409948378,0.7068919126208695,0.4290939015181902,0.20560676502747743,-0.5278415000966169,1.8805733839542274],\"xaxis\":\"x2\",\"y\":[-0.16200811326552847,-0.20157352604196913,-0.7878824139985893,-0.8098186826097336,-1.499626473245483,1.3801493133608,1.4464314084880139,-1.027585474513354,-0.4425867986983349,1.0107964592664522,-1.8686899556147416,-0.4366797049682072,0.33283194607288075,0.8691983656072146,0.34899189602579483,-0.758070179841699,-2.2823246253628784,-1.7959123288281453,-1.0702517942537177,0.4303128493804597,1.3435913199391896,-1.3231792291241613,-0.055540871869691394,0.6047955363165932,-0.012223060701152295,-1.1977548892056136,-0.30401147308524457,-0.0014968000861568448,0.7614139136605413,1.6585102109046828,0.7364580328985136,-0.7862808461442161,0.12410899216476683,1.1324233955669805,-0.5386544999702856,-0.022224946329560458,-0.834795832535822,0.6400542617381624,-0.050410517639447344,-0.5070593103526382,0.10836598048652045,-1.3099723281736693,-0.7309978091566318,-1.4472446690984737,1.214628112420574,0.16471557214098853,0.5101660846956017,0.2543680410886363,-1.0907187736222694,-1.0206930835823955,0.2114028072469376,1.103887751499291,-0.4328552481437502,1.7194264735579212,-0.14310994297648086,1.889389666404278,1.9843080677745246,-0.0717101693371949,-0.30833082541370677,-0.83727669533764,0.8295237394428329,-1.7304676350653139,-0.02263656134543682,0.9036188982062072,-1.1962297491709328,0.6151506627961592,-1.0744273790386734,1.9546837633904182,-1.6721370855644804,0.6285809592376622,0.06875595298308364,0.1735047453153547,-1.6484418313570877,-0.05196360207271461,-1.860942779195856,-0.24376406652507243,1.3166504197314817,1.0993760777773394,0.3350603250308234,2.166415132213184,-1.403635427455722,-0.9987539122797616,-0.0389318520766291,-1.0102888165372037,-0.47230340795459325,0.8944983501138225,-1.0323828454951944,-0.37873548762691633,1.1014417823921847,-1.502163006619164,0.4882168187023026,-0.08079466347421826,-0.7311064155672401,-1.3601359769407153,1.4419021706579305,0.6056008285554461,0.5359229544971378,0.7345365991801566,-1.0367646456343842,-1.1218870781265498],\"yaxis\":\"y2\",\"type\":\"scatter\"},{\"line\":{\"color\":\"rgba(128, 128, 128, 1.0)\",\"dash\":\"solid\",\"shape\":\"linear\",\"width\":1.3},\"marker\":{\"size\":2,\"symbol\":\"circle\"},\"mode\":\"markers\",\"name\":\"A\",\"text\":\"\",\"x\":[0.5267213974017121,-0.6684721840099757,-1.141119046831687,1.1952937181424739,1.7320233809492094,2.2617353078392783,0.5384683625876707,-0.11410735863685739,1.3320638421906792,0.19923206749959435,0.5613166047840271,1.4304372320296712,-1.343726395845464,0.7974392252186355,0.3212060955914616,-1.1635189883077761,-1.9346041414231638,1.0991506780351776,0.9186151196859581,0.4058623076515299,0.3016117240884719,0.5390679126879692,1.7882821054636522,-0.7757503630089266,2.377676902173927,0.9382343519045592,-0.5217378947577189,-0.13514500103587732,1.8762618430593225,2.1822170404138594,-0.414390211630898,0.6320920697953718,1.605533027910114,0.5654687322199591,0.6005537403792309,-0.3118041064374641,-0.4692221397366222,-0.29791882175656,0.02008235100353307,0.8100830890363357,-0.41672642986287073,0.9707033627232081,-0.6274786177878557,-0.4493776286603382,0.26514144671427525,-0.04034111936471769,-0.10542251792092436,0.7471881336927859,1.6985588724379266,0.9354138980955412,-0.003141295201818217,-1.245411618435649,-0.9906648160596542,-0.670643483855532,1.1114464676201257,-0.8084299703554508,0.9580579285687029,-0.7546165427834294,0.24279901723644104,-1.2053255000790124,0.9141083144876642,-0.11502723859631576,-0.9993376790012358,-1.9738607555907814,0.7630783039648289,0.10718710803428953,0.1491713991366512,-1.5063335010209173,-0.21116475440213478,-0.43042237631346253,-0.655294099587039,0.493334627973203,1.2816680776557954,1.906469897813769,0.4068432602086838,0.2981626083642478,-0.1551622345743024,-0.25586300583241217,-0.1072890447732036,0.6886202913281744,0.7064294807731066,-1.514281664211926,-0.9352445123099749,-0.6430592509054291,-1.1857032874556375,0.24964944474376413,-0.08175661611192668,1.7043810219276505,-2.1734077732721393,0.6157199374214332,0.561177867971734,-0.31004162508684,-2.0768279407804595,-0.12408805142145696,0.4456014385718528,-0.09730591604309241,0.016409860819479843,-0.3059200401869885,0.9299055126147543,0.4277380178785075],\"xaxis\":\"x3\",\"y\":[-0.16200811326552847,-0.20157352604196913,-0.7878824139985893,-0.8098186826097336,-1.499626473245483,1.3801493133608,1.4464314084880139,-1.027585474513354,-0.4425867986983349,1.0107964592664522,-1.8686899556147416,-0.4366797049682072,0.33283194607288075,0.8691983656072146,0.34899189602579483,-0.758070179841699,-2.2823246253628784,-1.7959123288281453,-1.0702517942537177,0.4303128493804597,1.3435913199391896,-1.3231792291241613,-0.055540871869691394,0.6047955363165932,-0.012223060701152295,-1.1977548892056136,-0.30401147308524457,-0.0014968000861568448,0.7614139136605413,1.6585102109046828,0.7364580328985136,-0.7862808461442161,0.12410899216476683,1.1324233955669805,-0.5386544999702856,-0.022224946329560458,-0.834795832535822,0.6400542617381624,-0.050410517639447344,-0.5070593103526382,0.10836598048652045,-1.3099723281736693,-0.7309978091566318,-1.4472446690984737,1.214628112420574,0.16471557214098853,0.5101660846956017,0.2543680410886363,-1.0907187736222694,-1.0206930835823955,0.2114028072469376,1.103887751499291,-0.4328552481437502,1.7194264735579212,-0.14310994297648086,1.889389666404278,1.9843080677745246,-0.0717101693371949,-0.30833082541370677,-0.83727669533764,0.8295237394428329,-1.7304676350653139,-0.02263656134543682,0.9036188982062072,-1.1962297491709328,0.6151506627961592,-1.0744273790386734,1.9546837633904182,-1.6721370855644804,0.6285809592376622,0.06875595298308364,0.1735047453153547,-1.6484418313570877,-0.05196360207271461,-1.860942779195856,-0.24376406652507243,1.3166504197314817,1.0993760777773394,0.3350603250308234,2.166415132213184,-1.403635427455722,-0.9987539122797616,-0.0389318520766291,-1.0102888165372037,-0.47230340795459325,0.8944983501138225,-1.0323828454951944,-0.37873548762691633,1.1014417823921847,-1.502163006619164,0.4882168187023026,-0.08079466347421826,-0.7311064155672401,-1.3601359769407153,1.4419021706579305,0.6056008285554461,0.5359229544971378,0.7345365991801566,-1.0367646456343842,-1.1218870781265498],\"yaxis\":\"y3\",\"type\":\"scatter\"},{\"line\":{\"color\":\"rgba(128, 128, 128, 1.0)\",\"dash\":\"solid\",\"shape\":\"linear\",\"width\":1.3},\"marker\":{\"size\":2,\"symbol\":\"circle\"},\"mode\":\"markers\",\"name\":\"A\",\"text\":\"\",\"x\":[0.3451197133623394,2.5270914380626217,0.9299482488958838,-0.5562988664566687,1.4355715653202474,-0.7411067515733488,-0.9794450690442909,0.769440739591859,0.23751958527666056,-0.04706497440737075,-0.7294036572263799,0.4487776730293185,-0.8159189914580166,-1.2092660952139471,0.5654421624230525,0.4744520720930635,0.2740372805334614,-1.167244162476902,0.06720960750460263,0.10936150469402772,-0.9165180090283555,1.5676031557714862,-0.2995972838469109,1.458781610122082,0.9032260632726471,0.0009649718193337695,1.3030292509667687,1.0154089128334605,1.3596947673823985,0.9872193424997157,0.6941544813230869,0.024910448406248353,-1.3486603903313839,0.061844911825487715,0.213019956711909,-0.8683314443340561,-0.8739817567047742,0.1909808662841519,0.5013768330823971,2.2697891566696655,-0.24631356881604097,-0.011390776771784489,-1.567484134177324,-0.21992787315449117,-1.0675819475914363,1.1650197898461372,1.626222850381875,0.08695494236171078,-1.0716543221237307,0.032898705870172434,-0.30256373771870076,-0.5777882371948797,0.0946134149705952,0.31831285044310376,0.6233905164548375,-0.8960529522407366,0.12005881079668307,0.6544857244125727,1.767021225361013,0.4086051048572968,-0.5179625005304351,0.6710461933989572,-0.7007507442805617,1.1420347801168707,0.06066636935888025,0.6172452112868805,0.9534282004171482,-0.7532122638499019,-0.9719816509300259,-1.1699284868256044,-1.234725048143622,-0.39974714289496094,-0.3328412126687109,0.02574109832320354,-0.5985483089169847,-0.6362247552931904,0.3316304039734038,-0.08129075988219273,-0.4799320950889164,-0.3692275148462346,-1.128444800903437,-1.6004237399739227,0.7762570230477617,-0.040674914293237135,-0.27726698007777667,0.630114105526245,-2.03869384082419,0.18356701054308538,-1.5810787623878058,0.7298179679225076,-1.1018296237385043,-0.2983903965981016,1.2351818237246057,1.1836383653171723,-1.7182458709928827,-1.0279262541311613,1.1420058715577808,-0.5014854459857403,-1.072287120130173,0.3348116696007735],\"xaxis\":\"x4\",\"y\":[-0.16200811326552847,-0.20157352604196913,-0.7878824139985893,-0.8098186826097336,-1.499626473245483,1.3801493133608,1.4464314084880139,-1.027585474513354,-0.4425867986983349,1.0107964592664522,-1.8686899556147416,-0.4366797049682072,0.33283194607288075,0.8691983656072146,0.34899189602579483,-0.758070179841699,-2.2823246253628784,-1.7959123288281453,-1.0702517942537177,0.4303128493804597,1.3435913199391896,-1.3231792291241613,-0.055540871869691394,0.6047955363165932,-0.012223060701152295,-1.1977548892056136,-0.30401147308524457,-0.0014968000861568448,0.7614139136605413,1.6585102109046828,0.7364580328985136,-0.7862808461442161,0.12410899216476683,1.1324233955669805,-0.5386544999702856,-0.022224946329560458,-0.834795832535822,0.6400542617381624,-0.050410517639447344,-0.5070593103526382,0.10836598048652045,-1.3099723281736693,-0.7309978091566318,-1.4472446690984737,1.214628112420574,0.16471557214098853,0.5101660846956017,0.2543680410886363,-1.0907187736222694,-1.0206930835823955,0.2114028072469376,1.103887751499291,-0.4328552481437502,1.7194264735579212,-0.14310994297648086,1.889389666404278,1.9843080677745246,-0.0717101693371949,-0.30833082541370677,-0.83727669533764,0.8295237394428329,-1.7304676350653139,-0.02263656134543682,0.9036188982062072,-1.1962297491709328,0.6151506627961592,-1.0744273790386734,1.9546837633904182,-1.6721370855644804,0.6285809592376622,0.06875595298308364,0.1735047453153547,-1.6484418313570877,-0.05196360207271461,-1.860942779195856,-0.24376406652507243,1.3166504197314817,1.0993760777773394,0.3350603250308234,2.166415132213184,-1.403635427455722,-0.9987539122797616,-0.0389318520766291,-1.0102888165372037,-0.47230340795459325,0.8944983501138225,-1.0323828454951944,-0.37873548762691633,1.1014417823921847,-1.502163006619164,0.4882168187023026,-0.08079466347421826,-0.7311064155672401,-1.3601359769407153,1.4419021706579305,0.6056008285554461,0.5359229544971378,0.7345365991801566,-1.0367646456343842,-1.1218870781265498],\"yaxis\":\"y4\",\"type\":\"scatter\"},{\"line\":{\"color\":\"rgba(128, 128, 128, 1.0)\",\"dash\":\"solid\",\"shape\":\"linear\",\"width\":1.3},\"marker\":{\"size\":2,\"symbol\":\"circle\"},\"mode\":\"markers\",\"name\":\"B\",\"text\":\"\",\"x\":[-0.16200811326552847,-0.20157352604196913,-0.7878824139985893,-0.8098186826097336,-1.499626473245483,1.3801493133608,1.4464314084880139,-1.027585474513354,-0.4425867986983349,1.0107964592664522,-1.8686899556147416,-0.4366797049682072,0.33283194607288075,0.8691983656072146,0.34899189602579483,-0.758070179841699,-2.2823246253628784,-1.7959123288281453,-1.0702517942537177,0.4303128493804597,1.3435913199391896,-1.3231792291241613,-0.055540871869691394,0.6047955363165932,-0.012223060701152295,-1.1977548892056136,-0.30401147308524457,-0.0014968000861568448,0.7614139136605413,1.6585102109046828,0.7364580328985136,-0.7862808461442161,0.12410899216476683,1.1324233955669805,-0.5386544999702856,-0.022224946329560458,-0.834795832535822,0.6400542617381624,-0.050410517639447344,-0.5070593103526382,0.10836598048652045,-1.3099723281736693,-0.7309978091566318,-1.4472446690984737,1.214628112420574,0.16471557214098853,0.5101660846956017,0.2543680410886363,-1.0907187736222694,-1.0206930835823955,0.2114028072469376,1.103887751499291,-0.4328552481437502,1.7194264735579212,-0.14310994297648086,1.889389666404278,1.9843080677745246,-0.0717101693371949,-0.30833082541370677,-0.83727669533764,0.8295237394428329,-1.7304676350653139,-0.02263656134543682,0.9036188982062072,-1.1962297491709328,0.6151506627961592,-1.0744273790386734,1.9546837633904182,-1.6721370855644804,0.6285809592376622,0.06875595298308364,0.1735047453153547,-1.6484418313570877,-0.05196360207271461,-1.860942779195856,-0.24376406652507243,1.3166504197314817,1.0993760777773394,0.3350603250308234,2.166415132213184,-1.403635427455722,-0.9987539122797616,-0.0389318520766291,-1.0102888165372037,-0.47230340795459325,0.8944983501138225,-1.0323828454951944,-0.37873548762691633,1.1014417823921847,-1.502163006619164,0.4882168187023026,-0.08079466347421826,-0.7311064155672401,-1.3601359769407153,1.4419021706579305,0.6056008285554461,0.5359229544971378,0.7345365991801566,-1.0367646456343842,-1.1218870781265498],\"xaxis\":\"x5\",\"y\":[-1.921426653795267,0.334048307502647,0.29139511039949373,-0.6414184527866889,1.8129978660736876,0.9340616438700942,0.5255701521359472,-1.4207847314561757,-0.41203169323718924,2.1136931234184893,-0.2392950511227681,-0.5231243382302146,0.3623773844099841,0.43469180714147115,0.2935866855881844,0.32138992642777864,0.41061037413189344,-1.4194998343720762,1.393825863114237,-0.20378647124285942,-1.4991509068453899,-0.9160663223473968,0.39070360889958233,0.6172298347446923,-0.020980893536748667,0.02720719120393217,0.8659489667656535,1.4120805940010235,-0.6612552163928156,0.9766072007021301,0.5235910411065691,-1.117754300835103,-0.9579560538658426,0.4833318295107085,1.0543709617500725,0.009685684378018729,0.7288669976657884,-0.14689205337746256,0.11445795487666606,-0.027564293539367023,0.9093040405128784,-4.077346761391594,-0.8483320828075116,-0.8627690117139539,1.5086069738838883,0.5260008509407854,-1.7565326317334966,-0.3256021478172967,-1.2930036573566386,2.0288102398037915,1.0006261134294256,-1.108821308601499,0.6152609168980175,2.0481960101332133,1.3425391747308673,-1.293040167109373,1.1935177409160567,2.032888804673782,-1.7204457700362052,0.7287309361140403,2.2336560605752216,0.8822170448893837,0.050861719101860235,-0.08036018285574575,0.955803896868485,-0.07512760849515579,-1.361603914789393,2.640321839534361,-0.16940684601982414,0.28864765292112526,-0.7236842378381518,2.1116733153120353,0.1707759963321653,0.36901845477741674,-0.02521850161399106,0.2138434590310381,0.6885987440922583,-0.44279120734842004,-1.4347583561859933,-0.061585991997536935,-0.007528460407516018,-0.07182976840387806,2.660622975619294,-1.9004200235224258,-0.2617815618962467,1.4001633502788777,0.33623084799756425,-1.9703525166164124,0.5608169864561404,-0.5908191652410173,-2.3693589710613843,-1.0687157067226851,-1.3174908751570347,-0.21392793423096837,-0.5070210409948378,0.7068919126208695,0.4290939015181902,0.20560676502747743,-0.5278415000966169,1.8805733839542274],\"yaxis\":\"y5\",\"type\":\"scatter\"},{\"histfunc\":\"count\",\"histnorm\":\"\",\"marker\":{\"color\":\"rgba(55, 128, 191, 1.0)\",\"line\":{\"color\":\"#4D5663\",\"width\":1.3}},\"name\":\"B\",\"nbinsx\":10,\"opacity\":0.8,\"orientation\":\"v\",\"x\":[-1.921426653795267,0.334048307502647,0.29139511039949373,-0.6414184527866889,1.8129978660736876,0.9340616438700942,0.5255701521359472,-1.4207847314561757,-0.41203169323718924,2.1136931234184893,-0.2392950511227681,-0.5231243382302146,0.3623773844099841,0.43469180714147115,0.2935866855881844,0.32138992642777864,0.41061037413189344,-1.4194998343720762,1.393825863114237,-0.20378647124285942,-1.4991509068453899,-0.9160663223473968,0.39070360889958233,0.6172298347446923,-0.020980893536748667,0.02720719120393217,0.8659489667656535,1.4120805940010235,-0.6612552163928156,0.9766072007021301,0.5235910411065691,-1.117754300835103,-0.9579560538658426,0.4833318295107085,1.0543709617500725,0.009685684378018729,0.7288669976657884,-0.14689205337746256,0.11445795487666606,-0.027564293539367023,0.9093040405128784,-4.077346761391594,-0.8483320828075116,-0.8627690117139539,1.5086069738838883,0.5260008509407854,-1.7565326317334966,-0.3256021478172967,-1.2930036573566386,2.0288102398037915,1.0006261134294256,-1.108821308601499,0.6152609168980175,2.0481960101332133,1.3425391747308673,-1.293040167109373,1.1935177409160567,2.032888804673782,-1.7204457700362052,0.7287309361140403,2.2336560605752216,0.8822170448893837,0.050861719101860235,-0.08036018285574575,0.955803896868485,-0.07512760849515579,-1.361603914789393,2.640321839534361,-0.16940684601982414,0.28864765292112526,-0.7236842378381518,2.1116733153120353,0.1707759963321653,0.36901845477741674,-0.02521850161399106,0.2138434590310381,0.6885987440922583,-0.44279120734842004,-1.4347583561859933,-0.061585991997536935,-0.007528460407516018,-0.07182976840387806,2.660622975619294,-1.9004200235224258,-0.2617815618962467,1.4001633502788777,0.33623084799756425,-1.9703525166164124,0.5608169864561404,-0.5908191652410173,-2.3693589710613843,-1.0687157067226851,-1.3174908751570347,-0.21392793423096837,-0.5070210409948378,0.7068919126208695,0.4290939015181902,0.20560676502747743,-0.5278415000966169,1.8805733839542274],\"xaxis\":\"x6\",\"yaxis\":\"y6\",\"type\":\"histogram\"},{\"line\":{\"color\":\"rgba(128, 128, 128, 1.0)\",\"dash\":\"solid\",\"shape\":\"linear\",\"width\":1.3},\"marker\":{\"size\":2,\"symbol\":\"circle\"},\"mode\":\"markers\",\"name\":\"B\",\"text\":\"\",\"x\":[0.5267213974017121,-0.6684721840099757,-1.141119046831687,1.1952937181424739,1.7320233809492094,2.2617353078392783,0.5384683625876707,-0.11410735863685739,1.3320638421906792,0.19923206749959435,0.5613166047840271,1.4304372320296712,-1.343726395845464,0.7974392252186355,0.3212060955914616,-1.1635189883077761,-1.9346041414231638,1.0991506780351776,0.9186151196859581,0.4058623076515299,0.3016117240884719,0.5390679126879692,1.7882821054636522,-0.7757503630089266,2.377676902173927,0.9382343519045592,-0.5217378947577189,-0.13514500103587732,1.8762618430593225,2.1822170404138594,-0.414390211630898,0.6320920697953718,1.605533027910114,0.5654687322199591,0.6005537403792309,-0.3118041064374641,-0.4692221397366222,-0.29791882175656,0.02008235100353307,0.8100830890363357,-0.41672642986287073,0.9707033627232081,-0.6274786177878557,-0.4493776286603382,0.26514144671427525,-0.04034111936471769,-0.10542251792092436,0.7471881336927859,1.6985588724379266,0.9354138980955412,-0.003141295201818217,-1.245411618435649,-0.9906648160596542,-0.670643483855532,1.1114464676201257,-0.8084299703554508,0.9580579285687029,-0.7546165427834294,0.24279901723644104,-1.2053255000790124,0.9141083144876642,-0.11502723859631576,-0.9993376790012358,-1.9738607555907814,0.7630783039648289,0.10718710803428953,0.1491713991366512,-1.5063335010209173,-0.21116475440213478,-0.43042237631346253,-0.655294099587039,0.493334627973203,1.2816680776557954,1.906469897813769,0.4068432602086838,0.2981626083642478,-0.1551622345743024,-0.25586300583241217,-0.1072890447732036,0.6886202913281744,0.7064294807731066,-1.514281664211926,-0.9352445123099749,-0.6430592509054291,-1.1857032874556375,0.24964944474376413,-0.08175661611192668,1.7043810219276505,-2.1734077732721393,0.6157199374214332,0.561177867971734,-0.31004162508684,-2.0768279407804595,-0.12408805142145696,0.4456014385718528,-0.09730591604309241,0.016409860819479843,-0.3059200401869885,0.9299055126147543,0.4277380178785075],\"xaxis\":\"x7\",\"y\":[-1.921426653795267,0.334048307502647,0.29139511039949373,-0.6414184527866889,1.8129978660736876,0.9340616438700942,0.5255701521359472,-1.4207847314561757,-0.41203169323718924,2.1136931234184893,-0.2392950511227681,-0.5231243382302146,0.3623773844099841,0.43469180714147115,0.2935866855881844,0.32138992642777864,0.41061037413189344,-1.4194998343720762,1.393825863114237,-0.20378647124285942,-1.4991509068453899,-0.9160663223473968,0.39070360889958233,0.6172298347446923,-0.020980893536748667,0.02720719120393217,0.8659489667656535,1.4120805940010235,-0.6612552163928156,0.9766072007021301,0.5235910411065691,-1.117754300835103,-0.9579560538658426,0.4833318295107085,1.0543709617500725,0.009685684378018729,0.7288669976657884,-0.14689205337746256,0.11445795487666606,-0.027564293539367023,0.9093040405128784,-4.077346761391594,-0.8483320828075116,-0.8627690117139539,1.5086069738838883,0.5260008509407854,-1.7565326317334966,-0.3256021478172967,-1.2930036573566386,2.0288102398037915,1.0006261134294256,-1.108821308601499,0.6152609168980175,2.0481960101332133,1.3425391747308673,-1.293040167109373,1.1935177409160567,2.032888804673782,-1.7204457700362052,0.7287309361140403,2.2336560605752216,0.8822170448893837,0.050861719101860235,-0.08036018285574575,0.955803896868485,-0.07512760849515579,-1.361603914789393,2.640321839534361,-0.16940684601982414,0.28864765292112526,-0.7236842378381518,2.1116733153120353,0.1707759963321653,0.36901845477741674,-0.02521850161399106,0.2138434590310381,0.6885987440922583,-0.44279120734842004,-1.4347583561859933,-0.061585991997536935,-0.007528460407516018,-0.07182976840387806,2.660622975619294,-1.9004200235224258,-0.2617815618962467,1.4001633502788777,0.33623084799756425,-1.9703525166164124,0.5608169864561404,-0.5908191652410173,-2.3693589710613843,-1.0687157067226851,-1.3174908751570347,-0.21392793423096837,-0.5070210409948378,0.7068919126208695,0.4290939015181902,0.20560676502747743,-0.5278415000966169,1.8805733839542274],\"yaxis\":\"y7\",\"type\":\"scatter\"},{\"line\":{\"color\":\"rgba(128, 128, 128, 1.0)\",\"dash\":\"solid\",\"shape\":\"linear\",\"width\":1.3},\"marker\":{\"size\":2,\"symbol\":\"circle\"},\"mode\":\"markers\",\"name\":\"B\",\"text\":\"\",\"x\":[0.3451197133623394,2.5270914380626217,0.9299482488958838,-0.5562988664566687,1.4355715653202474,-0.7411067515733488,-0.9794450690442909,0.769440739591859,0.23751958527666056,-0.04706497440737075,-0.7294036572263799,0.4487776730293185,-0.8159189914580166,-1.2092660952139471,0.5654421624230525,0.4744520720930635,0.2740372805334614,-1.167244162476902,0.06720960750460263,0.10936150469402772,-0.9165180090283555,1.5676031557714862,-0.2995972838469109,1.458781610122082,0.9032260632726471,0.0009649718193337695,1.3030292509667687,1.0154089128334605,1.3596947673823985,0.9872193424997157,0.6941544813230869,0.024910448406248353,-1.3486603903313839,0.061844911825487715,0.213019956711909,-0.8683314443340561,-0.8739817567047742,0.1909808662841519,0.5013768330823971,2.2697891566696655,-0.24631356881604097,-0.011390776771784489,-1.567484134177324,-0.21992787315449117,-1.0675819475914363,1.1650197898461372,1.626222850381875,0.08695494236171078,-1.0716543221237307,0.032898705870172434,-0.30256373771870076,-0.5777882371948797,0.0946134149705952,0.31831285044310376,0.6233905164548375,-0.8960529522407366,0.12005881079668307,0.6544857244125727,1.767021225361013,0.4086051048572968,-0.5179625005304351,0.6710461933989572,-0.7007507442805617,1.1420347801168707,0.06066636935888025,0.6172452112868805,0.9534282004171482,-0.7532122638499019,-0.9719816509300259,-1.1699284868256044,-1.234725048143622,-0.39974714289496094,-0.3328412126687109,0.02574109832320354,-0.5985483089169847,-0.6362247552931904,0.3316304039734038,-0.08129075988219273,-0.4799320950889164,-0.3692275148462346,-1.128444800903437,-1.6004237399739227,0.7762570230477617,-0.040674914293237135,-0.27726698007777667,0.630114105526245,-2.03869384082419,0.18356701054308538,-1.5810787623878058,0.7298179679225076,-1.1018296237385043,-0.2983903965981016,1.2351818237246057,1.1836383653171723,-1.7182458709928827,-1.0279262541311613,1.1420058715577808,-0.5014854459857403,-1.072287120130173,0.3348116696007735],\"xaxis\":\"x8\",\"y\":[-1.921426653795267,0.334048307502647,0.29139511039949373,-0.6414184527866889,1.8129978660736876,0.9340616438700942,0.5255701521359472,-1.4207847314561757,-0.41203169323718924,2.1136931234184893,-0.2392950511227681,-0.5231243382302146,0.3623773844099841,0.43469180714147115,0.2935866855881844,0.32138992642777864,0.41061037413189344,-1.4194998343720762,1.393825863114237,-0.20378647124285942,-1.4991509068453899,-0.9160663223473968,0.39070360889958233,0.6172298347446923,-0.020980893536748667,0.02720719120393217,0.8659489667656535,1.4120805940010235,-0.6612552163928156,0.9766072007021301,0.5235910411065691,-1.117754300835103,-0.9579560538658426,0.4833318295107085,1.0543709617500725,0.009685684378018729,0.7288669976657884,-0.14689205337746256,0.11445795487666606,-0.027564293539367023,0.9093040405128784,-4.077346761391594,-0.8483320828075116,-0.8627690117139539,1.5086069738838883,0.5260008509407854,-1.7565326317334966,-0.3256021478172967,-1.2930036573566386,2.0288102398037915,1.0006261134294256,-1.108821308601499,0.6152609168980175,2.0481960101332133,1.3425391747308673,-1.293040167109373,1.1935177409160567,2.032888804673782,-1.7204457700362052,0.7287309361140403,2.2336560605752216,0.8822170448893837,0.050861719101860235,-0.08036018285574575,0.955803896868485,-0.07512760849515579,-1.361603914789393,2.640321839534361,-0.16940684601982414,0.28864765292112526,-0.7236842378381518,2.1116733153120353,0.1707759963321653,0.36901845477741674,-0.02521850161399106,0.2138434590310381,0.6885987440922583,-0.44279120734842004,-1.4347583561859933,-0.061585991997536935,-0.007528460407516018,-0.07182976840387806,2.660622975619294,-1.9004200235224258,-0.2617815618962467,1.4001633502788777,0.33623084799756425,-1.9703525166164124,0.5608169864561404,-0.5908191652410173,-2.3693589710613843,-1.0687157067226851,-1.3174908751570347,-0.21392793423096837,-0.5070210409948378,0.7068919126208695,0.4290939015181902,0.20560676502747743,-0.5278415000966169,1.8805733839542274],\"yaxis\":\"y8\",\"type\":\"scatter\"},{\"line\":{\"color\":\"rgba(128, 128, 128, 1.0)\",\"dash\":\"solid\",\"shape\":\"linear\",\"width\":1.3},\"marker\":{\"size\":2,\"symbol\":\"circle\"},\"mode\":\"markers\",\"name\":\"C\",\"text\":\"\",\"x\":[-0.16200811326552847,-0.20157352604196913,-0.7878824139985893,-0.8098186826097336,-1.499626473245483,1.3801493133608,1.4464314084880139,-1.027585474513354,-0.4425867986983349,1.0107964592664522,-1.8686899556147416,-0.4366797049682072,0.33283194607288075,0.8691983656072146,0.34899189602579483,-0.758070179841699,-2.2823246253628784,-1.7959123288281453,-1.0702517942537177,0.4303128493804597,1.3435913199391896,-1.3231792291241613,-0.055540871869691394,0.6047955363165932,-0.012223060701152295,-1.1977548892056136,-0.30401147308524457,-0.0014968000861568448,0.7614139136605413,1.6585102109046828,0.7364580328985136,-0.7862808461442161,0.12410899216476683,1.1324233955669805,-0.5386544999702856,-0.022224946329560458,-0.834795832535822,0.6400542617381624,-0.050410517639447344,-0.5070593103526382,0.10836598048652045,-1.3099723281736693,-0.7309978091566318,-1.4472446690984737,1.214628112420574,0.16471557214098853,0.5101660846956017,0.2543680410886363,-1.0907187736222694,-1.0206930835823955,0.2114028072469376,1.103887751499291,-0.4328552481437502,1.7194264735579212,-0.14310994297648086,1.889389666404278,1.9843080677745246,-0.0717101693371949,-0.30833082541370677,-0.83727669533764,0.8295237394428329,-1.7304676350653139,-0.02263656134543682,0.9036188982062072,-1.1962297491709328,0.6151506627961592,-1.0744273790386734,1.9546837633904182,-1.6721370855644804,0.6285809592376622,0.06875595298308364,0.1735047453153547,-1.6484418313570877,-0.05196360207271461,-1.860942779195856,-0.24376406652507243,1.3166504197314817,1.0993760777773394,0.3350603250308234,2.166415132213184,-1.403635427455722,-0.9987539122797616,-0.0389318520766291,-1.0102888165372037,-0.47230340795459325,0.8944983501138225,-1.0323828454951944,-0.37873548762691633,1.1014417823921847,-1.502163006619164,0.4882168187023026,-0.08079466347421826,-0.7311064155672401,-1.3601359769407153,1.4419021706579305,0.6056008285554461,0.5359229544971378,0.7345365991801566,-1.0367646456343842,-1.1218870781265498],\"xaxis\":\"x9\",\"y\":[0.5267213974017121,-0.6684721840099757,-1.141119046831687,1.1952937181424739,1.7320233809492094,2.2617353078392783,0.5384683625876707,-0.11410735863685739,1.3320638421906792,0.19923206749959435,0.5613166047840271,1.4304372320296712,-1.343726395845464,0.7974392252186355,0.3212060955914616,-1.1635189883077761,-1.9346041414231638,1.0991506780351776,0.9186151196859581,0.4058623076515299,0.3016117240884719,0.5390679126879692,1.7882821054636522,-0.7757503630089266,2.377676902173927,0.9382343519045592,-0.5217378947577189,-0.13514500103587732,1.8762618430593225,2.1822170404138594,-0.414390211630898,0.6320920697953718,1.605533027910114,0.5654687322199591,0.6005537403792309,-0.3118041064374641,-0.4692221397366222,-0.29791882175656,0.02008235100353307,0.8100830890363357,-0.41672642986287073,0.9707033627232081,-0.6274786177878557,-0.4493776286603382,0.26514144671427525,-0.04034111936471769,-0.10542251792092436,0.7471881336927859,1.6985588724379266,0.9354138980955412,-0.003141295201818217,-1.245411618435649,-0.9906648160596542,-0.670643483855532,1.1114464676201257,-0.8084299703554508,0.9580579285687029,-0.7546165427834294,0.24279901723644104,-1.2053255000790124,0.9141083144876642,-0.11502723859631576,-0.9993376790012358,-1.9738607555907814,0.7630783039648289,0.10718710803428953,0.1491713991366512,-1.5063335010209173,-0.21116475440213478,-0.43042237631346253,-0.655294099587039,0.493334627973203,1.2816680776557954,1.906469897813769,0.4068432602086838,0.2981626083642478,-0.1551622345743024,-0.25586300583241217,-0.1072890447732036,0.6886202913281744,0.7064294807731066,-1.514281664211926,-0.9352445123099749,-0.6430592509054291,-1.1857032874556375,0.24964944474376413,-0.08175661611192668,1.7043810219276505,-2.1734077732721393,0.6157199374214332,0.561177867971734,-0.31004162508684,-2.0768279407804595,-0.12408805142145696,0.4456014385718528,-0.09730591604309241,0.016409860819479843,-0.3059200401869885,0.9299055126147543,0.4277380178785075],\"yaxis\":\"y9\",\"type\":\"scatter\"},{\"line\":{\"color\":\"rgba(128, 128, 128, 1.0)\",\"dash\":\"solid\",\"shape\":\"linear\",\"width\":1.3},\"marker\":{\"size\":2,\"symbol\":\"circle\"},\"mode\":\"markers\",\"name\":\"C\",\"text\":\"\",\"x\":[-1.921426653795267,0.334048307502647,0.29139511039949373,-0.6414184527866889,1.8129978660736876,0.9340616438700942,0.5255701521359472,-1.4207847314561757,-0.41203169323718924,2.1136931234184893,-0.2392950511227681,-0.5231243382302146,0.3623773844099841,0.43469180714147115,0.2935866855881844,0.32138992642777864,0.41061037413189344,-1.4194998343720762,1.393825863114237,-0.20378647124285942,-1.4991509068453899,-0.9160663223473968,0.39070360889958233,0.6172298347446923,-0.020980893536748667,0.02720719120393217,0.8659489667656535,1.4120805940010235,-0.6612552163928156,0.9766072007021301,0.5235910411065691,-1.117754300835103,-0.9579560538658426,0.4833318295107085,1.0543709617500725,0.009685684378018729,0.7288669976657884,-0.14689205337746256,0.11445795487666606,-0.027564293539367023,0.9093040405128784,-4.077346761391594,-0.8483320828075116,-0.8627690117139539,1.5086069738838883,0.5260008509407854,-1.7565326317334966,-0.3256021478172967,-1.2930036573566386,2.0288102398037915,1.0006261134294256,-1.108821308601499,0.6152609168980175,2.0481960101332133,1.3425391747308673,-1.293040167109373,1.1935177409160567,2.032888804673782,-1.7204457700362052,0.7287309361140403,2.2336560605752216,0.8822170448893837,0.050861719101860235,-0.08036018285574575,0.955803896868485,-0.07512760849515579,-1.361603914789393,2.640321839534361,-0.16940684601982414,0.28864765292112526,-0.7236842378381518,2.1116733153120353,0.1707759963321653,0.36901845477741674,-0.02521850161399106,0.2138434590310381,0.6885987440922583,-0.44279120734842004,-1.4347583561859933,-0.061585991997536935,-0.007528460407516018,-0.07182976840387806,2.660622975619294,-1.9004200235224258,-0.2617815618962467,1.4001633502788777,0.33623084799756425,-1.9703525166164124,0.5608169864561404,-0.5908191652410173,-2.3693589710613843,-1.0687157067226851,-1.3174908751570347,-0.21392793423096837,-0.5070210409948378,0.7068919126208695,0.4290939015181902,0.20560676502747743,-0.5278415000966169,1.8805733839542274],\"xaxis\":\"x10\",\"y\":[0.5267213974017121,-0.6684721840099757,-1.141119046831687,1.1952937181424739,1.7320233809492094,2.2617353078392783,0.5384683625876707,-0.11410735863685739,1.3320638421906792,0.19923206749959435,0.5613166047840271,1.4304372320296712,-1.343726395845464,0.7974392252186355,0.3212060955914616,-1.1635189883077761,-1.9346041414231638,1.0991506780351776,0.9186151196859581,0.4058623076515299,0.3016117240884719,0.5390679126879692,1.7882821054636522,-0.7757503630089266,2.377676902173927,0.9382343519045592,-0.5217378947577189,-0.13514500103587732,1.8762618430593225,2.1822170404138594,-0.414390211630898,0.6320920697953718,1.605533027910114,0.5654687322199591,0.6005537403792309,-0.3118041064374641,-0.4692221397366222,-0.29791882175656,0.02008235100353307,0.8100830890363357,-0.41672642986287073,0.9707033627232081,-0.6274786177878557,-0.4493776286603382,0.26514144671427525,-0.04034111936471769,-0.10542251792092436,0.7471881336927859,1.6985588724379266,0.9354138980955412,-0.003141295201818217,-1.245411618435649,-0.9906648160596542,-0.670643483855532,1.1114464676201257,-0.8084299703554508,0.9580579285687029,-0.7546165427834294,0.24279901723644104,-1.2053255000790124,0.9141083144876642,-0.11502723859631576,-0.9993376790012358,-1.9738607555907814,0.7630783039648289,0.10718710803428953,0.1491713991366512,-1.5063335010209173,-0.21116475440213478,-0.43042237631346253,-0.655294099587039,0.493334627973203,1.2816680776557954,1.906469897813769,0.4068432602086838,0.2981626083642478,-0.1551622345743024,-0.25586300583241217,-0.1072890447732036,0.6886202913281744,0.7064294807731066,-1.514281664211926,-0.9352445123099749,-0.6430592509054291,-1.1857032874556375,0.24964944474376413,-0.08175661611192668,1.7043810219276505,-2.1734077732721393,0.6157199374214332,0.561177867971734,-0.31004162508684,-2.0768279407804595,-0.12408805142145696,0.4456014385718528,-0.09730591604309241,0.016409860819479843,-0.3059200401869885,0.9299055126147543,0.4277380178785075],\"yaxis\":\"y10\",\"type\":\"scatter\"},{\"histfunc\":\"count\",\"histnorm\":\"\",\"marker\":{\"color\":\"rgba(50, 171, 96, 1.0)\",\"line\":{\"color\":\"#4D5663\",\"width\":1.3}},\"name\":\"C\",\"nbinsx\":10,\"opacity\":0.8,\"orientation\":\"v\",\"x\":[0.5267213974017121,-0.6684721840099757,-1.141119046831687,1.1952937181424739,1.7320233809492094,2.2617353078392783,0.5384683625876707,-0.11410735863685739,1.3320638421906792,0.19923206749959435,0.5613166047840271,1.4304372320296712,-1.343726395845464,0.7974392252186355,0.3212060955914616,-1.1635189883077761,-1.9346041414231638,1.0991506780351776,0.9186151196859581,0.4058623076515299,0.3016117240884719,0.5390679126879692,1.7882821054636522,-0.7757503630089266,2.377676902173927,0.9382343519045592,-0.5217378947577189,-0.13514500103587732,1.8762618430593225,2.1822170404138594,-0.414390211630898,0.6320920697953718,1.605533027910114,0.5654687322199591,0.6005537403792309,-0.3118041064374641,-0.4692221397366222,-0.29791882175656,0.02008235100353307,0.8100830890363357,-0.41672642986287073,0.9707033627232081,-0.6274786177878557,-0.4493776286603382,0.26514144671427525,-0.04034111936471769,-0.10542251792092436,0.7471881336927859,1.6985588724379266,0.9354138980955412,-0.003141295201818217,-1.245411618435649,-0.9906648160596542,-0.670643483855532,1.1114464676201257,-0.8084299703554508,0.9580579285687029,-0.7546165427834294,0.24279901723644104,-1.2053255000790124,0.9141083144876642,-0.11502723859631576,-0.9993376790012358,-1.9738607555907814,0.7630783039648289,0.10718710803428953,0.1491713991366512,-1.5063335010209173,-0.21116475440213478,-0.43042237631346253,-0.655294099587039,0.493334627973203,1.2816680776557954,1.906469897813769,0.4068432602086838,0.2981626083642478,-0.1551622345743024,-0.25586300583241217,-0.1072890447732036,0.6886202913281744,0.7064294807731066,-1.514281664211926,-0.9352445123099749,-0.6430592509054291,-1.1857032874556375,0.24964944474376413,-0.08175661611192668,1.7043810219276505,-2.1734077732721393,0.6157199374214332,0.561177867971734,-0.31004162508684,-2.0768279407804595,-0.12408805142145696,0.4456014385718528,-0.09730591604309241,0.016409860819479843,-0.3059200401869885,0.9299055126147543,0.4277380178785075],\"xaxis\":\"x11\",\"yaxis\":\"y11\",\"type\":\"histogram\"},{\"line\":{\"color\":\"rgba(128, 128, 128, 1.0)\",\"dash\":\"solid\",\"shape\":\"linear\",\"width\":1.3},\"marker\":{\"size\":2,\"symbol\":\"circle\"},\"mode\":\"markers\",\"name\":\"C\",\"text\":\"\",\"x\":[0.3451197133623394,2.5270914380626217,0.9299482488958838,-0.5562988664566687,1.4355715653202474,-0.7411067515733488,-0.9794450690442909,0.769440739591859,0.23751958527666056,-0.04706497440737075,-0.7294036572263799,0.4487776730293185,-0.8159189914580166,-1.2092660952139471,0.5654421624230525,0.4744520720930635,0.2740372805334614,-1.167244162476902,0.06720960750460263,0.10936150469402772,-0.9165180090283555,1.5676031557714862,-0.2995972838469109,1.458781610122082,0.9032260632726471,0.0009649718193337695,1.3030292509667687,1.0154089128334605,1.3596947673823985,0.9872193424997157,0.6941544813230869,0.024910448406248353,-1.3486603903313839,0.061844911825487715,0.213019956711909,-0.8683314443340561,-0.8739817567047742,0.1909808662841519,0.5013768330823971,2.2697891566696655,-0.24631356881604097,-0.011390776771784489,-1.567484134177324,-0.21992787315449117,-1.0675819475914363,1.1650197898461372,1.626222850381875,0.08695494236171078,-1.0716543221237307,0.032898705870172434,-0.30256373771870076,-0.5777882371948797,0.0946134149705952,0.31831285044310376,0.6233905164548375,-0.8960529522407366,0.12005881079668307,0.6544857244125727,1.767021225361013,0.4086051048572968,-0.5179625005304351,0.6710461933989572,-0.7007507442805617,1.1420347801168707,0.06066636935888025,0.6172452112868805,0.9534282004171482,-0.7532122638499019,-0.9719816509300259,-1.1699284868256044,-1.234725048143622,-0.39974714289496094,-0.3328412126687109,0.02574109832320354,-0.5985483089169847,-0.6362247552931904,0.3316304039734038,-0.08129075988219273,-0.4799320950889164,-0.3692275148462346,-1.128444800903437,-1.6004237399739227,0.7762570230477617,-0.040674914293237135,-0.27726698007777667,0.630114105526245,-2.03869384082419,0.18356701054308538,-1.5810787623878058,0.7298179679225076,-1.1018296237385043,-0.2983903965981016,1.2351818237246057,1.1836383653171723,-1.7182458709928827,-1.0279262541311613,1.1420058715577808,-0.5014854459857403,-1.072287120130173,0.3348116696007735],\"xaxis\":\"x12\",\"y\":[0.5267213974017121,-0.6684721840099757,-1.141119046831687,1.1952937181424739,1.7320233809492094,2.2617353078392783,0.5384683625876707,-0.11410735863685739,1.3320638421906792,0.19923206749959435,0.5613166047840271,1.4304372320296712,-1.343726395845464,0.7974392252186355,0.3212060955914616,-1.1635189883077761,-1.9346041414231638,1.0991506780351776,0.9186151196859581,0.4058623076515299,0.3016117240884719,0.5390679126879692,1.7882821054636522,-0.7757503630089266,2.377676902173927,0.9382343519045592,-0.5217378947577189,-0.13514500103587732,1.8762618430593225,2.1822170404138594,-0.414390211630898,0.6320920697953718,1.605533027910114,0.5654687322199591,0.6005537403792309,-0.3118041064374641,-0.4692221397366222,-0.29791882175656,0.02008235100353307,0.8100830890363357,-0.41672642986287073,0.9707033627232081,-0.6274786177878557,-0.4493776286603382,0.26514144671427525,-0.04034111936471769,-0.10542251792092436,0.7471881336927859,1.6985588724379266,0.9354138980955412,-0.003141295201818217,-1.245411618435649,-0.9906648160596542,-0.670643483855532,1.1114464676201257,-0.8084299703554508,0.9580579285687029,-0.7546165427834294,0.24279901723644104,-1.2053255000790124,0.9141083144876642,-0.11502723859631576,-0.9993376790012358,-1.9738607555907814,0.7630783039648289,0.10718710803428953,0.1491713991366512,-1.5063335010209173,-0.21116475440213478,-0.43042237631346253,-0.655294099587039,0.493334627973203,1.2816680776557954,1.906469897813769,0.4068432602086838,0.2981626083642478,-0.1551622345743024,-0.25586300583241217,-0.1072890447732036,0.6886202913281744,0.7064294807731066,-1.514281664211926,-0.9352445123099749,-0.6430592509054291,-1.1857032874556375,0.24964944474376413,-0.08175661611192668,1.7043810219276505,-2.1734077732721393,0.6157199374214332,0.561177867971734,-0.31004162508684,-2.0768279407804595,-0.12408805142145696,0.4456014385718528,-0.09730591604309241,0.016409860819479843,-0.3059200401869885,0.9299055126147543,0.4277380178785075],\"yaxis\":\"y12\",\"type\":\"scatter\"},{\"line\":{\"color\":\"rgba(128, 128, 128, 1.0)\",\"dash\":\"solid\",\"shape\":\"linear\",\"width\":1.3},\"marker\":{\"size\":2,\"symbol\":\"circle\"},\"mode\":\"markers\",\"name\":\"D\",\"text\":\"\",\"x\":[-0.16200811326552847,-0.20157352604196913,-0.7878824139985893,-0.8098186826097336,-1.499626473245483,1.3801493133608,1.4464314084880139,-1.027585474513354,-0.4425867986983349,1.0107964592664522,-1.8686899556147416,-0.4366797049682072,0.33283194607288075,0.8691983656072146,0.34899189602579483,-0.758070179841699,-2.2823246253628784,-1.7959123288281453,-1.0702517942537177,0.4303128493804597,1.3435913199391896,-1.3231792291241613,-0.055540871869691394,0.6047955363165932,-0.012223060701152295,-1.1977548892056136,-0.30401147308524457,-0.0014968000861568448,0.7614139136605413,1.6585102109046828,0.7364580328985136,-0.7862808461442161,0.12410899216476683,1.1324233955669805,-0.5386544999702856,-0.022224946329560458,-0.834795832535822,0.6400542617381624,-0.050410517639447344,-0.5070593103526382,0.10836598048652045,-1.3099723281736693,-0.7309978091566318,-1.4472446690984737,1.214628112420574,0.16471557214098853,0.5101660846956017,0.2543680410886363,-1.0907187736222694,-1.0206930835823955,0.2114028072469376,1.103887751499291,-0.4328552481437502,1.7194264735579212,-0.14310994297648086,1.889389666404278,1.9843080677745246,-0.0717101693371949,-0.30833082541370677,-0.83727669533764,0.8295237394428329,-1.7304676350653139,-0.02263656134543682,0.9036188982062072,-1.1962297491709328,0.6151506627961592,-1.0744273790386734,1.9546837633904182,-1.6721370855644804,0.6285809592376622,0.06875595298308364,0.1735047453153547,-1.6484418313570877,-0.05196360207271461,-1.860942779195856,-0.24376406652507243,1.3166504197314817,1.0993760777773394,0.3350603250308234,2.166415132213184,-1.403635427455722,-0.9987539122797616,-0.0389318520766291,-1.0102888165372037,-0.47230340795459325,0.8944983501138225,-1.0323828454951944,-0.37873548762691633,1.1014417823921847,-1.502163006619164,0.4882168187023026,-0.08079466347421826,-0.7311064155672401,-1.3601359769407153,1.4419021706579305,0.6056008285554461,0.5359229544971378,0.7345365991801566,-1.0367646456343842,-1.1218870781265498],\"xaxis\":\"x13\",\"y\":[0.3451197133623394,2.5270914380626217,0.9299482488958838,-0.5562988664566687,1.4355715653202474,-0.7411067515733488,-0.9794450690442909,0.769440739591859,0.23751958527666056,-0.04706497440737075,-0.7294036572263799,0.4487776730293185,-0.8159189914580166,-1.2092660952139471,0.5654421624230525,0.4744520720930635,0.2740372805334614,-1.167244162476902,0.06720960750460263,0.10936150469402772,-0.9165180090283555,1.5676031557714862,-0.2995972838469109,1.458781610122082,0.9032260632726471,0.0009649718193337695,1.3030292509667687,1.0154089128334605,1.3596947673823985,0.9872193424997157,0.6941544813230869,0.024910448406248353,-1.3486603903313839,0.061844911825487715,0.213019956711909,-0.8683314443340561,-0.8739817567047742,0.1909808662841519,0.5013768330823971,2.2697891566696655,-0.24631356881604097,-0.011390776771784489,-1.567484134177324,-0.21992787315449117,-1.0675819475914363,1.1650197898461372,1.626222850381875,0.08695494236171078,-1.0716543221237307,0.032898705870172434,-0.30256373771870076,-0.5777882371948797,0.0946134149705952,0.31831285044310376,0.6233905164548375,-0.8960529522407366,0.12005881079668307,0.6544857244125727,1.767021225361013,0.4086051048572968,-0.5179625005304351,0.6710461933989572,-0.7007507442805617,1.1420347801168707,0.06066636935888025,0.6172452112868805,0.9534282004171482,-0.7532122638499019,-0.9719816509300259,-1.1699284868256044,-1.234725048143622,-0.39974714289496094,-0.3328412126687109,0.02574109832320354,-0.5985483089169847,-0.6362247552931904,0.3316304039734038,-0.08129075988219273,-0.4799320950889164,-0.3692275148462346,-1.128444800903437,-1.6004237399739227,0.7762570230477617,-0.040674914293237135,-0.27726698007777667,0.630114105526245,-2.03869384082419,0.18356701054308538,-1.5810787623878058,0.7298179679225076,-1.1018296237385043,-0.2983903965981016,1.2351818237246057,1.1836383653171723,-1.7182458709928827,-1.0279262541311613,1.1420058715577808,-0.5014854459857403,-1.072287120130173,0.3348116696007735],\"yaxis\":\"y13\",\"type\":\"scatter\"},{\"line\":{\"color\":\"rgba(128, 128, 128, 1.0)\",\"dash\":\"solid\",\"shape\":\"linear\",\"width\":1.3},\"marker\":{\"size\":2,\"symbol\":\"circle\"},\"mode\":\"markers\",\"name\":\"D\",\"text\":\"\",\"x\":[-1.921426653795267,0.334048307502647,0.29139511039949373,-0.6414184527866889,1.8129978660736876,0.9340616438700942,0.5255701521359472,-1.4207847314561757,-0.41203169323718924,2.1136931234184893,-0.2392950511227681,-0.5231243382302146,0.3623773844099841,0.43469180714147115,0.2935866855881844,0.32138992642777864,0.41061037413189344,-1.4194998343720762,1.393825863114237,-0.20378647124285942,-1.4991509068453899,-0.9160663223473968,0.39070360889958233,0.6172298347446923,-0.020980893536748667,0.02720719120393217,0.8659489667656535,1.4120805940010235,-0.6612552163928156,0.9766072007021301,0.5235910411065691,-1.117754300835103,-0.9579560538658426,0.4833318295107085,1.0543709617500725,0.009685684378018729,0.7288669976657884,-0.14689205337746256,0.11445795487666606,-0.027564293539367023,0.9093040405128784,-4.077346761391594,-0.8483320828075116,-0.8627690117139539,1.5086069738838883,0.5260008509407854,-1.7565326317334966,-0.3256021478172967,-1.2930036573566386,2.0288102398037915,1.0006261134294256,-1.108821308601499,0.6152609168980175,2.0481960101332133,1.3425391747308673,-1.293040167109373,1.1935177409160567,2.032888804673782,-1.7204457700362052,0.7287309361140403,2.2336560605752216,0.8822170448893837,0.050861719101860235,-0.08036018285574575,0.955803896868485,-0.07512760849515579,-1.361603914789393,2.640321839534361,-0.16940684601982414,0.28864765292112526,-0.7236842378381518,2.1116733153120353,0.1707759963321653,0.36901845477741674,-0.02521850161399106,0.2138434590310381,0.6885987440922583,-0.44279120734842004,-1.4347583561859933,-0.061585991997536935,-0.007528460407516018,-0.07182976840387806,2.660622975619294,-1.9004200235224258,-0.2617815618962467,1.4001633502788777,0.33623084799756425,-1.9703525166164124,0.5608169864561404,-0.5908191652410173,-2.3693589710613843,-1.0687157067226851,-1.3174908751570347,-0.21392793423096837,-0.5070210409948378,0.7068919126208695,0.4290939015181902,0.20560676502747743,-0.5278415000966169,1.8805733839542274],\"xaxis\":\"x14\",\"y\":[0.3451197133623394,2.5270914380626217,0.9299482488958838,-0.5562988664566687,1.4355715653202474,-0.7411067515733488,-0.9794450690442909,0.769440739591859,0.23751958527666056,-0.04706497440737075,-0.7294036572263799,0.4487776730293185,-0.8159189914580166,-1.2092660952139471,0.5654421624230525,0.4744520720930635,0.2740372805334614,-1.167244162476902,0.06720960750460263,0.10936150469402772,-0.9165180090283555,1.5676031557714862,-0.2995972838469109,1.458781610122082,0.9032260632726471,0.0009649718193337695,1.3030292509667687,1.0154089128334605,1.3596947673823985,0.9872193424997157,0.6941544813230869,0.024910448406248353,-1.3486603903313839,0.061844911825487715,0.213019956711909,-0.8683314443340561,-0.8739817567047742,0.1909808662841519,0.5013768330823971,2.2697891566696655,-0.24631356881604097,-0.011390776771784489,-1.567484134177324,-0.21992787315449117,-1.0675819475914363,1.1650197898461372,1.626222850381875,0.08695494236171078,-1.0716543221237307,0.032898705870172434,-0.30256373771870076,-0.5777882371948797,0.0946134149705952,0.31831285044310376,0.6233905164548375,-0.8960529522407366,0.12005881079668307,0.6544857244125727,1.767021225361013,0.4086051048572968,-0.5179625005304351,0.6710461933989572,-0.7007507442805617,1.1420347801168707,0.06066636935888025,0.6172452112868805,0.9534282004171482,-0.7532122638499019,-0.9719816509300259,-1.1699284868256044,-1.234725048143622,-0.39974714289496094,-0.3328412126687109,0.02574109832320354,-0.5985483089169847,-0.6362247552931904,0.3316304039734038,-0.08129075988219273,-0.4799320950889164,-0.3692275148462346,-1.128444800903437,-1.6004237399739227,0.7762570230477617,-0.040674914293237135,-0.27726698007777667,0.630114105526245,-2.03869384082419,0.18356701054308538,-1.5810787623878058,0.7298179679225076,-1.1018296237385043,-0.2983903965981016,1.2351818237246057,1.1836383653171723,-1.7182458709928827,-1.0279262541311613,1.1420058715577808,-0.5014854459857403,-1.072287120130173,0.3348116696007735],\"yaxis\":\"y14\",\"type\":\"scatter\"},{\"line\":{\"color\":\"rgba(128, 128, 128, 1.0)\",\"dash\":\"solid\",\"shape\":\"linear\",\"width\":1.3},\"marker\":{\"size\":2,\"symbol\":\"circle\"},\"mode\":\"markers\",\"name\":\"D\",\"text\":\"\",\"x\":[0.5267213974017121,-0.6684721840099757,-1.141119046831687,1.1952937181424739,1.7320233809492094,2.2617353078392783,0.5384683625876707,-0.11410735863685739,1.3320638421906792,0.19923206749959435,0.5613166047840271,1.4304372320296712,-1.343726395845464,0.7974392252186355,0.3212060955914616,-1.1635189883077761,-1.9346041414231638,1.0991506780351776,0.9186151196859581,0.4058623076515299,0.3016117240884719,0.5390679126879692,1.7882821054636522,-0.7757503630089266,2.377676902173927,0.9382343519045592,-0.5217378947577189,-0.13514500103587732,1.8762618430593225,2.1822170404138594,-0.414390211630898,0.6320920697953718,1.605533027910114,0.5654687322199591,0.6005537403792309,-0.3118041064374641,-0.4692221397366222,-0.29791882175656,0.02008235100353307,0.8100830890363357,-0.41672642986287073,0.9707033627232081,-0.6274786177878557,-0.4493776286603382,0.26514144671427525,-0.04034111936471769,-0.10542251792092436,0.7471881336927859,1.6985588724379266,0.9354138980955412,-0.003141295201818217,-1.245411618435649,-0.9906648160596542,-0.670643483855532,1.1114464676201257,-0.8084299703554508,0.9580579285687029,-0.7546165427834294,0.24279901723644104,-1.2053255000790124,0.9141083144876642,-0.11502723859631576,-0.9993376790012358,-1.9738607555907814,0.7630783039648289,0.10718710803428953,0.1491713991366512,-1.5063335010209173,-0.21116475440213478,-0.43042237631346253,-0.655294099587039,0.493334627973203,1.2816680776557954,1.906469897813769,0.4068432602086838,0.2981626083642478,-0.1551622345743024,-0.25586300583241217,-0.1072890447732036,0.6886202913281744,0.7064294807731066,-1.514281664211926,-0.9352445123099749,-0.6430592509054291,-1.1857032874556375,0.24964944474376413,-0.08175661611192668,1.7043810219276505,-2.1734077732721393,0.6157199374214332,0.561177867971734,-0.31004162508684,-2.0768279407804595,-0.12408805142145696,0.4456014385718528,-0.09730591604309241,0.016409860819479843,-0.3059200401869885,0.9299055126147543,0.4277380178785075],\"xaxis\":\"x15\",\"y\":[0.3451197133623394,2.5270914380626217,0.9299482488958838,-0.5562988664566687,1.4355715653202474,-0.7411067515733488,-0.9794450690442909,0.769440739591859,0.23751958527666056,-0.04706497440737075,-0.7294036572263799,0.4487776730293185,-0.8159189914580166,-1.2092660952139471,0.5654421624230525,0.4744520720930635,0.2740372805334614,-1.167244162476902,0.06720960750460263,0.10936150469402772,-0.9165180090283555,1.5676031557714862,-0.2995972838469109,1.458781610122082,0.9032260632726471,0.0009649718193337695,1.3030292509667687,1.0154089128334605,1.3596947673823985,0.9872193424997157,0.6941544813230869,0.024910448406248353,-1.3486603903313839,0.061844911825487715,0.213019956711909,-0.8683314443340561,-0.8739817567047742,0.1909808662841519,0.5013768330823971,2.2697891566696655,-0.24631356881604097,-0.011390776771784489,-1.567484134177324,-0.21992787315449117,-1.0675819475914363,1.1650197898461372,1.626222850381875,0.08695494236171078,-1.0716543221237307,0.032898705870172434,-0.30256373771870076,-0.5777882371948797,0.0946134149705952,0.31831285044310376,0.6233905164548375,-0.8960529522407366,0.12005881079668307,0.6544857244125727,1.767021225361013,0.4086051048572968,-0.5179625005304351,0.6710461933989572,-0.7007507442805617,1.1420347801168707,0.06066636935888025,0.6172452112868805,0.9534282004171482,-0.7532122638499019,-0.9719816509300259,-1.1699284868256044,-1.234725048143622,-0.39974714289496094,-0.3328412126687109,0.02574109832320354,-0.5985483089169847,-0.6362247552931904,0.3316304039734038,-0.08129075988219273,-0.4799320950889164,-0.3692275148462346,-1.128444800903437,-1.6004237399739227,0.7762570230477617,-0.040674914293237135,-0.27726698007777667,0.630114105526245,-2.03869384082419,0.18356701054308538,-1.5810787623878058,0.7298179679225076,-1.1018296237385043,-0.2983903965981016,1.2351818237246057,1.1836383653171723,-1.7182458709928827,-1.0279262541311613,1.1420058715577808,-0.5014854459857403,-1.072287120130173,0.3348116696007735],\"yaxis\":\"y15\",\"type\":\"scatter\"},{\"histfunc\":\"count\",\"histnorm\":\"\",\"marker\":{\"color\":\"rgba(128, 0, 128, 1.0)\",\"line\":{\"color\":\"#4D5663\",\"width\":1.3}},\"name\":\"D\",\"nbinsx\":10,\"opacity\":0.8,\"orientation\":\"v\",\"x\":[0.3451197133623394,2.5270914380626217,0.9299482488958838,-0.5562988664566687,1.4355715653202474,-0.7411067515733488,-0.9794450690442909,0.769440739591859,0.23751958527666056,-0.04706497440737075,-0.7294036572263799,0.4487776730293185,-0.8159189914580166,-1.2092660952139471,0.5654421624230525,0.4744520720930635,0.2740372805334614,-1.167244162476902,0.06720960750460263,0.10936150469402772,-0.9165180090283555,1.5676031557714862,-0.2995972838469109,1.458781610122082,0.9032260632726471,0.0009649718193337695,1.3030292509667687,1.0154089128334605,1.3596947673823985,0.9872193424997157,0.6941544813230869,0.024910448406248353,-1.3486603903313839,0.061844911825487715,0.213019956711909,-0.8683314443340561,-0.8739817567047742,0.1909808662841519,0.5013768330823971,2.2697891566696655,-0.24631356881604097,-0.011390776771784489,-1.567484134177324,-0.21992787315449117,-1.0675819475914363,1.1650197898461372,1.626222850381875,0.08695494236171078,-1.0716543221237307,0.032898705870172434,-0.30256373771870076,-0.5777882371948797,0.0946134149705952,0.31831285044310376,0.6233905164548375,-0.8960529522407366,0.12005881079668307,0.6544857244125727,1.767021225361013,0.4086051048572968,-0.5179625005304351,0.6710461933989572,-0.7007507442805617,1.1420347801168707,0.06066636935888025,0.6172452112868805,0.9534282004171482,-0.7532122638499019,-0.9719816509300259,-1.1699284868256044,-1.234725048143622,-0.39974714289496094,-0.3328412126687109,0.02574109832320354,-0.5985483089169847,-0.6362247552931904,0.3316304039734038,-0.08129075988219273,-0.4799320950889164,-0.3692275148462346,-1.128444800903437,-1.6004237399739227,0.7762570230477617,-0.040674914293237135,-0.27726698007777667,0.630114105526245,-2.03869384082419,0.18356701054308538,-1.5810787623878058,0.7298179679225076,-1.1018296237385043,-0.2983903965981016,1.2351818237246057,1.1836383653171723,-1.7182458709928827,-1.0279262541311613,1.1420058715577808,-0.5014854459857403,-1.072287120130173,0.3348116696007735],\"xaxis\":\"x16\",\"yaxis\":\"y16\",\"type\":\"histogram\"}],                        {\"bargap\":0.02,\"legend\":{\"bgcolor\":\"#F5F6F9\",\"font\":{\"color\":\"#4D5663\"}},\"paper_bgcolor\":\"#F5F6F9\",\"plot_bgcolor\":\"#F5F6F9\",\"showlegend\":false,\"template\":{\"data\":{\"barpolar\":[{\"marker\":{\"line\":{\"color\":\"#E5ECF6\",\"width\":0.5},\"pattern\":{\"fillmode\":\"overlay\",\"size\":10,\"solidity\":0.2}},\"type\":\"barpolar\"}],\"bar\":[{\"error_x\":{\"color\":\"#2a3f5f\"},\"error_y\":{\"color\":\"#2a3f5f\"},\"marker\":{\"line\":{\"color\":\"#E5ECF6\",\"width\":0.5},\"pattern\":{\"fillmode\":\"overlay\",\"size\":10,\"solidity\":0.2}},\"type\":\"bar\"}],\"carpet\":[{\"aaxis\":{\"endlinecolor\":\"#2a3f5f\",\"gridcolor\":\"white\",\"linecolor\":\"white\",\"minorgridcolor\":\"white\",\"startlinecolor\":\"#2a3f5f\"},\"baxis\":{\"endlinecolor\":\"#2a3f5f\",\"gridcolor\":\"white\",\"linecolor\":\"white\",\"minorgridcolor\":\"white\",\"startlinecolor\":\"#2a3f5f\"},\"type\":\"carpet\"}],\"choropleth\":[{\"colorbar\":{\"outlinewidth\":0,\"ticks\":\"\"},\"type\":\"choropleth\"}],\"contourcarpet\":[{\"colorbar\":{\"outlinewidth\":0,\"ticks\":\"\"},\"type\":\"contourcarpet\"}],\"contour\":[{\"colorbar\":{\"outlinewidth\":0,\"ticks\":\"\"},\"colorscale\":[[0.0,\"#0d0887\"],[0.1111111111111111,\"#46039f\"],[0.2222222222222222,\"#7201a8\"],[0.3333333333333333,\"#9c179e\"],[0.4444444444444444,\"#bd3786\"],[0.5555555555555556,\"#d8576b\"],[0.6666666666666666,\"#ed7953\"],[0.7777777777777778,\"#fb9f3a\"],[0.8888888888888888,\"#fdca26\"],[1.0,\"#f0f921\"]],\"type\":\"contour\"}],\"heatmapgl\":[{\"colorbar\":{\"outlinewidth\":0,\"ticks\":\"\"},\"colorscale\":[[0.0,\"#0d0887\"],[0.1111111111111111,\"#46039f\"],[0.2222222222222222,\"#7201a8\"],[0.3333333333333333,\"#9c179e\"],[0.4444444444444444,\"#bd3786\"],[0.5555555555555556,\"#d8576b\"],[0.6666666666666666,\"#ed7953\"],[0.7777777777777778,\"#fb9f3a\"],[0.8888888888888888,\"#fdca26\"],[1.0,\"#f0f921\"]],\"type\":\"heatmapgl\"}],\"heatmap\":[{\"colorbar\":{\"outlinewidth\":0,\"ticks\":\"\"},\"colorscale\":[[0.0,\"#0d0887\"],[0.1111111111111111,\"#46039f\"],[0.2222222222222222,\"#7201a8\"],[0.3333333333333333,\"#9c179e\"],[0.4444444444444444,\"#bd3786\"],[0.5555555555555556,\"#d8576b\"],[0.6666666666666666,\"#ed7953\"],[0.7777777777777778,\"#fb9f3a\"],[0.8888888888888888,\"#fdca26\"],[1.0,\"#f0f921\"]],\"type\":\"heatmap\"}],\"histogram2dcontour\":[{\"colorbar\":{\"outlinewidth\":0,\"ticks\":\"\"},\"colorscale\":[[0.0,\"#0d0887\"],[0.1111111111111111,\"#46039f\"],[0.2222222222222222,\"#7201a8\"],[0.3333333333333333,\"#9c179e\"],[0.4444444444444444,\"#bd3786\"],[0.5555555555555556,\"#d8576b\"],[0.6666666666666666,\"#ed7953\"],[0.7777777777777778,\"#fb9f3a\"],[0.8888888888888888,\"#fdca26\"],[1.0,\"#f0f921\"]],\"type\":\"histogram2dcontour\"}],\"histogram2d\":[{\"colorbar\":{\"outlinewidth\":0,\"ticks\":\"\"},\"colorscale\":[[0.0,\"#0d0887\"],[0.1111111111111111,\"#46039f\"],[0.2222222222222222,\"#7201a8\"],[0.3333333333333333,\"#9c179e\"],[0.4444444444444444,\"#bd3786\"],[0.5555555555555556,\"#d8576b\"],[0.6666666666666666,\"#ed7953\"],[0.7777777777777778,\"#fb9f3a\"],[0.8888888888888888,\"#fdca26\"],[1.0,\"#f0f921\"]],\"type\":\"histogram2d\"}],\"histogram\":[{\"marker\":{\"pattern\":{\"fillmode\":\"overlay\",\"size\":10,\"solidity\":0.2}},\"type\":\"histogram\"}],\"mesh3d\":[{\"colorbar\":{\"outlinewidth\":0,\"ticks\":\"\"},\"type\":\"mesh3d\"}],\"parcoords\":[{\"line\":{\"colorbar\":{\"outlinewidth\":0,\"ticks\":\"\"}},\"type\":\"parcoords\"}],\"pie\":[{\"automargin\":true,\"type\":\"pie\"}],\"scatter3d\":[{\"line\":{\"colorbar\":{\"outlinewidth\":0,\"ticks\":\"\"}},\"marker\":{\"colorbar\":{\"outlinewidth\":0,\"ticks\":\"\"}},\"type\":\"scatter3d\"}],\"scattercarpet\":[{\"marker\":{\"colorbar\":{\"outlinewidth\":0,\"ticks\":\"\"}},\"type\":\"scattercarpet\"}],\"scattergeo\":[{\"marker\":{\"colorbar\":{\"outlinewidth\":0,\"ticks\":\"\"}},\"type\":\"scattergeo\"}],\"scattergl\":[{\"marker\":{\"colorbar\":{\"outlinewidth\":0,\"ticks\":\"\"}},\"type\":\"scattergl\"}],\"scattermapbox\":[{\"marker\":{\"colorbar\":{\"outlinewidth\":0,\"ticks\":\"\"}},\"type\":\"scattermapbox\"}],\"scatterpolargl\":[{\"marker\":{\"colorbar\":{\"outlinewidth\":0,\"ticks\":\"\"}},\"type\":\"scatterpolargl\"}],\"scatterpolar\":[{\"marker\":{\"colorbar\":{\"outlinewidth\":0,\"ticks\":\"\"}},\"type\":\"scatterpolar\"}],\"scatter\":[{\"fillpattern\":{\"fillmode\":\"overlay\",\"size\":10,\"solidity\":0.2},\"type\":\"scatter\"}],\"scatterternary\":[{\"marker\":{\"colorbar\":{\"outlinewidth\":0,\"ticks\":\"\"}},\"type\":\"scatterternary\"}],\"surface\":[{\"colorbar\":{\"outlinewidth\":0,\"ticks\":\"\"},\"colorscale\":[[0.0,\"#0d0887\"],[0.1111111111111111,\"#46039f\"],[0.2222222222222222,\"#7201a8\"],[0.3333333333333333,\"#9c179e\"],[0.4444444444444444,\"#bd3786\"],[0.5555555555555556,\"#d8576b\"],[0.6666666666666666,\"#ed7953\"],[0.7777777777777778,\"#fb9f3a\"],[0.8888888888888888,\"#fdca26\"],[1.0,\"#f0f921\"]],\"type\":\"surface\"}],\"table\":[{\"cells\":{\"fill\":{\"color\":\"#EBF0F8\"},\"line\":{\"color\":\"white\"}},\"header\":{\"fill\":{\"color\":\"#C8D4E3\"},\"line\":{\"color\":\"white\"}},\"type\":\"table\"}]},\"layout\":{\"annotationdefaults\":{\"arrowcolor\":\"#2a3f5f\",\"arrowhead\":0,\"arrowwidth\":1},\"autotypenumbers\":\"strict\",\"coloraxis\":{\"colorbar\":{\"outlinewidth\":0,\"ticks\":\"\"}},\"colorscale\":{\"diverging\":[[0,\"#8e0152\"],[0.1,\"#c51b7d\"],[0.2,\"#de77ae\"],[0.3,\"#f1b6da\"],[0.4,\"#fde0ef\"],[0.5,\"#f7f7f7\"],[0.6,\"#e6f5d0\"],[0.7,\"#b8e186\"],[0.8,\"#7fbc41\"],[0.9,\"#4d9221\"],[1,\"#276419\"]],\"sequential\":[[0.0,\"#0d0887\"],[0.1111111111111111,\"#46039f\"],[0.2222222222222222,\"#7201a8\"],[0.3333333333333333,\"#9c179e\"],[0.4444444444444444,\"#bd3786\"],[0.5555555555555556,\"#d8576b\"],[0.6666666666666666,\"#ed7953\"],[0.7777777777777778,\"#fb9f3a\"],[0.8888888888888888,\"#fdca26\"],[1.0,\"#f0f921\"]],\"sequentialminus\":[[0.0,\"#0d0887\"],[0.1111111111111111,\"#46039f\"],[0.2222222222222222,\"#7201a8\"],[0.3333333333333333,\"#9c179e\"],[0.4444444444444444,\"#bd3786\"],[0.5555555555555556,\"#d8576b\"],[0.6666666666666666,\"#ed7953\"],[0.7777777777777778,\"#fb9f3a\"],[0.8888888888888888,\"#fdca26\"],[1.0,\"#f0f921\"]]},\"colorway\":[\"#636efa\",\"#EF553B\",\"#00cc96\",\"#ab63fa\",\"#FFA15A\",\"#19d3f3\",\"#FF6692\",\"#B6E880\",\"#FF97FF\",\"#FECB52\"],\"font\":{\"color\":\"#2a3f5f\"},\"geo\":{\"bgcolor\":\"white\",\"lakecolor\":\"white\",\"landcolor\":\"#E5ECF6\",\"showlakes\":true,\"showland\":true,\"subunitcolor\":\"white\"},\"hoverlabel\":{\"align\":\"left\"},\"hovermode\":\"closest\",\"mapbox\":{\"style\":\"light\"},\"paper_bgcolor\":\"white\",\"plot_bgcolor\":\"#E5ECF6\",\"polar\":{\"angularaxis\":{\"gridcolor\":\"white\",\"linecolor\":\"white\",\"ticks\":\"\"},\"bgcolor\":\"#E5ECF6\",\"radialaxis\":{\"gridcolor\":\"white\",\"linecolor\":\"white\",\"ticks\":\"\"}},\"scene\":{\"xaxis\":{\"backgroundcolor\":\"#E5ECF6\",\"gridcolor\":\"white\",\"gridwidth\":2,\"linecolor\":\"white\",\"showbackground\":true,\"ticks\":\"\",\"zerolinecolor\":\"white\"},\"yaxis\":{\"backgroundcolor\":\"#E5ECF6\",\"gridcolor\":\"white\",\"gridwidth\":2,\"linecolor\":\"white\",\"showbackground\":true,\"ticks\":\"\",\"zerolinecolor\":\"white\"},\"zaxis\":{\"backgroundcolor\":\"#E5ECF6\",\"gridcolor\":\"white\",\"gridwidth\":2,\"linecolor\":\"white\",\"showbackground\":true,\"ticks\":\"\",\"zerolinecolor\":\"white\"}},\"shapedefaults\":{\"line\":{\"color\":\"#2a3f5f\"}},\"ternary\":{\"aaxis\":{\"gridcolor\":\"white\",\"linecolor\":\"white\",\"ticks\":\"\"},\"baxis\":{\"gridcolor\":\"white\",\"linecolor\":\"white\",\"ticks\":\"\"},\"bgcolor\":\"#E5ECF6\",\"caxis\":{\"gridcolor\":\"white\",\"linecolor\":\"white\",\"ticks\":\"\"}},\"title\":{\"x\":0.05},\"xaxis\":{\"automargin\":true,\"gridcolor\":\"white\",\"linecolor\":\"white\",\"ticks\":\"\",\"title\":{\"standoff\":15},\"zerolinecolor\":\"white\",\"zerolinewidth\":2},\"yaxis\":{\"automargin\":true,\"gridcolor\":\"white\",\"linecolor\":\"white\",\"ticks\":\"\",\"title\":{\"standoff\":15},\"zerolinecolor\":\"white\",\"zerolinewidth\":2}}},\"title\":{\"font\":{\"color\":\"#4D5663\"}},\"xaxis\":{\"anchor\":\"y\",\"domain\":[0.0,0.2125],\"gridcolor\":\"#E1E5ED\",\"showgrid\":false,\"tickfont\":{\"color\":\"#4D5663\"},\"title\":{\"font\":{\"color\":\"#4D5663\"},\"text\":\"\"},\"zerolinecolor\":\"#E1E5ED\"},\"yaxis\":{\"anchor\":\"x\",\"domain\":[0.8025,1.0],\"gridcolor\":\"#E1E5ED\",\"showgrid\":false,\"tickfont\":{\"color\":\"#4D5663\"},\"title\":{\"font\":{\"color\":\"#4D5663\"},\"text\":\"\"},\"zerolinecolor\":\"#E1E5ED\"},\"xaxis2\":{\"anchor\":\"y2\",\"domain\":[0.2625,0.475],\"gridcolor\":\"#E1E5ED\",\"showgrid\":false,\"tickfont\":{\"color\":\"#4D5663\"},\"title\":{\"font\":{\"color\":\"#4D5663\"},\"text\":\"\"},\"zerolinecolor\":\"#E1E5ED\"},\"yaxis2\":{\"anchor\":\"x2\",\"domain\":[0.8025,1.0],\"gridcolor\":\"#E1E5ED\",\"showgrid\":false,\"tickfont\":{\"color\":\"#4D5663\"},\"title\":{\"font\":{\"color\":\"#4D5663\"},\"text\":\"\"},\"zerolinecolor\":\"#E1E5ED\"},\"xaxis3\":{\"anchor\":\"y3\",\"domain\":[0.525,0.7375],\"gridcolor\":\"#E1E5ED\",\"showgrid\":false,\"tickfont\":{\"color\":\"#4D5663\"},\"title\":{\"font\":{\"color\":\"#4D5663\"},\"text\":\"\"},\"zerolinecolor\":\"#E1E5ED\"},\"yaxis3\":{\"anchor\":\"x3\",\"domain\":[0.8025,1.0],\"gridcolor\":\"#E1E5ED\",\"showgrid\":false,\"tickfont\":{\"color\":\"#4D5663\"},\"title\":{\"font\":{\"color\":\"#4D5663\"},\"text\":\"\"},\"zerolinecolor\":\"#E1E5ED\"},\"xaxis4\":{\"anchor\":\"y4\",\"domain\":[0.7875,1.0],\"gridcolor\":\"#E1E5ED\",\"showgrid\":false,\"tickfont\":{\"color\":\"#4D5663\"},\"title\":{\"font\":{\"color\":\"#4D5663\"},\"text\":\"\"},\"zerolinecolor\":\"#E1E5ED\"},\"yaxis4\":{\"anchor\":\"x4\",\"domain\":[0.8025,1.0],\"gridcolor\":\"#E1E5ED\",\"showgrid\":false,\"tickfont\":{\"color\":\"#4D5663\"},\"title\":{\"font\":{\"color\":\"#4D5663\"},\"text\":\"\"},\"zerolinecolor\":\"#E1E5ED\"},\"xaxis5\":{\"anchor\":\"y5\",\"domain\":[0.0,0.2125],\"gridcolor\":\"#E1E5ED\",\"showgrid\":false,\"tickfont\":{\"color\":\"#4D5663\"},\"title\":{\"font\":{\"color\":\"#4D5663\"},\"text\":\"\"},\"zerolinecolor\":\"#E1E5ED\"},\"yaxis5\":{\"anchor\":\"x5\",\"domain\":[0.535,0.7325],\"gridcolor\":\"#E1E5ED\",\"showgrid\":false,\"tickfont\":{\"color\":\"#4D5663\"},\"title\":{\"font\":{\"color\":\"#4D5663\"},\"text\":\"\"},\"zerolinecolor\":\"#E1E5ED\"},\"xaxis6\":{\"anchor\":\"y6\",\"domain\":[0.2625,0.475],\"gridcolor\":\"#E1E5ED\",\"showgrid\":false,\"tickfont\":{\"color\":\"#4D5663\"},\"title\":{\"font\":{\"color\":\"#4D5663\"},\"text\":\"\"},\"zerolinecolor\":\"#E1E5ED\"},\"yaxis6\":{\"anchor\":\"x6\",\"domain\":[0.535,0.7325],\"gridcolor\":\"#E1E5ED\",\"showgrid\":false,\"tickfont\":{\"color\":\"#4D5663\"},\"title\":{\"font\":{\"color\":\"#4D5663\"},\"text\":\"\"},\"zerolinecolor\":\"#E1E5ED\"},\"xaxis7\":{\"anchor\":\"y7\",\"domain\":[0.525,0.7375],\"gridcolor\":\"#E1E5ED\",\"showgrid\":false,\"tickfont\":{\"color\":\"#4D5663\"},\"title\":{\"font\":{\"color\":\"#4D5663\"},\"text\":\"\"},\"zerolinecolor\":\"#E1E5ED\"},\"yaxis7\":{\"anchor\":\"x7\",\"domain\":[0.535,0.7325],\"gridcolor\":\"#E1E5ED\",\"showgrid\":false,\"tickfont\":{\"color\":\"#4D5663\"},\"title\":{\"font\":{\"color\":\"#4D5663\"},\"text\":\"\"},\"zerolinecolor\":\"#E1E5ED\"},\"xaxis8\":{\"anchor\":\"y8\",\"domain\":[0.7875,1.0],\"gridcolor\":\"#E1E5ED\",\"showgrid\":false,\"tickfont\":{\"color\":\"#4D5663\"},\"title\":{\"font\":{\"color\":\"#4D5663\"},\"text\":\"\"},\"zerolinecolor\":\"#E1E5ED\"},\"yaxis8\":{\"anchor\":\"x8\",\"domain\":[0.535,0.7325],\"gridcolor\":\"#E1E5ED\",\"showgrid\":false,\"tickfont\":{\"color\":\"#4D5663\"},\"title\":{\"font\":{\"color\":\"#4D5663\"},\"text\":\"\"},\"zerolinecolor\":\"#E1E5ED\"},\"xaxis9\":{\"anchor\":\"y9\",\"domain\":[0.0,0.2125],\"gridcolor\":\"#E1E5ED\",\"showgrid\":false,\"tickfont\":{\"color\":\"#4D5663\"},\"title\":{\"font\":{\"color\":\"#4D5663\"},\"text\":\"\"},\"zerolinecolor\":\"#E1E5ED\"},\"yaxis9\":{\"anchor\":\"x9\",\"domain\":[0.2675,0.465],\"gridcolor\":\"#E1E5ED\",\"showgrid\":false,\"tickfont\":{\"color\":\"#4D5663\"},\"title\":{\"font\":{\"color\":\"#4D5663\"},\"text\":\"\"},\"zerolinecolor\":\"#E1E5ED\"},\"xaxis10\":{\"anchor\":\"y10\",\"domain\":[0.2625,0.475],\"gridcolor\":\"#E1E5ED\",\"showgrid\":false,\"tickfont\":{\"color\":\"#4D5663\"},\"title\":{\"font\":{\"color\":\"#4D5663\"},\"text\":\"\"},\"zerolinecolor\":\"#E1E5ED\"},\"yaxis10\":{\"anchor\":\"x10\",\"domain\":[0.2675,0.465],\"gridcolor\":\"#E1E5ED\",\"showgrid\":false,\"tickfont\":{\"color\":\"#4D5663\"},\"title\":{\"font\":{\"color\":\"#4D5663\"},\"text\":\"\"},\"zerolinecolor\":\"#E1E5ED\"},\"xaxis11\":{\"anchor\":\"y11\",\"domain\":[0.525,0.7375],\"gridcolor\":\"#E1E5ED\",\"showgrid\":false,\"tickfont\":{\"color\":\"#4D5663\"},\"title\":{\"font\":{\"color\":\"#4D5663\"},\"text\":\"\"},\"zerolinecolor\":\"#E1E5ED\"},\"yaxis11\":{\"anchor\":\"x11\",\"domain\":[0.2675,0.465],\"gridcolor\":\"#E1E5ED\",\"showgrid\":false,\"tickfont\":{\"color\":\"#4D5663\"},\"title\":{\"font\":{\"color\":\"#4D5663\"},\"text\":\"\"},\"zerolinecolor\":\"#E1E5ED\"},\"xaxis12\":{\"anchor\":\"y12\",\"domain\":[0.7875,1.0],\"gridcolor\":\"#E1E5ED\",\"showgrid\":false,\"tickfont\":{\"color\":\"#4D5663\"},\"title\":{\"font\":{\"color\":\"#4D5663\"},\"text\":\"\"},\"zerolinecolor\":\"#E1E5ED\"},\"yaxis12\":{\"anchor\":\"x12\",\"domain\":[0.2675,0.465],\"gridcolor\":\"#E1E5ED\",\"showgrid\":false,\"tickfont\":{\"color\":\"#4D5663\"},\"title\":{\"font\":{\"color\":\"#4D5663\"},\"text\":\"\"},\"zerolinecolor\":\"#E1E5ED\"},\"xaxis13\":{\"anchor\":\"y13\",\"domain\":[0.0,0.2125],\"gridcolor\":\"#E1E5ED\",\"showgrid\":false,\"tickfont\":{\"color\":\"#4D5663\"},\"title\":{\"font\":{\"color\":\"#4D5663\"},\"text\":\"\"},\"zerolinecolor\":\"#E1E5ED\"},\"yaxis13\":{\"anchor\":\"x13\",\"domain\":[0.0,0.1975],\"gridcolor\":\"#E1E5ED\",\"showgrid\":false,\"tickfont\":{\"color\":\"#4D5663\"},\"title\":{\"font\":{\"color\":\"#4D5663\"},\"text\":\"\"},\"zerolinecolor\":\"#E1E5ED\"},\"xaxis14\":{\"anchor\":\"y14\",\"domain\":[0.2625,0.475],\"gridcolor\":\"#E1E5ED\",\"showgrid\":false,\"tickfont\":{\"color\":\"#4D5663\"},\"title\":{\"font\":{\"color\":\"#4D5663\"},\"text\":\"\"},\"zerolinecolor\":\"#E1E5ED\"},\"yaxis14\":{\"anchor\":\"x14\",\"domain\":[0.0,0.1975],\"gridcolor\":\"#E1E5ED\",\"showgrid\":false,\"tickfont\":{\"color\":\"#4D5663\"},\"title\":{\"font\":{\"color\":\"#4D5663\"},\"text\":\"\"},\"zerolinecolor\":\"#E1E5ED\"},\"xaxis15\":{\"anchor\":\"y15\",\"domain\":[0.525,0.7375],\"gridcolor\":\"#E1E5ED\",\"showgrid\":false,\"tickfont\":{\"color\":\"#4D5663\"},\"title\":{\"font\":{\"color\":\"#4D5663\"},\"text\":\"\"},\"zerolinecolor\":\"#E1E5ED\"},\"yaxis15\":{\"anchor\":\"x15\",\"domain\":[0.0,0.1975],\"gridcolor\":\"#E1E5ED\",\"showgrid\":false,\"tickfont\":{\"color\":\"#4D5663\"},\"title\":{\"font\":{\"color\":\"#4D5663\"},\"text\":\"\"},\"zerolinecolor\":\"#E1E5ED\"},\"xaxis16\":{\"anchor\":\"y16\",\"domain\":[0.7875,1.0],\"gridcolor\":\"#E1E5ED\",\"showgrid\":false,\"tickfont\":{\"color\":\"#4D5663\"},\"title\":{\"font\":{\"color\":\"#4D5663\"},\"text\":\"\"},\"zerolinecolor\":\"#E1E5ED\"},\"yaxis16\":{\"anchor\":\"x16\",\"domain\":[0.0,0.1975],\"gridcolor\":\"#E1E5ED\",\"showgrid\":false,\"tickfont\":{\"color\":\"#4D5663\"},\"title\":{\"font\":{\"color\":\"#4D5663\"},\"text\":\"\"},\"zerolinecolor\":\"#E1E5ED\"}},                        {\"showLink\": true, \"linkText\": \"Export to plot.ly\", \"plotlyServerURL\": \"https://plot.ly\", \"responsive\": true}                    ).then(function(){\n",
       "                            \n",
       "var gd = document.getElementById('44f6eb11-98e1-4f40-8734-84e13e0a1dcb');\n",
       "var x = new MutationObserver(function (mutations, observer) {{\n",
       "        var display = window.getComputedStyle(gd).display;\n",
       "        if (!display || display === 'none') {{\n",
       "            console.log([gd, 'removed!']);\n",
       "            Plotly.purge(gd);\n",
       "            observer.disconnect();\n",
       "        }}\n",
       "}});\n",
       "\n",
       "// Listen for the removal of the full notebook cells\n",
       "var notebookContainer = gd.closest('#notebook-container');\n",
       "if (notebookContainer) {{\n",
       "    x.observe(notebookContainer, {childList: true});\n",
       "}}\n",
       "\n",
       "// Listen for the clearing of the current output cell\n",
       "var outputEl = gd.closest('.output');\n",
       "if (outputEl) {{\n",
       "    x.observe(outputEl, {childList: true});\n",
       "}}\n",
       "\n",
       "                        })                };                });            </script>        </div>"
      ]
     },
     "metadata": {},
     "output_type": "display_data"
    }
   ],
   "source": [
    "df1.scatter_matrix()"
   ]
  }
 ],
 "metadata": {
  "kernelspec": {
   "display_name": "Python 3 (ipykernel)",
   "language": "python",
   "name": "python3"
  },
  "language_info": {
   "codemirror_mode": {
    "name": "ipython",
    "version": 3
   },
   "file_extension": ".py",
   "mimetype": "text/x-python",
   "name": "python",
   "nbconvert_exporter": "python",
   "pygments_lexer": "ipython3",
   "version": "3.11.4"
  }
 },
 "nbformat": 4,
 "nbformat_minor": 1
}
