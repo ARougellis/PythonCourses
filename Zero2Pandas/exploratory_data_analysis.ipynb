{
 "cells": [
  {
   "cell_type": "markdown",
   "id": "8f2edc07",
   "metadata": {},
   "source": [
    "# Exploratory Data Analysis using Python - A Case Study\n",
    "\n",
    "In this tutorial, we'll analyze the StackOverflow developer survey dataset. The dataset contains responses to an annual survey conducted by StackOverflow. You can find the raw data & official analysis [HERE](https://insights.stackoverflow.com/survey).\n",
    "\n",
    "There are several options for getting the dataset into Jupyter:\n",
    "\n",
    "- Download the CSV manually and upload it via Jupyter's GUI\n",
    "- Use the urlretrieve function from the urllib.request to download CSV files from a raw URL\n",
    "- Use a helper library, e.g., opendatasets, which contains a collection of curated datasets and provides a helper function for direct download.\n",
    "- We'll use the opendatasets helper library to download the files.\n",
    "\n"
   ]
  },
  {
   "cell_type": "markdown",
   "id": "5c8840ff",
   "metadata": {},
   "source": [
    "Continue lession --> [HERE](https://jovian.ai/aakashns/python-eda-stackoverflow-survey) <--"
   ]
  }
 ],
 "metadata": {
  "kernelspec": {
   "display_name": "Python 3",
   "language": "python",
   "name": "python3"
  },
  "language_info": {
   "codemirror_mode": {
    "name": "ipython",
    "version": 3
   },
   "file_extension": ".py",
   "mimetype": "text/x-python",
   "name": "python",
   "nbconvert_exporter": "python",
   "pygments_lexer": "ipython3",
   "version": "3.8.8"
  }
 },
 "nbformat": 4,
 "nbformat_minor": 5
}
